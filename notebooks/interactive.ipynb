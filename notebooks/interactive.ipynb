{
  "cells": [
    {
      "attachments": {},
      "cell_type": "markdown",
      "metadata": {
        "id": "FU-1GTZT28li"
      },
      "source": [
        "# The tuned lens 🔎\n",
        "A tuned lens allows us to peak at the iterative computations that a transformer is using the compute the next token.\n",
        "\n",
        "A lens into a transformer with n layers allows you to replace the last $m$ layers of the model with an [affine transformation](https://pytorch.org/docs/stable/generated/torch.nn.Linear.html) (we call these affine translators).\n",
        "\n",
        "This essentially skips over these last few layers and lets you see the best prediction that can be made from the model's representations, i.e. the residual stream, at layer $n - m$. Since the representations may be rotated, shifted, or stretched from layer to layer it's useful to train the len's affine translators specifically on each layer. This training is what differentiates this method from simpler approaches that decode the residual stream of the network directly using the unembedding layer i.e. the logit lens. We explain this process along with more applications of the method in [the paper](ttps://arxiv.org/abs/2303.08112).\n",
        "\n",
        "You can find the complete set of pretrained lenses on [the hugging face space](https://huggingface.co/spaces/AlignmentResearch/tuned-lens/tree/main/lens).\n",
        "\n",
        "## Usage\n",
        "Since the tuned lens produces a distribution of predictions to visualize it's output we need to we need to provide a summary statistic to plot.  The default is simply [entropy](https://en.wikipedia.org/wiki/Entropy_(information_theory)), but you can also choose the [cross entropy](https://en.wikipedia.org/wiki/Cross_entropy) with the target token, or the [KL divergence](https://en.wikipedia.org/wiki/Kullback%E2%80%93Leibler_divergence) between the model's predictions and the tuned lens' predictions. You can also hover over a token to see more of the distribution i.e. the top 10 most probable tokens and their probabilities.\n",
        "\n",
        "## Examples\n",
        "Some interesting examples you can try.\n",
        "\n",
        "### Copy paste:\n",
        "```\n",
        "Copy: A!2j!#u&NGApS&MkkHe8Gm!#\n",
        "Paste: A!2j!#u&NGApS&MkkHe8Gm!#\n",
        "```\n",
        "\n",
        "### Trivial in-context learning\n",
        "```\n",
        "inc 1 2\n",
        "inc 4 5\n",
        "inc 13 \n",
        "```\n",
        "\n",
        "#### Addition\n",
        "```\n",
        "add 1 1 2\n",
        "add 3 4 7\n",
        "add 13 2 \n",
        "```"
      ]
    },
    {
      "cell_type": "code",
      "execution_count": 1,
      "metadata": {
        "id": "W9cRsIdK2-Jm"
      },
      "outputs": [
        {
          "name": "stdout",
          "output_type": "stream",
          "text": [
            "Requirement already satisfied: tuned-lens in /home/lev/miniconda3/envs/tuned-lens/lib/python3.10/site-packages (0.1.0)\n",
            "Requirement already satisfied: plotly>=5.13.1 in /home/lev/miniconda3/envs/tuned-lens/lib/python3.10/site-packages (from tuned-lens) (5.13.1)\n",
            "Requirement already satisfied: accelerate in /home/lev/miniconda3/envs/tuned-lens/lib/python3.10/site-packages (from tuned-lens) (0.17.1)\n",
            "Requirement already satisfied: huggingface-hub>=0.12.1 in /home/lev/miniconda3/envs/tuned-lens/lib/python3.10/site-packages (from tuned-lens) (0.13.2)\n",
            "Requirement already satisfied: simple-parsing>=0.1.1 in /home/lev/miniconda3/envs/tuned-lens/lib/python3.10/site-packages (from tuned-lens) (0.1.2)\n",
            "Requirement already satisfied: torch>=1.13.0 in /home/lev/miniconda3/envs/tuned-lens/lib/python3.10/site-packages (from tuned-lens) (2.0.1)\n",
            "Requirement already satisfied: transformers>=4.28.1 in /home/lev/miniconda3/envs/tuned-lens/lib/python3.10/site-packages (from tuned-lens) (4.28.1)\n",
            "Requirement already satisfied: wandb>=0.15.0 in /home/lev/miniconda3/envs/tuned-lens/lib/python3.10/site-packages (from tuned-lens) (0.15.0)\n",
            "Requirement already satisfied: datasets in /home/lev/miniconda3/envs/tuned-lens/lib/python3.10/site-packages (from tuned-lens) (2.10.1)\n",
            "Requirement already satisfied: torchdata>=0.6.0 in /home/lev/miniconda3/envs/tuned-lens/lib/python3.10/site-packages (from tuned-lens) (0.6.1)\n",
            "Requirement already satisfied: requests in /home/lev/miniconda3/envs/tuned-lens/lib/python3.10/site-packages (from huggingface-hub>=0.12.1->tuned-lens) (2.28.2)\n",
            "Requirement already satisfied: tqdm>=4.42.1 in /home/lev/miniconda3/envs/tuned-lens/lib/python3.10/site-packages (from huggingface-hub>=0.12.1->tuned-lens) (4.65.0)\n",
            "Requirement already satisfied: pyyaml>=5.1 in /home/lev/miniconda3/envs/tuned-lens/lib/python3.10/site-packages (from huggingface-hub>=0.12.1->tuned-lens) (6.0)\n",
            "Requirement already satisfied: filelock in /home/lev/miniconda3/envs/tuned-lens/lib/python3.10/site-packages (from huggingface-hub>=0.12.1->tuned-lens) (3.10.0)\n",
            "Requirement already satisfied: typing-extensions>=3.7.4.3 in /home/lev/miniconda3/envs/tuned-lens/lib/python3.10/site-packages (from huggingface-hub>=0.12.1->tuned-lens) (4.5.0)\n",
            "Requirement already satisfied: packaging>=20.9 in /home/lev/miniconda3/envs/tuned-lens/lib/python3.10/site-packages (from huggingface-hub>=0.12.1->tuned-lens) (23.0)\n",
            "Requirement already satisfied: tenacity>=6.2.0 in /home/lev/miniconda3/envs/tuned-lens/lib/python3.10/site-packages (from plotly>=5.13.1->tuned-lens) (8.2.2)\n",
            "Requirement already satisfied: docstring-parser~=0.15 in /home/lev/miniconda3/envs/tuned-lens/lib/python3.10/site-packages (from simple-parsing>=0.1.1->tuned-lens) (0.15)\n",
            "Requirement already satisfied: nvidia-cuda-nvrtc-cu11==11.7.99 in /home/lev/miniconda3/envs/tuned-lens/lib/python3.10/site-packages (from torch>=1.13.0->tuned-lens) (11.7.99)\n",
            "Requirement already satisfied: nvidia-curand-cu11==10.2.10.91 in /home/lev/miniconda3/envs/tuned-lens/lib/python3.10/site-packages (from torch>=1.13.0->tuned-lens) (10.2.10.91)\n",
            "Requirement already satisfied: nvidia-cuda-cupti-cu11==11.7.101 in /home/lev/miniconda3/envs/tuned-lens/lib/python3.10/site-packages (from torch>=1.13.0->tuned-lens) (11.7.101)\n",
            "Requirement already satisfied: sympy in /home/lev/miniconda3/envs/tuned-lens/lib/python3.10/site-packages (from torch>=1.13.0->tuned-lens) (1.11.1)\n",
            "Requirement already satisfied: nvidia-cublas-cu11==11.10.3.66 in /home/lev/miniconda3/envs/tuned-lens/lib/python3.10/site-packages (from torch>=1.13.0->tuned-lens) (11.10.3.66)\n",
            "Requirement already satisfied: nvidia-nvtx-cu11==11.7.91 in /home/lev/miniconda3/envs/tuned-lens/lib/python3.10/site-packages (from torch>=1.13.0->tuned-lens) (11.7.91)\n",
            "Requirement already satisfied: nvidia-cusolver-cu11==11.4.0.1 in /home/lev/miniconda3/envs/tuned-lens/lib/python3.10/site-packages (from torch>=1.13.0->tuned-lens) (11.4.0.1)\n",
            "Requirement already satisfied: nvidia-cufft-cu11==10.9.0.58 in /home/lev/miniconda3/envs/tuned-lens/lib/python3.10/site-packages (from torch>=1.13.0->tuned-lens) (10.9.0.58)\n",
            "Requirement already satisfied: jinja2 in /home/lev/miniconda3/envs/tuned-lens/lib/python3.10/site-packages (from torch>=1.13.0->tuned-lens) (3.1.2)\n",
            "Requirement already satisfied: nvidia-cuda-runtime-cu11==11.7.99 in /home/lev/miniconda3/envs/tuned-lens/lib/python3.10/site-packages (from torch>=1.13.0->tuned-lens) (11.7.99)\n",
            "Requirement already satisfied: nvidia-cudnn-cu11==8.5.0.96 in /home/lev/miniconda3/envs/tuned-lens/lib/python3.10/site-packages (from torch>=1.13.0->tuned-lens) (8.5.0.96)\n",
            "Requirement already satisfied: nvidia-cusparse-cu11==11.7.4.91 in /home/lev/miniconda3/envs/tuned-lens/lib/python3.10/site-packages (from torch>=1.13.0->tuned-lens) (11.7.4.91)\n",
            "Requirement already satisfied: triton==2.0.0 in /home/lev/miniconda3/envs/tuned-lens/lib/python3.10/site-packages (from torch>=1.13.0->tuned-lens) (2.0.0)\n",
            "Requirement already satisfied: networkx in /home/lev/miniconda3/envs/tuned-lens/lib/python3.10/site-packages (from torch>=1.13.0->tuned-lens) (3.0)\n",
            "Requirement already satisfied: nvidia-nccl-cu11==2.14.3 in /home/lev/miniconda3/envs/tuned-lens/lib/python3.10/site-packages (from torch>=1.13.0->tuned-lens) (2.14.3)\n",
            "Requirement already satisfied: setuptools in /home/lev/miniconda3/envs/tuned-lens/lib/python3.10/site-packages (from nvidia-cublas-cu11==11.10.3.66->torch>=1.13.0->tuned-lens) (65.6.3)\n",
            "Requirement already satisfied: wheel in /home/lev/miniconda3/envs/tuned-lens/lib/python3.10/site-packages (from nvidia-cublas-cu11==11.10.3.66->torch>=1.13.0->tuned-lens) (0.38.4)\n",
            "Requirement already satisfied: cmake in /home/lev/miniconda3/envs/tuned-lens/lib/python3.10/site-packages (from triton==2.0.0->torch>=1.13.0->tuned-lens) (3.26.0)\n",
            "Requirement already satisfied: lit in /home/lev/miniconda3/envs/tuned-lens/lib/python3.10/site-packages (from triton==2.0.0->torch>=1.13.0->tuned-lens) (15.0.7)\n",
            "Requirement already satisfied: urllib3>=1.25 in /home/lev/miniconda3/envs/tuned-lens/lib/python3.10/site-packages (from torchdata>=0.6.0->tuned-lens) (1.26.15)\n",
            "Requirement already satisfied: regex!=2019.12.17 in /home/lev/miniconda3/envs/tuned-lens/lib/python3.10/site-packages (from transformers>=4.28.1->tuned-lens) (2022.10.31)\n",
            "Requirement already satisfied: tokenizers!=0.11.3,<0.14,>=0.11.1 in /home/lev/miniconda3/envs/tuned-lens/lib/python3.10/site-packages (from transformers>=4.28.1->tuned-lens) (0.13.3)\n",
            "Requirement already satisfied: numpy>=1.17 in /home/lev/miniconda3/envs/tuned-lens/lib/python3.10/site-packages (from transformers>=4.28.1->tuned-lens) (1.24.2)\n",
            "Requirement already satisfied: appdirs>=1.4.3 in /home/lev/miniconda3/envs/tuned-lens/lib/python3.10/site-packages (from wandb>=0.15.0->tuned-lens) (1.4.4)\n",
            "Requirement already satisfied: psutil>=5.0.0 in /home/lev/miniconda3/envs/tuned-lens/lib/python3.10/site-packages (from wandb>=0.15.0->tuned-lens) (5.9.4)\n",
            "Requirement already satisfied: sentry-sdk>=1.0.0 in /home/lev/miniconda3/envs/tuned-lens/lib/python3.10/site-packages (from wandb>=0.15.0->tuned-lens) (1.20.0)\n",
            "Requirement already satisfied: setproctitle in /home/lev/miniconda3/envs/tuned-lens/lib/python3.10/site-packages (from wandb>=0.15.0->tuned-lens) (1.3.2)\n",
            "Requirement already satisfied: Click!=8.0.0,>=7.0 in /home/lev/miniconda3/envs/tuned-lens/lib/python3.10/site-packages (from wandb>=0.15.0->tuned-lens) (8.1.3)\n",
            "Requirement already satisfied: pathtools in /home/lev/miniconda3/envs/tuned-lens/lib/python3.10/site-packages (from wandb>=0.15.0->tuned-lens) (0.1.2)\n",
            "Requirement already satisfied: protobuf!=4.21.0,<5,>=3.19.0 in /home/lev/miniconda3/envs/tuned-lens/lib/python3.10/site-packages (from wandb>=0.15.0->tuned-lens) (4.22.3)\n",
            "Requirement already satisfied: GitPython!=3.1.29,>=1.0.0 in /home/lev/miniconda3/envs/tuned-lens/lib/python3.10/site-packages (from wandb>=0.15.0->tuned-lens) (3.1.31)\n",
            "Requirement already satisfied: docker-pycreds>=0.4.0 in /home/lev/miniconda3/envs/tuned-lens/lib/python3.10/site-packages (from wandb>=0.15.0->tuned-lens) (0.4.0)\n",
            "Requirement already satisfied: pyarrow>=6.0.0 in /home/lev/miniconda3/envs/tuned-lens/lib/python3.10/site-packages (from datasets->tuned-lens) (11.0.0)\n",
            "Requirement already satisfied: fsspec[http]>=2021.11.1 in /home/lev/miniconda3/envs/tuned-lens/lib/python3.10/site-packages (from datasets->tuned-lens) (2023.3.0)\n",
            "Requirement already satisfied: responses<0.19 in /home/lev/miniconda3/envs/tuned-lens/lib/python3.10/site-packages (from datasets->tuned-lens) (0.18.0)\n",
            "Requirement already satisfied: multiprocess in /home/lev/miniconda3/envs/tuned-lens/lib/python3.10/site-packages (from datasets->tuned-lens) (0.70.14)\n",
            "Requirement already satisfied: xxhash in /home/lev/miniconda3/envs/tuned-lens/lib/python3.10/site-packages (from datasets->tuned-lens) (3.2.0)\n",
            "Requirement already satisfied: aiohttp in /home/lev/miniconda3/envs/tuned-lens/lib/python3.10/site-packages (from datasets->tuned-lens) (3.8.4)\n",
            "Requirement already satisfied: dill<0.3.7,>=0.3.0 in /home/lev/miniconda3/envs/tuned-lens/lib/python3.10/site-packages (from datasets->tuned-lens) (0.3.6)\n",
            "Requirement already satisfied: pandas in /home/lev/miniconda3/envs/tuned-lens/lib/python3.10/site-packages (from datasets->tuned-lens) (1.5.3)\n",
            "Requirement already satisfied: six>=1.4.0 in /home/lev/miniconda3/envs/tuned-lens/lib/python3.10/site-packages (from docker-pycreds>=0.4.0->wandb>=0.15.0->tuned-lens) (1.16.0)\n",
            "Requirement already satisfied: aiosignal>=1.1.2 in /home/lev/miniconda3/envs/tuned-lens/lib/python3.10/site-packages (from aiohttp->datasets->tuned-lens) (1.3.1)\n",
            "Requirement already satisfied: async-timeout<5.0,>=4.0.0a3 in /home/lev/miniconda3/envs/tuned-lens/lib/python3.10/site-packages (from aiohttp->datasets->tuned-lens) (4.0.2)\n",
            "Requirement already satisfied: yarl<2.0,>=1.0 in /home/lev/miniconda3/envs/tuned-lens/lib/python3.10/site-packages (from aiohttp->datasets->tuned-lens) (1.8.2)\n",
            "Requirement already satisfied: attrs>=17.3.0 in /home/lev/miniconda3/envs/tuned-lens/lib/python3.10/site-packages (from aiohttp->datasets->tuned-lens) (22.2.0)\n",
            "Requirement already satisfied: frozenlist>=1.1.1 in /home/lev/miniconda3/envs/tuned-lens/lib/python3.10/site-packages (from aiohttp->datasets->tuned-lens) (1.3.3)\n",
            "Requirement already satisfied: multidict<7.0,>=4.5 in /home/lev/miniconda3/envs/tuned-lens/lib/python3.10/site-packages (from aiohttp->datasets->tuned-lens) (6.0.4)\n",
            "Requirement already satisfied: charset-normalizer<4.0,>=2.0 in /home/lev/miniconda3/envs/tuned-lens/lib/python3.10/site-packages (from aiohttp->datasets->tuned-lens) (3.1.0)\n",
            "Requirement already satisfied: gitdb<5,>=4.0.1 in /home/lev/miniconda3/envs/tuned-lens/lib/python3.10/site-packages (from GitPython!=3.1.29,>=1.0.0->wandb>=0.15.0->tuned-lens) (4.0.10)\n",
            "Requirement already satisfied: idna<4,>=2.5 in /home/lev/miniconda3/envs/tuned-lens/lib/python3.10/site-packages (from requests->huggingface-hub>=0.12.1->tuned-lens) (3.4)\n",
            "Requirement already satisfied: certifi>=2017.4.17 in /home/lev/miniconda3/envs/tuned-lens/lib/python3.10/site-packages (from requests->huggingface-hub>=0.12.1->tuned-lens) (2022.12.7)\n",
            "Requirement already satisfied: MarkupSafe>=2.0 in /home/lev/miniconda3/envs/tuned-lens/lib/python3.10/site-packages (from jinja2->torch>=1.13.0->tuned-lens) (2.1.2)\n",
            "Requirement already satisfied: pytz>=2020.1 in /home/lev/miniconda3/envs/tuned-lens/lib/python3.10/site-packages (from pandas->datasets->tuned-lens) (2022.7.1)\n",
            "Requirement already satisfied: python-dateutil>=2.8.1 in /home/lev/miniconda3/envs/tuned-lens/lib/python3.10/site-packages (from pandas->datasets->tuned-lens) (2.8.2)\n",
            "Requirement already satisfied: mpmath>=0.19 in /home/lev/miniconda3/envs/tuned-lens/lib/python3.10/site-packages (from sympy->torch>=1.13.0->tuned-lens) (1.3.0)\n",
            "Requirement already satisfied: smmap<6,>=3.0.1 in /home/lev/miniconda3/envs/tuned-lens/lib/python3.10/site-packages (from gitdb<5,>=4.0.1->GitPython!=3.1.29,>=1.0.0->wandb>=0.15.0->tuned-lens) (5.0.0)\n"
          ]
        }
      ],
      "source": [
        "!pip install tuned-lens"
      ]
    },
    {
      "cell_type": "code",
      "execution_count": 7,
      "metadata": {},
      "outputs": [],
      "source": [
        "access_token = input(\"Enter your access token: \")"
      ]
    },
    {
      "cell_type": "code",
      "execution_count": 8,
      "metadata": {
        "id": "FGd2YmyD28lk",
        "scrolled": true
      },
      "outputs": [
        {
          "data": {
            "application/vnd.jupyter.widget-view+json": {
              "model_id": "421a9b0141ad431887c02c72811d5a2a",
              "version_major": 2,
              "version_minor": 0
            },
            "text/plain": [
              "config.json:   0%|          | 0.00/614 [00:00<?, ?B/s]"
            ]
          },
          "metadata": {},
          "output_type": "display_data"
        },
        {
          "data": {
            "application/vnd.jupyter.widget-view+json": {
              "model_id": "bad6f78bf1a640cd92b9205f164cf07d",
              "version_major": 2,
              "version_minor": 0
            },
            "text/plain": [
              "model.safetensors.index.json:   0%|          | 0.00/26.8k [00:00<?, ?B/s]"
            ]
          },
          "metadata": {},
          "output_type": "display_data"
        },
        {
          "data": {
            "application/vnd.jupyter.widget-view+json": {
              "model_id": "eccc2512aa234d1a99b6be8b6195593b",
              "version_major": 2,
              "version_minor": 0
            },
            "text/plain": [
              "Downloading shards:   0%|          | 0/2 [00:00<?, ?it/s]"
            ]
          },
          "metadata": {},
          "output_type": "display_data"
        },
        {
          "data": {
            "application/vnd.jupyter.widget-view+json": {
              "model_id": "d79cd58d727a4a70b7c0b581940c09f6",
              "version_major": 2,
              "version_minor": 0
            },
            "text/plain": [
              "model-00001-of-00002.safetensors:   0%|          | 0.00/9.98G [00:00<?, ?B/s]"
            ]
          },
          "metadata": {},
          "output_type": "display_data"
        },
        {
          "data": {
            "application/vnd.jupyter.widget-view+json": {
              "model_id": "831ddd8553fd461182cdebb7dd1db46d",
              "version_major": 2,
              "version_minor": 0
            },
            "text/plain": [
              "model-00002-of-00002.safetensors:   0%|          | 0.00/3.50G [00:00<?, ?B/s]"
            ]
          },
          "metadata": {},
          "output_type": "display_data"
        },
        {
          "data": {
            "application/vnd.jupyter.widget-view+json": {
              "model_id": "edb8fc550d1d490ca6e0f5d1d67b61ee",
              "version_major": 2,
              "version_minor": 0
            },
            "text/plain": [
              "Loading checkpoint shards:   0%|          | 0/2 [00:00<?, ?it/s]"
            ]
          },
          "metadata": {},
          "output_type": "display_data"
        },
        {
          "data": {
            "application/vnd.jupyter.widget-view+json": {
              "model_id": "de2826b757ec4989ae1934e1d1e93b20",
              "version_major": 2,
              "version_minor": 0
            },
            "text/plain": [
              "generation_config.json:   0%|          | 0.00/188 [00:00<?, ?B/s]"
            ]
          },
          "metadata": {},
          "output_type": "display_data"
        },
        {
          "data": {
            "application/vnd.jupyter.widget-view+json": {
              "model_id": "fda524fc4b4844d3ab527515296f3e8b",
              "version_major": 2,
              "version_minor": 0
            },
            "text/plain": [
              "tokenizer_config.json:   0%|          | 0.00/1.62k [00:00<?, ?B/s]"
            ]
          },
          "metadata": {},
          "output_type": "display_data"
        },
        {
          "data": {
            "application/vnd.jupyter.widget-view+json": {
              "model_id": "5e7c51d5a1024b76b92e3277e2a02bfb",
              "version_major": 2,
              "version_minor": 0
            },
            "text/plain": [
              "tokenizer.model:   0%|          | 0.00/500k [00:00<?, ?B/s]"
            ]
          },
          "metadata": {},
          "output_type": "display_data"
        },
        {
          "data": {
            "application/vnd.jupyter.widget-view+json": {
              "model_id": "5a6fb3ffa97d4d59a914ab25f35387f3",
              "version_major": 2,
              "version_minor": 0
            },
            "text/plain": [
              "tokenizer.json:   0%|          | 0.00/1.84M [00:00<?, ?B/s]"
            ]
          },
          "metadata": {},
          "output_type": "display_data"
        },
        {
          "data": {
            "application/vnd.jupyter.widget-view+json": {
              "model_id": "1387a2a9a525413a87a46e732fe0e5ab",
              "version_major": 2,
              "version_minor": 0
            },
            "text/plain": [
              "special_tokens_map.json:   0%|          | 0.00/414 [00:00<?, ?B/s]"
            ]
          },
          "metadata": {},
          "output_type": "display_data"
        },
        {
          "ename": "AttributeError",
          "evalue": "'str' object has no attribute 'config'",
          "output_type": "error",
          "traceback": [
            "\u001b[0;31m---------------------------------------------------------------------------\u001b[0m",
            "\u001b[0;31mAttributeError\u001b[0m                            Traceback (most recent call last)",
            "Cell \u001b[0;32mIn[8], line 12\u001b[0m\n\u001b[1;32m     10\u001b[0m model \u001b[38;5;241m=\u001b[39m model\u001b[38;5;241m.\u001b[39mto(device)\n\u001b[1;32m     11\u001b[0m tokenizer \u001b[38;5;241m=\u001b[39m AutoTokenizer\u001b[38;5;241m.\u001b[39mfrom_pretrained(model_name, token\u001b[38;5;241m=\u001b[39maccess_token)\n\u001b[0;32m---> 12\u001b[0m tuned_lens \u001b[38;5;241m=\u001b[39m \u001b[43mTunedLens\u001b[49m\u001b[38;5;241;43m.\u001b[39;49m\u001b[43mfrom_model_and_pretrained\u001b[49m\u001b[43m(\u001b[49m\u001b[43mmodel_name\u001b[49m\u001b[43m)\u001b[49m\n\u001b[1;32m     13\u001b[0m tuned_lens \u001b[38;5;241m=\u001b[39m tuned_lens\u001b[38;5;241m.\u001b[39mto(device)\n\u001b[1;32m     14\u001b[0m logit_lens \u001b[38;5;241m=\u001b[39m LogitLens\u001b[38;5;241m.\u001b[39mfrom_model(model)\n",
            "File \u001b[0;32m~/env/lib/python3.10/site-packages/tuned_lens/nn/lenses.py:227\u001b[0m, in \u001b[0;36mTunedLens.from_model_and_pretrained\u001b[0;34m(cls, model, lens_resource_id, **kwargs)\u001b[0m\n\u001b[1;32m    212\u001b[0m \u001b[38;5;250m\u001b[39m\u001b[38;5;124;03m\"\"\"Load a tuned lens from a folder or hugging face hub.\u001b[39;00m\n\u001b[1;32m    213\u001b[0m \n\u001b[1;32m    214\u001b[0m \u001b[38;5;124;03mArgs:\u001b[39;00m\n\u001b[0;32m   (...)\u001b[0m\n\u001b[1;32m    224\u001b[0m \u001b[38;5;124;03m    and whose layer translators are loaded from the given resource id.\u001b[39;00m\n\u001b[1;32m    225\u001b[0m \u001b[38;5;124;03m\"\"\"\u001b[39;00m\n\u001b[1;32m    226\u001b[0m \u001b[38;5;28;01mif\u001b[39;00m lens_resource_id \u001b[38;5;129;01mis\u001b[39;00m \u001b[38;5;28;01mNone\u001b[39;00m:\n\u001b[0;32m--> 227\u001b[0m     lens_resource_id \u001b[38;5;241m=\u001b[39m \u001b[43mmodel\u001b[49m\u001b[38;5;241;43m.\u001b[39;49m\u001b[43mconfig\u001b[49m\u001b[38;5;241m.\u001b[39mname_or_path\n\u001b[1;32m    229\u001b[0m \u001b[38;5;28;01mreturn\u001b[39;00m \u001b[38;5;28mcls\u001b[39m\u001b[38;5;241m.\u001b[39mfrom_unembed_and_pretrained(\n\u001b[1;32m    230\u001b[0m     Unembed(model), lens_resource_id, \u001b[38;5;241m*\u001b[39m\u001b[38;5;241m*\u001b[39mkwargs\n\u001b[1;32m    231\u001b[0m )\n",
            "\u001b[0;31mAttributeError\u001b[0m: 'str' object has no attribute 'config'"
          ]
        }
      ],
      "source": [
        "import torch\n",
        "from tuned_lens.nn.lenses import TunedLens, LogitLens\n",
        "from transformers import AutoModelForCausalLM, AutoTokenizer\n",
        "\n",
        "device = torch.device('cuda')\n",
        "# To try a diffrent modle / lens check if the lens is avalible then modify this code\n",
        "\n",
        "model_name = \"meta-llama/Llama-2-7b-chat-hf\" # 'gpt2-large'\n",
        "model = AutoModelForCausalLM.from_pretrained(model_name, token=access_token)\n",
        "model = model.to(device)\n",
        "tokenizer = AutoTokenizer.from_pretrained(model_name, token=access_token)\n"
      ]
    },
    {
      "cell_type": "code",
      "execution_count": 9,
      "metadata": {},
      "outputs": [
        {
          "data": {
            "application/vnd.jupyter.widget-view+json": {
              "model_id": "7d9980b157bf49aaa5ef9f186ef21510",
              "version_major": 2,
              "version_minor": 0
            },
            "text/plain": [
              "(…)/meta-llama/Llama-2-7b-chat-hf/params.pt:   0%|          | 0.00/2.15G [00:00<?, ?B/s]"
            ]
          },
          "metadata": {},
          "output_type": "display_data"
        },
        {
          "data": {
            "application/vnd.jupyter.widget-view+json": {
              "model_id": "5ae5a890dc94411296bf1ba9761f721b",
              "version_major": 2,
              "version_minor": 0
            },
            "text/plain": [
              "(…)eta-llama/Llama-2-7b-chat-hf/config.json:   0%|          | 0.00/263 [00:00<?, ?B/s]"
            ]
          },
          "metadata": {},
          "output_type": "display_data"
        }
      ],
      "source": [
        "tuned_lens = TunedLens.from_model_and_pretrained(model)\n",
        "tuned_lens = tuned_lens.to(device)\n",
        "logit_lens = LogitLens.from_model(model)"
      ]
    },
    {
      "cell_type": "code",
      "execution_count": 10,
      "metadata": {
        "id": "z9AhuLaDBDRN"
      },
      "outputs": [],
      "source": [
        "try:\n",
        "  from google.colab import output\n",
        "  output.enable_custom_widget_manager()\n",
        "except:\n",
        "  pass"
      ]
    },
    {
      "cell_type": "code",
      "execution_count": 11,
      "metadata": {
        "id": "DL8f4i2828lm",
        "scrolled": true
      },
      "outputs": [
        {
          "data": {
            "application/vnd.jupyter.widget-view+json": {
              "model_id": "5e02f65ad1d94270b3eb60c2220490e7",
              "version_major": 2,
              "version_minor": 0
            },
            "text/plain": [
              "interactive(children=(Dropdown(description='Select Lens:', options=(('Tuned Lens', TunedLens(\n",
              "  (unembed): Une…"
            ]
          },
          "metadata": {},
          "output_type": "display_data"
        },
        {
          "data": {
            "application/vnd.plotly.v1+json": {
              "config": {
                "plotlyServerURL": "https://plot.ly"
              },
              "data": [
                {
                  "colorbar": {
                    "title": {
                      "side": "right",
                      "text": "Entropy (nats)"
                    }
                  },
                  "colorscale": [
                    [
                      0,
                      "rgb(5,48,97)"
                    ],
                    [
                      0.1,
                      "rgb(33,102,172)"
                    ],
                    [
                      0.2,
                      "rgb(67,147,195)"
                    ],
                    [
                      0.3,
                      "rgb(146,197,222)"
                    ],
                    [
                      0.4,
                      "rgb(209,229,240)"
                    ],
                    [
                      0.5,
                      "rgb(247,247,247)"
                    ],
                    [
                      0.6,
                      "rgb(253,219,199)"
                    ],
                    [
                      0.7,
                      "rgb(244,165,130)"
                    ],
                    [
                      0.8,
                      "rgb(214,96,77)"
                    ],
                    [
                      0.9,
                      "rgb(178,24,43)"
                    ],
                    [
                      1,
                      "rgb(103,0,31)"
                    ]
                  ],
                  "customdata": [
                    [
                      [
                        "       ,",
                        "  1.85%",
                        "       .",
                        "  0.78%",
                        "  <0x0A>",
                        "  0.78%",
                        "       )",
                        "  0.75%",
                        "    ▁and",
                        "  0.68%",
                        "       ▁",
                        "  0.64%",
                        "       }",
                        "  0.55%",
                        " ▁▁▁▁▁▁▁",
                        "  0.39%",
                        "     ▁or",
                        "  0.38%",
                        "   ▁that",
                        "  0.34%"
                      ],
                      [
                        "     ▁is",
                        " 12.87%",
                        "       ’",
                        "  8.80%",
                        "    ▁was",
                        "  8.59%",
                        "       '",
                        "  5.58%",
                        "       .",
                        "  4.56%",
                        "   ▁will",
                        "  3.25%",
                        "       ,",
                        "  3.13%",
                        "    ▁has",
                        "  2.25%",
                        "  ▁would",
                        "  2.22%",
                        "     ▁to",
                        "  1.95%"
                      ],
                      [
                        "      ▁a",
                        "  9.49%",
                        "    ▁the",
                        "  4.42%",
                        "    ▁not",
                        "  3.67%",
                        "   ▁born",
                        "  2.07%",
                        "   ▁also",
                        "  1.59%",
                        "     ▁in",
                        "  1.49%",
                        "       ▁",
                        "  1.04%",
                        "     ▁to",
                        "  1.01%",
                        "   ▁made",
                        "  0.97%",
                        "     ▁an",
                        "  0.95%"
                      ],
                      [
                        "   ▁same",
                        "  1.17%",
                        "  ▁world",
                        "  1.09%",
                        "  ▁first",
                        "  1.03%",
                        "   ▁most",
                        "  0.88%",
                        "       ▁",
                        "  0.88%",
                        "    ▁new",
                        "  0.56%",
                        "    ▁way",
                        "  0.55%",
                        " ▁count…",
                        "  0.51%",
                        "  ▁state",
                        "  0.50%",
                        " ▁United",
                        "  0.41%"
                      ],
                      [
                        "     ▁to",
                        "  3.61%",
                        "  ▁known",
                        "  2.90%",
                        "     ▁of",
                        "  2.33%",
                        "       ,",
                        "  1.96%",
                        "       .",
                        "  1.93%",
                        "   ▁with",
                        "  1.75%",
                        "      ow",
                        "  1.63%",
                        "    ▁for",
                        "  1.60%",
                        "    ▁the",
                        "  1.22%",
                        "     ▁in",
                        "  1.11%"
                      ],
                      [
                        "    ▁the",
                        " 23.11%",
                        "      ▁a",
                        "  3.41%",
                        "       ▁",
                        "  1.54%",
                        "  ▁their",
                        "  1.32%",
                        "   ▁this",
                        "  1.31%",
                        "  ▁these",
                        "  1.05%",
                        "    ▁our",
                        "  0.84%",
                        "    ▁his",
                        "  0.77%",
                        "    ▁its",
                        "  0.68%",
                        "     ▁an",
                        "  0.51%"
                      ],
                      [
                        "       ,",
                        " 17.38%",
                        "       .",
                        "  9.35%",
                        "     ▁of",
                        "  5.55%",
                        "     ▁in",
                        "  3.90%",
                        "    ▁for",
                        "  2.86%",
                        "    ▁the",
                        "  2.55%",
                        "     ▁as",
                        "  2.41%",
                        "    ▁and",
                        "  1.70%",
                        "   ▁over",
                        "  1.66%",
                        "     ▁to",
                        "  1.59%"
                      ],
                      [
                        "    ▁and",
                        "  8.89%",
                        "    ▁the",
                        "  4.51%",
                        "       ▁",
                        "  3.76%",
                        "    ▁but",
                        "  2.87%",
                        "      ▁I",
                        "  1.96%",
                        "  ▁which",
                        "  1.68%",
                        "      ▁a",
                        "  1.50%",
                        "     ▁it",
                        "  1.42%",
                        "     ▁or",
                        "  1.26%",
                        "     ▁as",
                        "  1.26%"
                      ],
                      [
                        "     ▁is",
                        " 12.87%",
                        "       ’",
                        "  8.80%",
                        "    ▁was",
                        "  8.59%",
                        "       '",
                        "  5.58%",
                        "       .",
                        "  4.56%",
                        "   ▁will",
                        "  3.25%",
                        "       ,",
                        "  3.13%",
                        "    ▁has",
                        "  2.25%",
                        "  ▁would",
                        "  2.22%",
                        "     ▁to",
                        "  1.95%"
                      ],
                      [
                        "      ▁a",
                        "  9.49%",
                        "    ▁the",
                        "  4.42%",
                        "    ▁not",
                        "  3.67%",
                        "   ▁born",
                        "  2.07%",
                        "   ▁also",
                        "  1.59%",
                        "     ▁in",
                        "  1.49%",
                        "       ▁",
                        "  1.04%",
                        "     ▁to",
                        "  1.01%",
                        "   ▁made",
                        "  0.97%",
                        "     ▁an",
                        "  0.95%"
                      ],
                      [
                        "   ▁same",
                        "  1.17%",
                        "  ▁world",
                        "  1.09%",
                        "  ▁first",
                        "  1.03%",
                        "   ▁most",
                        "  0.88%",
                        "       ▁",
                        "  0.88%",
                        "    ▁new",
                        "  0.56%",
                        "    ▁way",
                        "  0.55%",
                        " ▁count…",
                        "  0.51%",
                        "  ▁state",
                        "  0.50%",
                        " ▁United",
                        "  0.41%"
                      ],
                      [
                        "     ▁of",
                        " 13.51%",
                        "       .",
                        " 11.60%",
                        "       ,",
                        "  6.14%",
                        "       -",
                        "  2.90%",
                        "     ▁is",
                        "  2.71%",
                        "     ▁to",
                        "  2.48%",
                        "  ▁about",
                        "  2.22%",
                        "    ▁and",
                        "  1.35%",
                        "    ▁the",
                        "  1.30%",
                        "     ▁in",
                        "  1.17%"
                      ],
                      [
                        "    ▁the",
                        " 23.11%",
                        "      ▁a",
                        "  3.41%",
                        "       ▁",
                        "  1.54%",
                        "  ▁their",
                        "  1.32%",
                        "   ▁this",
                        "  1.31%",
                        "  ▁these",
                        "  1.05%",
                        "    ▁our",
                        "  0.84%",
                        "    ▁his",
                        "  0.77%",
                        "    ▁its",
                        "  0.68%",
                        "     ▁an",
                        "  0.51%"
                      ],
                      [
                        "       ,",
                        " 17.38%",
                        "       .",
                        "  9.35%",
                        "     ▁of",
                        "  5.55%",
                        "     ▁in",
                        "  3.90%",
                        "    ▁for",
                        "  2.86%",
                        "    ▁the",
                        "  2.55%",
                        "     ▁as",
                        "  2.41%",
                        "    ▁and",
                        "  1.70%",
                        "   ▁over",
                        "  1.66%",
                        "     ▁to",
                        "  1.59%"
                      ]
                    ],
                    [
                      [
                        "  <0x0A>",
                        " 11.19%",
                        " ▁nobody",
                        "  1.00%",
                        " ▁every…",
                        "  0.83%",
                        " ▁hopef…",
                        "  0.61%",
                        " ▁Unter…",
                        "  0.46%",
                        "    </s>",
                        "  0.37%",
                        "       s",
                        "  0.35%",
                        " ▁Hinwe…",
                        "  0.30%",
                        " ▁obvio…",
                        "  0.26%",
                        " ▁surely",
                        "  0.25%"
                      ],
                      [
                        "       '",
                        " 24.25%",
                        "     ▁is",
                        " 15.50%",
                        "       ’",
                        " 11.25%",
                        "    ▁was",
                        "  6.02%",
                        "       .",
                        "  3.47%",
                        "       ,",
                        "  2.51%",
                        "    ▁has",
                        "  1.77%",
                        "   ▁will",
                        "  1.70%",
                        "  ▁would",
                        "  1.42%",
                        "     ▁to",
                        "  1.36%"
                      ],
                      [
                        "      ▁a",
                        " 23.49%",
                        "     ▁in",
                        "  3.15%",
                        "    ▁the",
                        "  2.78%",
                        "   ▁just",
                        "  2.32%",
                        "   ▁also",
                        "  2.09%",
                        "   ▁born",
                        "  2.04%",
                        "    ▁not",
                        "  1.75%",
                        "     ▁to",
                        "  1.26%",
                        "  ▁meant",
                        "  1.16%",
                        "     ▁at",
                        "  1.03%"
                      ],
                      [
                        "  ▁first",
                        "  3.39%",
                        "    ▁way",
                        "  3.07%",
                        "       ▁",
                        "  1.96%",
                        "  ▁world",
                        "  1.75%",
                        "   ▁last",
                        "  1.74%",
                        "   ▁best",
                        "  1.37%",
                        "  ▁right",
                        "  1.13%",
                        "    ▁end",
                        "  1.06%",
                        "   ▁same",
                        "  1.04%",
                        "   ▁only",
                        "  0.68%"
                      ],
                      [
                        "  ▁known",
                        " 13.05%",
                        "   ▁part",
                        "  6.51%",
                        "    ▁way",
                        "  6.13%",
                        "     ▁of",
                        "  5.66%",
                        "     ▁to",
                        "  5.61%",
                        " ▁possi…",
                        "  2.36%",
                        "  ▁thing",
                        "  2.33%",
                        "    ▁and",
                        "  2.01%",
                        "    ▁for",
                        "  1.54%",
                        "       ,",
                        "  1.38%"
                      ],
                      [
                        "    ▁the",
                        " 26.12%",
                        "      ▁a",
                        "  4.65%",
                        " ▁course",
                        "  4.01%",
                        "   ▁this",
                        "  2.60%",
                        "     ▁my",
                        "  1.71%",
                        "    ▁our",
                        "  1.62%",
                        "  ▁these",
                        "  1.24%",
                        "       ▁",
                        "  0.87%",
                        "  ▁their",
                        "  0.82%",
                        "     ▁us",
                        "  0.80%"
                      ],
                      [
                        "    ▁and",
                        " 12.58%",
                        "       ,",
                        " 10.53%",
                        "       .",
                        "  5.12%",
                        "     ▁to",
                        "  4.90%",
                        "     ▁in",
                        "  3.27%",
                        "    ▁for",
                        "  2.81%",
                        "   ▁with",
                        "  2.15%",
                        "   ▁over",
                        "  2.01%",
                        "   ▁that",
                        "  2.00%",
                        "     ▁as",
                        "  1.93%"
                      ],
                      [
                        "    ▁and",
                        "  7.84%",
                        "    ▁the",
                        "  5.46%",
                        "    ▁but",
                        "  5.03%",
                        "      ▁I",
                        "  3.72%",
                        "     ▁we",
                        "  2.66%",
                        "      ▁a",
                        "  2.49%",
                        "  ▁which",
                        "  2.30%",
                        "     ▁as",
                        "  1.97%",
                        "    ▁you",
                        "  1.69%",
                        "       ▁",
                        "  1.53%"
                      ],
                      [
                        "       ’",
                        " 24.30%",
                        "     ▁is",
                        " 15.91%",
                        "       '",
                        " 15.30%",
                        "    ▁was",
                        " 13.32%",
                        "  ▁would",
                        "  3.74%",
                        "    ▁has",
                        "  2.52%",
                        "   ▁will",
                        "  2.05%",
                        "    ▁can",
                        "  1.04%",
                        "  ▁could",
                        "  0.95%",
                        "   ▁also",
                        "  0.54%"
                      ],
                      [
                        "      ▁a",
                        " 14.98%",
                        "    ▁not",
                        "  4.37%",
                        "     ▁in",
                        "  3.88%",
                        "   ▁just",
                        "  3.21%",
                        "   ▁born",
                        "  2.81%",
                        "    ▁the",
                        "  2.09%",
                        "    ▁one",
                        "  1.44%",
                        "   ▁also",
                        "  1.31%",
                        "     ▁on",
                        "  1.13%",
                        " ▁broug…",
                        "  1.11%"
                      ],
                      [
                        "  ▁first",
                        "  5.44%",
                        "    ▁way",
                        "  3.45%",
                        "   ▁last",
                        "  2.40%",
                        "  ▁world",
                        "  1.68%",
                        "   ▁best",
                        "  1.68%",
                        "   ▁same",
                        "  1.35%",
                        "       ▁",
                        "  1.07%",
                        "  ▁right",
                        "  1.06%",
                        "   ▁only",
                        "  0.88%",
                        "   ▁time",
                        "  0.77%"
                      ],
                      [
                        "     ▁of",
                        " 17.28%",
                        "   ▁part",
                        "  5.99%",
                        "       .",
                        "  5.93%",
                        "     ▁to",
                        "  5.64%",
                        "       ,",
                        "  5.06%",
                        "    ▁and",
                        "  2.93%",
                        "  ▁about",
                        "  2.77%",
                        "     ▁in",
                        "  2.28%",
                        "  ▁known",
                        "  1.67%",
                        "     ▁de",
                        "  1.26%"
                      ],
                      [
                        "    ▁the",
                        " 19.80%",
                        "      ▁a",
                        "  4.86%",
                        "   ▁this",
                        "  1.67%",
                        " ▁course",
                        "  1.48%",
                        "  ▁these",
                        "  1.36%",
                        "  ▁their",
                        "  0.99%",
                        "     ▁us",
                        "  0.95%",
                        "     ▁my",
                        "  0.94%",
                        "   ▁your",
                        "  0.91%",
                        "    ▁our",
                        "  0.90%"
                      ],
                      [
                        "       ,",
                        "  9.84%",
                        "    ▁and",
                        "  9.16%",
                        "     ▁to",
                        "  4.12%",
                        "       .",
                        "  3.91%",
                        "     ▁in",
                        "  3.69%",
                        "   ▁that",
                        "  2.84%",
                        "     ▁we",
                        "  2.67%",
                        "   ▁with",
                        "  2.20%",
                        "     ▁as",
                        "  2.17%",
                        "      ▁I",
                        "  2.09%"
                      ]
                    ],
                    [
                      [
                        "  <0x0A>",
                        " 11.17%",
                        " ▁nobody",
                        "  1.05%",
                        " ▁every…",
                        "  0.91%",
                        " ▁hopef…",
                        "  0.66%",
                        " ▁Unter…",
                        "  0.49%",
                        "    </s>",
                        "  0.41%",
                        " ▁Hinwe…",
                        "  0.36%",
                        "       s",
                        "  0.30%",
                        " ▁obvio…",
                        "  0.29%",
                        " ▁surely",
                        "  0.27%"
                      ],
                      [
                        "       '",
                        " 21.66%",
                        "       ’",
                        " 12.12%",
                        "     ▁is",
                        "  9.96%",
                        "       .",
                        "  6.69%",
                        "       ,",
                        "  3.91%",
                        "    ▁was",
                        "  2.89%",
                        "    ▁for",
                        "  1.31%",
                        "  ▁would",
                        "  1.25%",
                        "     ▁to",
                        "  1.07%",
                        "       :",
                        "  1.07%"
                      ],
                      [
                        "      ▁a",
                        " 15.51%",
                        "   ▁just",
                        "  3.57%",
                        " ▁possi…",
                        "  2.83%",
                        "    ▁not",
                        "  1.92%",
                        "     ▁an",
                        "  1.75%",
                        "    ▁the",
                        "  1.60%",
                        "   ▁made",
                        "  1.56%",
                        "  ▁worth",
                        "  1.46%",
                        "     ▁in",
                        "  1.41%",
                        "   ▁also",
                        "  1.24%"
                      ],
                      [
                        "  ▁first",
                        " 28.60%",
                        "   ▁only",
                        "  4.22%",
                        "   ▁last",
                        "  3.63%",
                        "       ▁",
                        "  2.49%",
                        "   ▁most",
                        "  1.47%",
                        "   ▁time",
                        "  1.11%",
                        "  ▁right",
                        "  0.95%",
                        "      ▁B",
                        "  0.78%",
                        " ▁perfe…",
                        "  0.76%",
                        "   ▁same",
                        "  0.72%"
                      ],
                      [
                        "  ▁thing",
                        "  6.08%",
                        "    ▁way",
                        "  5.04%",
                        " ▁possi…",
                        "  3.53%",
                        "  ▁known",
                        "  3.05%",
                        "     ▁to",
                        "  2.49%",
                        "   ▁time",
                        "  2.22%",
                        "     ▁of",
                        "  2.01%",
                        "  ▁place",
                        "  1.83%",
                        "    ▁for",
                        "  1.35%",
                        "       ,",
                        "  1.31%"
                      ],
                      [
                        "    ▁the",
                        " 40.51%",
                        "    ▁its",
                        "  4.36%",
                        "    ▁all",
                        "  2.76%",
                        "   ▁that",
                        "  2.05%",
                        "  ▁their",
                        "  2.00%",
                        "  ▁these",
                        "  1.51%",
                        "      ▁a",
                        "  1.19%",
                        "     ▁my",
                        "  0.92%",
                        "    ▁our",
                        "  0.59%",
                        "    ▁his",
                        "  0.59%"
                      ],
                      [
                        "       ,",
                        " 28.31%",
                        "    ▁for",
                        " 16.52%",
                        "       .",
                        "  8.82%",
                        "    ▁and",
                        "  5.18%",
                        "     ▁is",
                        "  4.58%",
                        "     ▁in",
                        "  3.87%",
                        "   ▁that",
                        "  3.70%",
                        "     ▁to",
                        "  3.07%",
                        "      ▁(",
                        "  2.25%",
                        "      ▁a",
                        "  1.89%"
                      ],
                      [
                        "    ▁but",
                        "  9.71%",
                        "    ▁and",
                        "  6.94%",
                        "    ▁the",
                        "  4.21%",
                        "      ▁I",
                        "  3.98%",
                        "      ▁a",
                        "  2.86%",
                        "   ▁that",
                        "  2.77%",
                        "   ▁when",
                        "  2.24%",
                        "    ▁you",
                        "  2.14%",
                        "     ▁we",
                        "  1.96%",
                        "   ▁with",
                        "  1.73%"
                      ],
                      [
                        "       ’",
                        " 42.25%",
                        "       '",
                        " 15.95%",
                        "    ▁was",
                        "  7.42%",
                        "     ▁is",
                        "  7.15%",
                        "  ▁could",
                        "  1.08%",
                        "  ▁would",
                        "  0.88%",
                        "    ▁has",
                        "  0.74%",
                        "   ▁only",
                        "  0.52%",
                        "   ▁must",
                        "  0.50%",
                        "    ▁are",
                        "  0.37%"
                      ],
                      [
                        "      ▁a",
                        " 13.86%",
                        "    ▁not",
                        "  6.23%",
                        "   ▁only",
                        "  4.46%",
                        " ▁possi…",
                        "  2.75%",
                        "   ▁just",
                        "  2.55%",
                        "    ▁the",
                        "  2.30%",
                        " ▁impor…",
                        "  2.00%",
                        "     ▁an",
                        "  1.68%",
                        "   ▁also",
                        "  1.61%",
                        "    ▁one",
                        "  0.85%"
                      ],
                      [
                        "  ▁first",
                        " 10.60%",
                        "   ▁last",
                        "  6.15%",
                        "   ▁only",
                        "  2.24%",
                        "   ▁most",
                        "  1.77%",
                        "       ▁",
                        "  1.65%",
                        "   ▁time",
                        "  1.57%",
                        "   ▁same",
                        "  0.99%",
                        "   ▁best",
                        "  0.97%",
                        "   ▁good",
                        "  0.90%",
                        "  ▁other",
                        "  0.81%"
                      ],
                      [
                        "     ▁of",
                        " 18.30%",
                        "       .",
                        " 13.72%",
                        "       ,",
                        " 11.97%",
                        "     ▁to",
                        "  2.95%",
                        "  ▁thing",
                        "  2.10%",
                        "    ▁and",
                        "  1.59%",
                        "     ▁in",
                        "  1.52%",
                        "   ▁when",
                        "  1.39%",
                        "    ▁for",
                        "  1.35%",
                        " ▁possi…",
                        "  1.27%"
                      ],
                      [
                        "    ▁the",
                        " 18.09%",
                        "    ▁its",
                        " 12.13%",
                        "    ▁you",
                        "  2.93%",
                        "    ▁all",
                        "  1.82%",
                        "  ▁their",
                        "  1.72%",
                        "   ▁that",
                        "  1.32%",
                        "  ▁which",
                        "  1.28%",
                        "     ▁my",
                        "  1.26%",
                        "     ▁it",
                        "  1.19%",
                        "      ▁a",
                        "  0.89%"
                      ],
                      [
                        "       ,",
                        " 25.01%",
                        "    ▁for",
                        "  9.41%",
                        "     ▁is",
                        "  8.73%",
                        "   ▁that",
                        "  8.55%",
                        "       .",
                        "  7.50%",
                        "    ▁and",
                        "  4.08%",
                        "     ▁in",
                        "  2.56%",
                        "      ▁(",
                        "  2.40%",
                        "      ▁I",
                        "  2.26%",
                        "   ▁with",
                        "  2.21%"
                      ]
                    ],
                    [
                      [
                        "  <0x0A>",
                        " 10.31%",
                        " ▁nobody",
                        "  1.04%",
                        " ▁every…",
                        "  1.03%",
                        " ▁hopef…",
                        "  0.75%",
                        " ▁Unter…",
                        "  0.52%",
                        "    </s>",
                        "  0.41%",
                        " ▁Hinwe…",
                        "  0.36%",
                        " ▁every…",
                        "  0.35%",
                        " ▁surely",
                        "  0.34%",
                        " ▁obvio…",
                        "  0.34%"
                      ],
                      [
                        "       '",
                        " 14.29%",
                        "       .",
                        "  7.66%",
                        "     ▁is",
                        "  5.38%",
                        "       ,",
                        "  3.61%",
                        "       ’",
                        "  3.31%",
                        "       ▁",
                        "  1.88%",
                        "  <0x0A>",
                        "  1.83%",
                        "       (",
                        "  0.97%",
                        "    ▁for",
                        "  0.91%",
                        "       [",
                        "  0.84%"
                      ],
                      [
                        "      ▁a",
                        " 16.10%",
                        "   ▁just",
                        "  3.35%",
                        "    ▁all",
                        "  3.14%",
                        "    ▁not",
                        "  3.08%",
                        "    ▁the",
                        "  2.71%",
                        "   ▁last",
                        "  1.98%",
                        "     ▁an",
                        "  1.69%",
                        "       ▁",
                        "  1.69%",
                        "     ▁in",
                        "  1.36%",
                        "  <0x0A>",
                        "  1.25%"
                      ],
                      [
                        "  ▁first",
                        " 35.93%",
                        "   ▁last",
                        "  9.12%",
                        "       ▁",
                        "  2.69%",
                        "   ▁only",
                        "  2.01%",
                        "   ▁time",
                        "  1.71%",
                        "    ▁old",
                        "  1.15%",
                        "      ▁a",
                        "  1.08%",
                        "      ▁n",
                        "  0.80%",
                        "   ▁hard",
                        "  0.72%",
                        "   ▁very",
                        "  0.66%"
                      ],
                      [
                        "  ▁thing",
                        "  6.98%",
                        " ▁possi…",
                        "  4.99%",
                        " ▁things",
                        "  3.45%",
                        "    ▁way",
                        "  3.31%",
                        "   ▁time",
                        "  2.68%",
                        "     ▁of",
                        "  2.14%",
                        "  ▁place",
                        "  1.74%",
                        "    ▁for",
                        "  1.63%",
                        "    ▁one",
                        "  1.55%",
                        "    ▁and",
                        "  1.36%"
                      ],
                      [
                        "  ▁times",
                        " 34.36%",
                        "    ▁the",
                        " 10.93%",
                        "      ▁I",
                        "  3.02%",
                        "      ▁a",
                        "  2.14%",
                        "    ▁all",
                        "  2.10%",
                        "    ▁you",
                        "  2.00%",
                        "   ▁time",
                        "  1.42%",
                        "   ▁that",
                        "  1.02%",
                        "  ▁three",
                        "  0.79%",
                        "   ▁what",
                        "  0.69%"
                      ],
                      [
                        "       ,",
                        " 13.85%",
                        "    ▁for",
                        " 13.59%",
                        "    ▁and",
                        " 12.82%",
                        "     ▁in",
                        "  7.92%",
                        "       .",
                        "  7.72%",
                        "   ▁when",
                        "  3.53%",
                        "     ▁to",
                        "  2.98%",
                        "      ▁I",
                        "  2.62%",
                        "      ▁a",
                        "  2.02%",
                        "      ▁(",
                        "  1.87%"
                      ],
                      [
                        "    ▁and",
                        " 16.69%",
                        "   ▁when",
                        " 14.50%",
                        "     ▁so",
                        "  3.74%",
                        "      ▁a",
                        "  3.54%",
                        "    ▁the",
                        "  3.07%",
                        "  <0x0A>",
                        "  2.88%",
                        "      ▁I",
                        "  2.22%",
                        "   ▁last",
                        "  1.97%",
                        "     ▁or",
                        "  1.64%",
                        "    ▁not",
                        "  1.63%"
                      ],
                      [
                        "       ’",
                        " 30.85%",
                        "       '",
                        " 28.05%",
                        "    ▁was",
                        "  7.27%",
                        "     ▁is",
                        "  5.43%",
                        "  ▁would",
                        "  3.40%",
                        "    ▁may",
                        "  1.34%",
                        "   ▁will",
                        "  1.10%",
                        "  ▁could",
                        "  0.83%",
                        "  ▁might",
                        "  0.60%",
                        "    ▁are",
                        "  0.50%"
                      ],
                      [
                        "      ▁a",
                        " 32.25%",
                        "    ▁the",
                        "  7.69%",
                        "    ▁not",
                        "  5.78%",
                        "     ▁an",
                        "  1.89%",
                        "   ▁also",
                        "  1.78%",
                        "       ’",
                        "  1.67%",
                        "   ▁just",
                        "  1.61%",
                        "       '",
                        "  0.95%",
                        " ▁impor…",
                        "  0.87%",
                        "   ▁when",
                        "  0.82%"
                      ],
                      [
                        "   ▁last",
                        "  9.75%",
                        "  ▁first",
                        "  3.97%",
                        "   ▁most",
                        "  2.53%",
                        "    ▁one",
                        "  1.83%",
                        "   ▁best",
                        "  1.78%",
                        " ▁produ…",
                        "  1.56%",
                        "   ▁late",
                        "  1.39%",
                        "  ▁world",
                        "  1.38%",
                        " ▁impor…",
                        "  1.35%",
                        "      ▁I",
                        "  1.33%"
                      ],
                      [
                        "       ,",
                        " 24.12%",
                        "       .",
                        " 23.56%",
                        "     ▁of",
                        " 16.20%",
                        "   ▁when",
                        "  3.71%",
                        "     ▁in",
                        "  2.17%",
                        "    ▁and",
                        "  1.90%",
                        "  <0x0A>",
                        "  1.29%",
                        "       -",
                        "  1.09%",
                        "     ▁is",
                        "  0.94%",
                        "    ▁for",
                        "  0.77%"
                      ],
                      [
                        "  ▁times",
                        " 38.97%",
                        "    ▁the",
                        " 11.29%",
                        "      ▁I",
                        "  9.04%",
                        "   ▁that",
                        "  1.83%",
                        "       ,",
                        "  1.55%",
                        "    ▁you",
                        "  1.14%",
                        "      ▁a",
                        "  1.01%",
                        "  <0x0A>",
                        "  0.97%",
                        "    ▁all",
                        "  0.80%",
                        "   ▁when",
                        "  0.68%"
                      ],
                      [
                        "       ,",
                        " 25.65%",
                        "       .",
                        "  8.26%",
                        "     ▁in",
                        "  6.83%",
                        "    ▁and",
                        "  5.41%",
                        "      ▁(",
                        "  5.09%",
                        "      ▁I",
                        "  4.94%",
                        "    ▁for",
                        "  3.67%",
                        "   ▁that",
                        "  2.74%",
                        "     ▁is",
                        "  2.64%",
                        "  <0x0A>",
                        "  2.57%"
                      ]
                    ],
                    [
                      [
                        "  <0x0A>",
                        " 10.78%",
                        " ▁every…",
                        "  0.95%",
                        " ▁nobody",
                        "  0.94%",
                        " ▁hopef…",
                        "  0.67%",
                        "    </s>",
                        "  0.56%",
                        " ▁Unter…",
                        "  0.51%",
                        "    ▁The",
                        "  0.38%",
                        " ▁Hinwe…",
                        "  0.31%",
                        " ▁surely",
                        "  0.31%",
                        " ▁every…",
                        "  0.31%"
                      ],
                      [
                        "     ▁is",
                        " 10.48%",
                        "       '",
                        "  9.19%",
                        "       ’",
                        "  6.43%",
                        "       .",
                        "  4.67%",
                        "  <0x0A>",
                        "  3.51%",
                        "       ▁",
                        "  2.30%",
                        "       ,",
                        "  1.96%",
                        "       B",
                        "  1.12%",
                        "   ▁that",
                        "  1.06%",
                        "       -",
                        "  0.97%"
                      ],
                      [
                        "      ▁a",
                        "  7.03%",
                        "    ▁the",
                        "  3.75%",
                        "   ▁just",
                        "  3.20%",
                        "       ▁",
                        "  3.07%",
                        "       '",
                        "  2.45%",
                        "     ▁in",
                        "  2.34%",
                        "   ▁like",
                        "  2.33%",
                        "    ▁not",
                        "  2.09%",
                        "       .",
                        "  2.00%",
                        "      nt",
                        "  1.54%"
                      ],
                      [
                        "  ▁first",
                        " 30.02%",
                        "   ▁time",
                        "  2.71%",
                        "    ▁old",
                        "  2.32%",
                        "   ▁last",
                        "  1.85%",
                        "       ▁",
                        "  1.31%",
                        "   ▁only",
                        "  1.08%",
                        "      ▁n",
                        "  1.06%",
                        "    ▁one",
                        "  1.05%",
                        "      ▁a",
                        "  1.01%",
                        "   ▁same",
                        "  0.75%"
                      ],
                      [
                        "    ▁way",
                        " 11.93%",
                        "   ▁time",
                        "  7.84%",
                        "  ▁thing",
                        "  7.68%",
                        "  ▁place",
                        "  4.50%",
                        " ▁possi…",
                        "  4.13%",
                        " ▁chance",
                        "  3.88%",
                        " ▁things",
                        "  3.10%",
                        "    ▁for",
                        "  2.78%",
                        "   ▁when",
                        "  1.18%",
                        "    ▁the",
                        "  1.17%"
                      ],
                      [
                        "  ▁times",
                        " 46.42%",
                        "    ▁the",
                        "  3.90%",
                        "    ▁all",
                        "  1.33%",
                        "   ▁what",
                        "  1.24%",
                        "   ▁time",
                        "  0.90%",
                        "   ▁them",
                        "  0.76%",
                        "  ▁their",
                        "  0.60%",
                        "      ▁a",
                        "  0.55%",
                        " ▁things",
                        "  0.52%",
                        "     ▁us",
                        "  0.51%"
                      ],
                      [
                        "       ,",
                        " 17.73%",
                        "       .",
                        "  6.44%",
                        "      ▁(",
                        "  6.08%",
                        "       ?",
                        "  5.53%",
                        "   ▁when",
                        "  5.26%",
                        "    ▁and",
                        "  4.66%",
                        "    ▁for",
                        "  3.97%",
                        "       \"",
                        "  3.30%",
                        "       ”",
                        "  2.90%",
                        "     ▁in",
                        "  2.72%"
                      ],
                      [
                        "  <0x0A>",
                        " 17.46%",
                        "    ▁and",
                        " 15.69%",
                        "     ▁or",
                        "  5.64%",
                        "    ▁the",
                        "  4.64%",
                        "    ▁but",
                        "  4.59%",
                        "      ▁a",
                        "  3.13%",
                        "    ▁not",
                        "  2.03%",
                        "    ▁The",
                        "  1.89%",
                        "     ▁so",
                        "  1.62%",
                        "       ▁",
                        "  1.41%"
                      ],
                      [
                        "       ’",
                        "  8.38%",
                        "       '",
                        "  4.94%",
                        "    ▁was",
                        "  4.88%",
                        "     ▁is",
                        "  4.84%",
                        "  ▁would",
                        "  4.09%",
                        "     ▁or",
                        "  3.38%",
                        "    ▁not",
                        "  1.81%",
                        "  ▁could",
                        "  1.67%",
                        "   ▁will",
                        "  1.57%",
                        "      ▁b",
                        "  1.56%"
                      ],
                      [
                        "      ▁a",
                        " 14.34%",
                        "    ▁the",
                        " 10.57%",
                        "    ▁not",
                        "  9.77%",
                        "       .",
                        "  3.00%",
                        "     ▁in",
                        "  2.55%",
                        "     ▁an",
                        "  1.91%",
                        "   ▁also",
                        "  1.71%",
                        "      ▁(",
                        "  1.44%",
                        "       ▁",
                        "  1.40%",
                        "      nt",
                        "  1.33%"
                      ],
                      [
                        " ▁diffe…",
                        "  2.05%",
                        "   ▁time",
                        "  1.66%",
                        "       ▁",
                        "  1.60%",
                        "  ▁first",
                        "  1.57%",
                        "      ▁b",
                        "  1.54%",
                        "      ▁n",
                        "  1.29%",
                        "      ▁I",
                        "  1.04%",
                        "     ▁un",
                        "  1.00%",
                        "  ▁world",
                        "  0.91%",
                        " ▁oppos…",
                        "  0.85%"
                      ],
                      [
                        "       .",
                        " 25.22%",
                        "  <0x0A>",
                        " 12.93%",
                        "     ▁of",
                        " 10.58%",
                        "       ,",
                        "  8.12%",
                        "      ▁(",
                        "  4.71%",
                        "     ▁in",
                        "  2.30%",
                        "    ▁and",
                        "  1.82%",
                        "   ▁when",
                        "  1.49%",
                        "       ?",
                        "  1.29%",
                        "    ▁but",
                        "  0.94%"
                      ],
                      [
                        "  ▁times",
                        " 40.86%",
                        "   ▁case",
                        "  3.49%",
                        "  ▁cases",
                        "  0.65%",
                        "    ▁yet",
                        "  0.37%",
                        " ▁course",
                        "  0.36%",
                        "      sv",
                        "  0.35%",
                        "   ▁them",
                        "  0.31%",
                        "    ▁the",
                        "  0.28%",
                        "  ▁Green",
                        "  0.27%",
                        " ▁Broth…",
                        "  0.26%"
                      ],
                      [
                        "      ▁(",
                        " 31.33%",
                        "       ,",
                        " 12.10%",
                        "       (",
                        "  5.32%",
                        "       .",
                        "  5.15%",
                        "       )",
                        "  3.09%",
                        "  <0x0A>",
                        "  2.90%",
                        "    ▁for",
                        "  2.14%",
                        "       ”",
                        "  2.14%",
                        "     ▁in",
                        "  1.59%",
                        "       ?",
                        "  1.55%"
                      ]
                    ],
                    [
                      [
                        "  <0x0A>",
                        " 11.63%",
                        " ▁every…",
                        "  0.94%",
                        " ▁nobody",
                        "  0.92%",
                        " ▁hopef…",
                        "  0.69%",
                        "    </s>",
                        "  0.55%",
                        " ▁Unter…",
                        "  0.52%",
                        " ▁Hinwe…",
                        "  0.34%",
                        "    ▁The",
                        "  0.32%",
                        " ▁obvio…",
                        "  0.29%",
                        " ▁surely",
                        "  0.29%"
                      ],
                      [
                        "     ▁is",
                        " 14.88%",
                        "       '",
                        "  8.20%",
                        "       .",
                        "  6.10%",
                        "       ,",
                        "  5.08%",
                        "       ▁",
                        "  4.89%",
                        "  <0x0A>",
                        "  4.72%",
                        "       ’",
                        "  2.52%",
                        "   ▁that",
                        "  2.08%",
                        "       -",
                        "  1.65%",
                        "    ▁and",
                        "  1.54%"
                      ],
                      [
                        "      ▁a",
                        "  8.25%",
                        "   ▁like",
                        "  4.68%",
                        "   ▁just",
                        "  3.72%",
                        "    ▁the",
                        "  3.29%",
                        "       ▁",
                        "  2.59%",
                        "   ▁time",
                        "  2.41%",
                        "    ▁not",
                        "  2.33%",
                        "      nt",
                        "  2.26%",
                        "       '",
                        "  1.95%",
                        "     ▁to",
                        "  1.86%"
                      ],
                      [
                        "  ▁first",
                        " 16.64%",
                        "      ▁a",
                        "  3.42%",
                        "   ▁last",
                        "  3.22%",
                        "    ▁day",
                        "  3.06%",
                        "    ▁the",
                        "  2.29%",
                        "       ▁",
                        "  1.98%",
                        " ▁perfe…",
                        "  1.77%",
                        "   ▁time",
                        "  1.64%",
                        "    ▁old",
                        "  1.34%",
                        "   ▁only",
                        "  1.16%"
                      ],
                      [
                        "    ▁way",
                        " 12.46%",
                        "  ▁thing",
                        " 10.84%",
                        "   ▁time",
                        "  9.67%",
                        "  ▁place",
                        "  7.34%",
                        "    ▁day",
                        "  5.86%",
                        "    ▁for",
                        "  2.11%",
                        "    ▁and",
                        "  1.68%",
                        " ▁things",
                        "  1.47%",
                        "    ▁dam",
                        "  1.15%",
                        "    ▁the",
                        "  1.03%"
                      ],
                      [
                        "  ▁times",
                        " 12.46%",
                        "    ▁the",
                        " 11.50%",
                        "      ▁a",
                        "  3.31%",
                        "      ▁I",
                        "  2.84%",
                        "   ▁what",
                        "  1.78%",
                        "      ▁b",
                        "  1.66%",
                        "   ▁them",
                        "  1.43%",
                        "   ▁time",
                        "  1.36%",
                        " ▁feeli…",
                        "  1.31%",
                        "    ▁all",
                        "  1.15%"
                      ],
                      [
                        "       ,",
                        " 16.44%",
                        "    ▁and",
                        " 15.08%",
                        "     ▁in",
                        "  6.30%",
                        "   ▁when",
                        "  5.78%",
                        "    ▁for",
                        "  4.80%",
                        "      ▁(",
                        "  3.64%",
                        "       ?",
                        "  2.99%",
                        "       \"",
                        "  2.89%",
                        "       .",
                        "  2.68%",
                        "      ▁I",
                        "  1.86%"
                      ],
                      [
                        "    ▁but",
                        "  8.34%",
                        "     ▁We",
                        "  6.80%",
                        "    ▁and",
                        "  6.38%",
                        "    ▁the",
                        "  4.17%",
                        "  <0x0A>",
                        "  2.97%",
                        "    ▁The",
                        "  2.79%",
                        "      ▁a",
                        "  2.40%",
                        "   ▁that",
                        "  1.86%",
                        "     ▁we",
                        "  1.31%",
                        "      ▁I",
                        "  1.12%"
                      ],
                      [
                        "    ▁was",
                        "  8.84%",
                        "       ’",
                        "  4.27%",
                        "     ▁is",
                        "  3.62%",
                        "      ▁b",
                        "  2.53%",
                        "    ▁for",
                        "  2.42%",
                        "       ▁",
                        "  2.04%",
                        "    ▁not",
                        "  1.90%",
                        "       -",
                        "  1.61%",
                        "       '",
                        "  1.58%",
                        "     ▁we",
                        "  1.36%"
                      ],
                      [
                        "      ▁a",
                        " 11.13%",
                        "    ▁the",
                        " 11.06%",
                        "    ▁not",
                        "  7.94%",
                        "       ▁",
                        "  2.10%",
                        "    ▁for",
                        "  2.09%",
                        "   ▁also",
                        "  1.83%",
                        "      ▁I",
                        "  1.80%",
                        "     ▁an",
                        "  1.62%",
                        "      ▁t",
                        "  1.04%",
                        "     ▁to",
                        "  0.87%"
                      ],
                      [
                        "      ▁b",
                        "  3.27%",
                        "     ake",
                        "  2.53%",
                        "      ▁t",
                        "  2.23%",
                        "       ▁",
                        "  1.88%",
                        " ▁produ…",
                        "  1.36%",
                        "     ▁di",
                        "  1.31%",
                        "    ▁pro",
                        "  1.11%",
                        "      ▁C",
                        "  1.08%",
                        "      ▁f",
                        "  1.08%",
                        "    ▁for",
                        "  0.92%"
                      ],
                      [
                        "     ▁of",
                        " 17.56%",
                        "       .",
                        " 15.29%",
                        "  <0x0A>",
                        "  6.64%",
                        "       ,",
                        "  5.82%",
                        "      ▁(",
                        "  3.67%",
                        "     ▁in",
                        "  2.83%",
                        "    ▁and",
                        "  2.67%",
                        "    ▁for",
                        "  1.85%",
                        "      ▁t",
                        "  1.68%",
                        "   ▁that",
                        "  1.60%"
                      ],
                      [
                        "  ▁times",
                        " 34.90%",
                        "    ▁the",
                        "  1.46%",
                        "      ▁t",
                        "  1.21%",
                        "      ▁b",
                        "  1.15%",
                        "   ▁comp",
                        "  0.88%",
                        "    ▁pro",
                        "  0.83%",
                        "      ▁I",
                        "  0.69%",
                        "    ▁two",
                        "  0.56%",
                        "      ▁a",
                        "  0.53%",
                        "    ▁rub",
                        "  0.49%"
                      ],
                      [
                        "      ▁(",
                        " 27.83%",
                        "       .",
                        "  7.23%",
                        "       ,",
                        "  7.17%",
                        "       ?",
                        "  3.99%",
                        "  <0x0A>",
                        "  3.48%",
                        "       \"",
                        "  2.82%",
                        "       :",
                        "  2.58%",
                        "   ▁that",
                        "  2.28%",
                        "    ▁for",
                        "  2.04%",
                        "       (",
                        "  1.65%"
                      ]
                    ],
                    [
                      [
                        "  <0x0A>",
                        " 11.71%",
                        " ▁nobody",
                        "  0.98%",
                        " ▁every…",
                        "  0.91%",
                        " ▁hopef…",
                        "  0.66%",
                        "    </s>",
                        "  0.55%",
                        " ▁Unter…",
                        "  0.54%",
                        " ▁Hinwe…",
                        "  0.37%",
                        " ▁obvio…",
                        "  0.30%",
                        " ▁surely",
                        "  0.30%",
                        " ▁every…",
                        "  0.27%"
                      ],
                      [
                        "       '",
                        " 20.10%",
                        "     ▁is",
                        "  7.99%",
                        "       .",
                        "  6.82%",
                        "  <0x0A>",
                        "  6.19%",
                        "       ,",
                        "  5.22%",
                        "       ▁",
                        "  5.03%",
                        "       _",
                        "  1.99%",
                        "   ▁that",
                        "  1.87%",
                        "       )",
                        "  1.40%",
                        "       ’",
                        "  1.22%"
                      ],
                      [
                        "      ▁a",
                        "  8.26%",
                        "    ▁not",
                        "  3.91%",
                        "       ▁",
                        "  3.74%",
                        "       '",
                        "  3.67%",
                        "    ▁the",
                        "  2.94%",
                        "     ▁to",
                        "  2.30%",
                        "       .",
                        "  2.10%",
                        "   ▁just",
                        "  2.04%",
                        "   ▁like",
                        "  1.98%",
                        "   ▁time",
                        "  1.63%"
                      ],
                      [
                        "  ▁first",
                        " 19.48%",
                        "      ▁a",
                        "  5.44%",
                        "       ▁",
                        "  3.32%",
                        "   ▁time",
                        "  3.20%",
                        "    ▁day",
                        "  2.39%",
                        "   ▁only",
                        "  1.50%",
                        "   ▁last",
                        "  1.40%",
                        "      ▁n",
                        "  1.25%",
                        "    ▁the",
                        "  1.24%",
                        "    ▁old",
                        "  0.95%"
                      ],
                      [
                        "    ▁way",
                        " 12.10%",
                        "  ▁place",
                        "  8.33%",
                        "  ▁thing",
                        "  5.38%",
                        "   ▁time",
                        "  4.77%",
                        "    ▁for",
                        "  3.99%",
                        " ▁possi…",
                        "  2.92%",
                        "    ▁day",
                        "  2.20%",
                        "     ▁of",
                        "  1.52%",
                        "      ▁t",
                        "  1.29%",
                        "    ▁and",
                        "  1.21%"
                      ],
                      [
                        "    ▁the",
                        " 13.69%",
                        "  ▁their",
                        "  3.00%",
                        "      ▁b",
                        "  2.65%",
                        "  ▁times",
                        "  2.44%",
                        "   ▁they",
                        "  2.07%",
                        "      ▁a",
                        "  2.04%",
                        "   ▁them",
                        "  1.95%",
                        "    ▁and",
                        "  1.73%",
                        "       ,",
                        "  1.68%",
                        "      ▁I",
                        "  1.62%"
                      ],
                      [
                        "       ,",
                        " 34.54%",
                        "    ▁and",
                        " 15.82%",
                        "     ▁in",
                        "  5.77%",
                        "    ▁for",
                        "  3.28%",
                        "       .",
                        "  2.74%",
                        "       \"",
                        "  2.61%",
                        "       ?",
                        "  2.46%",
                        "      ▁(",
                        "  2.33%",
                        "      ,\"",
                        "  1.49%",
                        "      ▁a",
                        "  1.37%"
                      ],
                      [
                        "    ▁and",
                        " 13.04%",
                        "    ▁the",
                        "  6.61%",
                        "     ▁or",
                        "  6.12%",
                        "      ▁a",
                        "  5.18%",
                        "    ▁but",
                        "  4.91%",
                        "     ▁We",
                        "  4.91%",
                        "     ▁we",
                        "  3.98%",
                        "  <0x0A>",
                        "  3.71%",
                        "    ▁The",
                        "  1.67%",
                        "      ▁I",
                        "  1.56%"
                      ],
                      [
                        "    ▁was",
                        " 16.15%",
                        "     ▁is",
                        "  4.96%",
                        "   ▁were",
                        "  4.73%",
                        "      ▁w",
                        "  2.67%",
                        "       '",
                        "  2.60%",
                        "       ’",
                        "  2.44%",
                        "       ▁",
                        "  1.83%",
                        "       \"",
                        "  1.79%",
                        "    ▁for",
                        "  1.77%",
                        "      ▁b",
                        "  1.62%"
                      ],
                      [
                        "      ▁a",
                        " 16.04%",
                        "    ▁the",
                        " 10.24%",
                        "    ▁not",
                        "  9.79%",
                        "   ▁also",
                        "  3.13%",
                        "      ▁t",
                        "  2.84%",
                        "      nt",
                        "  2.57%",
                        "       ▁",
                        "  2.56%",
                        "      ▁.",
                        "  1.77%",
                        "      ▁F",
                        "  1.54%",
                        "    ▁for",
                        "  1.51%"
                      ],
                      [
                        "      ▁t",
                        "  7.53%",
                        "      ▁b",
                        "  3.86%",
                        "       ▁",
                        "  2.66%",
                        "      ▁B",
                        "  2.49%",
                        "      ▁C",
                        "  1.55%",
                        "      ▁c",
                        "  1.55%",
                        "      ▁f",
                        "  1.38%",
                        " ▁diffe…",
                        "  1.18%",
                        "      ▁F",
                        "  0.98%",
                        "    ▁pro",
                        "  0.95%"
                      ],
                      [
                        "       .",
                        " 15.28%",
                        "     ▁of",
                        " 13.80%",
                        "       ,",
                        "  8.07%",
                        "  <0x0A>",
                        "  4.01%",
                        "    ▁for",
                        "  3.23%",
                        "     ▁in",
                        "  1.88%",
                        "      ▁f",
                        "  1.45%",
                        "       ?",
                        "  1.31%",
                        "    ▁are",
                        "  1.26%",
                        "     ▁is",
                        "  1.25%"
                      ],
                      [
                        "  ▁times",
                        " 12.48%",
                        "      ▁t",
                        "  3.35%",
                        "    ▁the",
                        "  1.23%",
                        "    ▁sar",
                        "  1.19%",
                        "      ▁f",
                        "  0.95%",
                        "   ▁comp",
                        "  0.68%",
                        "     sci",
                        "  0.59%",
                        "   ▁case",
                        "  0.58%",
                        "  <0x0A>",
                        "  0.50%",
                        "    ▁all",
                        "  0.48%"
                      ],
                      [
                        "      ▁(",
                        " 30.38%",
                        "       ,",
                        " 10.39%",
                        "       .",
                        "  6.78%",
                        "       \"",
                        "  6.16%",
                        "       ?",
                        "  4.30%",
                        "  <0x0A>",
                        "  3.84%",
                        "       (",
                        "  1.75%",
                        "      ,\"",
                        "  1.61%",
                        "     ▁in",
                        "  1.36%",
                        "      ▁–",
                        "  1.27%"
                      ]
                    ],
                    [
                      [
                        "  <0x0A>",
                        " 11.75%",
                        " ▁nobody",
                        "  1.00%",
                        " ▁every…",
                        "  0.89%",
                        " ▁hopef…",
                        "  0.65%",
                        " ▁Unter…",
                        "  0.61%",
                        "    </s>",
                        "  0.57%",
                        " ▁Hinwe…",
                        "  0.37%",
                        "       ▁",
                        "  0.37%",
                        "       ,",
                        "  0.29%",
                        " ▁surely",
                        "  0.29%"
                      ],
                      [
                        "       '",
                        " 19.43%",
                        "     ▁is",
                        " 11.32%",
                        "       .",
                        "  7.19%",
                        "       ▁",
                        "  6.30%",
                        "  <0x0A>",
                        "  5.50%",
                        "       ,",
                        "  5.45%",
                        "       _",
                        "  3.23%",
                        "       -",
                        "  2.92%",
                        "       B",
                        "  0.95%",
                        "       ’",
                        "  0.87%"
                      ],
                      [
                        "      ▁a",
                        " 24.75%",
                        "    ▁not",
                        "  4.89%",
                        "       ▁",
                        "  3.84%",
                        "   ▁time",
                        "  2.53%",
                        "    ▁the",
                        "  2.28%",
                        "   ▁like",
                        "  1.93%",
                        "    ▁all",
                        "  1.64%",
                        "       .",
                        "  1.61%",
                        "     ▁in",
                        "  1.42%",
                        "       '",
                        "  1.40%"
                      ],
                      [
                        "  ▁first",
                        " 20.73%",
                        "   ▁time",
                        "  3.46%",
                        "    ▁day",
                        "  2.90%",
                        "       ▁",
                        "  2.73%",
                        "      ▁a",
                        "  1.77%",
                        "      ▁n",
                        "  1.29%",
                        "   ▁same",
                        "  1.24%",
                        "    ▁new",
                        "  1.02%",
                        "   ▁dark",
                        "  1.00%",
                        "   ▁only",
                        "  0.99%"
                      ],
                      [
                        "  ▁place",
                        " 19.45%",
                        "    ▁way",
                        " 17.35%",
                        "     ▁of",
                        "  3.52%",
                        "   ▁time",
                        "  3.17%",
                        " ▁possi…",
                        "  3.11%",
                        "    ▁for",
                        "  2.09%",
                        "  ▁thing",
                        "  1.98%",
                        "    ▁and",
                        "  0.94%",
                        "   ▁that",
                        "  0.90%",
                        "    ▁day",
                        "  0.84%"
                      ],
                      [
                        "  ▁times",
                        " 13.82%",
                        "    ▁the",
                        " 12.07%",
                        "    ▁all",
                        "  4.17%",
                        "       ,",
                        "  2.78%",
                        "      ▁a",
                        "  2.75%",
                        "  ▁their",
                        "  1.80%",
                        "      ▁F",
                        "  1.75%",
                        "  <0x0A>",
                        "  1.44%",
                        "      ▁b",
                        "  1.28%",
                        "     ▁Jo",
                        "  1.24%"
                      ],
                      [
                        "       ,",
                        " 39.12%",
                        "    ▁and",
                        " 15.33%",
                        "      ▁(",
                        "  4.09%",
                        "  <0x0A>",
                        "  3.44%",
                        "     ▁in",
                        "  3.28%",
                        "    ▁for",
                        "  3.26%",
                        "       .",
                        "  2.52%",
                        "   ▁when",
                        "  2.09%",
                        "       -",
                        "  1.37%",
                        "       ?",
                        "  1.28%"
                      ],
                      [
                        "  <0x0A>",
                        "  7.33%",
                        "    ▁but",
                        "  5.65%",
                        "     ▁or",
                        "  4.64%",
                        "    ▁and",
                        "  3.93%",
                        "      ▁I",
                        "  3.25%",
                        "    ▁the",
                        "  3.12%",
                        "      ▁a",
                        "  2.01%",
                        "    ▁The",
                        "  1.89%",
                        "     ▁we",
                        "  1.83%",
                        "   ▁then",
                        "  1.67%"
                      ],
                      [
                        "    ▁was",
                        " 33.29%",
                        "     ▁is",
                        "  8.18%",
                        "       ’",
                        "  4.49%",
                        "   ▁were",
                        "  3.19%",
                        "      ▁W",
                        "  1.92%",
                        "       -",
                        "  1.66%",
                        "      ▁s",
                        "  1.33%",
                        "  ▁could",
                        "  1.30%",
                        "       ▁",
                        "  1.11%",
                        "     ▁of",
                        "  1.04%"
                      ],
                      [
                        "    ▁the",
                        " 61.09%",
                        "      ▁a",
                        " 15.42%",
                        "    ▁not",
                        "  3.27%",
                        "   ▁also",
                        "  1.55%",
                        "       ▁",
                        "  0.84%",
                        "      nt",
                        "  0.77%",
                        "    ▁The",
                        "  0.54%",
                        "     ▁of",
                        "  0.45%",
                        "       .",
                        "  0.44%",
                        "      ▁B",
                        "  0.41%"
                      ],
                      [
                        "   ▁best",
                        "  4.12%",
                        "      ▁b",
                        "  3.90%",
                        "      ▁B",
                        "  2.41%",
                        "  ▁right",
                        "  1.62%",
                        "   ▁good",
                        "  1.61%",
                        "      ▁t",
                        "  1.59%",
                        "       ▁",
                        "  1.50%",
                        " ▁produ…",
                        "  1.48%",
                        "   ▁time",
                        "  1.23%",
                        "  ▁value",
                        "  0.86%"
                      ],
                      [
                        "     ▁of",
                        " 93.99%",
                        "       .",
                        "  1.87%",
                        "       ,",
                        "  0.52%",
                        "  <0x0A>",
                        "  0.27%",
                        "     ▁in",
                        "  0.24%",
                        "    ▁for",
                        "  0.18%",
                        "      ▁(",
                        "  0.16%",
                        "       ?",
                        "  0.12%",
                        "       s",
                        "  0.09%",
                        "      ▁s",
                        "  0.07%"
                      ],
                      [
                        "  ▁times",
                        " 56.99%",
                        "   times",
                        "  0.47%",
                        "  ▁value",
                        "  0.41%",
                        "   ▁case",
                        "  0.39%",
                        "     uda",
                        "  0.35%",
                        "      ▁t",
                        "  0.35%",
                        "    ▁pro",
                        "  0.32%",
                        "  ▁night",
                        "  0.31%",
                        "    ▁the",
                        "  0.29%",
                        "    ▁all",
                        "  0.28%"
                      ],
                      [
                        "      ▁(",
                        " 50.12%",
                        "  <0x0A>",
                        " 13.38%",
                        "       ,",
                        "  5.97%",
                        "       .",
                        "  5.03%",
                        "       ?",
                        "  1.90%",
                        "       \"",
                        "  1.81%",
                        "      ▁–",
                        "  0.93%",
                        "     ▁in",
                        "  0.89%",
                        "       ”",
                        "  0.83%",
                        "    ▁for",
                        "  0.75%"
                      ]
                    ],
                    [
                      [
                        "  <0x0A>",
                        " 12.63%",
                        " ▁nobody",
                        "  1.06%",
                        " ▁every…",
                        "  0.95%",
                        " ▁hopef…",
                        "  0.70%",
                        " ▁Unter…",
                        "  0.66%",
                        "    </s>",
                        "  0.65%",
                        " ▁Hinwe…",
                        "  0.42%",
                        " ▁surely",
                        "  0.31%",
                        " ▁every…",
                        "  0.30%",
                        " ▁obvio…",
                        "  0.29%"
                      ],
                      [
                        "       '",
                        " 29.09%",
                        "       .",
                        " 12.42%",
                        "  <0x0A>",
                        " 11.06%",
                        "       ,",
                        "  9.55%",
                        "     ▁is",
                        "  5.71%",
                        "       ▁",
                        "  2.97%",
                        "       _",
                        "  2.80%",
                        "       -",
                        "  1.89%",
                        "     ▁to",
                        "  0.95%",
                        "   ▁that",
                        "  0.89%"
                      ],
                      [
                        "      ▁a",
                        " 23.24%",
                        "    ▁not",
                        "  8.25%",
                        "    ▁all",
                        "  3.18%",
                        "       .",
                        "  3.13%",
                        "       ▁",
                        "  1.97%",
                        "   ▁just",
                        "  1.69%",
                        "     ▁in",
                        "  1.60%",
                        "    ▁the",
                        "  1.53%",
                        "       ,",
                        "  1.52%",
                        "       '",
                        "  1.41%"
                      ],
                      [
                        "  ▁first",
                        "  8.20%",
                        "   ▁only",
                        "  5.69%",
                        "      ▁e",
                        "  4.12%",
                        "   ▁same",
                        "  3.64%",
                        " ▁perfe…",
                        "  1.83%",
                        " ▁beaut…",
                        "  1.64%",
                        "      ▁a",
                        "  1.55%",
                        "    ▁end",
                        "  1.22%",
                        "      ▁n",
                        "  1.10%",
                        "  ▁start",
                        "  1.05%"
                      ],
                      [
                        "  ▁place",
                        " 15.52%",
                        "     ▁of",
                        "  5.77%",
                        "    ▁way",
                        "  5.66%",
                        "    ▁and",
                        "  4.30%",
                        "  ▁thing",
                        "  3.49%",
                        " ▁possi…",
                        "  3.31%",
                        "    ▁for",
                        "  3.05%",
                        "    ▁dam",
                        "  2.56%",
                        "   ▁time",
                        "  2.35%",
                        "     ▁to",
                        "  1.69%"
                      ],
                      [
                        "  ▁times",
                        " 11.70%",
                        "    ▁the",
                        "  8.15%",
                        "       ,",
                        "  7.99%",
                        "    ▁all",
                        "  4.82%",
                        "  ▁their",
                        "  3.51%",
                        "      ▁a",
                        "  1.88%",
                        "    ▁The",
                        "  1.74%",
                        "    ▁its",
                        "  1.32%",
                        "    ▁and",
                        "  1.16%",
                        "      ▁F",
                        "  1.12%"
                      ],
                      [
                        "       ,",
                        " 61.57%",
                        "    ▁and",
                        "  7.26%",
                        "  <0x0A>",
                        "  3.76%",
                        "      ▁(",
                        "  3.08%",
                        "    ▁for",
                        "  2.23%",
                        "     ▁in",
                        "  1.68%",
                        "       \"",
                        "  1.44%",
                        "       .",
                        "  1.19%",
                        "     ...",
                        "  0.74%",
                        "       ;",
                        "  0.63%"
                      ],
                      [
                        "  <0x0A>",
                        "  7.42%",
                        "      ▁I",
                        "  4.92%",
                        "    ▁and",
                        "  3.10%",
                        "     ▁or",
                        "  2.92%",
                        "    ▁but",
                        "  2.92%",
                        "    ▁The",
                        "  2.81%",
                        "      ▁a",
                        "  2.74%",
                        "   ▁then",
                        "  2.39%",
                        "      ▁(",
                        "  2.14%",
                        "    ▁the",
                        "  2.04%"
                      ],
                      [
                        "    ▁was",
                        " 32.23%",
                        "     ▁is",
                        " 10.87%",
                        "       ’",
                        "  6.16%",
                        "   ▁were",
                        "  3.08%",
                        "       ▁",
                        "  1.81%",
                        "       '",
                        "  1.65%",
                        "      ▁f",
                        "  0.93%",
                        "   ▁have",
                        "  0.92%",
                        "  ▁could",
                        "  0.88%",
                        "      ch",
                        "  0.85%"
                      ],
                      [
                        "    ▁the",
                        " 35.27%",
                        "      ▁a",
                        " 32.54%",
                        "    ▁not",
                        "  4.98%",
                        "       ▁",
                        "  1.57%",
                        "      nt",
                        "  1.37%",
                        "   ▁also",
                        "  1.31%",
                        "    ▁The",
                        "  0.93%",
                        "      ▁(",
                        "  0.76%",
                        "       .",
                        "  0.54%",
                        "   ▁part",
                        "  0.49%"
                      ],
                      [
                        "      ▁f",
                        "  7.38%",
                        "    ▁bad",
                        "  3.50%",
                        "   ▁best",
                        "  2.29%",
                        "      ▁b",
                        "  1.49%",
                        "    ▁dis",
                        "  1.38%",
                        "      ▁c",
                        "  1.37%",
                        "       ▁",
                        "  1.10%",
                        "   ▁good",
                        "  1.10%",
                        "      ▁j",
                        "  1.01%",
                        "      ▁m",
                        "  0.94%"
                      ],
                      [
                        "     ▁of",
                        " 87.22%",
                        "       .",
                        "  2.29%",
                        "       ,",
                        "  0.87%",
                        "      ▁(",
                        "  0.82%",
                        "  <0x0A>",
                        "  0.59%",
                        "    ▁for",
                        "  0.49%",
                        "      ▁f",
                        "  0.47%",
                        "       s",
                        "  0.42%",
                        "     ▁in",
                        "  0.30%",
                        "     ▁de",
                        "  0.28%"
                      ],
                      [
                        "  ▁times",
                        " 31.82%",
                        "      ▁f",
                        "  0.70%",
                        "   times",
                        "  0.62%",
                        "  ▁teeth",
                        "  0.50%",
                        "     uda",
                        "  0.47%",
                        "   ▁Game",
                        "  0.44%",
                        "    agen",
                        "  0.39%",
                        "    ▁cre",
                        "  0.38%",
                        "    ▁all",
                        "  0.33%",
                        "    ▁pod",
                        "  0.33%"
                      ],
                      [
                        "      ▁(",
                        " 19.83%",
                        "  <0x0A>",
                        " 11.45%",
                        "       \"",
                        "  8.66%",
                        "       ,",
                        "  8.02%",
                        "       .",
                        "  6.02%",
                        "       ”",
                        "  4.36%",
                        "      ▁–",
                        "  3.77%",
                        "       ?",
                        "  2.41%",
                        "     ...",
                        "  1.65%",
                        "       -",
                        "  1.59%"
                      ]
                    ],
                    [
                      [
                        "  <0x0A>",
                        " 12.72%",
                        " ▁nobody",
                        "  1.11%",
                        " ▁every…",
                        "  1.00%",
                        " ▁Unter…",
                        "  0.70%",
                        " ▁hopef…",
                        "  0.64%",
                        "    </s>",
                        "  0.60%",
                        " ▁Hinwe…",
                        "  0.46%",
                        " ▁every…",
                        "  0.31%",
                        " ▁surely",
                        "  0.29%",
                        " ▁obvio…",
                        "  0.26%"
                      ],
                      [
                        "       '",
                        " 33.77%",
                        "  <0x0A>",
                        " 10.27%",
                        "     ▁is",
                        "  9.15%",
                        "       .",
                        "  8.69%",
                        "       ,",
                        "  4.58%",
                        "       ▁",
                        "  3.06%",
                        "       _",
                        "  2.80%",
                        "       ’",
                        "  1.63%",
                        "     ▁to",
                        "  0.88%",
                        "       -",
                        "  0.80%"
                      ],
                      [
                        "      ▁a",
                        " 14.21%",
                        "    ▁not",
                        "  6.27%",
                        "       ▁",
                        "  4.51%",
                        "      nt",
                        "  4.30%",
                        "       .",
                        "  1.98%",
                        "    ▁the",
                        "  1.88%",
                        "     ▁in",
                        "  1.60%",
                        "   ▁just",
                        "  1.12%",
                        "     ▁by",
                        "  0.93%",
                        "       ,",
                        "  0.88%"
                      ],
                      [
                        "  ▁first",
                        "  6.33%",
                        " ▁perfe…",
                        "  3.64%",
                        "   ▁only",
                        "  2.84%",
                        "       ▁",
                        "  2.72%",
                        "      ▁e",
                        "  2.65%",
                        "      ▁a",
                        "  1.10%",
                        "      ▁n",
                        "  1.01%",
                        "  ▁start",
                        "  0.90%",
                        " ▁beaut…",
                        "  0.86%",
                        " ▁begin…",
                        "  0.70%"
                      ],
                      [
                        "  ▁place",
                        " 17.74%",
                        "     ▁of",
                        "  6.36%",
                        "  ▁thing",
                        "  4.83%",
                        " ▁possi…",
                        "  4.30%",
                        "     ▁to",
                        "  3.63%",
                        "   ▁time",
                        "  3.38%",
                        "    ▁dam",
                        "  2.90%",
                        "     ▁in",
                        "  2.39%",
                        "   ▁that",
                        "  2.25%",
                        " ▁decis…",
                        "  1.78%"
                      ],
                      [
                        "  ▁times",
                        " 99.21%",
                        "  ▁Times",
                        "  0.20%",
                        "    ▁the",
                        "  0.07%",
                        "   times",
                        "  0.06%",
                        "       ,",
                        "  0.02%",
                        "   ▁time",
                        "  0.02%",
                        "    imes",
                        "  0.01%",
                        "      ▁F",
                        "  0.01%",
                        "    ▁The",
                        "  0.01%",
                        "     ▁it",
                        "  0.01%"
                      ],
                      [
                        "       ,",
                        " 78.89%",
                        "     ▁it",
                        "  8.26%",
                        "  <0x0A>",
                        "  3.77%",
                        "       ;",
                        "  1.54%",
                        "     ▁It",
                        "  1.04%",
                        "    ▁and",
                        "  0.79%",
                        "      ▁(",
                        "  0.51%",
                        "    ▁for",
                        "  0.38%",
                        "     ...",
                        "  0.31%",
                        "       .",
                        "  0.29%"
                      ],
                      [
                        "     ▁it",
                        " 91.29%",
                        "     ▁It",
                        "  4.46%",
                        "  <0x0A>",
                        "  2.06%",
                        "    ▁the",
                        "  0.22%",
                        "      It",
                        "  0.19%",
                        "    ▁and",
                        "  0.08%",
                        "       ▁",
                        "  0.06%",
                        "      ▁c",
                        "  0.05%",
                        "      ▁(",
                        "  0.05%",
                        "    ▁The",
                        "  0.04%"
                      ],
                      [
                        "    ▁was",
                        " 97.86%",
                        "     ▁is",
                        "  0.74%",
                        "   ▁were",
                        "  0.39%",
                        "      ▁W",
                        "  0.12%",
                        "       ▁",
                        "  0.11%",
                        "       ’",
                        "  0.03%",
                        "    ▁the",
                        "  0.03%",
                        "     ▁it",
                        "  0.02%",
                        "      ▁s",
                        "  0.02%",
                        "      ▁(",
                        "  0.02%"
                      ],
                      [
                        "    ▁the",
                        " 99.64%",
                        "    ▁The",
                        "  0.10%",
                        "      ▁a",
                        "  0.05%",
                        "     the",
                        "  0.02%",
                        "       ▁",
                        "  0.02%",
                        "   ▁also",
                        "  0.01%",
                        "    ▁not",
                        "  0.01%",
                        "  <0x0A>",
                        "  0.01%",
                        "       .",
                        "  0.01%",
                        "    ▁all",
                        "  0.01%"
                      ],
                      [
                        "   ▁best",
                        " 35.31%",
                        "      ▁f",
                        "  4.44%",
                        "  ▁times",
                        "  4.03%",
                        "      ▁b",
                        "  3.75%",
                        "    ▁bad",
                        "  2.27%",
                        "      ▁m",
                        "  1.57%",
                        "      ▁B",
                        "  1.47%",
                        "      ▁t",
                        "  1.47%",
                        "   ▁time",
                        "  1.12%",
                        "       ▁",
                        "  1.10%"
                      ],
                      [
                        "     ▁of",
                        " 98.94%",
                        "       .",
                        "  0.23%",
                        "  <0x0A>",
                        "  0.13%",
                        "  ▁times",
                        "  0.09%",
                        "       ,",
                        "  0.05%",
                        "      ▁(",
                        "  0.04%",
                        "       s",
                        "  0.04%",
                        "      of",
                        "  0.02%",
                        "     ▁in",
                        "  0.02%",
                        "     ...",
                        "  0.01%"
                      ],
                      [
                        "  ▁times",
                        " 99.48%",
                        "  ▁Times",
                        "  0.28%",
                        "   times",
                        "  0.22%",
                        "    imes",
                        "  0.01%",
                        "   ▁time",
                        "  0.00%",
                        "   Times",
                        "  0.00%",
                        "      ▁t",
                        "  0.00%",
                        "   ▁Time",
                        "  0.00%",
                        "    ▁tur",
                        "  0.00%",
                        "    ▁the",
                        "  0.00%"
                      ],
                      [
                        "       \"",
                        " 21.53%",
                        "  <0x0A>",
                        " 18.59%",
                        "       ”",
                        " 15.87%",
                        "     ...",
                        "  6.39%",
                        "      ▁(",
                        "  5.31%",
                        "       ,",
                        "  4.45%",
                        "       .",
                        "  2.05%",
                        "       —",
                        "  1.52%",
                        "      ▁–",
                        "  1.42%",
                        "       ▁",
                        "  1.06%"
                      ]
                    ],
                    [
                      [
                        "  <0x0A>",
                        " 12.98%",
                        " ▁nobody",
                        "  1.21%",
                        " ▁every…",
                        "  1.10%",
                        " ▁Unter…",
                        "  0.77%",
                        " ▁hopef…",
                        "  0.65%",
                        "    </s>",
                        "  0.57%",
                        " ▁Hinwe…",
                        "  0.52%",
                        " ▁every…",
                        "  0.39%",
                        " ▁surely",
                        "  0.30%",
                        "    ▁and",
                        "  0.28%"
                      ],
                      [
                        "       '",
                        " 31.53%",
                        "       .",
                        " 14.09%",
                        "  <0x0A>",
                        "  9.40%",
                        "     ▁is",
                        "  7.43%",
                        "       ,",
                        "  5.57%",
                        "       ’",
                        "  2.13%",
                        "       ▁",
                        "  1.74%",
                        "       _",
                        "  1.52%",
                        "       -",
                        "  1.07%",
                        "     ▁to",
                        "  0.90%"
                      ],
                      [
                        "      ▁a",
                        " 10.16%",
                        "       ▁",
                        "  3.78%",
                        "    ▁not",
                        "  3.15%",
                        "    ▁the",
                        "  2.61%",
                        "       .",
                        "  1.57%",
                        "      nt",
                        "  1.48%",
                        "  ▁built",
                        "  1.08%",
                        "     ▁in",
                        "  1.06%",
                        "   ▁just",
                        "  1.02%",
                        "   ▁like",
                        "  0.99%"
                      ],
                      [
                        "       ▁",
                        "  2.23%",
                        "      ▁e",
                        "  1.43%",
                        "  ▁first",
                        "  1.43%",
                        " ▁perfe…",
                        "  1.00%",
                        "   ▁most",
                        "  1.00%",
                        "  ▁start",
                        "  0.97%",
                        "  <0x0A>",
                        "  0.84%",
                        " ▁begin…",
                        "  0.75%",
                        " ▁beaut…",
                        "  0.68%",
                        "      or",
                        "  0.67%"
                      ],
                      [
                        "     ▁of",
                        " 17.28%",
                        " ▁decis…",
                        "  9.06%",
                        "   ▁that",
                        "  3.92%",
                        "     ▁in",
                        "  3.34%",
                        "  ▁thing",
                        "  3.01%",
                        "    ▁and",
                        "  2.57%",
                        "       .",
                        "  2.40%",
                        "    ▁for",
                        "  2.04%",
                        "    ▁dam",
                        "  1.91%",
                        "     ▁to",
                        "  1.82%"
                      ],
                      [
                        "  ▁times",
                        " 99.91%",
                        "  ▁Times",
                        "  0.02%",
                        "   times",
                        "  0.01%",
                        "    ▁the",
                        "  0.01%",
                        "   ▁time",
                        "  0.01%",
                        "       ,",
                        "  0.00%",
                        "   Times",
                        "  0.00%",
                        "     ▁it",
                        "  0.00%",
                        "      ▁b",
                        "  0.00%",
                        "    ▁all",
                        "  0.00%"
                      ],
                      [
                        "       ,",
                        " 85.54%",
                        "     ▁it",
                        "  4.61%",
                        "  <0x0A>",
                        "  3.86%",
                        "     ▁It",
                        "  0.74%",
                        "       ;",
                        "  0.69%",
                        "      ▁(",
                        "  0.64%",
                        "    ▁and",
                        "  0.61%",
                        "       \"",
                        "  0.32%",
                        "    ▁for",
                        "  0.28%",
                        "       .",
                        "  0.21%"
                      ],
                      [
                        "     ▁it",
                        " 87.14%",
                        "     ▁It",
                        "  7.83%",
                        "    ▁the",
                        "  1.52%",
                        "  <0x0A>",
                        "  0.83%",
                        "      It",
                        "  0.25%",
                        "    ▁and",
                        "  0.19%",
                        "    ▁The",
                        "  0.16%",
                        "      ▁(",
                        "  0.12%",
                        "      ▁c",
                        "  0.08%",
                        "      ▁P",
                        "  0.05%"
                      ],
                      [
                        "    ▁was",
                        " 96.37%",
                        "     ▁is",
                        "  2.36%",
                        "   ▁were",
                        "  0.41%",
                        "      ▁W",
                        "  0.08%",
                        "    ▁the",
                        "  0.05%",
                        "       ▁",
                        "  0.05%",
                        "       ’",
                        "  0.04%",
                        "      ▁(",
                        "  0.04%",
                        "       '",
                        "  0.03%",
                        "      ▁w",
                        "  0.02%"
                      ],
                      [
                        "    ▁the",
                        " 99.49%",
                        "    ▁The",
                        "  0.11%",
                        "      ▁a",
                        "  0.05%",
                        "      ▁(",
                        "  0.03%",
                        "     the",
                        "  0.03%",
                        "   ▁also",
                        "  0.03%",
                        "  <0x0A>",
                        "  0.02%",
                        "       ▁",
                        "  0.02%",
                        "    ▁not",
                        "  0.02%",
                        "       -",
                        "  0.01%"
                      ],
                      [
                        "   ▁best",
                        " 75.41%",
                        "  ▁times",
                        "  3.48%",
                        "   ▁Best",
                        "  1.33%",
                        "      ▁b",
                        "  0.97%",
                        "      ▁m",
                        "  0.78%",
                        "   ▁most",
                        "  0.68%",
                        "    best",
                        "  0.66%",
                        "      ▁(",
                        "  0.66%",
                        "  ▁worst",
                        "  0.57%",
                        "      ▁f",
                        "  0.56%"
                      ],
                      [
                        "     ▁of",
                        " 99.39%",
                        "       .",
                        "  0.20%",
                        "  <0x0A>",
                        "  0.12%",
                        "      of",
                        "  0.05%",
                        "       ,",
                        "  0.04%",
                        "      ▁(",
                        "  0.02%",
                        "  ▁times",
                        "  0.02%",
                        "       -",
                        "  0.01%",
                        "       s",
                        "  0.01%",
                        "    ▁for",
                        "  0.01%"
                      ],
                      [
                        "  ▁times",
                        " 99.74%",
                        "  ▁Times",
                        "  0.14%",
                        "   times",
                        "  0.11%",
                        "   Times",
                        "  0.00%",
                        "    imes",
                        "  0.00%",
                        "   ▁time",
                        "  0.00%",
                        "      ▁t",
                        "  0.00%",
                        "  ▁veces",
                        "  0.00%",
                        "    orte",
                        "  0.00%",
                        "   ▁Time",
                        "  0.00%"
                      ],
                      [
                        "       \"",
                        " 22.78%",
                        "  <0x0A>",
                        " 19.79%",
                        "      ▁(",
                        " 11.95%",
                        "       ”",
                        "  8.20%",
                        "       ,",
                        "  7.83%",
                        "       .",
                        "  3.53%",
                        "     ...",
                        "  3.19%",
                        "      ▁-",
                        "  2.32%",
                        "       ▁",
                        "  1.96%",
                        "      ▁–",
                        "  1.43%"
                      ]
                    ],
                    [
                      [
                        "  <0x0A>",
                        " 13.69%",
                        " ▁nobody",
                        "  1.23%",
                        " ▁every…",
                        "  1.14%",
                        " ▁Unter…",
                        "  0.72%",
                        " ▁hopef…",
                        "  0.68%",
                        "    </s>",
                        "  0.57%",
                        " ▁Hinwe…",
                        "  0.50%",
                        " ▁every…",
                        "  0.40%",
                        "       ▁",
                        "  0.37%",
                        "       ,",
                        "  0.35%"
                      ],
                      [
                        "       .",
                        " 14.58%",
                        "  <0x0A>",
                        " 11.78%",
                        "       ,",
                        "  9.89%",
                        "       '",
                        "  9.44%",
                        "     ▁is",
                        "  3.51%",
                        "       ▁",
                        "  3.12%",
                        "    unes",
                        "  2.02%",
                        "       _",
                        "  1.94%",
                        "       ’",
                        "  1.69%",
                        "       -",
                        "  1.25%"
                      ],
                      [
                        "      ▁a",
                        " 10.79%",
                        "   ▁just",
                        "  1.98%",
                        "    ▁the",
                        "  1.73%",
                        "    ▁not",
                        "  1.73%",
                        "       ▁",
                        "  1.59%",
                        "      nt",
                        "  1.51%",
                        "       .",
                        "  1.29%",
                        "   ▁good",
                        "  1.27%",
                        "   ▁time",
                        "  0.98%",
                        "     ▁in",
                        "  0.89%"
                      ],
                      [
                        "   ▁most",
                        "  1.81%",
                        "  ▁first",
                        "  1.79%",
                        "       ▁",
                        "  1.04%",
                        "  ▁start",
                        "  0.75%",
                        "  <0x0A>",
                        "  0.72%",
                        "   ▁best",
                        "  0.69%",
                        "   ▁very",
                        "  0.67%",
                        "  ▁right",
                        "  0.51%",
                        "      ▁s",
                        "  0.45%",
                        "  ▁great",
                        "  0.44%"
                      ],
                      [
                        " ▁decis…",
                        "  8.60%",
                        "     ▁of",
                        "  8.47%",
                        "  ▁thing",
                        "  3.41%",
                        "   ▁that",
                        "  2.99%",
                        "    ▁and",
                        "  2.45%",
                        "   ▁time",
                        "  2.30%",
                        "     ▁in",
                        "  1.94%",
                        "       .",
                        "  1.91%",
                        "     ▁it",
                        "  1.64%",
                        "       ,",
                        "  1.58%"
                      ],
                      [
                        "  ▁times",
                        " 99.86%",
                        "   ▁time",
                        "  0.04%",
                        "  ▁Times",
                        "  0.02%",
                        "    ▁the",
                        "  0.01%",
                        "   times",
                        "  0.01%",
                        "       ,",
                        "  0.00%",
                        "   Times",
                        "  0.00%",
                        "      ▁a",
                        "  0.00%",
                        "      ▁c",
                        "  0.00%",
                        "      ▁b",
                        "  0.00%"
                      ],
                      [
                        "       ,",
                        " 88.01%",
                        "  <0x0A>",
                        "  4.87%",
                        "     ▁it",
                        "  3.29%",
                        "      ▁(",
                        "  0.72%",
                        "     ▁It",
                        "  0.61%",
                        "    ▁and",
                        "  0.55%",
                        "       ;",
                        "  0.24%",
                        "       ▁",
                        "  0.20%",
                        "       \"",
                        "  0.19%",
                        "       .",
                        "  0.13%"
                      ],
                      [
                        "     ▁it",
                        " 88.31%",
                        "     ▁It",
                        "  9.65%",
                        "  <0x0A>",
                        "  0.63%",
                        "    ▁the",
                        "  0.29%",
                        "      It",
                        "  0.28%",
                        "    ▁The",
                        "  0.07%",
                        "    ▁and",
                        "  0.05%",
                        "      ▁(",
                        "  0.05%",
                        "      it",
                        "  0.03%",
                        "      ▁c",
                        "  0.03%"
                      ],
                      [
                        "    ▁was",
                        " 99.62%",
                        "     ▁is",
                        "  0.19%",
                        "   ▁were",
                        "  0.08%",
                        "       ▁",
                        "  0.01%",
                        "       '",
                        "  0.01%",
                        "    ▁Was",
                        "  0.01%",
                        "       ’",
                        "  0.01%",
                        "      ▁W",
                        "  0.01%",
                        "      ▁(",
                        "  0.01%",
                        "       -",
                        "  0.00%"
                      ],
                      [
                        "    ▁the",
                        " 98.06%",
                        "      ▁(",
                        "  0.19%",
                        "       ▁",
                        "  0.18%",
                        "    ▁The",
                        "  0.17%",
                        "   ▁also",
                        "  0.15%",
                        "      ▁a",
                        "  0.13%",
                        "       -",
                        "  0.11%",
                        "       ,",
                        "  0.09%",
                        "     the",
                        "  0.06%",
                        "  <0x0A>",
                        "  0.05%"
                      ],
                      [
                        "   ▁best",
                        " 83.82%",
                        "  ▁times",
                        "  1.99%",
                        "  ▁worst",
                        "  0.90%",
                        "   ▁most",
                        "  0.73%",
                        "   ▁Best",
                        "  0.61%",
                        "      ▁m",
                        "  0.55%",
                        "      ▁(",
                        "  0.49%",
                        "      ▁b",
                        "  0.47%",
                        "    best",
                        "  0.45%",
                        "       (",
                        "  0.43%"
                      ],
                      [
                        "     ▁of",
                        " 99.37%",
                        "       .",
                        "  0.24%",
                        "  <0x0A>",
                        "  0.07%",
                        "      of",
                        "  0.05%",
                        "       ,",
                        "  0.05%",
                        "      ▁(",
                        "  0.04%",
                        "  ▁times",
                        "  0.03%",
                        "       -",
                        "  0.02%",
                        "       ▁",
                        "  0.01%",
                        "       s",
                        "  0.01%"
                      ],
                      [
                        "  ▁times",
                        " 99.83%",
                        "  ▁Times",
                        "  0.09%",
                        "   times",
                        "  0.08%",
                        "    imes",
                        "  0.00%",
                        "   Times",
                        "  0.00%",
                        "   ▁time",
                        "  0.00%",
                        "   ▁Time",
                        "  0.00%",
                        "   ▁tiem",
                        "  0.00%",
                        "  ▁veces",
                        "  0.00%",
                        "   ▁days",
                        "  0.00%"
                      ],
                      [
                        "  <0x0A>",
                        " 30.47%",
                        "       \"",
                        " 11.70%",
                        "       ,",
                        " 10.42%",
                        "       .",
                        " 10.10%",
                        "      ▁(",
                        "  8.99%",
                        "       :",
                        "  3.79%",
                        "       ”",
                        "  3.76%",
                        "       ?",
                        "  2.68%",
                        "     ...",
                        "  1.85%",
                        "       ;",
                        "  1.30%"
                      ]
                    ],
                    [
                      [
                        "  <0x0A>",
                        " 13.04%",
                        " ▁nobody",
                        "  1.33%",
                        " ▁every…",
                        "  1.22%",
                        " ▁hopef…",
                        "  0.77%",
                        " ▁Unter…",
                        "  0.72%",
                        " ▁Hinwe…",
                        "  0.54%",
                        "    </s>",
                        "  0.52%",
                        " ▁every…",
                        "  0.50%",
                        "       ▁",
                        "  0.48%",
                        "    ▁and",
                        "  0.42%"
                      ],
                      [
                        "       .",
                        " 19.67%",
                        "       ,",
                        " 13.38%",
                        "       '",
                        "  8.49%",
                        "  <0x0A>",
                        "  7.02%",
                        "       ▁",
                        "  3.35%",
                        "     ▁is",
                        "  3.20%",
                        "       -",
                        "  2.35%",
                        "       ’",
                        "  2.26%",
                        "       _",
                        "  1.80%",
                        "    unes",
                        "  1.53%"
                      ],
                      [
                        "      ▁a",
                        " 10.08%",
                        "   ▁just",
                        "  2.44%",
                        "    ▁not",
                        "  2.43%",
                        "       ▁",
                        "  1.64%",
                        "   ▁good",
                        "  1.44%",
                        "       .",
                        "  1.44%",
                        "    ▁the",
                        "  1.26%",
                        "      nt",
                        "  0.99%",
                        "     ▁in",
                        "  0.86%",
                        "     ▁an",
                        "  0.78%"
                      ],
                      [
                        "       ▁",
                        "  2.83%",
                        "   ▁most",
                        "  2.44%",
                        "  ▁first",
                        "  1.94%",
                        "   ▁very",
                        "  1.68%",
                        "  <0x0A>",
                        "  1.03%",
                        "   ▁best",
                        "  0.99%",
                        "   ▁last",
                        "  0.96%",
                        "  ▁great",
                        "  0.79%",
                        "  ▁start",
                        "  0.77%",
                        "     ▁in",
                        "  0.57%"
                      ],
                      [
                        "     ▁of",
                        " 10.67%",
                        " ▁decis…",
                        "  6.26%",
                        "    ▁and",
                        "  3.00%",
                        "     ▁in",
                        "  2.51%",
                        "       .",
                        "  2.37%",
                        "       ,",
                        "  1.87%",
                        "   ▁that",
                        "  1.87%",
                        "   ▁time",
                        "  1.60%",
                        "  <0x0A>",
                        "  1.56%",
                        "     ▁it",
                        "  1.43%"
                      ],
                      [
                        "  ▁times",
                        " 98.73%",
                        "   ▁time",
                        "  0.23%",
                        "    ▁the",
                        "  0.21%",
                        "  ▁Times",
                        "  0.08%",
                        "   times",
                        "  0.04%",
                        "      ▁b",
                        "  0.03%",
                        "      ▁c",
                        "  0.03%",
                        "      ▁a",
                        "  0.02%",
                        "       ,",
                        "  0.02%",
                        "      ▁f",
                        "  0.02%"
                      ],
                      [
                        "       ,",
                        " 95.59%",
                        "  <0x0A>",
                        "  1.66%",
                        "     ▁it",
                        "  1.02%",
                        "    ▁and",
                        "  0.23%",
                        "       ▁",
                        "  0.23%",
                        "      ▁(",
                        "  0.22%",
                        "       .",
                        "  0.14%",
                        "       ;",
                        "  0.10%",
                        "     ▁It",
                        "  0.09%",
                        "       \"",
                        "  0.08%"
                      ],
                      [
                        "     ▁it",
                        " 91.17%",
                        "     ▁It",
                        "  4.02%",
                        "  <0x0A>",
                        "  2.05%",
                        "    ▁the",
                        "  0.98%",
                        "    ▁and",
                        "  0.14%",
                        "      It",
                        "  0.12%",
                        "    ▁The",
                        "  0.11%",
                        "      ▁a",
                        "  0.10%",
                        "      ▁(",
                        "  0.10%",
                        "      it",
                        "  0.08%"
                      ],
                      [
                        "    ▁was",
                        " 99.24%",
                        "     ▁is",
                        "  0.40%",
                        "   ▁were",
                        "  0.04%",
                        "       ▁",
                        "  0.03%",
                        "      ▁W",
                        "  0.03%",
                        "    ▁Was",
                        "  0.02%",
                        "       ’",
                        "  0.01%",
                        "      ▁(",
                        "  0.01%",
                        "  <0x0A>",
                        "  0.01%",
                        "      ▁T",
                        "  0.01%"
                      ],
                      [
                        "    ▁the",
                        " 99.22%",
                        "      ▁a",
                        "  0.10%",
                        "    ▁The",
                        "  0.07%",
                        "       ▁",
                        "  0.07%",
                        "      ▁(",
                        "  0.06%",
                        "       ,",
                        "  0.05%",
                        "     the",
                        "  0.05%",
                        "  ▁worst",
                        "  0.04%",
                        "   ▁also",
                        "  0.04%",
                        "       -",
                        "  0.03%"
                      ],
                      [
                        "  ▁worst",
                        " 85.99%",
                        "     wor",
                        "  5.78%",
                        "   ▁best",
                        "  4.25%",
                        "    ▁Wor",
                        "  1.81%",
                        "   ▁most",
                        "  0.59%",
                        "  ▁worse",
                        "  0.17%",
                        "      ▁b",
                        "  0.09%",
                        "      ▁(",
                        "  0.07%",
                        "    best",
                        "  0.05%",
                        "       ▁",
                        "  0.04%"
                      ],
                      [
                        "     ▁of",
                        " 99.83%",
                        "      of",
                        "  0.05%",
                        "       .",
                        "  0.05%",
                        "       ,",
                        "  0.02%",
                        "  <0x0A>",
                        "  0.01%",
                        "       ▁",
                        "  0.00%",
                        "       -",
                        "  0.00%",
                        "       s",
                        "  0.00%",
                        "      ▁(",
                        "  0.00%",
                        "     ...",
                        "  0.00%"
                      ],
                      [
                        "  ▁times",
                        " 99.59%",
                        "  ▁Times",
                        "  0.21%",
                        "   times",
                        "  0.13%",
                        "    imes",
                        "  0.06%",
                        "   Times",
                        "  0.01%",
                        "   ▁time",
                        "  0.00%",
                        "    ▁the",
                        "  0.00%",
                        "   ▁Time",
                        "  0.00%",
                        "      ▁b",
                        "  0.00%",
                        "   ▁days",
                        "  0.00%"
                      ],
                      [
                        "       \"",
                        " 26.41%",
                        "  <0x0A>",
                        " 16.80%",
                        "       ,",
                        "  9.76%",
                        "       ”",
                        "  9.12%",
                        "       .",
                        "  6.56%",
                        "      ▁(",
                        "  6.42%",
                        "       :",
                        "  2.23%",
                        "    ▁ess",
                        "  1.75%",
                        "       ▁",
                        "  1.24%",
                        "     ...",
                        "  1.22%"
                      ]
                    ],
                    [
                      [
                        "  <0x0A>",
                        " 12.85%",
                        " ▁nobody",
                        "  1.41%",
                        " ▁every…",
                        "  1.30%",
                        " ▁Unter…",
                        "  0.90%",
                        " ▁hopef…",
                        "  0.82%",
                        " ▁every…",
                        "  0.57%",
                        " ▁Hinwe…",
                        "  0.55%",
                        "    </s>",
                        "  0.54%",
                        "       ▁",
                        "  0.41%",
                        " ▁surely",
                        "  0.40%"
                      ],
                      [
                        "       ,",
                        " 11.43%",
                        "       .",
                        " 11.09%",
                        "       '",
                        "  8.26%",
                        "  <0x0A>",
                        "  7.94%",
                        "     ▁is",
                        "  2.93%",
                        "       ’",
                        "  2.35%",
                        "       -",
                        "  2.30%",
                        "       ▁",
                        "  2.17%",
                        "    ▁was",
                        "  0.92%",
                        "       _",
                        "  0.85%"
                      ],
                      [
                        "      ▁a",
                        "  9.84%",
                        "    ▁not",
                        "  2.34%",
                        "   ▁just",
                        "  1.89%",
                        "       ▁",
                        "  1.42%",
                        "   ▁good",
                        "  1.36%",
                        "       .",
                        "  1.20%",
                        "      nt",
                        "  1.05%",
                        "    ▁the",
                        "  1.01%",
                        "     ▁in",
                        "  0.85%",
                        "     ▁an",
                        "  0.78%"
                      ],
                      [
                        "   ▁most",
                        "  2.49%",
                        "       ▁",
                        "  2.46%",
                        "  ▁first",
                        "  1.52%",
                        "   ▁best",
                        "  1.44%",
                        "  <0x0A>",
                        "  0.91%",
                        "   ▁only",
                        "  0.89%",
                        "  ▁start",
                        "  0.87%",
                        "      ▁t",
                        "  0.72%",
                        "     ▁in",
                        "  0.69%",
                        "   ▁very",
                        "  0.68%"
                      ],
                      [
                        "     ▁of",
                        " 14.43%",
                        " ▁decis…",
                        "  9.49%",
                        "   ▁time",
                        "  4.15%",
                        "  ▁thing",
                        "  2.66%",
                        "       .",
                        "  2.44%",
                        "     ▁in",
                        "  2.10%",
                        "    ▁and",
                        "  1.81%",
                        " ▁exper…",
                        "  1.71%",
                        "       ,",
                        "  1.64%",
                        "      ▁I",
                        "  1.38%"
                      ],
                      [
                        "  ▁times",
                        " 91.81%",
                        "   ▁time",
                        "  5.12%",
                        "    ▁the",
                        "  0.38%",
                        "      ▁b",
                        "  0.09%",
                        "       ,",
                        "  0.08%",
                        "      ▁c",
                        "  0.08%",
                        "      ▁f",
                        "  0.07%",
                        "   times",
                        "  0.05%",
                        "      ▁a",
                        "  0.05%",
                        "  ▁Times",
                        "  0.05%"
                      ],
                      [
                        "       ,",
                        " 95.80%",
                        "     ▁it",
                        "  1.52%",
                        "  <0x0A>",
                        "  0.89%",
                        "      ▁(",
                        "  0.36%",
                        "       ▁",
                        "  0.28%",
                        "       .",
                        "  0.14%",
                        "    ▁the",
                        "  0.14%",
                        "    ▁and",
                        "  0.12%",
                        "     ▁It",
                        "  0.10%",
                        "       -",
                        "  0.08%"
                      ],
                      [
                        "     ▁it",
                        " 93.54%",
                        "     ▁It",
                        "  2.95%",
                        "  <0x0A>",
                        "  1.25%",
                        "    ▁the",
                        "  0.43%",
                        "      It",
                        "  0.18%",
                        "    ▁and",
                        "  0.15%",
                        "      ▁(",
                        "  0.09%",
                        "      it",
                        "  0.07%",
                        "       ▁",
                        "  0.06%",
                        "      ▁a",
                        "  0.06%"
                      ],
                      [
                        "    ▁was",
                        " 99.37%",
                        "     ▁is",
                        "  0.32%",
                        "   ▁were",
                        "  0.06%",
                        "      ▁c",
                        "  0.01%",
                        "  <0x0A>",
                        "  0.01%",
                        "       ▁",
                        "  0.01%",
                        "  ▁worst",
                        "  0.01%",
                        "    ▁Was",
                        "  0.01%",
                        "     was",
                        "  0.01%",
                        "    ▁the",
                        "  0.01%"
                      ],
                      [
                        "    ▁the",
                        " 99.85%",
                        "    ▁The",
                        "  0.02%",
                        "     the",
                        "  0.02%",
                        "      ▁a",
                        "  0.01%",
                        "       ,",
                        "  0.01%",
                        "      ▁(",
                        "  0.01%",
                        "       ▁",
                        "  0.01%",
                        "       -",
                        "  0.01%",
                        "   ▁also",
                        "  0.00%",
                        "  ▁worst",
                        "  0.00%"
                      ],
                      [
                        "  ▁worst",
                        " 67.10%",
                        "    ▁Wor",
                        "  4.32%",
                        "      ▁b",
                        "  2.69%",
                        "      ▁W",
                        "  1.58%",
                        "   ▁best",
                        "  1.55%",
                        "      ▁(",
                        "  1.48%",
                        "     wor",
                        "  1.37%",
                        "      ▁B",
                        "  1.07%",
                        "   ▁most",
                        "  0.82%",
                        "  ▁worse",
                        "  0.66%"
                      ],
                      [
                        "     ▁of",
                        " 99.94%",
                        "      of",
                        "  0.03%",
                        "       .",
                        "  0.01%",
                        "  <0x0A>",
                        "  0.00%",
                        "     ▁Of",
                        "  0.00%",
                        "       ,",
                        "  0.00%",
                        "      Of",
                        "  0.00%",
                        "      ▁(",
                        "  0.00%",
                        "       -",
                        "  0.00%",
                        "  ▁times",
                        "  0.00%"
                      ],
                      [
                        "  ▁times",
                        " 99.75%",
                        "  ▁Times",
                        "  0.10%",
                        "   times",
                        "  0.09%",
                        "   ▁time",
                        "  0.03%",
                        "    imes",
                        "  0.02%",
                        "   Times",
                        "  0.00%",
                        "   ▁Time",
                        "  0.00%",
                        "  ▁crime",
                        "  0.00%",
                        "     ▁cr",
                        "  0.00%",
                        "      ▁t",
                        "  0.00%"
                      ],
                      [
                        "       ,",
                        " 31.30%",
                        "       .",
                        " 12.24%",
                        "  <0x0A>",
                        " 11.32%",
                        "      ▁(",
                        "  5.97%",
                        "       \"",
                        "  4.51%",
                        "       :",
                        "  4.15%",
                        "     ...",
                        "  2.81%",
                        "       ”",
                        "  2.30%",
                        "    ▁ess",
                        "  1.83%",
                        "       ▁",
                        "  1.70%"
                      ]
                    ],
                    [
                      [
                        "  <0x0A>",
                        " 13.16%",
                        " ▁every…",
                        "  1.30%",
                        " ▁nobody",
                        "  1.28%",
                        " ▁Unter…",
                        "  0.82%",
                        " ▁hopef…",
                        "  0.78%",
                        " ▁every…",
                        "  0.55%",
                        " ▁Hinwe…",
                        "  0.51%",
                        "       ▁",
                        "  0.44%",
                        "    </s>",
                        "  0.44%",
                        " ▁surely",
                        "  0.37%"
                      ],
                      [
                        "  <0x0A>",
                        " 10.00%",
                        "       ,",
                        "  8.13%",
                        "       '",
                        "  5.48%",
                        "       .",
                        "  5.39%",
                        "       -",
                        "  4.13%",
                        "     ▁is",
                        "  3.86%",
                        "       ’",
                        "  2.75%",
                        "      ch",
                        "  1.89%",
                        "       _",
                        "  1.72%",
                        "    ▁was",
                        "  1.58%"
                      ],
                      [
                        "      ▁a",
                        " 15.01%",
                        "       ▁",
                        "  2.01%",
                        "    ▁not",
                        "  1.63%",
                        "    ▁the",
                        "  1.40%",
                        "       .",
                        "  1.28%",
                        "    ▁fun",
                        "  1.27%",
                        "     ▁an",
                        "  1.18%",
                        "   ▁good",
                        "  1.17%",
                        "   ▁time",
                        "  1.07%",
                        "   ▁just",
                        "  0.91%"
                      ],
                      [
                        "       ▁",
                        "  4.20%",
                        "  ▁first",
                        "  3.23%",
                        "   ▁most",
                        "  1.64%",
                        "  ▁start",
                        "  1.64%",
                        "   ▁best",
                        "  1.30%",
                        "  <0x0A>",
                        "  1.08%",
                        "     ▁in",
                        "  1.06%",
                        "   ▁only",
                        "  1.00%",
                        "    ▁end",
                        "  0.90%",
                        "   ▁year",
                        "  0.80%"
                      ],
                      [
                        " ▁decis…",
                        " 20.54%",
                        "     ▁of",
                        " 10.77%",
                        "  ▁thing",
                        "  5.24%",
                        "   ▁time",
                        "  4.65%",
                        " ▁exper…",
                        "  2.51%",
                        "       .",
                        "  1.83%",
                        "    ▁and",
                        "  1.65%",
                        " ▁choice",
                        "  1.53%",
                        "     ▁in",
                        "  1.50%",
                        "   ▁that",
                        "  1.49%"
                      ],
                      [
                        "  ▁times",
                        " 96.90%",
                        "   ▁time",
                        "  1.28%",
                        "    ▁the",
                        "  0.27%",
                        "  ▁Times",
                        "  0.19%",
                        "   times",
                        "  0.10%",
                        "      ▁a",
                        "  0.04%",
                        "      ▁b",
                        "  0.03%",
                        "       ,",
                        "  0.03%",
                        " ▁intent",
                        "  0.03%",
                        "    imes",
                        "  0.02%"
                      ],
                      [
                        "       ,",
                        " 93.88%",
                        "  <0x0A>",
                        "  1.80%",
                        "     ▁it",
                        "  1.35%",
                        "       ▁",
                        "  0.61%",
                        "      ▁(",
                        "  0.40%",
                        "    ▁and",
                        "  0.39%",
                        "       .",
                        "  0.22%",
                        "     ▁It",
                        "  0.15%",
                        "    ▁the",
                        "  0.13%",
                        "       -",
                        "  0.10%"
                      ],
                      [
                        "     ▁it",
                        " 91.31%",
                        "     ▁It",
                        "  2.24%",
                        "      it",
                        "  1.68%",
                        "  <0x0A>",
                        "  1.59%",
                        "    ▁the",
                        "  0.77%",
                        "       ▁",
                        "  0.33%",
                        "    ▁and",
                        "  0.23%",
                        "      It",
                        "  0.16%",
                        "      ▁(",
                        "  0.15%",
                        "       ,",
                        "  0.12%"
                      ],
                      [
                        "    ▁was",
                        " 97.30%",
                        "     ▁is",
                        "  0.91%",
                        "      ▁W",
                        "  0.75%",
                        "   ▁were",
                        "  0.30%",
                        "  <0x0A>",
                        "  0.06%",
                        "       W",
                        "  0.04%",
                        "  ▁worst",
                        "  0.04%",
                        "       ▁",
                        "  0.03%",
                        "    ▁Was",
                        "  0.03%",
                        "      ▁w",
                        "  0.02%"
                      ],
                      [
                        "    ▁the",
                        " 99.60%",
                        "     the",
                        "  0.09%",
                        "  ▁worst",
                        "  0.04%",
                        "    ▁The",
                        "  0.03%",
                        "  <0x0A>",
                        "  0.02%",
                        "       .",
                        "  0.01%",
                        "   ▁also",
                        "  0.01%",
                        "       ,",
                        "  0.01%",
                        "      ▁(",
                        "  0.01%",
                        "       ▁",
                        "  0.01%"
                      ],
                      [
                        "  ▁worst",
                        " 79.42%",
                        "    ▁Wor",
                        "  6.23%",
                        "     wor",
                        "  3.07%",
                        "      ▁W",
                        "  2.06%",
                        "      ▁b",
                        "  0.92%",
                        "       W",
                        "  0.69%",
                        "   ▁best",
                        "  0.58%",
                        "      ▁(",
                        "  0.58%",
                        "      ▁w",
                        "  0.38%",
                        "      ▁B",
                        "  0.36%"
                      ],
                      [
                        "     ▁of",
                        " 99.79%",
                        "      of",
                        "  0.06%",
                        "       .",
                        "  0.04%",
                        "  <0x0A>",
                        "  0.03%",
                        "     ▁Of",
                        "  0.03%",
                        "       ,",
                        "  0.01%",
                        "      ▁(",
                        "  0.01%",
                        "      Of",
                        "  0.00%",
                        "     ...",
                        "  0.00%",
                        "       -",
                        "  0.00%"
                      ],
                      [
                        "  ▁times",
                        " 99.44%",
                        "  ▁Times",
                        "  0.30%",
                        "   times",
                        "  0.18%",
                        "   ▁time",
                        "  0.02%",
                        "   Times",
                        "  0.02%",
                        "    imes",
                        "  0.01%",
                        "     ▁cr",
                        "  0.00%",
                        "    ▁the",
                        "  0.00%",
                        "   ▁ages",
                        "  0.00%",
                        "  ▁crime",
                        "  0.00%"
                      ],
                      [
                        "       ,",
                        " 25.29%",
                        "       .",
                        "  8.89%",
                        "  <0x0A>",
                        "  8.80%",
                        "     ...",
                        "  6.82%",
                        "    ▁ess",
                        "  4.48%",
                        "       \"",
                        "  3.41%",
                        "       :",
                        "  3.28%",
                        "      ▁(",
                        "  3.12%",
                        "       —",
                        "  2.41%",
                        "       ▁",
                        "  2.36%"
                      ]
                    ],
                    [
                      [
                        "  <0x0A>",
                        " 14.07%",
                        " ▁nobody",
                        "  1.26%",
                        " ▁every…",
                        "  1.11%",
                        " ▁hopef…",
                        "  0.68%",
                        " ▁Unter…",
                        "  0.59%",
                        "       ▁",
                        "  0.51%",
                        "    </s>",
                        "  0.47%",
                        " ▁every…",
                        "  0.42%",
                        " ▁Hinwe…",
                        "  0.34%",
                        " ▁obvio…",
                        "  0.31%"
                      ],
                      [
                        "  <0x0A>",
                        "  6.17%",
                        "       ,",
                        "  5.96%",
                        "       '",
                        "  4.56%",
                        "       .",
                        "  3.96%",
                        "     ▁is",
                        "  2.80%",
                        "    ▁was",
                        "  2.31%",
                        "       -",
                        "  2.28%",
                        "       c",
                        "  2.06%",
                        "      ch",
                        "  1.61%",
                        "       ’",
                        "  1.29%"
                      ],
                      [
                        "      ▁a",
                        " 12.11%",
                        "    ▁the",
                        "  2.33%",
                        "    ▁not",
                        "  1.94%",
                        "       ▁",
                        "  1.92%",
                        "   ▁time",
                        "  1.77%",
                        "   ▁just",
                        "  1.03%",
                        "     ▁an",
                        "  1.00%",
                        "   ▁only",
                        "  0.96%",
                        "      nt",
                        "  0.79%",
                        "    ▁fun",
                        "  0.78%"
                      ],
                      [
                        "       ▁",
                        "  5.95%",
                        "  ▁first",
                        "  3.17%",
                        "   ▁best",
                        "  2.63%",
                        "    ▁end",
                        "  1.76%",
                        "  ▁start",
                        "  1.71%",
                        "   ▁most",
                        "  1.63%",
                        "   ▁last",
                        "  1.32%",
                        "   ▁same",
                        "  1.05%",
                        "   ▁only",
                        "  0.99%",
                        " ▁perfe…",
                        "  0.95%"
                      ],
                      [
                        "     ▁of",
                        " 18.93%",
                        " ▁decis…",
                        " 11.64%",
                        "  ▁thing",
                        "  5.12%",
                        "   ▁time",
                        "  4.30%",
                        " ▁exper…",
                        "  3.54%",
                        "    ▁day",
                        "  1.90%",
                        " ▁choice",
                        "  1.76%",
                        "    ▁and",
                        "  1.47%",
                        "     ▁in",
                        "  1.42%",
                        "  ▁place",
                        "  1.31%"
                      ],
                      [
                        "  ▁times",
                        " 98.27%",
                        "  ▁Times",
                        "  0.26%",
                        "   ▁time",
                        "  0.24%",
                        "    ▁the",
                        "  0.10%",
                        "   times",
                        "  0.07%",
                        " ▁timing",
                        "  0.04%",
                        "   Times",
                        "  0.03%",
                        "    ▁tim",
                        "  0.03%",
                        "      ▁a",
                        "  0.02%",
                        "       ▁",
                        "  0.01%"
                      ],
                      [
                        "       ,",
                        " 80.23%",
                        "     ▁it",
                        " 15.21%",
                        "  <0x0A>",
                        "  1.41%",
                        "     ▁It",
                        "  0.44%",
                        "       ▁",
                        "  0.44%",
                        "    ▁and",
                        "  0.31%",
                        "       ;",
                        "  0.30%",
                        "    ▁the",
                        "  0.20%",
                        "       .",
                        "  0.19%",
                        "      ▁(",
                        "  0.15%"
                      ],
                      [
                        "     ▁it",
                        " 99.84%",
                        "     ▁It",
                        "  0.11%",
                        "      it",
                        "  0.04%",
                        "      It",
                        "  0.00%",
                        "    ▁the",
                        "  0.00%",
                        "     ▁IT",
                        "  0.00%",
                        "  <0x0A>",
                        "  0.00%",
                        "  ▁worst",
                        "  0.00%",
                        "       ▁",
                        "  0.00%",
                        "    ▁and",
                        "  0.00%"
                      ],
                      [
                        "    ▁was",
                        " 98.70%",
                        "      ▁W",
                        "  0.44%",
                        "     ▁is",
                        "  0.31%",
                        "    ▁Was",
                        "  0.08%",
                        "  ▁worst",
                        "  0.04%",
                        "     was",
                        "  0.03%",
                        "  <0x0A>",
                        "  0.02%",
                        "   ▁were",
                        "  0.02%",
                        "       W",
                        "  0.01%",
                        "       w",
                        "  0.01%"
                      ],
                      [
                        "    ▁the",
                        " 99.01%",
                        "  ▁worst",
                        "  0.22%",
                        "     the",
                        "  0.09%",
                        "   ▁also",
                        "  0.04%",
                        "       ,",
                        "  0.03%",
                        "    ▁not",
                        "  0.03%",
                        "    ▁The",
                        "  0.03%",
                        "  <0x0A>",
                        "  0.02%",
                        "       .",
                        "  0.02%",
                        "       ▁",
                        "  0.02%"
                      ],
                      [
                        "  ▁worst",
                        " 87.55%",
                        "   ▁best",
                        "  3.40%",
                        "     wor",
                        "  1.31%",
                        "    ▁Wor",
                        "  1.08%",
                        "      ▁b",
                        "  0.67%",
                        "   ▁most",
                        "  0.30%",
                        "  ▁worse",
                        "  0.26%",
                        " ▁Wright",
                        "  0.17%",
                        "    ▁wur",
                        "  0.17%",
                        "       ▁",
                        "  0.14%"
                      ],
                      [
                        "     ▁of",
                        " 99.78%",
                        "      of",
                        "  0.05%",
                        "       .",
                        "  0.03%",
                        "     ▁Of",
                        "  0.03%",
                        "  <0x0A>",
                        "  0.01%",
                        "      Of",
                        "  0.01%",
                        "       ,",
                        "  0.01%",
                        "    ▁von",
                        "  0.00%",
                        "       ▁",
                        "  0.00%",
                        "      ▁(",
                        "  0.00%"
                      ],
                      [
                        "  ▁times",
                        " 99.22%",
                        "  ▁Times",
                        "  0.44%",
                        "   times",
                        "  0.14%",
                        "     ▁cr",
                        "  0.05%",
                        "   Times",
                        "  0.04%",
                        "   ▁time",
                        "  0.03%",
                        "    ▁tim",
                        "  0.00%",
                        "   ▁ages",
                        "  0.00%",
                        "    imes",
                        "  0.00%",
                        "  ▁crime",
                        "  0.00%"
                      ],
                      [
                        "       ,",
                        " 21.99%",
                        "  <0x0A>",
                        " 14.58%",
                        "       .",
                        "  8.96%",
                        "    ▁ess",
                        "  8.56%",
                        "       \"",
                        "  2.74%",
                        "       :",
                        "  1.92%",
                        "       ”",
                        "  1.82%",
                        "       ▁",
                        "  1.73%",
                        "    ▁Ess",
                        "  1.69%",
                        "      ▁(",
                        "  1.45%"
                      ]
                    ],
                    [
                      [
                        " ▁Unter…",
                        "  1.80%",
                        " ▁nobody",
                        "  1.39%",
                        " ▁every…",
                        "  0.98%",
                        " ▁Hinwe…",
                        "  0.94%",
                        " ▁hopef…",
                        "  0.69%",
                        "  ▁sierp",
                        "  0.65%",
                        " ▁Einze…",
                        "  0.58%",
                        " ▁Begri…",
                        "  0.49%",
                        "    ▁фев",
                        "  0.43%",
                        "  ▁kwiet",
                        "  0.39%"
                      ],
                      [
                        "     ▁is",
                        "  9.48%",
                        "    ▁was",
                        "  7.68%",
                        "       '",
                        "  6.86%",
                        "  <0x0A>",
                        "  3.04%",
                        "       ,",
                        "  2.52%",
                        "       .",
                        "  2.44%",
                        "    ▁has",
                        "  1.89%",
                        "       ’",
                        "  1.84%",
                        "  ▁seems",
                        "  1.59%",
                        "  ▁would",
                        "  1.17%"
                      ],
                      [
                        "      ▁a",
                        " 13.82%",
                        "    ▁the",
                        "  4.97%",
                        "    ▁not",
                        "  2.96%",
                        "     ▁an",
                        "  2.09%",
                        "   ▁just",
                        "  1.68%",
                        "       ▁",
                        "  1.39%",
                        "  ▁clear",
                        "  1.39%",
                        " ▁annou…",
                        "  1.35%",
                        "    ▁all",
                        "  1.31%",
                        "     ▁in",
                        "  1.01%"
                      ],
                      [
                        "  ▁first",
                        " 11.34%",
                        "   ▁best",
                        "  4.66%",
                        "       ▁",
                        "  4.09%",
                        "   ▁most",
                        "  3.05%",
                        "   ▁last",
                        "  2.07%",
                        "  ▁right",
                        "  2.02%",
                        "   ▁same",
                        "  1.45%",
                        " ▁second",
                        "  1.21%",
                        "    ▁end",
                        "  1.17%",
                        "   ▁only",
                        "  1.17%"
                      ],
                      [
                        "     ▁of",
                        " 29.81%",
                        "    ▁way",
                        "  5.82%",
                        "  ▁thing",
                        "  4.94%",
                        "   ▁time",
                        "  3.96%",
                        " ▁decis…",
                        "  2.64%",
                        " ▁exper…",
                        "  1.78%",
                        "    ▁day",
                        "  1.76%",
                        "  ▁movie",
                        "  1.36%",
                        " ▁choice",
                        "  1.30%",
                        "   ▁game",
                        "  1.27%"
                      ],
                      [
                        "  ▁times",
                        " 99.13%",
                        "    ▁the",
                        "  0.17%",
                        "   ▁time",
                        "  0.11%",
                        "    ▁tim",
                        "  0.04%",
                        "  ▁Times",
                        "  0.03%",
                        "   ▁days",
                        "  0.03%",
                        "     ▁cr",
                        "  0.03%",
                        "  ▁years",
                        "  0.02%",
                        "       ▁",
                        "  0.02%",
                        "      ▁a",
                        "  0.02%"
                      ],
                      [
                        "       ,",
                        " 96.66%",
                        "     ▁it",
                        "  0.60%",
                        "  <0x0A>",
                        "  0.44%",
                        "     ...",
                        "  0.39%",
                        "       ;",
                        "  0.35%",
                        "    ▁and",
                        "  0.29%",
                        "       .",
                        "  0.24%",
                        "      ▁(",
                        "  0.09%",
                        "       \"",
                        "  0.08%",
                        "       :",
                        "  0.07%"
                      ],
                      [
                        "     ▁it",
                        " 99.46%",
                        "  <0x0A>",
                        "  0.20%",
                        "    ▁the",
                        "  0.06%",
                        "       ▁",
                        "  0.04%",
                        "    ▁and",
                        "  0.04%",
                        "    ▁its",
                        "  0.01%",
                        "      it",
                        "  0.01%",
                        "    ▁but",
                        "  0.01%",
                        "     ▁or",
                        "  0.01%",
                        "     ▁It",
                        "  0.01%"
                      ],
                      [
                        "    ▁was",
                        " 99.55%",
                        "     ▁is",
                        "  0.36%",
                        "  <0x0A>",
                        "  0.03%",
                        "   ▁were",
                        "  0.01%",
                        "   ▁wasn",
                        "  0.01%",
                        "     ...",
                        "  0.01%",
                        "   ▁will",
                        "  0.00%",
                        " ▁really",
                        "  0.00%",
                        "    ▁has",
                        "  0.00%",
                        "       ▁",
                        "  0.00%"
                      ],
                      [
                        "    ▁the",
                        " 99.91%",
                        "     ...",
                        "  0.02%",
                        "  ▁worst",
                        "  0.01%",
                        "  <0x0A>",
                        "  0.01%",
                        "    ▁not",
                        "  0.00%",
                        "      ▁a",
                        "  0.00%",
                        "      ▁(",
                        "  0.00%",
                        "       ▁",
                        "  0.00%",
                        "   ▁also",
                        "  0.00%",
                        "     the",
                        "  0.00%"
                      ],
                      [
                        "  ▁worst",
                        " 99.05%",
                        "  ▁worse",
                        "  0.20%",
                        "   ▁best",
                        "  0.06%",
                        "    ▁age",
                        "  0.06%",
                        "    ▁wor",
                        "  0.04%",
                        "   ▁most",
                        "  0.03%",
                        "     ▁bl",
                        "  0.03%",
                        "   ▁warm",
                        "  0.02%",
                        "    ▁Wor",
                        "  0.02%",
                        "      ▁b",
                        "  0.02%"
                      ],
                      [
                        "     ▁of",
                        " 99.87%",
                        "  <0x0A>",
                        "  0.03%",
                        "       .",
                        "  0.02%",
                        "     ...",
                        "  0.02%",
                        "       ,",
                        "  0.00%",
                        "       :",
                        "  0.00%",
                        "      of",
                        "  0.00%",
                        "       \"",
                        "  0.00%",
                        "      ▁(",
                        "  0.00%",
                        "       ”",
                        "  0.00%"
                      ],
                      [
                        "  ▁times",
                        " 99.83%",
                        "     ▁cr",
                        "  0.06%",
                        "   ▁time",
                        "  0.06%",
                        "    ▁tim",
                        "  0.01%",
                        "  ▁Times",
                        "  0.00%",
                        "      ▁t",
                        "  0.00%",
                        "     ...",
                        "  0.00%",
                        "   ▁ages",
                        "  0.00%",
                        "   times",
                        "  0.00%",
                        "  ▁years",
                        "  0.00%"
                      ],
                      [
                        "       .",
                        " 17.12%",
                        "      .\"",
                        " 15.81%",
                        "       ,",
                        " 12.12%",
                        "       \"",
                        " 12.06%",
                        "     ...",
                        " 10.97%",
                        "      .”",
                        "  3.66%",
                        "       :",
                        "  2.59%",
                        "  <0x0A>",
                        "  2.37%",
                        "      \".",
                        "  2.30%",
                        "       ”",
                        "  1.57%"
                      ]
                    ]
                  ],
                  "hoverlabel": {
                    "bgcolor": "rgb(42, 42, 50)",
                    "font": {
                      "family": "Monospace"
                    }
                  },
                  "hovertemplate": "%{customdata[0]}%{customdata[1]}<br>%{customdata[2]}%{customdata[3]}<br>%{customdata[4]}%{customdata[5]}<br>%{customdata[6]}%{customdata[7]}<br>%{customdata[8]}%{customdata[9]}<br>%{customdata[10]}%{customdata[11]}<br>%{customdata[12]}%{customdata[13]}<br>%{customdata[14]}%{customdata[15]}<br>%{customdata[16]}%{customdata[17]}<br>%{customdata[18]}%{customdata[19]}<br><extra></extra>",
                  "text": [
                    [
                      ",",
                      "▁is",
                      "▁a",
                      "▁same",
                      "▁to",
                      "▁the",
                      ",",
                      "▁and",
                      "▁is",
                      "▁a",
                      "▁same",
                      "▁of",
                      "▁the",
                      ","
                    ],
                    [
                      "<0x0A>",
                      "'",
                      "▁a",
                      "▁first",
                      "▁known",
                      "▁the",
                      "▁and",
                      "▁and",
                      "’",
                      "▁a",
                      "▁first",
                      "▁of",
                      "▁the",
                      ","
                    ],
                    [
                      "<0x0A>",
                      "'",
                      "▁a",
                      "▁first",
                      "▁thing",
                      "▁the",
                      ",",
                      "▁but",
                      "’",
                      "▁a",
                      "▁first",
                      "▁of",
                      "▁the",
                      ","
                    ],
                    [
                      "<0x0A>",
                      "'",
                      "▁a",
                      "▁first",
                      "▁thing",
                      "▁times",
                      ",",
                      "▁and",
                      "’",
                      "▁a",
                      "▁last",
                      ",",
                      "▁times",
                      ","
                    ],
                    [
                      "<0x0A>",
                      "▁is",
                      "▁a",
                      "▁first",
                      "▁way",
                      "▁times",
                      ",",
                      "<0x0A>",
                      "’",
                      "▁a",
                      "▁diffe…",
                      ".",
                      "▁times",
                      "▁("
                    ],
                    [
                      "<0x0A>",
                      "▁is",
                      "▁a",
                      "▁first",
                      "▁way",
                      "▁times",
                      ",",
                      "▁but",
                      "▁was",
                      "▁a",
                      "▁b",
                      "▁of",
                      "▁times",
                      "▁("
                    ],
                    [
                      "<0x0A>",
                      "'",
                      "▁a",
                      "▁first",
                      "▁way",
                      "▁the",
                      ",",
                      "▁and",
                      "▁was",
                      "▁a",
                      "▁t",
                      ".",
                      "▁times",
                      "▁("
                    ],
                    [
                      "<0x0A>",
                      "'",
                      "▁a",
                      "▁first",
                      "▁place",
                      "▁times",
                      ",",
                      "<0x0A>",
                      "▁was",
                      "▁the",
                      "▁best",
                      "▁of",
                      "▁times",
                      "▁("
                    ],
                    [
                      "<0x0A>",
                      "'",
                      "▁a",
                      "▁first",
                      "▁place",
                      "▁times",
                      ",",
                      "<0x0A>",
                      "▁was",
                      "▁the",
                      "▁f",
                      "▁of",
                      "▁times",
                      "▁("
                    ],
                    [
                      "<0x0A>",
                      "'",
                      "▁a",
                      "▁first",
                      "▁place",
                      "▁times",
                      ",",
                      "▁it",
                      "▁was",
                      "▁the",
                      "▁best",
                      "▁of",
                      "▁times",
                      "\""
                    ],
                    [
                      "<0x0A>",
                      "'",
                      "▁a",
                      "▁",
                      "▁of",
                      "▁times",
                      ",",
                      "▁it",
                      "▁was",
                      "▁the",
                      "▁best",
                      "▁of",
                      "▁times",
                      "\""
                    ],
                    [
                      "<0x0A>",
                      ".",
                      "▁a",
                      "▁most",
                      "▁decis…",
                      "▁times",
                      ",",
                      "▁it",
                      "▁was",
                      "▁the",
                      "▁best",
                      "▁of",
                      "▁times",
                      "<0x0A>"
                    ],
                    [
                      "<0x0A>",
                      ".",
                      "▁a",
                      "▁",
                      "▁of",
                      "▁times",
                      ",",
                      "▁it",
                      "▁was",
                      "▁the",
                      "▁worst",
                      "▁of",
                      "▁times",
                      "\""
                    ],
                    [
                      "<0x0A>",
                      ",",
                      "▁a",
                      "▁most",
                      "▁of",
                      "▁times",
                      ",",
                      "▁it",
                      "▁was",
                      "▁the",
                      "▁worst",
                      "▁of",
                      "▁times",
                      ","
                    ],
                    [
                      "<0x0A>",
                      "<0x0A>",
                      "▁a",
                      "▁",
                      "▁decis…",
                      "▁times",
                      ",",
                      "▁it",
                      "▁was",
                      "▁the",
                      "▁worst",
                      "▁of",
                      "▁times",
                      ","
                    ],
                    [
                      "<0x0A>",
                      "<0x0A>",
                      "▁a",
                      "▁",
                      "▁of",
                      "▁times",
                      ",",
                      "▁it",
                      "▁was",
                      "▁the",
                      "▁worst",
                      "▁of",
                      "▁times",
                      ","
                    ],
                    [
                      "▁Unter…",
                      "▁is",
                      "▁a",
                      "▁first",
                      "▁of",
                      "▁times",
                      ",",
                      "▁it",
                      "▁was",
                      "▁the",
                      "▁worst",
                      "▁of",
                      "▁times",
                      "."
                    ]
                  ],
                  "texttemplate": "<b>%{text}</b>",
                  "type": "heatmap",
                  "x": [
                    "<s>",
                    "▁it‌",
                    "▁was‌‌",
                    "▁the‌‌‌",
                    "▁best‌‌‌‌",
                    "▁of‌‌‌‌‌",
                    "▁times‌‌‌‌‌‌",
                    ",‌‌‌‌‌‌‌",
                    "▁it‌‌‌‌‌‌‌‌",
                    "▁was‌‌‌‌‌‌‌‌‌",
                    "▁the‌‌‌‌‌‌‌‌‌‌",
                    "▁worst‌‌‌‌‌‌‌‌‌‌‌",
                    "▁of‌‌‌‌‌‌‌‌‌‌‌‌",
                    "▁times‌‌‌‌‌‌‌‌‌‌‌‌‌"
                  ],
                  "y": [
                    "0",
                    "2",
                    "4",
                    "6",
                    "8",
                    "10",
                    "12",
                    "14",
                    "16",
                    "18",
                    "20",
                    "22",
                    "24",
                    "26",
                    "28",
                    "30",
                    "output"
                  ],
                  "z": [
                    [
                      8.643756866455078,
                      4.94474458694458,
                      6.837599277496338,
                      8.109574317932129,
                      7.252832412719727,
                      6.546538829803467,
                      5.130352973937988,
                      6.6834025382995605,
                      4.94474458694458,
                      6.837599277496338,
                      8.109574317932129,
                      5.64586877822876,
                      6.546538829803467,
                      5.130352973937988
                    ],
                    [
                      8.793280601501465,
                      4.039154052734375,
                      5.355839729309082,
                      7.249504566192627,
                      5.52491569519043,
                      5.656642436981201,
                      4.878976345062256,
                      6.034060478210449,
                      3.316459894180298,
                      5.638082981109619,
                      7.145415782928467,
                      5.112151622772217,
                      6.48969841003418,
                      5.043618202209473
                    ],
                    [
                      8.775923728942871,
                      4.588711738586426,
                      6.031525135040283,
                      5.471327304840088,
                      6.54644775390625,
                      4.670798301696777,
                      3.106863498687744,
                      5.697245121002197,
                      3.216470241546631,
                      5.852792739868164,
                      6.527113914489746,
                      4.785024642944336,
                      5.873158931732178,
                      3.4078075885772705
                    ],
                    [
                      8.804044723510742,
                      6.1654582023620605,
                      5.836104869842529,
                      4.6003313064575195,
                      6.230545997619629,
                      4.582202911376953,
                      3.784841537475586,
                      4.878028869628906,
                      3.1341536045074463,
                      4.4770073890686035,
                      6.549637794494629,
                      3.3731019496917725,
                      3.8714466094970703,
                      3.759881019592285
                    ],
                    [
                      8.752188682556152,
                      5.947011470794678,
                      6.207884788513184,
                      5.39702033996582,
                      5.369115829467773,
                      4.456374168395996,
                      4.49199914932251,
                      4.549655914306641,
                      5.638014316558838,
                      5.0673394203186035,
                      7.269806861877441,
                      4.008854866027832,
                      5.427436828613281,
                      3.774536371231079
                    ],
                    [
                      8.722028732299805,
                      5.241901874542236,
                      5.925377368927002,
                      6.090878009796143,
                      4.979156494140625,
                      5.913421630859375,
                      4.191675186157227,
                      6.047484397888184,
                      6.127278804779053,
                      5.658556938171387,
                      7.286282539367676,
                      4.549295425415039,
                      5.691876411437988,
                      4.190713405609131
                    ],
                    [
                      8.7265625,
                      4.801375389099121,
                      6.154869556427002,
                      5.81314754486084,
                      5.5279340744018555,
                      6.053476810455322,
                      3.3950300216674805,
                      5.054343223571777,
                      5.486424446105957,
                      4.881308078765869,
                      6.816825866699219,
                      5.107008934020996,
                      7.2538533210754395,
                      3.8103437423706055
                    ],
                    [
                      8.675549507141113,
                      4.649447441101074,
                      5.11163330078125,
                      6.0506134033203125,
                      5.02498197555542,
                      5.482039451599121,
                      3.1520907878875732,
                      6.042983531951904,
                      4.443345069885254,
                      2.1994574069976807,
                      7.002299785614014,
                      0.4839963912963867,
                      4.135916233062744,
                      2.589529037475586
                    ],
                    [
                      8.607865333557129,
                      3.5157079696655273,
                      5.170969486236572,
                      6.609202861785889,
                      5.32025671005249,
                      5.471586227416992,
                      2.312079668045044,
                      6.093435287475586,
                      4.380880355834961,
                      2.8434455394744873,
                      7.007293701171875,
                      0.9897752404212952,
                      6.302762985229492,
                      3.906355619430542
                    ],
                    [
                      8.576044082641602,
                      3.5908565521240234,
                      6.022003650665283,
                      7.275788307189941,
                      5.1334228515625,
                      0.08543738722801208,
                      1.1221909523010254,
                      0.5112373232841492,
                      0.17983438074588776,
                      0.03704993054270744,
                      4.594446659088135,
                      0.10301291197538376,
                      0.03770091012120247,
                      3.296739101409912
                    ],
                    [
                      8.467779159545898,
                      3.4811716079711914,
                      6.82189416885376,
                      7.938928127288818,
                      5.12239408493042,
                      0.0100103709846735,
                      0.802410364151001,
                      0.6728687286376953,
                      0.23185300827026367,
                      0.05188101530075073,
                      1.9200080633163452,
                      0.05502312630414963,
                      0.020105993375182152,
                      3.0091114044189453
                    ],
                    [
                      8.363484382629395,
                      4.763969421386719,
                      7.1270365715026855,
                      8.347955703735352,
                      6.104984283447266,
                      0.01587626524269581,
                      0.6256404519081116,
                      0.4899330735206604,
                      0.0338260717689991,
                      0.17637042701244354,
                      1.3618907928466797,
                      0.056656643748283386,
                      0.014284864999353886,
                      2.8468852043151855
                    ],
                    [
                      8.349607467651367,
                      4.438234806060791,
                      7.110556602478027,
                      8.002106666564941,
                      6.101241111755371,
                      0.13052509725093842,
                      0.29061853885650635,
                      0.5004866123199463,
                      0.06583712249994278,
                      0.07647380977869034,
                      0.6899200081825256,
                      0.01643151417374611,
                      0.031768351793289185,
                      3.0020248889923096
                    ],
                    [
                      8.344375610351562,
                      5.403773784637451,
                      7.2298126220703125,
                      7.983510971069336,
                      5.659558296203613,
                      0.5344945788383484,
                      0.2763853669166565,
                      0.42072948813438416,
                      0.05777191370725632,
                      0.016869815066456795,
                      2.3511483669281006,
                      0.006096688099205494,
                      0.021094882860779762,
                      3.0936903953552246
                    ],
                    [
                      8.36962890625,
                      5.7991623878479,
                      6.860165596008301,
                      7.625205993652344,
                      5.061520576477051,
                      0.2681937515735626,
                      0.39721906185150146,
                      0.5504453778266907,
                      0.20516584813594818,
                      0.04327785223722458,
                      1.2453521490097046,
                      0.020841510966420174,
                      0.043825067579746246,
                      3.7648611068725586
                    ],
                    [
                      8.371552467346191,
                      6.714642524719238,
                      6.9062676429748535,
                      7.340480804443359,
                      5.017162799835205,
                      0.18953439593315125,
                      0.7612521648406982,
                      0.013737723231315613,
                      0.1182481199502945,
                      0.10901366919279099,
                      0.9529594779014587,
                      0.02335033193230629,
                      0.06297078728675842,
                      4.013504981994629
                    ],
                    [
                      9.309318542480469,
                      6.049788475036621,
                      5.812702178955078,
                      6.478751182556152,
                      4.4632568359375,
                      0.09175235778093338,
                      0.25932618975639343,
                      0.052110232412815094,
                      0.033796362578868866,
                      0.01072139386087656,
                      0.09875303506851196,
                      0.01490931399166584,
                      0.01627158187329769,
                      3.0732274055480957
                    ]
                  ],
                  "zmax": 9.309318542480469,
                  "zmin": 0.006096688099205494
                }
              ],
              "layout": {
                "template": {
                  "data": {
                    "bar": [
                      {
                        "error_x": {
                          "color": "#2a3f5f"
                        },
                        "error_y": {
                          "color": "#2a3f5f"
                        },
                        "marker": {
                          "line": {
                            "color": "#E5ECF6",
                            "width": 0.5
                          },
                          "pattern": {
                            "fillmode": "overlay",
                            "size": 10,
                            "solidity": 0.2
                          }
                        },
                        "type": "bar"
                      }
                    ],
                    "barpolar": [
                      {
                        "marker": {
                          "line": {
                            "color": "#E5ECF6",
                            "width": 0.5
                          },
                          "pattern": {
                            "fillmode": "overlay",
                            "size": 10,
                            "solidity": 0.2
                          }
                        },
                        "type": "barpolar"
                      }
                    ],
                    "carpet": [
                      {
                        "aaxis": {
                          "endlinecolor": "#2a3f5f",
                          "gridcolor": "white",
                          "linecolor": "white",
                          "minorgridcolor": "white",
                          "startlinecolor": "#2a3f5f"
                        },
                        "baxis": {
                          "endlinecolor": "#2a3f5f",
                          "gridcolor": "white",
                          "linecolor": "white",
                          "minorgridcolor": "white",
                          "startlinecolor": "#2a3f5f"
                        },
                        "type": "carpet"
                      }
                    ],
                    "choropleth": [
                      {
                        "colorbar": {
                          "outlinewidth": 0,
                          "ticks": ""
                        },
                        "type": "choropleth"
                      }
                    ],
                    "contour": [
                      {
                        "colorbar": {
                          "outlinewidth": 0,
                          "ticks": ""
                        },
                        "colorscale": [
                          [
                            0,
                            "#0d0887"
                          ],
                          [
                            0.1111111111111111,
                            "#46039f"
                          ],
                          [
                            0.2222222222222222,
                            "#7201a8"
                          ],
                          [
                            0.3333333333333333,
                            "#9c179e"
                          ],
                          [
                            0.4444444444444444,
                            "#bd3786"
                          ],
                          [
                            0.5555555555555556,
                            "#d8576b"
                          ],
                          [
                            0.6666666666666666,
                            "#ed7953"
                          ],
                          [
                            0.7777777777777778,
                            "#fb9f3a"
                          ],
                          [
                            0.8888888888888888,
                            "#fdca26"
                          ],
                          [
                            1,
                            "#f0f921"
                          ]
                        ],
                        "type": "contour"
                      }
                    ],
                    "contourcarpet": [
                      {
                        "colorbar": {
                          "outlinewidth": 0,
                          "ticks": ""
                        },
                        "type": "contourcarpet"
                      }
                    ],
                    "heatmap": [
                      {
                        "colorbar": {
                          "outlinewidth": 0,
                          "ticks": ""
                        },
                        "colorscale": [
                          [
                            0,
                            "#0d0887"
                          ],
                          [
                            0.1111111111111111,
                            "#46039f"
                          ],
                          [
                            0.2222222222222222,
                            "#7201a8"
                          ],
                          [
                            0.3333333333333333,
                            "#9c179e"
                          ],
                          [
                            0.4444444444444444,
                            "#bd3786"
                          ],
                          [
                            0.5555555555555556,
                            "#d8576b"
                          ],
                          [
                            0.6666666666666666,
                            "#ed7953"
                          ],
                          [
                            0.7777777777777778,
                            "#fb9f3a"
                          ],
                          [
                            0.8888888888888888,
                            "#fdca26"
                          ],
                          [
                            1,
                            "#f0f921"
                          ]
                        ],
                        "type": "heatmap"
                      }
                    ],
                    "heatmapgl": [
                      {
                        "colorbar": {
                          "outlinewidth": 0,
                          "ticks": ""
                        },
                        "colorscale": [
                          [
                            0,
                            "#0d0887"
                          ],
                          [
                            0.1111111111111111,
                            "#46039f"
                          ],
                          [
                            0.2222222222222222,
                            "#7201a8"
                          ],
                          [
                            0.3333333333333333,
                            "#9c179e"
                          ],
                          [
                            0.4444444444444444,
                            "#bd3786"
                          ],
                          [
                            0.5555555555555556,
                            "#d8576b"
                          ],
                          [
                            0.6666666666666666,
                            "#ed7953"
                          ],
                          [
                            0.7777777777777778,
                            "#fb9f3a"
                          ],
                          [
                            0.8888888888888888,
                            "#fdca26"
                          ],
                          [
                            1,
                            "#f0f921"
                          ]
                        ],
                        "type": "heatmapgl"
                      }
                    ],
                    "histogram": [
                      {
                        "marker": {
                          "pattern": {
                            "fillmode": "overlay",
                            "size": 10,
                            "solidity": 0.2
                          }
                        },
                        "type": "histogram"
                      }
                    ],
                    "histogram2d": [
                      {
                        "colorbar": {
                          "outlinewidth": 0,
                          "ticks": ""
                        },
                        "colorscale": [
                          [
                            0,
                            "#0d0887"
                          ],
                          [
                            0.1111111111111111,
                            "#46039f"
                          ],
                          [
                            0.2222222222222222,
                            "#7201a8"
                          ],
                          [
                            0.3333333333333333,
                            "#9c179e"
                          ],
                          [
                            0.4444444444444444,
                            "#bd3786"
                          ],
                          [
                            0.5555555555555556,
                            "#d8576b"
                          ],
                          [
                            0.6666666666666666,
                            "#ed7953"
                          ],
                          [
                            0.7777777777777778,
                            "#fb9f3a"
                          ],
                          [
                            0.8888888888888888,
                            "#fdca26"
                          ],
                          [
                            1,
                            "#f0f921"
                          ]
                        ],
                        "type": "histogram2d"
                      }
                    ],
                    "histogram2dcontour": [
                      {
                        "colorbar": {
                          "outlinewidth": 0,
                          "ticks": ""
                        },
                        "colorscale": [
                          [
                            0,
                            "#0d0887"
                          ],
                          [
                            0.1111111111111111,
                            "#46039f"
                          ],
                          [
                            0.2222222222222222,
                            "#7201a8"
                          ],
                          [
                            0.3333333333333333,
                            "#9c179e"
                          ],
                          [
                            0.4444444444444444,
                            "#bd3786"
                          ],
                          [
                            0.5555555555555556,
                            "#d8576b"
                          ],
                          [
                            0.6666666666666666,
                            "#ed7953"
                          ],
                          [
                            0.7777777777777778,
                            "#fb9f3a"
                          ],
                          [
                            0.8888888888888888,
                            "#fdca26"
                          ],
                          [
                            1,
                            "#f0f921"
                          ]
                        ],
                        "type": "histogram2dcontour"
                      }
                    ],
                    "mesh3d": [
                      {
                        "colorbar": {
                          "outlinewidth": 0,
                          "ticks": ""
                        },
                        "type": "mesh3d"
                      }
                    ],
                    "parcoords": [
                      {
                        "line": {
                          "colorbar": {
                            "outlinewidth": 0,
                            "ticks": ""
                          }
                        },
                        "type": "parcoords"
                      }
                    ],
                    "pie": [
                      {
                        "automargin": true,
                        "type": "pie"
                      }
                    ],
                    "scatter": [
                      {
                        "fillpattern": {
                          "fillmode": "overlay",
                          "size": 10,
                          "solidity": 0.2
                        },
                        "type": "scatter"
                      }
                    ],
                    "scatter3d": [
                      {
                        "line": {
                          "colorbar": {
                            "outlinewidth": 0,
                            "ticks": ""
                          }
                        },
                        "marker": {
                          "colorbar": {
                            "outlinewidth": 0,
                            "ticks": ""
                          }
                        },
                        "type": "scatter3d"
                      }
                    ],
                    "scattercarpet": [
                      {
                        "marker": {
                          "colorbar": {
                            "outlinewidth": 0,
                            "ticks": ""
                          }
                        },
                        "type": "scattercarpet"
                      }
                    ],
                    "scattergeo": [
                      {
                        "marker": {
                          "colorbar": {
                            "outlinewidth": 0,
                            "ticks": ""
                          }
                        },
                        "type": "scattergeo"
                      }
                    ],
                    "scattergl": [
                      {
                        "marker": {
                          "colorbar": {
                            "outlinewidth": 0,
                            "ticks": ""
                          }
                        },
                        "type": "scattergl"
                      }
                    ],
                    "scattermapbox": [
                      {
                        "marker": {
                          "colorbar": {
                            "outlinewidth": 0,
                            "ticks": ""
                          }
                        },
                        "type": "scattermapbox"
                      }
                    ],
                    "scatterpolar": [
                      {
                        "marker": {
                          "colorbar": {
                            "outlinewidth": 0,
                            "ticks": ""
                          }
                        },
                        "type": "scatterpolar"
                      }
                    ],
                    "scatterpolargl": [
                      {
                        "marker": {
                          "colorbar": {
                            "outlinewidth": 0,
                            "ticks": ""
                          }
                        },
                        "type": "scatterpolargl"
                      }
                    ],
                    "scatterternary": [
                      {
                        "marker": {
                          "colorbar": {
                            "outlinewidth": 0,
                            "ticks": ""
                          }
                        },
                        "type": "scatterternary"
                      }
                    ],
                    "surface": [
                      {
                        "colorbar": {
                          "outlinewidth": 0,
                          "ticks": ""
                        },
                        "colorscale": [
                          [
                            0,
                            "#0d0887"
                          ],
                          [
                            0.1111111111111111,
                            "#46039f"
                          ],
                          [
                            0.2222222222222222,
                            "#7201a8"
                          ],
                          [
                            0.3333333333333333,
                            "#9c179e"
                          ],
                          [
                            0.4444444444444444,
                            "#bd3786"
                          ],
                          [
                            0.5555555555555556,
                            "#d8576b"
                          ],
                          [
                            0.6666666666666666,
                            "#ed7953"
                          ],
                          [
                            0.7777777777777778,
                            "#fb9f3a"
                          ],
                          [
                            0.8888888888888888,
                            "#fdca26"
                          ],
                          [
                            1,
                            "#f0f921"
                          ]
                        ],
                        "type": "surface"
                      }
                    ],
                    "table": [
                      {
                        "cells": {
                          "fill": {
                            "color": "#EBF0F8"
                          },
                          "line": {
                            "color": "white"
                          }
                        },
                        "header": {
                          "fill": {
                            "color": "#C8D4E3"
                          },
                          "line": {
                            "color": "white"
                          }
                        },
                        "type": "table"
                      }
                    ]
                  },
                  "layout": {
                    "annotationdefaults": {
                      "arrowcolor": "#2a3f5f",
                      "arrowhead": 0,
                      "arrowwidth": 1
                    },
                    "autotypenumbers": "strict",
                    "coloraxis": {
                      "colorbar": {
                        "outlinewidth": 0,
                        "ticks": ""
                      }
                    },
                    "colorscale": {
                      "diverging": [
                        [
                          0,
                          "#8e0152"
                        ],
                        [
                          0.1,
                          "#c51b7d"
                        ],
                        [
                          0.2,
                          "#de77ae"
                        ],
                        [
                          0.3,
                          "#f1b6da"
                        ],
                        [
                          0.4,
                          "#fde0ef"
                        ],
                        [
                          0.5,
                          "#f7f7f7"
                        ],
                        [
                          0.6,
                          "#e6f5d0"
                        ],
                        [
                          0.7,
                          "#b8e186"
                        ],
                        [
                          0.8,
                          "#7fbc41"
                        ],
                        [
                          0.9,
                          "#4d9221"
                        ],
                        [
                          1,
                          "#276419"
                        ]
                      ],
                      "sequential": [
                        [
                          0,
                          "#0d0887"
                        ],
                        [
                          0.1111111111111111,
                          "#46039f"
                        ],
                        [
                          0.2222222222222222,
                          "#7201a8"
                        ],
                        [
                          0.3333333333333333,
                          "#9c179e"
                        ],
                        [
                          0.4444444444444444,
                          "#bd3786"
                        ],
                        [
                          0.5555555555555556,
                          "#d8576b"
                        ],
                        [
                          0.6666666666666666,
                          "#ed7953"
                        ],
                        [
                          0.7777777777777778,
                          "#fb9f3a"
                        ],
                        [
                          0.8888888888888888,
                          "#fdca26"
                        ],
                        [
                          1,
                          "#f0f921"
                        ]
                      ],
                      "sequentialminus": [
                        [
                          0,
                          "#0d0887"
                        ],
                        [
                          0.1111111111111111,
                          "#46039f"
                        ],
                        [
                          0.2222222222222222,
                          "#7201a8"
                        ],
                        [
                          0.3333333333333333,
                          "#9c179e"
                        ],
                        [
                          0.4444444444444444,
                          "#bd3786"
                        ],
                        [
                          0.5555555555555556,
                          "#d8576b"
                        ],
                        [
                          0.6666666666666666,
                          "#ed7953"
                        ],
                        [
                          0.7777777777777778,
                          "#fb9f3a"
                        ],
                        [
                          0.8888888888888888,
                          "#fdca26"
                        ],
                        [
                          1,
                          "#f0f921"
                        ]
                      ]
                    },
                    "colorway": [
                      "#636efa",
                      "#EF553B",
                      "#00cc96",
                      "#ab63fa",
                      "#FFA15A",
                      "#19d3f3",
                      "#FF6692",
                      "#B6E880",
                      "#FF97FF",
                      "#FECB52"
                    ],
                    "font": {
                      "color": "#2a3f5f"
                    },
                    "geo": {
                      "bgcolor": "white",
                      "lakecolor": "white",
                      "landcolor": "#E5ECF6",
                      "showlakes": true,
                      "showland": true,
                      "subunitcolor": "white"
                    },
                    "hoverlabel": {
                      "align": "left"
                    },
                    "hovermode": "closest",
                    "mapbox": {
                      "style": "light"
                    },
                    "paper_bgcolor": "white",
                    "plot_bgcolor": "#E5ECF6",
                    "polar": {
                      "angularaxis": {
                        "gridcolor": "white",
                        "linecolor": "white",
                        "ticks": ""
                      },
                      "bgcolor": "#E5ECF6",
                      "radialaxis": {
                        "gridcolor": "white",
                        "linecolor": "white",
                        "ticks": ""
                      }
                    },
                    "scene": {
                      "xaxis": {
                        "backgroundcolor": "#E5ECF6",
                        "gridcolor": "white",
                        "gridwidth": 2,
                        "linecolor": "white",
                        "showbackground": true,
                        "ticks": "",
                        "zerolinecolor": "white"
                      },
                      "yaxis": {
                        "backgroundcolor": "#E5ECF6",
                        "gridcolor": "white",
                        "gridwidth": 2,
                        "linecolor": "white",
                        "showbackground": true,
                        "ticks": "",
                        "zerolinecolor": "white"
                      },
                      "zaxis": {
                        "backgroundcolor": "#E5ECF6",
                        "gridcolor": "white",
                        "gridwidth": 2,
                        "linecolor": "white",
                        "showbackground": true,
                        "ticks": "",
                        "zerolinecolor": "white"
                      }
                    },
                    "shapedefaults": {
                      "line": {
                        "color": "#2a3f5f"
                      }
                    },
                    "ternary": {
                      "aaxis": {
                        "gridcolor": "white",
                        "linecolor": "white",
                        "ticks": ""
                      },
                      "baxis": {
                        "gridcolor": "white",
                        "linecolor": "white",
                        "ticks": ""
                      },
                      "bgcolor": "#E5ECF6",
                      "caxis": {
                        "gridcolor": "white",
                        "linecolor": "white",
                        "ticks": ""
                      }
                    },
                    "title": {
                      "x": 0.05
                    },
                    "xaxis": {
                      "automargin": true,
                      "gridcolor": "white",
                      "linecolor": "white",
                      "ticks": "",
                      "title": {
                        "standoff": 15
                      },
                      "zerolinecolor": "white",
                      "zerolinewidth": 2
                    },
                    "yaxis": {
                      "automargin": true,
                      "gridcolor": "white",
                      "linecolor": "white",
                      "ticks": "",
                      "title": {
                        "standoff": 15
                      },
                      "zerolinecolor": "white",
                      "zerolinewidth": 2
                    }
                  }
                },
                "title": {
                  "text": "TunedLens (meta-llama/Llama-2-7b-chat-hf) entropy",
                  "x": 0.5
                },
                "width": 1320,
                "xaxis": {
                  "title": {
                    "text": "Input"
                  }
                },
                "yaxis": {
                  "title": {
                    "text": "Layer"
                  }
                }
              }
            },
            "text/html": [
              "<div>                            <div id=\"8bb68066-d0f8-4298-95c2-3e3a456b5874\" class=\"plotly-graph-div\" style=\"height:525px; width:1320px;\"></div>            <script type=\"text/javascript\">                require([\"plotly\"], function(Plotly) {                    window.PLOTLYENV=window.PLOTLYENV || {};                                    if (document.getElementById(\"8bb68066-d0f8-4298-95c2-3e3a456b5874\")) {                    Plotly.newPlot(                        \"8bb68066-d0f8-4298-95c2-3e3a456b5874\",                        [{\"colorbar\":{\"title\":{\"side\":\"right\",\"text\":\"Entropy (nats)\"}},\"colorscale\":[[0.0,\"rgb(5,48,97)\"],[0.1,\"rgb(33,102,172)\"],[0.2,\"rgb(67,147,195)\"],[0.3,\"rgb(146,197,222)\"],[0.4,\"rgb(209,229,240)\"],[0.5,\"rgb(247,247,247)\"],[0.6,\"rgb(253,219,199)\"],[0.7,\"rgb(244,165,130)\"],[0.8,\"rgb(214,96,77)\"],[0.9,\"rgb(178,24,43)\"],[1.0,\"rgb(103,0,31)\"]],\"customdata\":[[[\"       ,\",\"  1.85%\",\"       .\",\"  0.78%\",\"  \\u003c0x0A\\u003e\",\"  0.78%\",\"       )\",\"  0.75%\",\"    \\u2581and\",\"  0.68%\",\"       \\u2581\",\"  0.64%\",\"       }\",\"  0.55%\",\" \\u2581\\u2581\\u2581\\u2581\\u2581\\u2581\\u2581\",\"  0.39%\",\"     \\u2581or\",\"  0.38%\",\"   \\u2581that\",\"  0.34%\"],[\"     \\u2581is\",\" 12.87%\",\"       \\u2019\",\"  8.80%\",\"    \\u2581was\",\"  8.59%\",\"       '\",\"  5.58%\",\"       .\",\"  4.56%\",\"   \\u2581will\",\"  3.25%\",\"       ,\",\"  3.13%\",\"    \\u2581has\",\"  2.25%\",\"  \\u2581would\",\"  2.22%\",\"     \\u2581to\",\"  1.95%\"],[\"      \\u2581a\",\"  9.49%\",\"    \\u2581the\",\"  4.42%\",\"    \\u2581not\",\"  3.67%\",\"   \\u2581born\",\"  2.07%\",\"   \\u2581also\",\"  1.59%\",\"     \\u2581in\",\"  1.49%\",\"       \\u2581\",\"  1.04%\",\"     \\u2581to\",\"  1.01%\",\"   \\u2581made\",\"  0.97%\",\"     \\u2581an\",\"  0.95%\"],[\"   \\u2581same\",\"  1.17%\",\"  \\u2581world\",\"  1.09%\",\"  \\u2581first\",\"  1.03%\",\"   \\u2581most\",\"  0.88%\",\"       \\u2581\",\"  0.88%\",\"    \\u2581new\",\"  0.56%\",\"    \\u2581way\",\"  0.55%\",\" \\u2581count\\u2026\",\"  0.51%\",\"  \\u2581state\",\"  0.50%\",\" \\u2581United\",\"  0.41%\"],[\"     \\u2581to\",\"  3.61%\",\"  \\u2581known\",\"  2.90%\",\"     \\u2581of\",\"  2.33%\",\"       ,\",\"  1.96%\",\"       .\",\"  1.93%\",\"   \\u2581with\",\"  1.75%\",\"      ow\",\"  1.63%\",\"    \\u2581for\",\"  1.60%\",\"    \\u2581the\",\"  1.22%\",\"     \\u2581in\",\"  1.11%\"],[\"    \\u2581the\",\" 23.11%\",\"      \\u2581a\",\"  3.41%\",\"       \\u2581\",\"  1.54%\",\"  \\u2581their\",\"  1.32%\",\"   \\u2581this\",\"  1.31%\",\"  \\u2581these\",\"  1.05%\",\"    \\u2581our\",\"  0.84%\",\"    \\u2581his\",\"  0.77%\",\"    \\u2581its\",\"  0.68%\",\"     \\u2581an\",\"  0.51%\"],[\"       ,\",\" 17.38%\",\"       .\",\"  9.35%\",\"     \\u2581of\",\"  5.55%\",\"     \\u2581in\",\"  3.90%\",\"    \\u2581for\",\"  2.86%\",\"    \\u2581the\",\"  2.55%\",\"     \\u2581as\",\"  2.41%\",\"    \\u2581and\",\"  1.70%\",\"   \\u2581over\",\"  1.66%\",\"     \\u2581to\",\"  1.59%\"],[\"    \\u2581and\",\"  8.89%\",\"    \\u2581the\",\"  4.51%\",\"       \\u2581\",\"  3.76%\",\"    \\u2581but\",\"  2.87%\",\"      \\u2581I\",\"  1.96%\",\"  \\u2581which\",\"  1.68%\",\"      \\u2581a\",\"  1.50%\",\"     \\u2581it\",\"  1.42%\",\"     \\u2581or\",\"  1.26%\",\"     \\u2581as\",\"  1.26%\"],[\"     \\u2581is\",\" 12.87%\",\"       \\u2019\",\"  8.80%\",\"    \\u2581was\",\"  8.59%\",\"       '\",\"  5.58%\",\"       .\",\"  4.56%\",\"   \\u2581will\",\"  3.25%\",\"       ,\",\"  3.13%\",\"    \\u2581has\",\"  2.25%\",\"  \\u2581would\",\"  2.22%\",\"     \\u2581to\",\"  1.95%\"],[\"      \\u2581a\",\"  9.49%\",\"    \\u2581the\",\"  4.42%\",\"    \\u2581not\",\"  3.67%\",\"   \\u2581born\",\"  2.07%\",\"   \\u2581also\",\"  1.59%\",\"     \\u2581in\",\"  1.49%\",\"       \\u2581\",\"  1.04%\",\"     \\u2581to\",\"  1.01%\",\"   \\u2581made\",\"  0.97%\",\"     \\u2581an\",\"  0.95%\"],[\"   \\u2581same\",\"  1.17%\",\"  \\u2581world\",\"  1.09%\",\"  \\u2581first\",\"  1.03%\",\"   \\u2581most\",\"  0.88%\",\"       \\u2581\",\"  0.88%\",\"    \\u2581new\",\"  0.56%\",\"    \\u2581way\",\"  0.55%\",\" \\u2581count\\u2026\",\"  0.51%\",\"  \\u2581state\",\"  0.50%\",\" \\u2581United\",\"  0.41%\"],[\"     \\u2581of\",\" 13.51%\",\"       .\",\" 11.60%\",\"       ,\",\"  6.14%\",\"       -\",\"  2.90%\",\"     \\u2581is\",\"  2.71%\",\"     \\u2581to\",\"  2.48%\",\"  \\u2581about\",\"  2.22%\",\"    \\u2581and\",\"  1.35%\",\"    \\u2581the\",\"  1.30%\",\"     \\u2581in\",\"  1.17%\"],[\"    \\u2581the\",\" 23.11%\",\"      \\u2581a\",\"  3.41%\",\"       \\u2581\",\"  1.54%\",\"  \\u2581their\",\"  1.32%\",\"   \\u2581this\",\"  1.31%\",\"  \\u2581these\",\"  1.05%\",\"    \\u2581our\",\"  0.84%\",\"    \\u2581his\",\"  0.77%\",\"    \\u2581its\",\"  0.68%\",\"     \\u2581an\",\"  0.51%\"],[\"       ,\",\" 17.38%\",\"       .\",\"  9.35%\",\"     \\u2581of\",\"  5.55%\",\"     \\u2581in\",\"  3.90%\",\"    \\u2581for\",\"  2.86%\",\"    \\u2581the\",\"  2.55%\",\"     \\u2581as\",\"  2.41%\",\"    \\u2581and\",\"  1.70%\",\"   \\u2581over\",\"  1.66%\",\"     \\u2581to\",\"  1.59%\"]],[[\"  \\u003c0x0A\\u003e\",\" 11.19%\",\" \\u2581nobody\",\"  1.00%\",\" \\u2581every\\u2026\",\"  0.83%\",\" \\u2581hopef\\u2026\",\"  0.61%\",\" \\u2581Unter\\u2026\",\"  0.46%\",\"    \\u003c\\u002fs\\u003e\",\"  0.37%\",\"       s\",\"  0.35%\",\" \\u2581Hinwe\\u2026\",\"  0.30%\",\" \\u2581obvio\\u2026\",\"  0.26%\",\" \\u2581surely\",\"  0.25%\"],[\"       '\",\" 24.25%\",\"     \\u2581is\",\" 15.50%\",\"       \\u2019\",\" 11.25%\",\"    \\u2581was\",\"  6.02%\",\"       .\",\"  3.47%\",\"       ,\",\"  2.51%\",\"    \\u2581has\",\"  1.77%\",\"   \\u2581will\",\"  1.70%\",\"  \\u2581would\",\"  1.42%\",\"     \\u2581to\",\"  1.36%\"],[\"      \\u2581a\",\" 23.49%\",\"     \\u2581in\",\"  3.15%\",\"    \\u2581the\",\"  2.78%\",\"   \\u2581just\",\"  2.32%\",\"   \\u2581also\",\"  2.09%\",\"   \\u2581born\",\"  2.04%\",\"    \\u2581not\",\"  1.75%\",\"     \\u2581to\",\"  1.26%\",\"  \\u2581meant\",\"  1.16%\",\"     \\u2581at\",\"  1.03%\"],[\"  \\u2581first\",\"  3.39%\",\"    \\u2581way\",\"  3.07%\",\"       \\u2581\",\"  1.96%\",\"  \\u2581world\",\"  1.75%\",\"   \\u2581last\",\"  1.74%\",\"   \\u2581best\",\"  1.37%\",\"  \\u2581right\",\"  1.13%\",\"    \\u2581end\",\"  1.06%\",\"   \\u2581same\",\"  1.04%\",\"   \\u2581only\",\"  0.68%\"],[\"  \\u2581known\",\" 13.05%\",\"   \\u2581part\",\"  6.51%\",\"    \\u2581way\",\"  6.13%\",\"     \\u2581of\",\"  5.66%\",\"     \\u2581to\",\"  5.61%\",\" \\u2581possi\\u2026\",\"  2.36%\",\"  \\u2581thing\",\"  2.33%\",\"    \\u2581and\",\"  2.01%\",\"    \\u2581for\",\"  1.54%\",\"       ,\",\"  1.38%\"],[\"    \\u2581the\",\" 26.12%\",\"      \\u2581a\",\"  4.65%\",\" \\u2581course\",\"  4.01%\",\"   \\u2581this\",\"  2.60%\",\"     \\u2581my\",\"  1.71%\",\"    \\u2581our\",\"  1.62%\",\"  \\u2581these\",\"  1.24%\",\"       \\u2581\",\"  0.87%\",\"  \\u2581their\",\"  0.82%\",\"     \\u2581us\",\"  0.80%\"],[\"    \\u2581and\",\" 12.58%\",\"       ,\",\" 10.53%\",\"       .\",\"  5.12%\",\"     \\u2581to\",\"  4.90%\",\"     \\u2581in\",\"  3.27%\",\"    \\u2581for\",\"  2.81%\",\"   \\u2581with\",\"  2.15%\",\"   \\u2581over\",\"  2.01%\",\"   \\u2581that\",\"  2.00%\",\"     \\u2581as\",\"  1.93%\"],[\"    \\u2581and\",\"  7.84%\",\"    \\u2581the\",\"  5.46%\",\"    \\u2581but\",\"  5.03%\",\"      \\u2581I\",\"  3.72%\",\"     \\u2581we\",\"  2.66%\",\"      \\u2581a\",\"  2.49%\",\"  \\u2581which\",\"  2.30%\",\"     \\u2581as\",\"  1.97%\",\"    \\u2581you\",\"  1.69%\",\"       \\u2581\",\"  1.53%\"],[\"       \\u2019\",\" 24.30%\",\"     \\u2581is\",\" 15.91%\",\"       '\",\" 15.30%\",\"    \\u2581was\",\" 13.32%\",\"  \\u2581would\",\"  3.74%\",\"    \\u2581has\",\"  2.52%\",\"   \\u2581will\",\"  2.05%\",\"    \\u2581can\",\"  1.04%\",\"  \\u2581could\",\"  0.95%\",\"   \\u2581also\",\"  0.54%\"],[\"      \\u2581a\",\" 14.98%\",\"    \\u2581not\",\"  4.37%\",\"     \\u2581in\",\"  3.88%\",\"   \\u2581just\",\"  3.21%\",\"   \\u2581born\",\"  2.81%\",\"    \\u2581the\",\"  2.09%\",\"    \\u2581one\",\"  1.44%\",\"   \\u2581also\",\"  1.31%\",\"     \\u2581on\",\"  1.13%\",\" \\u2581broug\\u2026\",\"  1.11%\"],[\"  \\u2581first\",\"  5.44%\",\"    \\u2581way\",\"  3.45%\",\"   \\u2581last\",\"  2.40%\",\"  \\u2581world\",\"  1.68%\",\"   \\u2581best\",\"  1.68%\",\"   \\u2581same\",\"  1.35%\",\"       \\u2581\",\"  1.07%\",\"  \\u2581right\",\"  1.06%\",\"   \\u2581only\",\"  0.88%\",\"   \\u2581time\",\"  0.77%\"],[\"     \\u2581of\",\" 17.28%\",\"   \\u2581part\",\"  5.99%\",\"       .\",\"  5.93%\",\"     \\u2581to\",\"  5.64%\",\"       ,\",\"  5.06%\",\"    \\u2581and\",\"  2.93%\",\"  \\u2581about\",\"  2.77%\",\"     \\u2581in\",\"  2.28%\",\"  \\u2581known\",\"  1.67%\",\"     \\u2581de\",\"  1.26%\"],[\"    \\u2581the\",\" 19.80%\",\"      \\u2581a\",\"  4.86%\",\"   \\u2581this\",\"  1.67%\",\" \\u2581course\",\"  1.48%\",\"  \\u2581these\",\"  1.36%\",\"  \\u2581their\",\"  0.99%\",\"     \\u2581us\",\"  0.95%\",\"     \\u2581my\",\"  0.94%\",\"   \\u2581your\",\"  0.91%\",\"    \\u2581our\",\"  0.90%\"],[\"       ,\",\"  9.84%\",\"    \\u2581and\",\"  9.16%\",\"     \\u2581to\",\"  4.12%\",\"       .\",\"  3.91%\",\"     \\u2581in\",\"  3.69%\",\"   \\u2581that\",\"  2.84%\",\"     \\u2581we\",\"  2.67%\",\"   \\u2581with\",\"  2.20%\",\"     \\u2581as\",\"  2.17%\",\"      \\u2581I\",\"  2.09%\"]],[[\"  \\u003c0x0A\\u003e\",\" 11.17%\",\" \\u2581nobody\",\"  1.05%\",\" \\u2581every\\u2026\",\"  0.91%\",\" \\u2581hopef\\u2026\",\"  0.66%\",\" \\u2581Unter\\u2026\",\"  0.49%\",\"    \\u003c\\u002fs\\u003e\",\"  0.41%\",\" \\u2581Hinwe\\u2026\",\"  0.36%\",\"       s\",\"  0.30%\",\" \\u2581obvio\\u2026\",\"  0.29%\",\" \\u2581surely\",\"  0.27%\"],[\"       '\",\" 21.66%\",\"       \\u2019\",\" 12.12%\",\"     \\u2581is\",\"  9.96%\",\"       .\",\"  6.69%\",\"       ,\",\"  3.91%\",\"    \\u2581was\",\"  2.89%\",\"    \\u2581for\",\"  1.31%\",\"  \\u2581would\",\"  1.25%\",\"     \\u2581to\",\"  1.07%\",\"       :\",\"  1.07%\"],[\"      \\u2581a\",\" 15.51%\",\"   \\u2581just\",\"  3.57%\",\" \\u2581possi\\u2026\",\"  2.83%\",\"    \\u2581not\",\"  1.92%\",\"     \\u2581an\",\"  1.75%\",\"    \\u2581the\",\"  1.60%\",\"   \\u2581made\",\"  1.56%\",\"  \\u2581worth\",\"  1.46%\",\"     \\u2581in\",\"  1.41%\",\"   \\u2581also\",\"  1.24%\"],[\"  \\u2581first\",\" 28.60%\",\"   \\u2581only\",\"  4.22%\",\"   \\u2581last\",\"  3.63%\",\"       \\u2581\",\"  2.49%\",\"   \\u2581most\",\"  1.47%\",\"   \\u2581time\",\"  1.11%\",\"  \\u2581right\",\"  0.95%\",\"      \\u2581B\",\"  0.78%\",\" \\u2581perfe\\u2026\",\"  0.76%\",\"   \\u2581same\",\"  0.72%\"],[\"  \\u2581thing\",\"  6.08%\",\"    \\u2581way\",\"  5.04%\",\" \\u2581possi\\u2026\",\"  3.53%\",\"  \\u2581known\",\"  3.05%\",\"     \\u2581to\",\"  2.49%\",\"   \\u2581time\",\"  2.22%\",\"     \\u2581of\",\"  2.01%\",\"  \\u2581place\",\"  1.83%\",\"    \\u2581for\",\"  1.35%\",\"       ,\",\"  1.31%\"],[\"    \\u2581the\",\" 40.51%\",\"    \\u2581its\",\"  4.36%\",\"    \\u2581all\",\"  2.76%\",\"   \\u2581that\",\"  2.05%\",\"  \\u2581their\",\"  2.00%\",\"  \\u2581these\",\"  1.51%\",\"      \\u2581a\",\"  1.19%\",\"     \\u2581my\",\"  0.92%\",\"    \\u2581our\",\"  0.59%\",\"    \\u2581his\",\"  0.59%\"],[\"       ,\",\" 28.31%\",\"    \\u2581for\",\" 16.52%\",\"       .\",\"  8.82%\",\"    \\u2581and\",\"  5.18%\",\"     \\u2581is\",\"  4.58%\",\"     \\u2581in\",\"  3.87%\",\"   \\u2581that\",\"  3.70%\",\"     \\u2581to\",\"  3.07%\",\"      \\u2581(\",\"  2.25%\",\"      \\u2581a\",\"  1.89%\"],[\"    \\u2581but\",\"  9.71%\",\"    \\u2581and\",\"  6.94%\",\"    \\u2581the\",\"  4.21%\",\"      \\u2581I\",\"  3.98%\",\"      \\u2581a\",\"  2.86%\",\"   \\u2581that\",\"  2.77%\",\"   \\u2581when\",\"  2.24%\",\"    \\u2581you\",\"  2.14%\",\"     \\u2581we\",\"  1.96%\",\"   \\u2581with\",\"  1.73%\"],[\"       \\u2019\",\" 42.25%\",\"       '\",\" 15.95%\",\"    \\u2581was\",\"  7.42%\",\"     \\u2581is\",\"  7.15%\",\"  \\u2581could\",\"  1.08%\",\"  \\u2581would\",\"  0.88%\",\"    \\u2581has\",\"  0.74%\",\"   \\u2581only\",\"  0.52%\",\"   \\u2581must\",\"  0.50%\",\"    \\u2581are\",\"  0.37%\"],[\"      \\u2581a\",\" 13.86%\",\"    \\u2581not\",\"  6.23%\",\"   \\u2581only\",\"  4.46%\",\" \\u2581possi\\u2026\",\"  2.75%\",\"   \\u2581just\",\"  2.55%\",\"    \\u2581the\",\"  2.30%\",\" \\u2581impor\\u2026\",\"  2.00%\",\"     \\u2581an\",\"  1.68%\",\"   \\u2581also\",\"  1.61%\",\"    \\u2581one\",\"  0.85%\"],[\"  \\u2581first\",\" 10.60%\",\"   \\u2581last\",\"  6.15%\",\"   \\u2581only\",\"  2.24%\",\"   \\u2581most\",\"  1.77%\",\"       \\u2581\",\"  1.65%\",\"   \\u2581time\",\"  1.57%\",\"   \\u2581same\",\"  0.99%\",\"   \\u2581best\",\"  0.97%\",\"   \\u2581good\",\"  0.90%\",\"  \\u2581other\",\"  0.81%\"],[\"     \\u2581of\",\" 18.30%\",\"       .\",\" 13.72%\",\"       ,\",\" 11.97%\",\"     \\u2581to\",\"  2.95%\",\"  \\u2581thing\",\"  2.10%\",\"    \\u2581and\",\"  1.59%\",\"     \\u2581in\",\"  1.52%\",\"   \\u2581when\",\"  1.39%\",\"    \\u2581for\",\"  1.35%\",\" \\u2581possi\\u2026\",\"  1.27%\"],[\"    \\u2581the\",\" 18.09%\",\"    \\u2581its\",\" 12.13%\",\"    \\u2581you\",\"  2.93%\",\"    \\u2581all\",\"  1.82%\",\"  \\u2581their\",\"  1.72%\",\"   \\u2581that\",\"  1.32%\",\"  \\u2581which\",\"  1.28%\",\"     \\u2581my\",\"  1.26%\",\"     \\u2581it\",\"  1.19%\",\"      \\u2581a\",\"  0.89%\"],[\"       ,\",\" 25.01%\",\"    \\u2581for\",\"  9.41%\",\"     \\u2581is\",\"  8.73%\",\"   \\u2581that\",\"  8.55%\",\"       .\",\"  7.50%\",\"    \\u2581and\",\"  4.08%\",\"     \\u2581in\",\"  2.56%\",\"      \\u2581(\",\"  2.40%\",\"      \\u2581I\",\"  2.26%\",\"   \\u2581with\",\"  2.21%\"]],[[\"  \\u003c0x0A\\u003e\",\" 10.31%\",\" \\u2581nobody\",\"  1.04%\",\" \\u2581every\\u2026\",\"  1.03%\",\" \\u2581hopef\\u2026\",\"  0.75%\",\" \\u2581Unter\\u2026\",\"  0.52%\",\"    \\u003c\\u002fs\\u003e\",\"  0.41%\",\" \\u2581Hinwe\\u2026\",\"  0.36%\",\" \\u2581every\\u2026\",\"  0.35%\",\" \\u2581surely\",\"  0.34%\",\" \\u2581obvio\\u2026\",\"  0.34%\"],[\"       '\",\" 14.29%\",\"       .\",\"  7.66%\",\"     \\u2581is\",\"  5.38%\",\"       ,\",\"  3.61%\",\"       \\u2019\",\"  3.31%\",\"       \\u2581\",\"  1.88%\",\"  \\u003c0x0A\\u003e\",\"  1.83%\",\"       (\",\"  0.97%\",\"    \\u2581for\",\"  0.91%\",\"       [\",\"  0.84%\"],[\"      \\u2581a\",\" 16.10%\",\"   \\u2581just\",\"  3.35%\",\"    \\u2581all\",\"  3.14%\",\"    \\u2581not\",\"  3.08%\",\"    \\u2581the\",\"  2.71%\",\"   \\u2581last\",\"  1.98%\",\"     \\u2581an\",\"  1.69%\",\"       \\u2581\",\"  1.69%\",\"     \\u2581in\",\"  1.36%\",\"  \\u003c0x0A\\u003e\",\"  1.25%\"],[\"  \\u2581first\",\" 35.93%\",\"   \\u2581last\",\"  9.12%\",\"       \\u2581\",\"  2.69%\",\"   \\u2581only\",\"  2.01%\",\"   \\u2581time\",\"  1.71%\",\"    \\u2581old\",\"  1.15%\",\"      \\u2581a\",\"  1.08%\",\"      \\u2581n\",\"  0.80%\",\"   \\u2581hard\",\"  0.72%\",\"   \\u2581very\",\"  0.66%\"],[\"  \\u2581thing\",\"  6.98%\",\" \\u2581possi\\u2026\",\"  4.99%\",\" \\u2581things\",\"  3.45%\",\"    \\u2581way\",\"  3.31%\",\"   \\u2581time\",\"  2.68%\",\"     \\u2581of\",\"  2.14%\",\"  \\u2581place\",\"  1.74%\",\"    \\u2581for\",\"  1.63%\",\"    \\u2581one\",\"  1.55%\",\"    \\u2581and\",\"  1.36%\"],[\"  \\u2581times\",\" 34.36%\",\"    \\u2581the\",\" 10.93%\",\"      \\u2581I\",\"  3.02%\",\"      \\u2581a\",\"  2.14%\",\"    \\u2581all\",\"  2.10%\",\"    \\u2581you\",\"  2.00%\",\"   \\u2581time\",\"  1.42%\",\"   \\u2581that\",\"  1.02%\",\"  \\u2581three\",\"  0.79%\",\"   \\u2581what\",\"  0.69%\"],[\"       ,\",\" 13.85%\",\"    \\u2581for\",\" 13.59%\",\"    \\u2581and\",\" 12.82%\",\"     \\u2581in\",\"  7.92%\",\"       .\",\"  7.72%\",\"   \\u2581when\",\"  3.53%\",\"     \\u2581to\",\"  2.98%\",\"      \\u2581I\",\"  2.62%\",\"      \\u2581a\",\"  2.02%\",\"      \\u2581(\",\"  1.87%\"],[\"    \\u2581and\",\" 16.69%\",\"   \\u2581when\",\" 14.50%\",\"     \\u2581so\",\"  3.74%\",\"      \\u2581a\",\"  3.54%\",\"    \\u2581the\",\"  3.07%\",\"  \\u003c0x0A\\u003e\",\"  2.88%\",\"      \\u2581I\",\"  2.22%\",\"   \\u2581last\",\"  1.97%\",\"     \\u2581or\",\"  1.64%\",\"    \\u2581not\",\"  1.63%\"],[\"       \\u2019\",\" 30.85%\",\"       '\",\" 28.05%\",\"    \\u2581was\",\"  7.27%\",\"     \\u2581is\",\"  5.43%\",\"  \\u2581would\",\"  3.40%\",\"    \\u2581may\",\"  1.34%\",\"   \\u2581will\",\"  1.10%\",\"  \\u2581could\",\"  0.83%\",\"  \\u2581might\",\"  0.60%\",\"    \\u2581are\",\"  0.50%\"],[\"      \\u2581a\",\" 32.25%\",\"    \\u2581the\",\"  7.69%\",\"    \\u2581not\",\"  5.78%\",\"     \\u2581an\",\"  1.89%\",\"   \\u2581also\",\"  1.78%\",\"       \\u2019\",\"  1.67%\",\"   \\u2581just\",\"  1.61%\",\"       '\",\"  0.95%\",\" \\u2581impor\\u2026\",\"  0.87%\",\"   \\u2581when\",\"  0.82%\"],[\"   \\u2581last\",\"  9.75%\",\"  \\u2581first\",\"  3.97%\",\"   \\u2581most\",\"  2.53%\",\"    \\u2581one\",\"  1.83%\",\"   \\u2581best\",\"  1.78%\",\" \\u2581produ\\u2026\",\"  1.56%\",\"   \\u2581late\",\"  1.39%\",\"  \\u2581world\",\"  1.38%\",\" \\u2581impor\\u2026\",\"  1.35%\",\"      \\u2581I\",\"  1.33%\"],[\"       ,\",\" 24.12%\",\"       .\",\" 23.56%\",\"     \\u2581of\",\" 16.20%\",\"   \\u2581when\",\"  3.71%\",\"     \\u2581in\",\"  2.17%\",\"    \\u2581and\",\"  1.90%\",\"  \\u003c0x0A\\u003e\",\"  1.29%\",\"       -\",\"  1.09%\",\"     \\u2581is\",\"  0.94%\",\"    \\u2581for\",\"  0.77%\"],[\"  \\u2581times\",\" 38.97%\",\"    \\u2581the\",\" 11.29%\",\"      \\u2581I\",\"  9.04%\",\"   \\u2581that\",\"  1.83%\",\"       ,\",\"  1.55%\",\"    \\u2581you\",\"  1.14%\",\"      \\u2581a\",\"  1.01%\",\"  \\u003c0x0A\\u003e\",\"  0.97%\",\"    \\u2581all\",\"  0.80%\",\"   \\u2581when\",\"  0.68%\"],[\"       ,\",\" 25.65%\",\"       .\",\"  8.26%\",\"     \\u2581in\",\"  6.83%\",\"    \\u2581and\",\"  5.41%\",\"      \\u2581(\",\"  5.09%\",\"      \\u2581I\",\"  4.94%\",\"    \\u2581for\",\"  3.67%\",\"   \\u2581that\",\"  2.74%\",\"     \\u2581is\",\"  2.64%\",\"  \\u003c0x0A\\u003e\",\"  2.57%\"]],[[\"  \\u003c0x0A\\u003e\",\" 10.78%\",\" \\u2581every\\u2026\",\"  0.95%\",\" \\u2581nobody\",\"  0.94%\",\" \\u2581hopef\\u2026\",\"  0.67%\",\"    \\u003c\\u002fs\\u003e\",\"  0.56%\",\" \\u2581Unter\\u2026\",\"  0.51%\",\"    \\u2581The\",\"  0.38%\",\" \\u2581Hinwe\\u2026\",\"  0.31%\",\" \\u2581surely\",\"  0.31%\",\" \\u2581every\\u2026\",\"  0.31%\"],[\"     \\u2581is\",\" 10.48%\",\"       '\",\"  9.19%\",\"       \\u2019\",\"  6.43%\",\"       .\",\"  4.67%\",\"  \\u003c0x0A\\u003e\",\"  3.51%\",\"       \\u2581\",\"  2.30%\",\"       ,\",\"  1.96%\",\"       B\",\"  1.12%\",\"   \\u2581that\",\"  1.06%\",\"       -\",\"  0.97%\"],[\"      \\u2581a\",\"  7.03%\",\"    \\u2581the\",\"  3.75%\",\"   \\u2581just\",\"  3.20%\",\"       \\u2581\",\"  3.07%\",\"       '\",\"  2.45%\",\"     \\u2581in\",\"  2.34%\",\"   \\u2581like\",\"  2.33%\",\"    \\u2581not\",\"  2.09%\",\"       .\",\"  2.00%\",\"      nt\",\"  1.54%\"],[\"  \\u2581first\",\" 30.02%\",\"   \\u2581time\",\"  2.71%\",\"    \\u2581old\",\"  2.32%\",\"   \\u2581last\",\"  1.85%\",\"       \\u2581\",\"  1.31%\",\"   \\u2581only\",\"  1.08%\",\"      \\u2581n\",\"  1.06%\",\"    \\u2581one\",\"  1.05%\",\"      \\u2581a\",\"  1.01%\",\"   \\u2581same\",\"  0.75%\"],[\"    \\u2581way\",\" 11.93%\",\"   \\u2581time\",\"  7.84%\",\"  \\u2581thing\",\"  7.68%\",\"  \\u2581place\",\"  4.50%\",\" \\u2581possi\\u2026\",\"  4.13%\",\" \\u2581chance\",\"  3.88%\",\" \\u2581things\",\"  3.10%\",\"    \\u2581for\",\"  2.78%\",\"   \\u2581when\",\"  1.18%\",\"    \\u2581the\",\"  1.17%\"],[\"  \\u2581times\",\" 46.42%\",\"    \\u2581the\",\"  3.90%\",\"    \\u2581all\",\"  1.33%\",\"   \\u2581what\",\"  1.24%\",\"   \\u2581time\",\"  0.90%\",\"   \\u2581them\",\"  0.76%\",\"  \\u2581their\",\"  0.60%\",\"      \\u2581a\",\"  0.55%\",\" \\u2581things\",\"  0.52%\",\"     \\u2581us\",\"  0.51%\"],[\"       ,\",\" 17.73%\",\"       .\",\"  6.44%\",\"      \\u2581(\",\"  6.08%\",\"       ?\",\"  5.53%\",\"   \\u2581when\",\"  5.26%\",\"    \\u2581and\",\"  4.66%\",\"    \\u2581for\",\"  3.97%\",\"       \\\"\",\"  3.30%\",\"       \\u201d\",\"  2.90%\",\"     \\u2581in\",\"  2.72%\"],[\"  \\u003c0x0A\\u003e\",\" 17.46%\",\"    \\u2581and\",\" 15.69%\",\"     \\u2581or\",\"  5.64%\",\"    \\u2581the\",\"  4.64%\",\"    \\u2581but\",\"  4.59%\",\"      \\u2581a\",\"  3.13%\",\"    \\u2581not\",\"  2.03%\",\"    \\u2581The\",\"  1.89%\",\"     \\u2581so\",\"  1.62%\",\"       \\u2581\",\"  1.41%\"],[\"       \\u2019\",\"  8.38%\",\"       '\",\"  4.94%\",\"    \\u2581was\",\"  4.88%\",\"     \\u2581is\",\"  4.84%\",\"  \\u2581would\",\"  4.09%\",\"     \\u2581or\",\"  3.38%\",\"    \\u2581not\",\"  1.81%\",\"  \\u2581could\",\"  1.67%\",\"   \\u2581will\",\"  1.57%\",\"      \\u2581b\",\"  1.56%\"],[\"      \\u2581a\",\" 14.34%\",\"    \\u2581the\",\" 10.57%\",\"    \\u2581not\",\"  9.77%\",\"       .\",\"  3.00%\",\"     \\u2581in\",\"  2.55%\",\"     \\u2581an\",\"  1.91%\",\"   \\u2581also\",\"  1.71%\",\"      \\u2581(\",\"  1.44%\",\"       \\u2581\",\"  1.40%\",\"      nt\",\"  1.33%\"],[\" \\u2581diffe\\u2026\",\"  2.05%\",\"   \\u2581time\",\"  1.66%\",\"       \\u2581\",\"  1.60%\",\"  \\u2581first\",\"  1.57%\",\"      \\u2581b\",\"  1.54%\",\"      \\u2581n\",\"  1.29%\",\"      \\u2581I\",\"  1.04%\",\"     \\u2581un\",\"  1.00%\",\"  \\u2581world\",\"  0.91%\",\" \\u2581oppos\\u2026\",\"  0.85%\"],[\"       .\",\" 25.22%\",\"  \\u003c0x0A\\u003e\",\" 12.93%\",\"     \\u2581of\",\" 10.58%\",\"       ,\",\"  8.12%\",\"      \\u2581(\",\"  4.71%\",\"     \\u2581in\",\"  2.30%\",\"    \\u2581and\",\"  1.82%\",\"   \\u2581when\",\"  1.49%\",\"       ?\",\"  1.29%\",\"    \\u2581but\",\"  0.94%\"],[\"  \\u2581times\",\" 40.86%\",\"   \\u2581case\",\"  3.49%\",\"  \\u2581cases\",\"  0.65%\",\"    \\u2581yet\",\"  0.37%\",\" \\u2581course\",\"  0.36%\",\"      sv\",\"  0.35%\",\"   \\u2581them\",\"  0.31%\",\"    \\u2581the\",\"  0.28%\",\"  \\u2581Green\",\"  0.27%\",\" \\u2581Broth\\u2026\",\"  0.26%\"],[\"      \\u2581(\",\" 31.33%\",\"       ,\",\" 12.10%\",\"       (\",\"  5.32%\",\"       .\",\"  5.15%\",\"       )\",\"  3.09%\",\"  \\u003c0x0A\\u003e\",\"  2.90%\",\"    \\u2581for\",\"  2.14%\",\"       \\u201d\",\"  2.14%\",\"     \\u2581in\",\"  1.59%\",\"       ?\",\"  1.55%\"]],[[\"  \\u003c0x0A\\u003e\",\" 11.63%\",\" \\u2581every\\u2026\",\"  0.94%\",\" \\u2581nobody\",\"  0.92%\",\" \\u2581hopef\\u2026\",\"  0.69%\",\"    \\u003c\\u002fs\\u003e\",\"  0.55%\",\" \\u2581Unter\\u2026\",\"  0.52%\",\" \\u2581Hinwe\\u2026\",\"  0.34%\",\"    \\u2581The\",\"  0.32%\",\" \\u2581obvio\\u2026\",\"  0.29%\",\" \\u2581surely\",\"  0.29%\"],[\"     \\u2581is\",\" 14.88%\",\"       '\",\"  8.20%\",\"       .\",\"  6.10%\",\"       ,\",\"  5.08%\",\"       \\u2581\",\"  4.89%\",\"  \\u003c0x0A\\u003e\",\"  4.72%\",\"       \\u2019\",\"  2.52%\",\"   \\u2581that\",\"  2.08%\",\"       -\",\"  1.65%\",\"    \\u2581and\",\"  1.54%\"],[\"      \\u2581a\",\"  8.25%\",\"   \\u2581like\",\"  4.68%\",\"   \\u2581just\",\"  3.72%\",\"    \\u2581the\",\"  3.29%\",\"       \\u2581\",\"  2.59%\",\"   \\u2581time\",\"  2.41%\",\"    \\u2581not\",\"  2.33%\",\"      nt\",\"  2.26%\",\"       '\",\"  1.95%\",\"     \\u2581to\",\"  1.86%\"],[\"  \\u2581first\",\" 16.64%\",\"      \\u2581a\",\"  3.42%\",\"   \\u2581last\",\"  3.22%\",\"    \\u2581day\",\"  3.06%\",\"    \\u2581the\",\"  2.29%\",\"       \\u2581\",\"  1.98%\",\" \\u2581perfe\\u2026\",\"  1.77%\",\"   \\u2581time\",\"  1.64%\",\"    \\u2581old\",\"  1.34%\",\"   \\u2581only\",\"  1.16%\"],[\"    \\u2581way\",\" 12.46%\",\"  \\u2581thing\",\" 10.84%\",\"   \\u2581time\",\"  9.67%\",\"  \\u2581place\",\"  7.34%\",\"    \\u2581day\",\"  5.86%\",\"    \\u2581for\",\"  2.11%\",\"    \\u2581and\",\"  1.68%\",\" \\u2581things\",\"  1.47%\",\"    \\u2581dam\",\"  1.15%\",\"    \\u2581the\",\"  1.03%\"],[\"  \\u2581times\",\" 12.46%\",\"    \\u2581the\",\" 11.50%\",\"      \\u2581a\",\"  3.31%\",\"      \\u2581I\",\"  2.84%\",\"   \\u2581what\",\"  1.78%\",\"      \\u2581b\",\"  1.66%\",\"   \\u2581them\",\"  1.43%\",\"   \\u2581time\",\"  1.36%\",\" \\u2581feeli\\u2026\",\"  1.31%\",\"    \\u2581all\",\"  1.15%\"],[\"       ,\",\" 16.44%\",\"    \\u2581and\",\" 15.08%\",\"     \\u2581in\",\"  6.30%\",\"   \\u2581when\",\"  5.78%\",\"    \\u2581for\",\"  4.80%\",\"      \\u2581(\",\"  3.64%\",\"       ?\",\"  2.99%\",\"       \\\"\",\"  2.89%\",\"       .\",\"  2.68%\",\"      \\u2581I\",\"  1.86%\"],[\"    \\u2581but\",\"  8.34%\",\"     \\u2581We\",\"  6.80%\",\"    \\u2581and\",\"  6.38%\",\"    \\u2581the\",\"  4.17%\",\"  \\u003c0x0A\\u003e\",\"  2.97%\",\"    \\u2581The\",\"  2.79%\",\"      \\u2581a\",\"  2.40%\",\"   \\u2581that\",\"  1.86%\",\"     \\u2581we\",\"  1.31%\",\"      \\u2581I\",\"  1.12%\"],[\"    \\u2581was\",\"  8.84%\",\"       \\u2019\",\"  4.27%\",\"     \\u2581is\",\"  3.62%\",\"      \\u2581b\",\"  2.53%\",\"    \\u2581for\",\"  2.42%\",\"       \\u2581\",\"  2.04%\",\"    \\u2581not\",\"  1.90%\",\"       -\",\"  1.61%\",\"       '\",\"  1.58%\",\"     \\u2581we\",\"  1.36%\"],[\"      \\u2581a\",\" 11.13%\",\"    \\u2581the\",\" 11.06%\",\"    \\u2581not\",\"  7.94%\",\"       \\u2581\",\"  2.10%\",\"    \\u2581for\",\"  2.09%\",\"   \\u2581also\",\"  1.83%\",\"      \\u2581I\",\"  1.80%\",\"     \\u2581an\",\"  1.62%\",\"      \\u2581t\",\"  1.04%\",\"     \\u2581to\",\"  0.87%\"],[\"      \\u2581b\",\"  3.27%\",\"     ake\",\"  2.53%\",\"      \\u2581t\",\"  2.23%\",\"       \\u2581\",\"  1.88%\",\" \\u2581produ\\u2026\",\"  1.36%\",\"     \\u2581di\",\"  1.31%\",\"    \\u2581pro\",\"  1.11%\",\"      \\u2581C\",\"  1.08%\",\"      \\u2581f\",\"  1.08%\",\"    \\u2581for\",\"  0.92%\"],[\"     \\u2581of\",\" 17.56%\",\"       .\",\" 15.29%\",\"  \\u003c0x0A\\u003e\",\"  6.64%\",\"       ,\",\"  5.82%\",\"      \\u2581(\",\"  3.67%\",\"     \\u2581in\",\"  2.83%\",\"    \\u2581and\",\"  2.67%\",\"    \\u2581for\",\"  1.85%\",\"      \\u2581t\",\"  1.68%\",\"   \\u2581that\",\"  1.60%\"],[\"  \\u2581times\",\" 34.90%\",\"    \\u2581the\",\"  1.46%\",\"      \\u2581t\",\"  1.21%\",\"      \\u2581b\",\"  1.15%\",\"   \\u2581comp\",\"  0.88%\",\"    \\u2581pro\",\"  0.83%\",\"      \\u2581I\",\"  0.69%\",\"    \\u2581two\",\"  0.56%\",\"      \\u2581a\",\"  0.53%\",\"    \\u2581rub\",\"  0.49%\"],[\"      \\u2581(\",\" 27.83%\",\"       .\",\"  7.23%\",\"       ,\",\"  7.17%\",\"       ?\",\"  3.99%\",\"  \\u003c0x0A\\u003e\",\"  3.48%\",\"       \\\"\",\"  2.82%\",\"       :\",\"  2.58%\",\"   \\u2581that\",\"  2.28%\",\"    \\u2581for\",\"  2.04%\",\"       (\",\"  1.65%\"]],[[\"  \\u003c0x0A\\u003e\",\" 11.71%\",\" \\u2581nobody\",\"  0.98%\",\" \\u2581every\\u2026\",\"  0.91%\",\" \\u2581hopef\\u2026\",\"  0.66%\",\"    \\u003c\\u002fs\\u003e\",\"  0.55%\",\" \\u2581Unter\\u2026\",\"  0.54%\",\" \\u2581Hinwe\\u2026\",\"  0.37%\",\" \\u2581obvio\\u2026\",\"  0.30%\",\" \\u2581surely\",\"  0.30%\",\" \\u2581every\\u2026\",\"  0.27%\"],[\"       '\",\" 20.10%\",\"     \\u2581is\",\"  7.99%\",\"       .\",\"  6.82%\",\"  \\u003c0x0A\\u003e\",\"  6.19%\",\"       ,\",\"  5.22%\",\"       \\u2581\",\"  5.03%\",\"       _\",\"  1.99%\",\"   \\u2581that\",\"  1.87%\",\"       )\",\"  1.40%\",\"       \\u2019\",\"  1.22%\"],[\"      \\u2581a\",\"  8.26%\",\"    \\u2581not\",\"  3.91%\",\"       \\u2581\",\"  3.74%\",\"       '\",\"  3.67%\",\"    \\u2581the\",\"  2.94%\",\"     \\u2581to\",\"  2.30%\",\"       .\",\"  2.10%\",\"   \\u2581just\",\"  2.04%\",\"   \\u2581like\",\"  1.98%\",\"   \\u2581time\",\"  1.63%\"],[\"  \\u2581first\",\" 19.48%\",\"      \\u2581a\",\"  5.44%\",\"       \\u2581\",\"  3.32%\",\"   \\u2581time\",\"  3.20%\",\"    \\u2581day\",\"  2.39%\",\"   \\u2581only\",\"  1.50%\",\"   \\u2581last\",\"  1.40%\",\"      \\u2581n\",\"  1.25%\",\"    \\u2581the\",\"  1.24%\",\"    \\u2581old\",\"  0.95%\"],[\"    \\u2581way\",\" 12.10%\",\"  \\u2581place\",\"  8.33%\",\"  \\u2581thing\",\"  5.38%\",\"   \\u2581time\",\"  4.77%\",\"    \\u2581for\",\"  3.99%\",\" \\u2581possi\\u2026\",\"  2.92%\",\"    \\u2581day\",\"  2.20%\",\"     \\u2581of\",\"  1.52%\",\"      \\u2581t\",\"  1.29%\",\"    \\u2581and\",\"  1.21%\"],[\"    \\u2581the\",\" 13.69%\",\"  \\u2581their\",\"  3.00%\",\"      \\u2581b\",\"  2.65%\",\"  \\u2581times\",\"  2.44%\",\"   \\u2581they\",\"  2.07%\",\"      \\u2581a\",\"  2.04%\",\"   \\u2581them\",\"  1.95%\",\"    \\u2581and\",\"  1.73%\",\"       ,\",\"  1.68%\",\"      \\u2581I\",\"  1.62%\"],[\"       ,\",\" 34.54%\",\"    \\u2581and\",\" 15.82%\",\"     \\u2581in\",\"  5.77%\",\"    \\u2581for\",\"  3.28%\",\"       .\",\"  2.74%\",\"       \\\"\",\"  2.61%\",\"       ?\",\"  2.46%\",\"      \\u2581(\",\"  2.33%\",\"      ,\\\"\",\"  1.49%\",\"      \\u2581a\",\"  1.37%\"],[\"    \\u2581and\",\" 13.04%\",\"    \\u2581the\",\"  6.61%\",\"     \\u2581or\",\"  6.12%\",\"      \\u2581a\",\"  5.18%\",\"    \\u2581but\",\"  4.91%\",\"     \\u2581We\",\"  4.91%\",\"     \\u2581we\",\"  3.98%\",\"  \\u003c0x0A\\u003e\",\"  3.71%\",\"    \\u2581The\",\"  1.67%\",\"      \\u2581I\",\"  1.56%\"],[\"    \\u2581was\",\" 16.15%\",\"     \\u2581is\",\"  4.96%\",\"   \\u2581were\",\"  4.73%\",\"      \\u2581w\",\"  2.67%\",\"       '\",\"  2.60%\",\"       \\u2019\",\"  2.44%\",\"       \\u2581\",\"  1.83%\",\"       \\\"\",\"  1.79%\",\"    \\u2581for\",\"  1.77%\",\"      \\u2581b\",\"  1.62%\"],[\"      \\u2581a\",\" 16.04%\",\"    \\u2581the\",\" 10.24%\",\"    \\u2581not\",\"  9.79%\",\"   \\u2581also\",\"  3.13%\",\"      \\u2581t\",\"  2.84%\",\"      nt\",\"  2.57%\",\"       \\u2581\",\"  2.56%\",\"      \\u2581.\",\"  1.77%\",\"      \\u2581F\",\"  1.54%\",\"    \\u2581for\",\"  1.51%\"],[\"      \\u2581t\",\"  7.53%\",\"      \\u2581b\",\"  3.86%\",\"       \\u2581\",\"  2.66%\",\"      \\u2581B\",\"  2.49%\",\"      \\u2581C\",\"  1.55%\",\"      \\u2581c\",\"  1.55%\",\"      \\u2581f\",\"  1.38%\",\" \\u2581diffe\\u2026\",\"  1.18%\",\"      \\u2581F\",\"  0.98%\",\"    \\u2581pro\",\"  0.95%\"],[\"       .\",\" 15.28%\",\"     \\u2581of\",\" 13.80%\",\"       ,\",\"  8.07%\",\"  \\u003c0x0A\\u003e\",\"  4.01%\",\"    \\u2581for\",\"  3.23%\",\"     \\u2581in\",\"  1.88%\",\"      \\u2581f\",\"  1.45%\",\"       ?\",\"  1.31%\",\"    \\u2581are\",\"  1.26%\",\"     \\u2581is\",\"  1.25%\"],[\"  \\u2581times\",\" 12.48%\",\"      \\u2581t\",\"  3.35%\",\"    \\u2581the\",\"  1.23%\",\"    \\u2581sar\",\"  1.19%\",\"      \\u2581f\",\"  0.95%\",\"   \\u2581comp\",\"  0.68%\",\"     sci\",\"  0.59%\",\"   \\u2581case\",\"  0.58%\",\"  \\u003c0x0A\\u003e\",\"  0.50%\",\"    \\u2581all\",\"  0.48%\"],[\"      \\u2581(\",\" 30.38%\",\"       ,\",\" 10.39%\",\"       .\",\"  6.78%\",\"       \\\"\",\"  6.16%\",\"       ?\",\"  4.30%\",\"  \\u003c0x0A\\u003e\",\"  3.84%\",\"       (\",\"  1.75%\",\"      ,\\\"\",\"  1.61%\",\"     \\u2581in\",\"  1.36%\",\"      \\u2581\\u2013\",\"  1.27%\"]],[[\"  \\u003c0x0A\\u003e\",\" 11.75%\",\" \\u2581nobody\",\"  1.00%\",\" \\u2581every\\u2026\",\"  0.89%\",\" \\u2581hopef\\u2026\",\"  0.65%\",\" \\u2581Unter\\u2026\",\"  0.61%\",\"    \\u003c\\u002fs\\u003e\",\"  0.57%\",\" \\u2581Hinwe\\u2026\",\"  0.37%\",\"       \\u2581\",\"  0.37%\",\"       ,\",\"  0.29%\",\" \\u2581surely\",\"  0.29%\"],[\"       '\",\" 19.43%\",\"     \\u2581is\",\" 11.32%\",\"       .\",\"  7.19%\",\"       \\u2581\",\"  6.30%\",\"  \\u003c0x0A\\u003e\",\"  5.50%\",\"       ,\",\"  5.45%\",\"       _\",\"  3.23%\",\"       -\",\"  2.92%\",\"       B\",\"  0.95%\",\"       \\u2019\",\"  0.87%\"],[\"      \\u2581a\",\" 24.75%\",\"    \\u2581not\",\"  4.89%\",\"       \\u2581\",\"  3.84%\",\"   \\u2581time\",\"  2.53%\",\"    \\u2581the\",\"  2.28%\",\"   \\u2581like\",\"  1.93%\",\"    \\u2581all\",\"  1.64%\",\"       .\",\"  1.61%\",\"     \\u2581in\",\"  1.42%\",\"       '\",\"  1.40%\"],[\"  \\u2581first\",\" 20.73%\",\"   \\u2581time\",\"  3.46%\",\"    \\u2581day\",\"  2.90%\",\"       \\u2581\",\"  2.73%\",\"      \\u2581a\",\"  1.77%\",\"      \\u2581n\",\"  1.29%\",\"   \\u2581same\",\"  1.24%\",\"    \\u2581new\",\"  1.02%\",\"   \\u2581dark\",\"  1.00%\",\"   \\u2581only\",\"  0.99%\"],[\"  \\u2581place\",\" 19.45%\",\"    \\u2581way\",\" 17.35%\",\"     \\u2581of\",\"  3.52%\",\"   \\u2581time\",\"  3.17%\",\" \\u2581possi\\u2026\",\"  3.11%\",\"    \\u2581for\",\"  2.09%\",\"  \\u2581thing\",\"  1.98%\",\"    \\u2581and\",\"  0.94%\",\"   \\u2581that\",\"  0.90%\",\"    \\u2581day\",\"  0.84%\"],[\"  \\u2581times\",\" 13.82%\",\"    \\u2581the\",\" 12.07%\",\"    \\u2581all\",\"  4.17%\",\"       ,\",\"  2.78%\",\"      \\u2581a\",\"  2.75%\",\"  \\u2581their\",\"  1.80%\",\"      \\u2581F\",\"  1.75%\",\"  \\u003c0x0A\\u003e\",\"  1.44%\",\"      \\u2581b\",\"  1.28%\",\"     \\u2581Jo\",\"  1.24%\"],[\"       ,\",\" 39.12%\",\"    \\u2581and\",\" 15.33%\",\"      \\u2581(\",\"  4.09%\",\"  \\u003c0x0A\\u003e\",\"  3.44%\",\"     \\u2581in\",\"  3.28%\",\"    \\u2581for\",\"  3.26%\",\"       .\",\"  2.52%\",\"   \\u2581when\",\"  2.09%\",\"       -\",\"  1.37%\",\"       ?\",\"  1.28%\"],[\"  \\u003c0x0A\\u003e\",\"  7.33%\",\"    \\u2581but\",\"  5.65%\",\"     \\u2581or\",\"  4.64%\",\"    \\u2581and\",\"  3.93%\",\"      \\u2581I\",\"  3.25%\",\"    \\u2581the\",\"  3.12%\",\"      \\u2581a\",\"  2.01%\",\"    \\u2581The\",\"  1.89%\",\"     \\u2581we\",\"  1.83%\",\"   \\u2581then\",\"  1.67%\"],[\"    \\u2581was\",\" 33.29%\",\"     \\u2581is\",\"  8.18%\",\"       \\u2019\",\"  4.49%\",\"   \\u2581were\",\"  3.19%\",\"      \\u2581W\",\"  1.92%\",\"       -\",\"  1.66%\",\"      \\u2581s\",\"  1.33%\",\"  \\u2581could\",\"  1.30%\",\"       \\u2581\",\"  1.11%\",\"     \\u2581of\",\"  1.04%\"],[\"    \\u2581the\",\" 61.09%\",\"      \\u2581a\",\" 15.42%\",\"    \\u2581not\",\"  3.27%\",\"   \\u2581also\",\"  1.55%\",\"       \\u2581\",\"  0.84%\",\"      nt\",\"  0.77%\",\"    \\u2581The\",\"  0.54%\",\"     \\u2581of\",\"  0.45%\",\"       .\",\"  0.44%\",\"      \\u2581B\",\"  0.41%\"],[\"   \\u2581best\",\"  4.12%\",\"      \\u2581b\",\"  3.90%\",\"      \\u2581B\",\"  2.41%\",\"  \\u2581right\",\"  1.62%\",\"   \\u2581good\",\"  1.61%\",\"      \\u2581t\",\"  1.59%\",\"       \\u2581\",\"  1.50%\",\" \\u2581produ\\u2026\",\"  1.48%\",\"   \\u2581time\",\"  1.23%\",\"  \\u2581value\",\"  0.86%\"],[\"     \\u2581of\",\" 93.99%\",\"       .\",\"  1.87%\",\"       ,\",\"  0.52%\",\"  \\u003c0x0A\\u003e\",\"  0.27%\",\"     \\u2581in\",\"  0.24%\",\"    \\u2581for\",\"  0.18%\",\"      \\u2581(\",\"  0.16%\",\"       ?\",\"  0.12%\",\"       s\",\"  0.09%\",\"      \\u2581s\",\"  0.07%\"],[\"  \\u2581times\",\" 56.99%\",\"   times\",\"  0.47%\",\"  \\u2581value\",\"  0.41%\",\"   \\u2581case\",\"  0.39%\",\"     uda\",\"  0.35%\",\"      \\u2581t\",\"  0.35%\",\"    \\u2581pro\",\"  0.32%\",\"  \\u2581night\",\"  0.31%\",\"    \\u2581the\",\"  0.29%\",\"    \\u2581all\",\"  0.28%\"],[\"      \\u2581(\",\" 50.12%\",\"  \\u003c0x0A\\u003e\",\" 13.38%\",\"       ,\",\"  5.97%\",\"       .\",\"  5.03%\",\"       ?\",\"  1.90%\",\"       \\\"\",\"  1.81%\",\"      \\u2581\\u2013\",\"  0.93%\",\"     \\u2581in\",\"  0.89%\",\"       \\u201d\",\"  0.83%\",\"    \\u2581for\",\"  0.75%\"]],[[\"  \\u003c0x0A\\u003e\",\" 12.63%\",\" \\u2581nobody\",\"  1.06%\",\" \\u2581every\\u2026\",\"  0.95%\",\" \\u2581hopef\\u2026\",\"  0.70%\",\" \\u2581Unter\\u2026\",\"  0.66%\",\"    \\u003c\\u002fs\\u003e\",\"  0.65%\",\" \\u2581Hinwe\\u2026\",\"  0.42%\",\" \\u2581surely\",\"  0.31%\",\" \\u2581every\\u2026\",\"  0.30%\",\" \\u2581obvio\\u2026\",\"  0.29%\"],[\"       '\",\" 29.09%\",\"       .\",\" 12.42%\",\"  \\u003c0x0A\\u003e\",\" 11.06%\",\"       ,\",\"  9.55%\",\"     \\u2581is\",\"  5.71%\",\"       \\u2581\",\"  2.97%\",\"       _\",\"  2.80%\",\"       -\",\"  1.89%\",\"     \\u2581to\",\"  0.95%\",\"   \\u2581that\",\"  0.89%\"],[\"      \\u2581a\",\" 23.24%\",\"    \\u2581not\",\"  8.25%\",\"    \\u2581all\",\"  3.18%\",\"       .\",\"  3.13%\",\"       \\u2581\",\"  1.97%\",\"   \\u2581just\",\"  1.69%\",\"     \\u2581in\",\"  1.60%\",\"    \\u2581the\",\"  1.53%\",\"       ,\",\"  1.52%\",\"       '\",\"  1.41%\"],[\"  \\u2581first\",\"  8.20%\",\"   \\u2581only\",\"  5.69%\",\"      \\u2581e\",\"  4.12%\",\"   \\u2581same\",\"  3.64%\",\" \\u2581perfe\\u2026\",\"  1.83%\",\" \\u2581beaut\\u2026\",\"  1.64%\",\"      \\u2581a\",\"  1.55%\",\"    \\u2581end\",\"  1.22%\",\"      \\u2581n\",\"  1.10%\",\"  \\u2581start\",\"  1.05%\"],[\"  \\u2581place\",\" 15.52%\",\"     \\u2581of\",\"  5.77%\",\"    \\u2581way\",\"  5.66%\",\"    \\u2581and\",\"  4.30%\",\"  \\u2581thing\",\"  3.49%\",\" \\u2581possi\\u2026\",\"  3.31%\",\"    \\u2581for\",\"  3.05%\",\"    \\u2581dam\",\"  2.56%\",\"   \\u2581time\",\"  2.35%\",\"     \\u2581to\",\"  1.69%\"],[\"  \\u2581times\",\" 11.70%\",\"    \\u2581the\",\"  8.15%\",\"       ,\",\"  7.99%\",\"    \\u2581all\",\"  4.82%\",\"  \\u2581their\",\"  3.51%\",\"      \\u2581a\",\"  1.88%\",\"    \\u2581The\",\"  1.74%\",\"    \\u2581its\",\"  1.32%\",\"    \\u2581and\",\"  1.16%\",\"      \\u2581F\",\"  1.12%\"],[\"       ,\",\" 61.57%\",\"    \\u2581and\",\"  7.26%\",\"  \\u003c0x0A\\u003e\",\"  3.76%\",\"      \\u2581(\",\"  3.08%\",\"    \\u2581for\",\"  2.23%\",\"     \\u2581in\",\"  1.68%\",\"       \\\"\",\"  1.44%\",\"       .\",\"  1.19%\",\"     ...\",\"  0.74%\",\"       ;\",\"  0.63%\"],[\"  \\u003c0x0A\\u003e\",\"  7.42%\",\"      \\u2581I\",\"  4.92%\",\"    \\u2581and\",\"  3.10%\",\"     \\u2581or\",\"  2.92%\",\"    \\u2581but\",\"  2.92%\",\"    \\u2581The\",\"  2.81%\",\"      \\u2581a\",\"  2.74%\",\"   \\u2581then\",\"  2.39%\",\"      \\u2581(\",\"  2.14%\",\"    \\u2581the\",\"  2.04%\"],[\"    \\u2581was\",\" 32.23%\",\"     \\u2581is\",\" 10.87%\",\"       \\u2019\",\"  6.16%\",\"   \\u2581were\",\"  3.08%\",\"       \\u2581\",\"  1.81%\",\"       '\",\"  1.65%\",\"      \\u2581f\",\"  0.93%\",\"   \\u2581have\",\"  0.92%\",\"  \\u2581could\",\"  0.88%\",\"      ch\",\"  0.85%\"],[\"    \\u2581the\",\" 35.27%\",\"      \\u2581a\",\" 32.54%\",\"    \\u2581not\",\"  4.98%\",\"       \\u2581\",\"  1.57%\",\"      nt\",\"  1.37%\",\"   \\u2581also\",\"  1.31%\",\"    \\u2581The\",\"  0.93%\",\"      \\u2581(\",\"  0.76%\",\"       .\",\"  0.54%\",\"   \\u2581part\",\"  0.49%\"],[\"      \\u2581f\",\"  7.38%\",\"    \\u2581bad\",\"  3.50%\",\"   \\u2581best\",\"  2.29%\",\"      \\u2581b\",\"  1.49%\",\"    \\u2581dis\",\"  1.38%\",\"      \\u2581c\",\"  1.37%\",\"       \\u2581\",\"  1.10%\",\"   \\u2581good\",\"  1.10%\",\"      \\u2581j\",\"  1.01%\",\"      \\u2581m\",\"  0.94%\"],[\"     \\u2581of\",\" 87.22%\",\"       .\",\"  2.29%\",\"       ,\",\"  0.87%\",\"      \\u2581(\",\"  0.82%\",\"  \\u003c0x0A\\u003e\",\"  0.59%\",\"    \\u2581for\",\"  0.49%\",\"      \\u2581f\",\"  0.47%\",\"       s\",\"  0.42%\",\"     \\u2581in\",\"  0.30%\",\"     \\u2581de\",\"  0.28%\"],[\"  \\u2581times\",\" 31.82%\",\"      \\u2581f\",\"  0.70%\",\"   times\",\"  0.62%\",\"  \\u2581teeth\",\"  0.50%\",\"     uda\",\"  0.47%\",\"   \\u2581Game\",\"  0.44%\",\"    agen\",\"  0.39%\",\"    \\u2581cre\",\"  0.38%\",\"    \\u2581all\",\"  0.33%\",\"    \\u2581pod\",\"  0.33%\"],[\"      \\u2581(\",\" 19.83%\",\"  \\u003c0x0A\\u003e\",\" 11.45%\",\"       \\\"\",\"  8.66%\",\"       ,\",\"  8.02%\",\"       .\",\"  6.02%\",\"       \\u201d\",\"  4.36%\",\"      \\u2581\\u2013\",\"  3.77%\",\"       ?\",\"  2.41%\",\"     ...\",\"  1.65%\",\"       -\",\"  1.59%\"]],[[\"  \\u003c0x0A\\u003e\",\" 12.72%\",\" \\u2581nobody\",\"  1.11%\",\" \\u2581every\\u2026\",\"  1.00%\",\" \\u2581Unter\\u2026\",\"  0.70%\",\" \\u2581hopef\\u2026\",\"  0.64%\",\"    \\u003c\\u002fs\\u003e\",\"  0.60%\",\" \\u2581Hinwe\\u2026\",\"  0.46%\",\" \\u2581every\\u2026\",\"  0.31%\",\" \\u2581surely\",\"  0.29%\",\" \\u2581obvio\\u2026\",\"  0.26%\"],[\"       '\",\" 33.77%\",\"  \\u003c0x0A\\u003e\",\" 10.27%\",\"     \\u2581is\",\"  9.15%\",\"       .\",\"  8.69%\",\"       ,\",\"  4.58%\",\"       \\u2581\",\"  3.06%\",\"       _\",\"  2.80%\",\"       \\u2019\",\"  1.63%\",\"     \\u2581to\",\"  0.88%\",\"       -\",\"  0.80%\"],[\"      \\u2581a\",\" 14.21%\",\"    \\u2581not\",\"  6.27%\",\"       \\u2581\",\"  4.51%\",\"      nt\",\"  4.30%\",\"       .\",\"  1.98%\",\"    \\u2581the\",\"  1.88%\",\"     \\u2581in\",\"  1.60%\",\"   \\u2581just\",\"  1.12%\",\"     \\u2581by\",\"  0.93%\",\"       ,\",\"  0.88%\"],[\"  \\u2581first\",\"  6.33%\",\" \\u2581perfe\\u2026\",\"  3.64%\",\"   \\u2581only\",\"  2.84%\",\"       \\u2581\",\"  2.72%\",\"      \\u2581e\",\"  2.65%\",\"      \\u2581a\",\"  1.10%\",\"      \\u2581n\",\"  1.01%\",\"  \\u2581start\",\"  0.90%\",\" \\u2581beaut\\u2026\",\"  0.86%\",\" \\u2581begin\\u2026\",\"  0.70%\"],[\"  \\u2581place\",\" 17.74%\",\"     \\u2581of\",\"  6.36%\",\"  \\u2581thing\",\"  4.83%\",\" \\u2581possi\\u2026\",\"  4.30%\",\"     \\u2581to\",\"  3.63%\",\"   \\u2581time\",\"  3.38%\",\"    \\u2581dam\",\"  2.90%\",\"     \\u2581in\",\"  2.39%\",\"   \\u2581that\",\"  2.25%\",\" \\u2581decis\\u2026\",\"  1.78%\"],[\"  \\u2581times\",\" 99.21%\",\"  \\u2581Times\",\"  0.20%\",\"    \\u2581the\",\"  0.07%\",\"   times\",\"  0.06%\",\"       ,\",\"  0.02%\",\"   \\u2581time\",\"  0.02%\",\"    imes\",\"  0.01%\",\"      \\u2581F\",\"  0.01%\",\"    \\u2581The\",\"  0.01%\",\"     \\u2581it\",\"  0.01%\"],[\"       ,\",\" 78.89%\",\"     \\u2581it\",\"  8.26%\",\"  \\u003c0x0A\\u003e\",\"  3.77%\",\"       ;\",\"  1.54%\",\"     \\u2581It\",\"  1.04%\",\"    \\u2581and\",\"  0.79%\",\"      \\u2581(\",\"  0.51%\",\"    \\u2581for\",\"  0.38%\",\"     ...\",\"  0.31%\",\"       .\",\"  0.29%\"],[\"     \\u2581it\",\" 91.29%\",\"     \\u2581It\",\"  4.46%\",\"  \\u003c0x0A\\u003e\",\"  2.06%\",\"    \\u2581the\",\"  0.22%\",\"      It\",\"  0.19%\",\"    \\u2581and\",\"  0.08%\",\"       \\u2581\",\"  0.06%\",\"      \\u2581c\",\"  0.05%\",\"      \\u2581(\",\"  0.05%\",\"    \\u2581The\",\"  0.04%\"],[\"    \\u2581was\",\" 97.86%\",\"     \\u2581is\",\"  0.74%\",\"   \\u2581were\",\"  0.39%\",\"      \\u2581W\",\"  0.12%\",\"       \\u2581\",\"  0.11%\",\"       \\u2019\",\"  0.03%\",\"    \\u2581the\",\"  0.03%\",\"     \\u2581it\",\"  0.02%\",\"      \\u2581s\",\"  0.02%\",\"      \\u2581(\",\"  0.02%\"],[\"    \\u2581the\",\" 99.64%\",\"    \\u2581The\",\"  0.10%\",\"      \\u2581a\",\"  0.05%\",\"     the\",\"  0.02%\",\"       \\u2581\",\"  0.02%\",\"   \\u2581also\",\"  0.01%\",\"    \\u2581not\",\"  0.01%\",\"  \\u003c0x0A\\u003e\",\"  0.01%\",\"       .\",\"  0.01%\",\"    \\u2581all\",\"  0.01%\"],[\"   \\u2581best\",\" 35.31%\",\"      \\u2581f\",\"  4.44%\",\"  \\u2581times\",\"  4.03%\",\"      \\u2581b\",\"  3.75%\",\"    \\u2581bad\",\"  2.27%\",\"      \\u2581m\",\"  1.57%\",\"      \\u2581B\",\"  1.47%\",\"      \\u2581t\",\"  1.47%\",\"   \\u2581time\",\"  1.12%\",\"       \\u2581\",\"  1.10%\"],[\"     \\u2581of\",\" 98.94%\",\"       .\",\"  0.23%\",\"  \\u003c0x0A\\u003e\",\"  0.13%\",\"  \\u2581times\",\"  0.09%\",\"       ,\",\"  0.05%\",\"      \\u2581(\",\"  0.04%\",\"       s\",\"  0.04%\",\"      of\",\"  0.02%\",\"     \\u2581in\",\"  0.02%\",\"     ...\",\"  0.01%\"],[\"  \\u2581times\",\" 99.48%\",\"  \\u2581Times\",\"  0.28%\",\"   times\",\"  0.22%\",\"    imes\",\"  0.01%\",\"   \\u2581time\",\"  0.00%\",\"   Times\",\"  0.00%\",\"      \\u2581t\",\"  0.00%\",\"   \\u2581Time\",\"  0.00%\",\"    \\u2581tur\",\"  0.00%\",\"    \\u2581the\",\"  0.00%\"],[\"       \\\"\",\" 21.53%\",\"  \\u003c0x0A\\u003e\",\" 18.59%\",\"       \\u201d\",\" 15.87%\",\"     ...\",\"  6.39%\",\"      \\u2581(\",\"  5.31%\",\"       ,\",\"  4.45%\",\"       .\",\"  2.05%\",\"       \\u2014\",\"  1.52%\",\"      \\u2581\\u2013\",\"  1.42%\",\"       \\u2581\",\"  1.06%\"]],[[\"  \\u003c0x0A\\u003e\",\" 12.98%\",\" \\u2581nobody\",\"  1.21%\",\" \\u2581every\\u2026\",\"  1.10%\",\" \\u2581Unter\\u2026\",\"  0.77%\",\" \\u2581hopef\\u2026\",\"  0.65%\",\"    \\u003c\\u002fs\\u003e\",\"  0.57%\",\" \\u2581Hinwe\\u2026\",\"  0.52%\",\" \\u2581every\\u2026\",\"  0.39%\",\" \\u2581surely\",\"  0.30%\",\"    \\u2581and\",\"  0.28%\"],[\"       '\",\" 31.53%\",\"       .\",\" 14.09%\",\"  \\u003c0x0A\\u003e\",\"  9.40%\",\"     \\u2581is\",\"  7.43%\",\"       ,\",\"  5.57%\",\"       \\u2019\",\"  2.13%\",\"       \\u2581\",\"  1.74%\",\"       _\",\"  1.52%\",\"       -\",\"  1.07%\",\"     \\u2581to\",\"  0.90%\"],[\"      \\u2581a\",\" 10.16%\",\"       \\u2581\",\"  3.78%\",\"    \\u2581not\",\"  3.15%\",\"    \\u2581the\",\"  2.61%\",\"       .\",\"  1.57%\",\"      nt\",\"  1.48%\",\"  \\u2581built\",\"  1.08%\",\"     \\u2581in\",\"  1.06%\",\"   \\u2581just\",\"  1.02%\",\"   \\u2581like\",\"  0.99%\"],[\"       \\u2581\",\"  2.23%\",\"      \\u2581e\",\"  1.43%\",\"  \\u2581first\",\"  1.43%\",\" \\u2581perfe\\u2026\",\"  1.00%\",\"   \\u2581most\",\"  1.00%\",\"  \\u2581start\",\"  0.97%\",\"  \\u003c0x0A\\u003e\",\"  0.84%\",\" \\u2581begin\\u2026\",\"  0.75%\",\" \\u2581beaut\\u2026\",\"  0.68%\",\"      or\",\"  0.67%\"],[\"     \\u2581of\",\" 17.28%\",\" \\u2581decis\\u2026\",\"  9.06%\",\"   \\u2581that\",\"  3.92%\",\"     \\u2581in\",\"  3.34%\",\"  \\u2581thing\",\"  3.01%\",\"    \\u2581and\",\"  2.57%\",\"       .\",\"  2.40%\",\"    \\u2581for\",\"  2.04%\",\"    \\u2581dam\",\"  1.91%\",\"     \\u2581to\",\"  1.82%\"],[\"  \\u2581times\",\" 99.91%\",\"  \\u2581Times\",\"  0.02%\",\"   times\",\"  0.01%\",\"    \\u2581the\",\"  0.01%\",\"   \\u2581time\",\"  0.01%\",\"       ,\",\"  0.00%\",\"   Times\",\"  0.00%\",\"     \\u2581it\",\"  0.00%\",\"      \\u2581b\",\"  0.00%\",\"    \\u2581all\",\"  0.00%\"],[\"       ,\",\" 85.54%\",\"     \\u2581it\",\"  4.61%\",\"  \\u003c0x0A\\u003e\",\"  3.86%\",\"     \\u2581It\",\"  0.74%\",\"       ;\",\"  0.69%\",\"      \\u2581(\",\"  0.64%\",\"    \\u2581and\",\"  0.61%\",\"       \\\"\",\"  0.32%\",\"    \\u2581for\",\"  0.28%\",\"       .\",\"  0.21%\"],[\"     \\u2581it\",\" 87.14%\",\"     \\u2581It\",\"  7.83%\",\"    \\u2581the\",\"  1.52%\",\"  \\u003c0x0A\\u003e\",\"  0.83%\",\"      It\",\"  0.25%\",\"    \\u2581and\",\"  0.19%\",\"    \\u2581The\",\"  0.16%\",\"      \\u2581(\",\"  0.12%\",\"      \\u2581c\",\"  0.08%\",\"      \\u2581P\",\"  0.05%\"],[\"    \\u2581was\",\" 96.37%\",\"     \\u2581is\",\"  2.36%\",\"   \\u2581were\",\"  0.41%\",\"      \\u2581W\",\"  0.08%\",\"    \\u2581the\",\"  0.05%\",\"       \\u2581\",\"  0.05%\",\"       \\u2019\",\"  0.04%\",\"      \\u2581(\",\"  0.04%\",\"       '\",\"  0.03%\",\"      \\u2581w\",\"  0.02%\"],[\"    \\u2581the\",\" 99.49%\",\"    \\u2581The\",\"  0.11%\",\"      \\u2581a\",\"  0.05%\",\"      \\u2581(\",\"  0.03%\",\"     the\",\"  0.03%\",\"   \\u2581also\",\"  0.03%\",\"  \\u003c0x0A\\u003e\",\"  0.02%\",\"       \\u2581\",\"  0.02%\",\"    \\u2581not\",\"  0.02%\",\"       -\",\"  0.01%\"],[\"   \\u2581best\",\" 75.41%\",\"  \\u2581times\",\"  3.48%\",\"   \\u2581Best\",\"  1.33%\",\"      \\u2581b\",\"  0.97%\",\"      \\u2581m\",\"  0.78%\",\"   \\u2581most\",\"  0.68%\",\"    best\",\"  0.66%\",\"      \\u2581(\",\"  0.66%\",\"  \\u2581worst\",\"  0.57%\",\"      \\u2581f\",\"  0.56%\"],[\"     \\u2581of\",\" 99.39%\",\"       .\",\"  0.20%\",\"  \\u003c0x0A\\u003e\",\"  0.12%\",\"      of\",\"  0.05%\",\"       ,\",\"  0.04%\",\"      \\u2581(\",\"  0.02%\",\"  \\u2581times\",\"  0.02%\",\"       -\",\"  0.01%\",\"       s\",\"  0.01%\",\"    \\u2581for\",\"  0.01%\"],[\"  \\u2581times\",\" 99.74%\",\"  \\u2581Times\",\"  0.14%\",\"   times\",\"  0.11%\",\"   Times\",\"  0.00%\",\"    imes\",\"  0.00%\",\"   \\u2581time\",\"  0.00%\",\"      \\u2581t\",\"  0.00%\",\"  \\u2581veces\",\"  0.00%\",\"    orte\",\"  0.00%\",\"   \\u2581Time\",\"  0.00%\"],[\"       \\\"\",\" 22.78%\",\"  \\u003c0x0A\\u003e\",\" 19.79%\",\"      \\u2581(\",\" 11.95%\",\"       \\u201d\",\"  8.20%\",\"       ,\",\"  7.83%\",\"       .\",\"  3.53%\",\"     ...\",\"  3.19%\",\"      \\u2581-\",\"  2.32%\",\"       \\u2581\",\"  1.96%\",\"      \\u2581\\u2013\",\"  1.43%\"]],[[\"  \\u003c0x0A\\u003e\",\" 13.69%\",\" \\u2581nobody\",\"  1.23%\",\" \\u2581every\\u2026\",\"  1.14%\",\" \\u2581Unter\\u2026\",\"  0.72%\",\" \\u2581hopef\\u2026\",\"  0.68%\",\"    \\u003c\\u002fs\\u003e\",\"  0.57%\",\" \\u2581Hinwe\\u2026\",\"  0.50%\",\" \\u2581every\\u2026\",\"  0.40%\",\"       \\u2581\",\"  0.37%\",\"       ,\",\"  0.35%\"],[\"       .\",\" 14.58%\",\"  \\u003c0x0A\\u003e\",\" 11.78%\",\"       ,\",\"  9.89%\",\"       '\",\"  9.44%\",\"     \\u2581is\",\"  3.51%\",\"       \\u2581\",\"  3.12%\",\"    unes\",\"  2.02%\",\"       _\",\"  1.94%\",\"       \\u2019\",\"  1.69%\",\"       -\",\"  1.25%\"],[\"      \\u2581a\",\" 10.79%\",\"   \\u2581just\",\"  1.98%\",\"    \\u2581the\",\"  1.73%\",\"    \\u2581not\",\"  1.73%\",\"       \\u2581\",\"  1.59%\",\"      nt\",\"  1.51%\",\"       .\",\"  1.29%\",\"   \\u2581good\",\"  1.27%\",\"   \\u2581time\",\"  0.98%\",\"     \\u2581in\",\"  0.89%\"],[\"   \\u2581most\",\"  1.81%\",\"  \\u2581first\",\"  1.79%\",\"       \\u2581\",\"  1.04%\",\"  \\u2581start\",\"  0.75%\",\"  \\u003c0x0A\\u003e\",\"  0.72%\",\"   \\u2581best\",\"  0.69%\",\"   \\u2581very\",\"  0.67%\",\"  \\u2581right\",\"  0.51%\",\"      \\u2581s\",\"  0.45%\",\"  \\u2581great\",\"  0.44%\"],[\" \\u2581decis\\u2026\",\"  8.60%\",\"     \\u2581of\",\"  8.47%\",\"  \\u2581thing\",\"  3.41%\",\"   \\u2581that\",\"  2.99%\",\"    \\u2581and\",\"  2.45%\",\"   \\u2581time\",\"  2.30%\",\"     \\u2581in\",\"  1.94%\",\"       .\",\"  1.91%\",\"     \\u2581it\",\"  1.64%\",\"       ,\",\"  1.58%\"],[\"  \\u2581times\",\" 99.86%\",\"   \\u2581time\",\"  0.04%\",\"  \\u2581Times\",\"  0.02%\",\"    \\u2581the\",\"  0.01%\",\"   times\",\"  0.01%\",\"       ,\",\"  0.00%\",\"   Times\",\"  0.00%\",\"      \\u2581a\",\"  0.00%\",\"      \\u2581c\",\"  0.00%\",\"      \\u2581b\",\"  0.00%\"],[\"       ,\",\" 88.01%\",\"  \\u003c0x0A\\u003e\",\"  4.87%\",\"     \\u2581it\",\"  3.29%\",\"      \\u2581(\",\"  0.72%\",\"     \\u2581It\",\"  0.61%\",\"    \\u2581and\",\"  0.55%\",\"       ;\",\"  0.24%\",\"       \\u2581\",\"  0.20%\",\"       \\\"\",\"  0.19%\",\"       .\",\"  0.13%\"],[\"     \\u2581it\",\" 88.31%\",\"     \\u2581It\",\"  9.65%\",\"  \\u003c0x0A\\u003e\",\"  0.63%\",\"    \\u2581the\",\"  0.29%\",\"      It\",\"  0.28%\",\"    \\u2581The\",\"  0.07%\",\"    \\u2581and\",\"  0.05%\",\"      \\u2581(\",\"  0.05%\",\"      it\",\"  0.03%\",\"      \\u2581c\",\"  0.03%\"],[\"    \\u2581was\",\" 99.62%\",\"     \\u2581is\",\"  0.19%\",\"   \\u2581were\",\"  0.08%\",\"       \\u2581\",\"  0.01%\",\"       '\",\"  0.01%\",\"    \\u2581Was\",\"  0.01%\",\"       \\u2019\",\"  0.01%\",\"      \\u2581W\",\"  0.01%\",\"      \\u2581(\",\"  0.01%\",\"       -\",\"  0.00%\"],[\"    \\u2581the\",\" 98.06%\",\"      \\u2581(\",\"  0.19%\",\"       \\u2581\",\"  0.18%\",\"    \\u2581The\",\"  0.17%\",\"   \\u2581also\",\"  0.15%\",\"      \\u2581a\",\"  0.13%\",\"       -\",\"  0.11%\",\"       ,\",\"  0.09%\",\"     the\",\"  0.06%\",\"  \\u003c0x0A\\u003e\",\"  0.05%\"],[\"   \\u2581best\",\" 83.82%\",\"  \\u2581times\",\"  1.99%\",\"  \\u2581worst\",\"  0.90%\",\"   \\u2581most\",\"  0.73%\",\"   \\u2581Best\",\"  0.61%\",\"      \\u2581m\",\"  0.55%\",\"      \\u2581(\",\"  0.49%\",\"      \\u2581b\",\"  0.47%\",\"    best\",\"  0.45%\",\"       (\",\"  0.43%\"],[\"     \\u2581of\",\" 99.37%\",\"       .\",\"  0.24%\",\"  \\u003c0x0A\\u003e\",\"  0.07%\",\"      of\",\"  0.05%\",\"       ,\",\"  0.05%\",\"      \\u2581(\",\"  0.04%\",\"  \\u2581times\",\"  0.03%\",\"       -\",\"  0.02%\",\"       \\u2581\",\"  0.01%\",\"       s\",\"  0.01%\"],[\"  \\u2581times\",\" 99.83%\",\"  \\u2581Times\",\"  0.09%\",\"   times\",\"  0.08%\",\"    imes\",\"  0.00%\",\"   Times\",\"  0.00%\",\"   \\u2581time\",\"  0.00%\",\"   \\u2581Time\",\"  0.00%\",\"   \\u2581tiem\",\"  0.00%\",\"  \\u2581veces\",\"  0.00%\",\"   \\u2581days\",\"  0.00%\"],[\"  \\u003c0x0A\\u003e\",\" 30.47%\",\"       \\\"\",\" 11.70%\",\"       ,\",\" 10.42%\",\"       .\",\" 10.10%\",\"      \\u2581(\",\"  8.99%\",\"       :\",\"  3.79%\",\"       \\u201d\",\"  3.76%\",\"       ?\",\"  2.68%\",\"     ...\",\"  1.85%\",\"       ;\",\"  1.30%\"]],[[\"  \\u003c0x0A\\u003e\",\" 13.04%\",\" \\u2581nobody\",\"  1.33%\",\" \\u2581every\\u2026\",\"  1.22%\",\" \\u2581hopef\\u2026\",\"  0.77%\",\" \\u2581Unter\\u2026\",\"  0.72%\",\" \\u2581Hinwe\\u2026\",\"  0.54%\",\"    \\u003c\\u002fs\\u003e\",\"  0.52%\",\" \\u2581every\\u2026\",\"  0.50%\",\"       \\u2581\",\"  0.48%\",\"    \\u2581and\",\"  0.42%\"],[\"       .\",\" 19.67%\",\"       ,\",\" 13.38%\",\"       '\",\"  8.49%\",\"  \\u003c0x0A\\u003e\",\"  7.02%\",\"       \\u2581\",\"  3.35%\",\"     \\u2581is\",\"  3.20%\",\"       -\",\"  2.35%\",\"       \\u2019\",\"  2.26%\",\"       _\",\"  1.80%\",\"    unes\",\"  1.53%\"],[\"      \\u2581a\",\" 10.08%\",\"   \\u2581just\",\"  2.44%\",\"    \\u2581not\",\"  2.43%\",\"       \\u2581\",\"  1.64%\",\"   \\u2581good\",\"  1.44%\",\"       .\",\"  1.44%\",\"    \\u2581the\",\"  1.26%\",\"      nt\",\"  0.99%\",\"     \\u2581in\",\"  0.86%\",\"     \\u2581an\",\"  0.78%\"],[\"       \\u2581\",\"  2.83%\",\"   \\u2581most\",\"  2.44%\",\"  \\u2581first\",\"  1.94%\",\"   \\u2581very\",\"  1.68%\",\"  \\u003c0x0A\\u003e\",\"  1.03%\",\"   \\u2581best\",\"  0.99%\",\"   \\u2581last\",\"  0.96%\",\"  \\u2581great\",\"  0.79%\",\"  \\u2581start\",\"  0.77%\",\"     \\u2581in\",\"  0.57%\"],[\"     \\u2581of\",\" 10.67%\",\" \\u2581decis\\u2026\",\"  6.26%\",\"    \\u2581and\",\"  3.00%\",\"     \\u2581in\",\"  2.51%\",\"       .\",\"  2.37%\",\"       ,\",\"  1.87%\",\"   \\u2581that\",\"  1.87%\",\"   \\u2581time\",\"  1.60%\",\"  \\u003c0x0A\\u003e\",\"  1.56%\",\"     \\u2581it\",\"  1.43%\"],[\"  \\u2581times\",\" 98.73%\",\"   \\u2581time\",\"  0.23%\",\"    \\u2581the\",\"  0.21%\",\"  \\u2581Times\",\"  0.08%\",\"   times\",\"  0.04%\",\"      \\u2581b\",\"  0.03%\",\"      \\u2581c\",\"  0.03%\",\"      \\u2581a\",\"  0.02%\",\"       ,\",\"  0.02%\",\"      \\u2581f\",\"  0.02%\"],[\"       ,\",\" 95.59%\",\"  \\u003c0x0A\\u003e\",\"  1.66%\",\"     \\u2581it\",\"  1.02%\",\"    \\u2581and\",\"  0.23%\",\"       \\u2581\",\"  0.23%\",\"      \\u2581(\",\"  0.22%\",\"       .\",\"  0.14%\",\"       ;\",\"  0.10%\",\"     \\u2581It\",\"  0.09%\",\"       \\\"\",\"  0.08%\"],[\"     \\u2581it\",\" 91.17%\",\"     \\u2581It\",\"  4.02%\",\"  \\u003c0x0A\\u003e\",\"  2.05%\",\"    \\u2581the\",\"  0.98%\",\"    \\u2581and\",\"  0.14%\",\"      It\",\"  0.12%\",\"    \\u2581The\",\"  0.11%\",\"      \\u2581a\",\"  0.10%\",\"      \\u2581(\",\"  0.10%\",\"      it\",\"  0.08%\"],[\"    \\u2581was\",\" 99.24%\",\"     \\u2581is\",\"  0.40%\",\"   \\u2581were\",\"  0.04%\",\"       \\u2581\",\"  0.03%\",\"      \\u2581W\",\"  0.03%\",\"    \\u2581Was\",\"  0.02%\",\"       \\u2019\",\"  0.01%\",\"      \\u2581(\",\"  0.01%\",\"  \\u003c0x0A\\u003e\",\"  0.01%\",\"      \\u2581T\",\"  0.01%\"],[\"    \\u2581the\",\" 99.22%\",\"      \\u2581a\",\"  0.10%\",\"    \\u2581The\",\"  0.07%\",\"       \\u2581\",\"  0.07%\",\"      \\u2581(\",\"  0.06%\",\"       ,\",\"  0.05%\",\"     the\",\"  0.05%\",\"  \\u2581worst\",\"  0.04%\",\"   \\u2581also\",\"  0.04%\",\"       -\",\"  0.03%\"],[\"  \\u2581worst\",\" 85.99%\",\"     wor\",\"  5.78%\",\"   \\u2581best\",\"  4.25%\",\"    \\u2581Wor\",\"  1.81%\",\"   \\u2581most\",\"  0.59%\",\"  \\u2581worse\",\"  0.17%\",\"      \\u2581b\",\"  0.09%\",\"      \\u2581(\",\"  0.07%\",\"    best\",\"  0.05%\",\"       \\u2581\",\"  0.04%\"],[\"     \\u2581of\",\" 99.83%\",\"      of\",\"  0.05%\",\"       .\",\"  0.05%\",\"       ,\",\"  0.02%\",\"  \\u003c0x0A\\u003e\",\"  0.01%\",\"       \\u2581\",\"  0.00%\",\"       -\",\"  0.00%\",\"       s\",\"  0.00%\",\"      \\u2581(\",\"  0.00%\",\"     ...\",\"  0.00%\"],[\"  \\u2581times\",\" 99.59%\",\"  \\u2581Times\",\"  0.21%\",\"   times\",\"  0.13%\",\"    imes\",\"  0.06%\",\"   Times\",\"  0.01%\",\"   \\u2581time\",\"  0.00%\",\"    \\u2581the\",\"  0.00%\",\"   \\u2581Time\",\"  0.00%\",\"      \\u2581b\",\"  0.00%\",\"   \\u2581days\",\"  0.00%\"],[\"       \\\"\",\" 26.41%\",\"  \\u003c0x0A\\u003e\",\" 16.80%\",\"       ,\",\"  9.76%\",\"       \\u201d\",\"  9.12%\",\"       .\",\"  6.56%\",\"      \\u2581(\",\"  6.42%\",\"       :\",\"  2.23%\",\"    \\u2581ess\",\"  1.75%\",\"       \\u2581\",\"  1.24%\",\"     ...\",\"  1.22%\"]],[[\"  \\u003c0x0A\\u003e\",\" 12.85%\",\" \\u2581nobody\",\"  1.41%\",\" \\u2581every\\u2026\",\"  1.30%\",\" \\u2581Unter\\u2026\",\"  0.90%\",\" \\u2581hopef\\u2026\",\"  0.82%\",\" \\u2581every\\u2026\",\"  0.57%\",\" \\u2581Hinwe\\u2026\",\"  0.55%\",\"    \\u003c\\u002fs\\u003e\",\"  0.54%\",\"       \\u2581\",\"  0.41%\",\" \\u2581surely\",\"  0.40%\"],[\"       ,\",\" 11.43%\",\"       .\",\" 11.09%\",\"       '\",\"  8.26%\",\"  \\u003c0x0A\\u003e\",\"  7.94%\",\"     \\u2581is\",\"  2.93%\",\"       \\u2019\",\"  2.35%\",\"       -\",\"  2.30%\",\"       \\u2581\",\"  2.17%\",\"    \\u2581was\",\"  0.92%\",\"       _\",\"  0.85%\"],[\"      \\u2581a\",\"  9.84%\",\"    \\u2581not\",\"  2.34%\",\"   \\u2581just\",\"  1.89%\",\"       \\u2581\",\"  1.42%\",\"   \\u2581good\",\"  1.36%\",\"       .\",\"  1.20%\",\"      nt\",\"  1.05%\",\"    \\u2581the\",\"  1.01%\",\"     \\u2581in\",\"  0.85%\",\"     \\u2581an\",\"  0.78%\"],[\"   \\u2581most\",\"  2.49%\",\"       \\u2581\",\"  2.46%\",\"  \\u2581first\",\"  1.52%\",\"   \\u2581best\",\"  1.44%\",\"  \\u003c0x0A\\u003e\",\"  0.91%\",\"   \\u2581only\",\"  0.89%\",\"  \\u2581start\",\"  0.87%\",\"      \\u2581t\",\"  0.72%\",\"     \\u2581in\",\"  0.69%\",\"   \\u2581very\",\"  0.68%\"],[\"     \\u2581of\",\" 14.43%\",\" \\u2581decis\\u2026\",\"  9.49%\",\"   \\u2581time\",\"  4.15%\",\"  \\u2581thing\",\"  2.66%\",\"       .\",\"  2.44%\",\"     \\u2581in\",\"  2.10%\",\"    \\u2581and\",\"  1.81%\",\" \\u2581exper\\u2026\",\"  1.71%\",\"       ,\",\"  1.64%\",\"      \\u2581I\",\"  1.38%\"],[\"  \\u2581times\",\" 91.81%\",\"   \\u2581time\",\"  5.12%\",\"    \\u2581the\",\"  0.38%\",\"      \\u2581b\",\"  0.09%\",\"       ,\",\"  0.08%\",\"      \\u2581c\",\"  0.08%\",\"      \\u2581f\",\"  0.07%\",\"   times\",\"  0.05%\",\"      \\u2581a\",\"  0.05%\",\"  \\u2581Times\",\"  0.05%\"],[\"       ,\",\" 95.80%\",\"     \\u2581it\",\"  1.52%\",\"  \\u003c0x0A\\u003e\",\"  0.89%\",\"      \\u2581(\",\"  0.36%\",\"       \\u2581\",\"  0.28%\",\"       .\",\"  0.14%\",\"    \\u2581the\",\"  0.14%\",\"    \\u2581and\",\"  0.12%\",\"     \\u2581It\",\"  0.10%\",\"       -\",\"  0.08%\"],[\"     \\u2581it\",\" 93.54%\",\"     \\u2581It\",\"  2.95%\",\"  \\u003c0x0A\\u003e\",\"  1.25%\",\"    \\u2581the\",\"  0.43%\",\"      It\",\"  0.18%\",\"    \\u2581and\",\"  0.15%\",\"      \\u2581(\",\"  0.09%\",\"      it\",\"  0.07%\",\"       \\u2581\",\"  0.06%\",\"      \\u2581a\",\"  0.06%\"],[\"    \\u2581was\",\" 99.37%\",\"     \\u2581is\",\"  0.32%\",\"   \\u2581were\",\"  0.06%\",\"      \\u2581c\",\"  0.01%\",\"  \\u003c0x0A\\u003e\",\"  0.01%\",\"       \\u2581\",\"  0.01%\",\"  \\u2581worst\",\"  0.01%\",\"    \\u2581Was\",\"  0.01%\",\"     was\",\"  0.01%\",\"    \\u2581the\",\"  0.01%\"],[\"    \\u2581the\",\" 99.85%\",\"    \\u2581The\",\"  0.02%\",\"     the\",\"  0.02%\",\"      \\u2581a\",\"  0.01%\",\"       ,\",\"  0.01%\",\"      \\u2581(\",\"  0.01%\",\"       \\u2581\",\"  0.01%\",\"       -\",\"  0.01%\",\"   \\u2581also\",\"  0.00%\",\"  \\u2581worst\",\"  0.00%\"],[\"  \\u2581worst\",\" 67.10%\",\"    \\u2581Wor\",\"  4.32%\",\"      \\u2581b\",\"  2.69%\",\"      \\u2581W\",\"  1.58%\",\"   \\u2581best\",\"  1.55%\",\"      \\u2581(\",\"  1.48%\",\"     wor\",\"  1.37%\",\"      \\u2581B\",\"  1.07%\",\"   \\u2581most\",\"  0.82%\",\"  \\u2581worse\",\"  0.66%\"],[\"     \\u2581of\",\" 99.94%\",\"      of\",\"  0.03%\",\"       .\",\"  0.01%\",\"  \\u003c0x0A\\u003e\",\"  0.00%\",\"     \\u2581Of\",\"  0.00%\",\"       ,\",\"  0.00%\",\"      Of\",\"  0.00%\",\"      \\u2581(\",\"  0.00%\",\"       -\",\"  0.00%\",\"  \\u2581times\",\"  0.00%\"],[\"  \\u2581times\",\" 99.75%\",\"  \\u2581Times\",\"  0.10%\",\"   times\",\"  0.09%\",\"   \\u2581time\",\"  0.03%\",\"    imes\",\"  0.02%\",\"   Times\",\"  0.00%\",\"   \\u2581Time\",\"  0.00%\",\"  \\u2581crime\",\"  0.00%\",\"     \\u2581cr\",\"  0.00%\",\"      \\u2581t\",\"  0.00%\"],[\"       ,\",\" 31.30%\",\"       .\",\" 12.24%\",\"  \\u003c0x0A\\u003e\",\" 11.32%\",\"      \\u2581(\",\"  5.97%\",\"       \\\"\",\"  4.51%\",\"       :\",\"  4.15%\",\"     ...\",\"  2.81%\",\"       \\u201d\",\"  2.30%\",\"    \\u2581ess\",\"  1.83%\",\"       \\u2581\",\"  1.70%\"]],[[\"  \\u003c0x0A\\u003e\",\" 13.16%\",\" \\u2581every\\u2026\",\"  1.30%\",\" \\u2581nobody\",\"  1.28%\",\" \\u2581Unter\\u2026\",\"  0.82%\",\" \\u2581hopef\\u2026\",\"  0.78%\",\" \\u2581every\\u2026\",\"  0.55%\",\" \\u2581Hinwe\\u2026\",\"  0.51%\",\"       \\u2581\",\"  0.44%\",\"    \\u003c\\u002fs\\u003e\",\"  0.44%\",\" \\u2581surely\",\"  0.37%\"],[\"  \\u003c0x0A\\u003e\",\" 10.00%\",\"       ,\",\"  8.13%\",\"       '\",\"  5.48%\",\"       .\",\"  5.39%\",\"       -\",\"  4.13%\",\"     \\u2581is\",\"  3.86%\",\"       \\u2019\",\"  2.75%\",\"      ch\",\"  1.89%\",\"       _\",\"  1.72%\",\"    \\u2581was\",\"  1.58%\"],[\"      \\u2581a\",\" 15.01%\",\"       \\u2581\",\"  2.01%\",\"    \\u2581not\",\"  1.63%\",\"    \\u2581the\",\"  1.40%\",\"       .\",\"  1.28%\",\"    \\u2581fun\",\"  1.27%\",\"     \\u2581an\",\"  1.18%\",\"   \\u2581good\",\"  1.17%\",\"   \\u2581time\",\"  1.07%\",\"   \\u2581just\",\"  0.91%\"],[\"       \\u2581\",\"  4.20%\",\"  \\u2581first\",\"  3.23%\",\"   \\u2581most\",\"  1.64%\",\"  \\u2581start\",\"  1.64%\",\"   \\u2581best\",\"  1.30%\",\"  \\u003c0x0A\\u003e\",\"  1.08%\",\"     \\u2581in\",\"  1.06%\",\"   \\u2581only\",\"  1.00%\",\"    \\u2581end\",\"  0.90%\",\"   \\u2581year\",\"  0.80%\"],[\" \\u2581decis\\u2026\",\" 20.54%\",\"     \\u2581of\",\" 10.77%\",\"  \\u2581thing\",\"  5.24%\",\"   \\u2581time\",\"  4.65%\",\" \\u2581exper\\u2026\",\"  2.51%\",\"       .\",\"  1.83%\",\"    \\u2581and\",\"  1.65%\",\" \\u2581choice\",\"  1.53%\",\"     \\u2581in\",\"  1.50%\",\"   \\u2581that\",\"  1.49%\"],[\"  \\u2581times\",\" 96.90%\",\"   \\u2581time\",\"  1.28%\",\"    \\u2581the\",\"  0.27%\",\"  \\u2581Times\",\"  0.19%\",\"   times\",\"  0.10%\",\"      \\u2581a\",\"  0.04%\",\"      \\u2581b\",\"  0.03%\",\"       ,\",\"  0.03%\",\" \\u2581intent\",\"  0.03%\",\"    imes\",\"  0.02%\"],[\"       ,\",\" 93.88%\",\"  \\u003c0x0A\\u003e\",\"  1.80%\",\"     \\u2581it\",\"  1.35%\",\"       \\u2581\",\"  0.61%\",\"      \\u2581(\",\"  0.40%\",\"    \\u2581and\",\"  0.39%\",\"       .\",\"  0.22%\",\"     \\u2581It\",\"  0.15%\",\"    \\u2581the\",\"  0.13%\",\"       -\",\"  0.10%\"],[\"     \\u2581it\",\" 91.31%\",\"     \\u2581It\",\"  2.24%\",\"      it\",\"  1.68%\",\"  \\u003c0x0A\\u003e\",\"  1.59%\",\"    \\u2581the\",\"  0.77%\",\"       \\u2581\",\"  0.33%\",\"    \\u2581and\",\"  0.23%\",\"      It\",\"  0.16%\",\"      \\u2581(\",\"  0.15%\",\"       ,\",\"  0.12%\"],[\"    \\u2581was\",\" 97.30%\",\"     \\u2581is\",\"  0.91%\",\"      \\u2581W\",\"  0.75%\",\"   \\u2581were\",\"  0.30%\",\"  \\u003c0x0A\\u003e\",\"  0.06%\",\"       W\",\"  0.04%\",\"  \\u2581worst\",\"  0.04%\",\"       \\u2581\",\"  0.03%\",\"    \\u2581Was\",\"  0.03%\",\"      \\u2581w\",\"  0.02%\"],[\"    \\u2581the\",\" 99.60%\",\"     the\",\"  0.09%\",\"  \\u2581worst\",\"  0.04%\",\"    \\u2581The\",\"  0.03%\",\"  \\u003c0x0A\\u003e\",\"  0.02%\",\"       .\",\"  0.01%\",\"   \\u2581also\",\"  0.01%\",\"       ,\",\"  0.01%\",\"      \\u2581(\",\"  0.01%\",\"       \\u2581\",\"  0.01%\"],[\"  \\u2581worst\",\" 79.42%\",\"    \\u2581Wor\",\"  6.23%\",\"     wor\",\"  3.07%\",\"      \\u2581W\",\"  2.06%\",\"      \\u2581b\",\"  0.92%\",\"       W\",\"  0.69%\",\"   \\u2581best\",\"  0.58%\",\"      \\u2581(\",\"  0.58%\",\"      \\u2581w\",\"  0.38%\",\"      \\u2581B\",\"  0.36%\"],[\"     \\u2581of\",\" 99.79%\",\"      of\",\"  0.06%\",\"       .\",\"  0.04%\",\"  \\u003c0x0A\\u003e\",\"  0.03%\",\"     \\u2581Of\",\"  0.03%\",\"       ,\",\"  0.01%\",\"      \\u2581(\",\"  0.01%\",\"      Of\",\"  0.00%\",\"     ...\",\"  0.00%\",\"       -\",\"  0.00%\"],[\"  \\u2581times\",\" 99.44%\",\"  \\u2581Times\",\"  0.30%\",\"   times\",\"  0.18%\",\"   \\u2581time\",\"  0.02%\",\"   Times\",\"  0.02%\",\"    imes\",\"  0.01%\",\"     \\u2581cr\",\"  0.00%\",\"    \\u2581the\",\"  0.00%\",\"   \\u2581ages\",\"  0.00%\",\"  \\u2581crime\",\"  0.00%\"],[\"       ,\",\" 25.29%\",\"       .\",\"  8.89%\",\"  \\u003c0x0A\\u003e\",\"  8.80%\",\"     ...\",\"  6.82%\",\"    \\u2581ess\",\"  4.48%\",\"       \\\"\",\"  3.41%\",\"       :\",\"  3.28%\",\"      \\u2581(\",\"  3.12%\",\"       \\u2014\",\"  2.41%\",\"       \\u2581\",\"  2.36%\"]],[[\"  \\u003c0x0A\\u003e\",\" 14.07%\",\" \\u2581nobody\",\"  1.26%\",\" \\u2581every\\u2026\",\"  1.11%\",\" \\u2581hopef\\u2026\",\"  0.68%\",\" \\u2581Unter\\u2026\",\"  0.59%\",\"       \\u2581\",\"  0.51%\",\"    \\u003c\\u002fs\\u003e\",\"  0.47%\",\" \\u2581every\\u2026\",\"  0.42%\",\" \\u2581Hinwe\\u2026\",\"  0.34%\",\" \\u2581obvio\\u2026\",\"  0.31%\"],[\"  \\u003c0x0A\\u003e\",\"  6.17%\",\"       ,\",\"  5.96%\",\"       '\",\"  4.56%\",\"       .\",\"  3.96%\",\"     \\u2581is\",\"  2.80%\",\"    \\u2581was\",\"  2.31%\",\"       -\",\"  2.28%\",\"       c\",\"  2.06%\",\"      ch\",\"  1.61%\",\"       \\u2019\",\"  1.29%\"],[\"      \\u2581a\",\" 12.11%\",\"    \\u2581the\",\"  2.33%\",\"    \\u2581not\",\"  1.94%\",\"       \\u2581\",\"  1.92%\",\"   \\u2581time\",\"  1.77%\",\"   \\u2581just\",\"  1.03%\",\"     \\u2581an\",\"  1.00%\",\"   \\u2581only\",\"  0.96%\",\"      nt\",\"  0.79%\",\"    \\u2581fun\",\"  0.78%\"],[\"       \\u2581\",\"  5.95%\",\"  \\u2581first\",\"  3.17%\",\"   \\u2581best\",\"  2.63%\",\"    \\u2581end\",\"  1.76%\",\"  \\u2581start\",\"  1.71%\",\"   \\u2581most\",\"  1.63%\",\"   \\u2581last\",\"  1.32%\",\"   \\u2581same\",\"  1.05%\",\"   \\u2581only\",\"  0.99%\",\" \\u2581perfe\\u2026\",\"  0.95%\"],[\"     \\u2581of\",\" 18.93%\",\" \\u2581decis\\u2026\",\" 11.64%\",\"  \\u2581thing\",\"  5.12%\",\"   \\u2581time\",\"  4.30%\",\" \\u2581exper\\u2026\",\"  3.54%\",\"    \\u2581day\",\"  1.90%\",\" \\u2581choice\",\"  1.76%\",\"    \\u2581and\",\"  1.47%\",\"     \\u2581in\",\"  1.42%\",\"  \\u2581place\",\"  1.31%\"],[\"  \\u2581times\",\" 98.27%\",\"  \\u2581Times\",\"  0.26%\",\"   \\u2581time\",\"  0.24%\",\"    \\u2581the\",\"  0.10%\",\"   times\",\"  0.07%\",\" \\u2581timing\",\"  0.04%\",\"   Times\",\"  0.03%\",\"    \\u2581tim\",\"  0.03%\",\"      \\u2581a\",\"  0.02%\",\"       \\u2581\",\"  0.01%\"],[\"       ,\",\" 80.23%\",\"     \\u2581it\",\" 15.21%\",\"  \\u003c0x0A\\u003e\",\"  1.41%\",\"     \\u2581It\",\"  0.44%\",\"       \\u2581\",\"  0.44%\",\"    \\u2581and\",\"  0.31%\",\"       ;\",\"  0.30%\",\"    \\u2581the\",\"  0.20%\",\"       .\",\"  0.19%\",\"      \\u2581(\",\"  0.15%\"],[\"     \\u2581it\",\" 99.84%\",\"     \\u2581It\",\"  0.11%\",\"      it\",\"  0.04%\",\"      It\",\"  0.00%\",\"    \\u2581the\",\"  0.00%\",\"     \\u2581IT\",\"  0.00%\",\"  \\u003c0x0A\\u003e\",\"  0.00%\",\"  \\u2581worst\",\"  0.00%\",\"       \\u2581\",\"  0.00%\",\"    \\u2581and\",\"  0.00%\"],[\"    \\u2581was\",\" 98.70%\",\"      \\u2581W\",\"  0.44%\",\"     \\u2581is\",\"  0.31%\",\"    \\u2581Was\",\"  0.08%\",\"  \\u2581worst\",\"  0.04%\",\"     was\",\"  0.03%\",\"  \\u003c0x0A\\u003e\",\"  0.02%\",\"   \\u2581were\",\"  0.02%\",\"       W\",\"  0.01%\",\"       w\",\"  0.01%\"],[\"    \\u2581the\",\" 99.01%\",\"  \\u2581worst\",\"  0.22%\",\"     the\",\"  0.09%\",\"   \\u2581also\",\"  0.04%\",\"       ,\",\"  0.03%\",\"    \\u2581not\",\"  0.03%\",\"    \\u2581The\",\"  0.03%\",\"  \\u003c0x0A\\u003e\",\"  0.02%\",\"       .\",\"  0.02%\",\"       \\u2581\",\"  0.02%\"],[\"  \\u2581worst\",\" 87.55%\",\"   \\u2581best\",\"  3.40%\",\"     wor\",\"  1.31%\",\"    \\u2581Wor\",\"  1.08%\",\"      \\u2581b\",\"  0.67%\",\"   \\u2581most\",\"  0.30%\",\"  \\u2581worse\",\"  0.26%\",\" \\u2581Wright\",\"  0.17%\",\"    \\u2581wur\",\"  0.17%\",\"       \\u2581\",\"  0.14%\"],[\"     \\u2581of\",\" 99.78%\",\"      of\",\"  0.05%\",\"       .\",\"  0.03%\",\"     \\u2581Of\",\"  0.03%\",\"  \\u003c0x0A\\u003e\",\"  0.01%\",\"      Of\",\"  0.01%\",\"       ,\",\"  0.01%\",\"    \\u2581von\",\"  0.00%\",\"       \\u2581\",\"  0.00%\",\"      \\u2581(\",\"  0.00%\"],[\"  \\u2581times\",\" 99.22%\",\"  \\u2581Times\",\"  0.44%\",\"   times\",\"  0.14%\",\"     \\u2581cr\",\"  0.05%\",\"   Times\",\"  0.04%\",\"   \\u2581time\",\"  0.03%\",\"    \\u2581tim\",\"  0.00%\",\"   \\u2581ages\",\"  0.00%\",\"    imes\",\"  0.00%\",\"  \\u2581crime\",\"  0.00%\"],[\"       ,\",\" 21.99%\",\"  \\u003c0x0A\\u003e\",\" 14.58%\",\"       .\",\"  8.96%\",\"    \\u2581ess\",\"  8.56%\",\"       \\\"\",\"  2.74%\",\"       :\",\"  1.92%\",\"       \\u201d\",\"  1.82%\",\"       \\u2581\",\"  1.73%\",\"    \\u2581Ess\",\"  1.69%\",\"      \\u2581(\",\"  1.45%\"]],[[\" \\u2581Unter\\u2026\",\"  1.80%\",\" \\u2581nobody\",\"  1.39%\",\" \\u2581every\\u2026\",\"  0.98%\",\" \\u2581Hinwe\\u2026\",\"  0.94%\",\" \\u2581hopef\\u2026\",\"  0.69%\",\"  \\u2581sierp\",\"  0.65%\",\" \\u2581Einze\\u2026\",\"  0.58%\",\" \\u2581Begri\\u2026\",\"  0.49%\",\"    \\u2581\\u0444\\u0435\\u0432\",\"  0.43%\",\"  \\u2581kwiet\",\"  0.39%\"],[\"     \\u2581is\",\"  9.48%\",\"    \\u2581was\",\"  7.68%\",\"       '\",\"  6.86%\",\"  \\u003c0x0A\\u003e\",\"  3.04%\",\"       ,\",\"  2.52%\",\"       .\",\"  2.44%\",\"    \\u2581has\",\"  1.89%\",\"       \\u2019\",\"  1.84%\",\"  \\u2581seems\",\"  1.59%\",\"  \\u2581would\",\"  1.17%\"],[\"      \\u2581a\",\" 13.82%\",\"    \\u2581the\",\"  4.97%\",\"    \\u2581not\",\"  2.96%\",\"     \\u2581an\",\"  2.09%\",\"   \\u2581just\",\"  1.68%\",\"       \\u2581\",\"  1.39%\",\"  \\u2581clear\",\"  1.39%\",\" \\u2581annou\\u2026\",\"  1.35%\",\"    \\u2581all\",\"  1.31%\",\"     \\u2581in\",\"  1.01%\"],[\"  \\u2581first\",\" 11.34%\",\"   \\u2581best\",\"  4.66%\",\"       \\u2581\",\"  4.09%\",\"   \\u2581most\",\"  3.05%\",\"   \\u2581last\",\"  2.07%\",\"  \\u2581right\",\"  2.02%\",\"   \\u2581same\",\"  1.45%\",\" \\u2581second\",\"  1.21%\",\"    \\u2581end\",\"  1.17%\",\"   \\u2581only\",\"  1.17%\"],[\"     \\u2581of\",\" 29.81%\",\"    \\u2581way\",\"  5.82%\",\"  \\u2581thing\",\"  4.94%\",\"   \\u2581time\",\"  3.96%\",\" \\u2581decis\\u2026\",\"  2.64%\",\" \\u2581exper\\u2026\",\"  1.78%\",\"    \\u2581day\",\"  1.76%\",\"  \\u2581movie\",\"  1.36%\",\" \\u2581choice\",\"  1.30%\",\"   \\u2581game\",\"  1.27%\"],[\"  \\u2581times\",\" 99.13%\",\"    \\u2581the\",\"  0.17%\",\"   \\u2581time\",\"  0.11%\",\"    \\u2581tim\",\"  0.04%\",\"  \\u2581Times\",\"  0.03%\",\"   \\u2581days\",\"  0.03%\",\"     \\u2581cr\",\"  0.03%\",\"  \\u2581years\",\"  0.02%\",\"       \\u2581\",\"  0.02%\",\"      \\u2581a\",\"  0.02%\"],[\"       ,\",\" 96.66%\",\"     \\u2581it\",\"  0.60%\",\"  \\u003c0x0A\\u003e\",\"  0.44%\",\"     ...\",\"  0.39%\",\"       ;\",\"  0.35%\",\"    \\u2581and\",\"  0.29%\",\"       .\",\"  0.24%\",\"      \\u2581(\",\"  0.09%\",\"       \\\"\",\"  0.08%\",\"       :\",\"  0.07%\"],[\"     \\u2581it\",\" 99.46%\",\"  \\u003c0x0A\\u003e\",\"  0.20%\",\"    \\u2581the\",\"  0.06%\",\"       \\u2581\",\"  0.04%\",\"    \\u2581and\",\"  0.04%\",\"    \\u2581its\",\"  0.01%\",\"      it\",\"  0.01%\",\"    \\u2581but\",\"  0.01%\",\"     \\u2581or\",\"  0.01%\",\"     \\u2581It\",\"  0.01%\"],[\"    \\u2581was\",\" 99.55%\",\"     \\u2581is\",\"  0.36%\",\"  \\u003c0x0A\\u003e\",\"  0.03%\",\"   \\u2581were\",\"  0.01%\",\"   \\u2581wasn\",\"  0.01%\",\"     ...\",\"  0.01%\",\"   \\u2581will\",\"  0.00%\",\" \\u2581really\",\"  0.00%\",\"    \\u2581has\",\"  0.00%\",\"       \\u2581\",\"  0.00%\"],[\"    \\u2581the\",\" 99.91%\",\"     ...\",\"  0.02%\",\"  \\u2581worst\",\"  0.01%\",\"  \\u003c0x0A\\u003e\",\"  0.01%\",\"    \\u2581not\",\"  0.00%\",\"      \\u2581a\",\"  0.00%\",\"      \\u2581(\",\"  0.00%\",\"       \\u2581\",\"  0.00%\",\"   \\u2581also\",\"  0.00%\",\"     the\",\"  0.00%\"],[\"  \\u2581worst\",\" 99.05%\",\"  \\u2581worse\",\"  0.20%\",\"   \\u2581best\",\"  0.06%\",\"    \\u2581age\",\"  0.06%\",\"    \\u2581wor\",\"  0.04%\",\"   \\u2581most\",\"  0.03%\",\"     \\u2581bl\",\"  0.03%\",\"   \\u2581warm\",\"  0.02%\",\"    \\u2581Wor\",\"  0.02%\",\"      \\u2581b\",\"  0.02%\"],[\"     \\u2581of\",\" 99.87%\",\"  \\u003c0x0A\\u003e\",\"  0.03%\",\"       .\",\"  0.02%\",\"     ...\",\"  0.02%\",\"       ,\",\"  0.00%\",\"       :\",\"  0.00%\",\"      of\",\"  0.00%\",\"       \\\"\",\"  0.00%\",\"      \\u2581(\",\"  0.00%\",\"       \\u201d\",\"  0.00%\"],[\"  \\u2581times\",\" 99.83%\",\"     \\u2581cr\",\"  0.06%\",\"   \\u2581time\",\"  0.06%\",\"    \\u2581tim\",\"  0.01%\",\"  \\u2581Times\",\"  0.00%\",\"      \\u2581t\",\"  0.00%\",\"     ...\",\"  0.00%\",\"   \\u2581ages\",\"  0.00%\",\"   times\",\"  0.00%\",\"  \\u2581years\",\"  0.00%\"],[\"       .\",\" 17.12%\",\"      .\\\"\",\" 15.81%\",\"       ,\",\" 12.12%\",\"       \\\"\",\" 12.06%\",\"     ...\",\" 10.97%\",\"      .\\u201d\",\"  3.66%\",\"       :\",\"  2.59%\",\"  \\u003c0x0A\\u003e\",\"  2.37%\",\"      \\\".\",\"  2.30%\",\"       \\u201d\",\"  1.57%\"]]],\"hoverlabel\":{\"bgcolor\":\"rgb(42, 42, 50)\",\"font\":{\"family\":\"Monospace\"}},\"hovertemplate\":\"%{customdata[0]}%{customdata[1]}\\u003cbr\\u003e%{customdata[2]}%{customdata[3]}\\u003cbr\\u003e%{customdata[4]}%{customdata[5]}\\u003cbr\\u003e%{customdata[6]}%{customdata[7]}\\u003cbr\\u003e%{customdata[8]}%{customdata[9]}\\u003cbr\\u003e%{customdata[10]}%{customdata[11]}\\u003cbr\\u003e%{customdata[12]}%{customdata[13]}\\u003cbr\\u003e%{customdata[14]}%{customdata[15]}\\u003cbr\\u003e%{customdata[16]}%{customdata[17]}\\u003cbr\\u003e%{customdata[18]}%{customdata[19]}\\u003cbr\\u003e\\u003cextra\\u003e\\u003c\\u002fextra\\u003e\",\"text\":[[\",\",\"\\u2581is\",\"\\u2581a\",\"\\u2581same\",\"\\u2581to\",\"\\u2581the\",\",\",\"\\u2581and\",\"\\u2581is\",\"\\u2581a\",\"\\u2581same\",\"\\u2581of\",\"\\u2581the\",\",\"],[\"\\u003c0x0A\\u003e\",\"'\",\"\\u2581a\",\"\\u2581first\",\"\\u2581known\",\"\\u2581the\",\"\\u2581and\",\"\\u2581and\",\"\\u2019\",\"\\u2581a\",\"\\u2581first\",\"\\u2581of\",\"\\u2581the\",\",\"],[\"\\u003c0x0A\\u003e\",\"'\",\"\\u2581a\",\"\\u2581first\",\"\\u2581thing\",\"\\u2581the\",\",\",\"\\u2581but\",\"\\u2019\",\"\\u2581a\",\"\\u2581first\",\"\\u2581of\",\"\\u2581the\",\",\"],[\"\\u003c0x0A\\u003e\",\"'\",\"\\u2581a\",\"\\u2581first\",\"\\u2581thing\",\"\\u2581times\",\",\",\"\\u2581and\",\"\\u2019\",\"\\u2581a\",\"\\u2581last\",\",\",\"\\u2581times\",\",\"],[\"\\u003c0x0A\\u003e\",\"\\u2581is\",\"\\u2581a\",\"\\u2581first\",\"\\u2581way\",\"\\u2581times\",\",\",\"\\u003c0x0A\\u003e\",\"\\u2019\",\"\\u2581a\",\"\\u2581diffe\\u2026\",\".\",\"\\u2581times\",\"\\u2581(\"],[\"\\u003c0x0A\\u003e\",\"\\u2581is\",\"\\u2581a\",\"\\u2581first\",\"\\u2581way\",\"\\u2581times\",\",\",\"\\u2581but\",\"\\u2581was\",\"\\u2581a\",\"\\u2581b\",\"\\u2581of\",\"\\u2581times\",\"\\u2581(\"],[\"\\u003c0x0A\\u003e\",\"'\",\"\\u2581a\",\"\\u2581first\",\"\\u2581way\",\"\\u2581the\",\",\",\"\\u2581and\",\"\\u2581was\",\"\\u2581a\",\"\\u2581t\",\".\",\"\\u2581times\",\"\\u2581(\"],[\"\\u003c0x0A\\u003e\",\"'\",\"\\u2581a\",\"\\u2581first\",\"\\u2581place\",\"\\u2581times\",\",\",\"\\u003c0x0A\\u003e\",\"\\u2581was\",\"\\u2581the\",\"\\u2581best\",\"\\u2581of\",\"\\u2581times\",\"\\u2581(\"],[\"\\u003c0x0A\\u003e\",\"'\",\"\\u2581a\",\"\\u2581first\",\"\\u2581place\",\"\\u2581times\",\",\",\"\\u003c0x0A\\u003e\",\"\\u2581was\",\"\\u2581the\",\"\\u2581f\",\"\\u2581of\",\"\\u2581times\",\"\\u2581(\"],[\"\\u003c0x0A\\u003e\",\"'\",\"\\u2581a\",\"\\u2581first\",\"\\u2581place\",\"\\u2581times\",\",\",\"\\u2581it\",\"\\u2581was\",\"\\u2581the\",\"\\u2581best\",\"\\u2581of\",\"\\u2581times\",\"\\\"\"],[\"\\u003c0x0A\\u003e\",\"'\",\"\\u2581a\",\"\\u2581\",\"\\u2581of\",\"\\u2581times\",\",\",\"\\u2581it\",\"\\u2581was\",\"\\u2581the\",\"\\u2581best\",\"\\u2581of\",\"\\u2581times\",\"\\\"\"],[\"\\u003c0x0A\\u003e\",\".\",\"\\u2581a\",\"\\u2581most\",\"\\u2581decis\\u2026\",\"\\u2581times\",\",\",\"\\u2581it\",\"\\u2581was\",\"\\u2581the\",\"\\u2581best\",\"\\u2581of\",\"\\u2581times\",\"\\u003c0x0A\\u003e\"],[\"\\u003c0x0A\\u003e\",\".\",\"\\u2581a\",\"\\u2581\",\"\\u2581of\",\"\\u2581times\",\",\",\"\\u2581it\",\"\\u2581was\",\"\\u2581the\",\"\\u2581worst\",\"\\u2581of\",\"\\u2581times\",\"\\\"\"],[\"\\u003c0x0A\\u003e\",\",\",\"\\u2581a\",\"\\u2581most\",\"\\u2581of\",\"\\u2581times\",\",\",\"\\u2581it\",\"\\u2581was\",\"\\u2581the\",\"\\u2581worst\",\"\\u2581of\",\"\\u2581times\",\",\"],[\"\\u003c0x0A\\u003e\",\"\\u003c0x0A\\u003e\",\"\\u2581a\",\"\\u2581\",\"\\u2581decis\\u2026\",\"\\u2581times\",\",\",\"\\u2581it\",\"\\u2581was\",\"\\u2581the\",\"\\u2581worst\",\"\\u2581of\",\"\\u2581times\",\",\"],[\"\\u003c0x0A\\u003e\",\"\\u003c0x0A\\u003e\",\"\\u2581a\",\"\\u2581\",\"\\u2581of\",\"\\u2581times\",\",\",\"\\u2581it\",\"\\u2581was\",\"\\u2581the\",\"\\u2581worst\",\"\\u2581of\",\"\\u2581times\",\",\"],[\"\\u2581Unter\\u2026\",\"\\u2581is\",\"\\u2581a\",\"\\u2581first\",\"\\u2581of\",\"\\u2581times\",\",\",\"\\u2581it\",\"\\u2581was\",\"\\u2581the\",\"\\u2581worst\",\"\\u2581of\",\"\\u2581times\",\".\"]],\"texttemplate\":\"\\u003cb\\u003e%{text}\\u003c\\u002fb\\u003e\",\"x\":[\"\\u003cs\\u003e\",\"\\u2581it\\u200c\",\"\\u2581was\\u200c\\u200c\",\"\\u2581the\\u200c\\u200c\\u200c\",\"\\u2581best\\u200c\\u200c\\u200c\\u200c\",\"\\u2581of\\u200c\\u200c\\u200c\\u200c\\u200c\",\"\\u2581times\\u200c\\u200c\\u200c\\u200c\\u200c\\u200c\",\",\\u200c\\u200c\\u200c\\u200c\\u200c\\u200c\\u200c\",\"\\u2581it\\u200c\\u200c\\u200c\\u200c\\u200c\\u200c\\u200c\\u200c\",\"\\u2581was\\u200c\\u200c\\u200c\\u200c\\u200c\\u200c\\u200c\\u200c\\u200c\",\"\\u2581the\\u200c\\u200c\\u200c\\u200c\\u200c\\u200c\\u200c\\u200c\\u200c\\u200c\",\"\\u2581worst\\u200c\\u200c\\u200c\\u200c\\u200c\\u200c\\u200c\\u200c\\u200c\\u200c\\u200c\",\"\\u2581of\\u200c\\u200c\\u200c\\u200c\\u200c\\u200c\\u200c\\u200c\\u200c\\u200c\\u200c\\u200c\",\"\\u2581times\\u200c\\u200c\\u200c\\u200c\\u200c\\u200c\\u200c\\u200c\\u200c\\u200c\\u200c\\u200c\\u200c\"],\"y\":[\"0\",\"2\",\"4\",\"6\",\"8\",\"10\",\"12\",\"14\",\"16\",\"18\",\"20\",\"22\",\"24\",\"26\",\"28\",\"30\",\"output\"],\"z\":[[8.643756866455078,4.94474458694458,6.837599277496338,8.109574317932129,7.252832412719727,6.546538829803467,5.130352973937988,6.6834025382995605,4.94474458694458,6.837599277496338,8.109574317932129,5.64586877822876,6.546538829803467,5.130352973937988],[8.793280601501465,4.039154052734375,5.355839729309082,7.249504566192627,5.52491569519043,5.656642436981201,4.878976345062256,6.034060478210449,3.316459894180298,5.638082981109619,7.145415782928467,5.112151622772217,6.48969841003418,5.043618202209473],[8.775923728942871,4.588711738586426,6.031525135040283,5.471327304840088,6.54644775390625,4.670798301696777,3.106863498687744,5.697245121002197,3.216470241546631,5.852792739868164,6.527113914489746,4.785024642944336,5.873158931732178,3.4078075885772705],[8.804044723510742,6.1654582023620605,5.836104869842529,4.6003313064575195,6.230545997619629,4.582202911376953,3.784841537475586,4.878028869628906,3.1341536045074463,4.4770073890686035,6.549637794494629,3.3731019496917725,3.8714466094970703,3.759881019592285],[8.752188682556152,5.947011470794678,6.207884788513184,5.39702033996582,5.369115829467773,4.456374168395996,4.49199914932251,4.549655914306641,5.638014316558838,5.0673394203186035,7.269806861877441,4.008854866027832,5.427436828613281,3.774536371231079],[8.722028732299805,5.241901874542236,5.925377368927002,6.090878009796143,4.979156494140625,5.913421630859375,4.191675186157227,6.047484397888184,6.127278804779053,5.658556938171387,7.286282539367676,4.549295425415039,5.691876411437988,4.190713405609131],[8.7265625,4.801375389099121,6.154869556427002,5.81314754486084,5.5279340744018555,6.053476810455322,3.3950300216674805,5.054343223571777,5.486424446105957,4.881308078765869,6.816825866699219,5.107008934020996,7.2538533210754395,3.8103437423706055],[8.675549507141113,4.649447441101074,5.11163330078125,6.0506134033203125,5.02498197555542,5.482039451599121,3.1520907878875732,6.042983531951904,4.443345069885254,2.1994574069976807,7.002299785614014,0.4839963912963867,4.135916233062744,2.589529037475586],[8.607865333557129,3.5157079696655273,5.170969486236572,6.609202861785889,5.32025671005249,5.471586227416992,2.312079668045044,6.093435287475586,4.380880355834961,2.8434455394744873,7.007293701171875,0.9897752404212952,6.302762985229492,3.906355619430542],[8.576044082641602,3.5908565521240234,6.022003650665283,7.275788307189941,5.1334228515625,0.08543738722801208,1.1221909523010254,0.5112373232841492,0.17983438074588776,0.03704993054270744,4.594446659088135,0.10301291197538376,0.03770091012120247,3.296739101409912],[8.467779159545898,3.4811716079711914,6.82189416885376,7.938928127288818,5.12239408493042,0.0100103709846735,0.802410364151001,0.6728687286376953,0.23185300827026367,0.05188101530075073,1.9200080633163452,0.05502312630414963,0.020105993375182152,3.0091114044189453],[8.363484382629395,4.763969421386719,7.1270365715026855,8.347955703735352,6.104984283447266,0.01587626524269581,0.6256404519081116,0.4899330735206604,0.0338260717689991,0.17637042701244354,1.3618907928466797,0.056656643748283386,0.014284864999353886,2.8468852043151855],[8.349607467651367,4.438234806060791,7.110556602478027,8.002106666564941,6.101241111755371,0.13052509725093842,0.29061853885650635,0.5004866123199463,0.06583712249994278,0.07647380977869034,0.6899200081825256,0.01643151417374611,0.031768351793289185,3.0020248889923096],[8.344375610351562,5.403773784637451,7.2298126220703125,7.983510971069336,5.659558296203613,0.5344945788383484,0.2763853669166565,0.42072948813438416,0.05777191370725632,0.016869815066456795,2.3511483669281006,0.006096688099205494,0.021094882860779762,3.0936903953552246],[8.36962890625,5.7991623878479,6.860165596008301,7.625205993652344,5.061520576477051,0.2681937515735626,0.39721906185150146,0.5504453778266907,0.20516584813594818,0.04327785223722458,1.2453521490097046,0.020841510966420174,0.043825067579746246,3.7648611068725586],[8.371552467346191,6.714642524719238,6.9062676429748535,7.340480804443359,5.017162799835205,0.18953439593315125,0.7612521648406982,0.013737723231315613,0.1182481199502945,0.10901366919279099,0.9529594779014587,0.02335033193230629,0.06297078728675842,4.013504981994629],[9.309318542480469,6.049788475036621,5.812702178955078,6.478751182556152,4.4632568359375,0.09175235778093338,0.25932618975639343,0.052110232412815094,0.033796362578868866,0.01072139386087656,0.09875303506851196,0.01490931399166584,0.01627158187329769,3.0732274055480957]],\"zmax\":9.309318542480469,\"zmin\":0.006096688099205494,\"type\":\"heatmap\"}],                        {\"template\":{\"data\":{\"histogram2dcontour\":[{\"type\":\"histogram2dcontour\",\"colorbar\":{\"outlinewidth\":0,\"ticks\":\"\"},\"colorscale\":[[0.0,\"#0d0887\"],[0.1111111111111111,\"#46039f\"],[0.2222222222222222,\"#7201a8\"],[0.3333333333333333,\"#9c179e\"],[0.4444444444444444,\"#bd3786\"],[0.5555555555555556,\"#d8576b\"],[0.6666666666666666,\"#ed7953\"],[0.7777777777777778,\"#fb9f3a\"],[0.8888888888888888,\"#fdca26\"],[1.0,\"#f0f921\"]]}],\"choropleth\":[{\"type\":\"choropleth\",\"colorbar\":{\"outlinewidth\":0,\"ticks\":\"\"}}],\"histogram2d\":[{\"type\":\"histogram2d\",\"colorbar\":{\"outlinewidth\":0,\"ticks\":\"\"},\"colorscale\":[[0.0,\"#0d0887\"],[0.1111111111111111,\"#46039f\"],[0.2222222222222222,\"#7201a8\"],[0.3333333333333333,\"#9c179e\"],[0.4444444444444444,\"#bd3786\"],[0.5555555555555556,\"#d8576b\"],[0.6666666666666666,\"#ed7953\"],[0.7777777777777778,\"#fb9f3a\"],[0.8888888888888888,\"#fdca26\"],[1.0,\"#f0f921\"]]}],\"heatmap\":[{\"type\":\"heatmap\",\"colorbar\":{\"outlinewidth\":0,\"ticks\":\"\"},\"colorscale\":[[0.0,\"#0d0887\"],[0.1111111111111111,\"#46039f\"],[0.2222222222222222,\"#7201a8\"],[0.3333333333333333,\"#9c179e\"],[0.4444444444444444,\"#bd3786\"],[0.5555555555555556,\"#d8576b\"],[0.6666666666666666,\"#ed7953\"],[0.7777777777777778,\"#fb9f3a\"],[0.8888888888888888,\"#fdca26\"],[1.0,\"#f0f921\"]]}],\"heatmapgl\":[{\"type\":\"heatmapgl\",\"colorbar\":{\"outlinewidth\":0,\"ticks\":\"\"},\"colorscale\":[[0.0,\"#0d0887\"],[0.1111111111111111,\"#46039f\"],[0.2222222222222222,\"#7201a8\"],[0.3333333333333333,\"#9c179e\"],[0.4444444444444444,\"#bd3786\"],[0.5555555555555556,\"#d8576b\"],[0.6666666666666666,\"#ed7953\"],[0.7777777777777778,\"#fb9f3a\"],[0.8888888888888888,\"#fdca26\"],[1.0,\"#f0f921\"]]}],\"contourcarpet\":[{\"type\":\"contourcarpet\",\"colorbar\":{\"outlinewidth\":0,\"ticks\":\"\"}}],\"contour\":[{\"type\":\"contour\",\"colorbar\":{\"outlinewidth\":0,\"ticks\":\"\"},\"colorscale\":[[0.0,\"#0d0887\"],[0.1111111111111111,\"#46039f\"],[0.2222222222222222,\"#7201a8\"],[0.3333333333333333,\"#9c179e\"],[0.4444444444444444,\"#bd3786\"],[0.5555555555555556,\"#d8576b\"],[0.6666666666666666,\"#ed7953\"],[0.7777777777777778,\"#fb9f3a\"],[0.8888888888888888,\"#fdca26\"],[1.0,\"#f0f921\"]]}],\"surface\":[{\"type\":\"surface\",\"colorbar\":{\"outlinewidth\":0,\"ticks\":\"\"},\"colorscale\":[[0.0,\"#0d0887\"],[0.1111111111111111,\"#46039f\"],[0.2222222222222222,\"#7201a8\"],[0.3333333333333333,\"#9c179e\"],[0.4444444444444444,\"#bd3786\"],[0.5555555555555556,\"#d8576b\"],[0.6666666666666666,\"#ed7953\"],[0.7777777777777778,\"#fb9f3a\"],[0.8888888888888888,\"#fdca26\"],[1.0,\"#f0f921\"]]}],\"mesh3d\":[{\"type\":\"mesh3d\",\"colorbar\":{\"outlinewidth\":0,\"ticks\":\"\"}}],\"scatter\":[{\"fillpattern\":{\"fillmode\":\"overlay\",\"size\":10,\"solidity\":0.2},\"type\":\"scatter\"}],\"parcoords\":[{\"type\":\"parcoords\",\"line\":{\"colorbar\":{\"outlinewidth\":0,\"ticks\":\"\"}}}],\"scatterpolargl\":[{\"type\":\"scatterpolargl\",\"marker\":{\"colorbar\":{\"outlinewidth\":0,\"ticks\":\"\"}}}],\"bar\":[{\"error_x\":{\"color\":\"#2a3f5f\"},\"error_y\":{\"color\":\"#2a3f5f\"},\"marker\":{\"line\":{\"color\":\"#E5ECF6\",\"width\":0.5},\"pattern\":{\"fillmode\":\"overlay\",\"size\":10,\"solidity\":0.2}},\"type\":\"bar\"}],\"scattergeo\":[{\"type\":\"scattergeo\",\"marker\":{\"colorbar\":{\"outlinewidth\":0,\"ticks\":\"\"}}}],\"scatterpolar\":[{\"type\":\"scatterpolar\",\"marker\":{\"colorbar\":{\"outlinewidth\":0,\"ticks\":\"\"}}}],\"histogram\":[{\"marker\":{\"pattern\":{\"fillmode\":\"overlay\",\"size\":10,\"solidity\":0.2}},\"type\":\"histogram\"}],\"scattergl\":[{\"type\":\"scattergl\",\"marker\":{\"colorbar\":{\"outlinewidth\":0,\"ticks\":\"\"}}}],\"scatter3d\":[{\"type\":\"scatter3d\",\"line\":{\"colorbar\":{\"outlinewidth\":0,\"ticks\":\"\"}},\"marker\":{\"colorbar\":{\"outlinewidth\":0,\"ticks\":\"\"}}}],\"scattermapbox\":[{\"type\":\"scattermapbox\",\"marker\":{\"colorbar\":{\"outlinewidth\":0,\"ticks\":\"\"}}}],\"scatterternary\":[{\"type\":\"scatterternary\",\"marker\":{\"colorbar\":{\"outlinewidth\":0,\"ticks\":\"\"}}}],\"scattercarpet\":[{\"type\":\"scattercarpet\",\"marker\":{\"colorbar\":{\"outlinewidth\":0,\"ticks\":\"\"}}}],\"carpet\":[{\"aaxis\":{\"endlinecolor\":\"#2a3f5f\",\"gridcolor\":\"white\",\"linecolor\":\"white\",\"minorgridcolor\":\"white\",\"startlinecolor\":\"#2a3f5f\"},\"baxis\":{\"endlinecolor\":\"#2a3f5f\",\"gridcolor\":\"white\",\"linecolor\":\"white\",\"minorgridcolor\":\"white\",\"startlinecolor\":\"#2a3f5f\"},\"type\":\"carpet\"}],\"table\":[{\"cells\":{\"fill\":{\"color\":\"#EBF0F8\"},\"line\":{\"color\":\"white\"}},\"header\":{\"fill\":{\"color\":\"#C8D4E3\"},\"line\":{\"color\":\"white\"}},\"type\":\"table\"}],\"barpolar\":[{\"marker\":{\"line\":{\"color\":\"#E5ECF6\",\"width\":0.5},\"pattern\":{\"fillmode\":\"overlay\",\"size\":10,\"solidity\":0.2}},\"type\":\"barpolar\"}],\"pie\":[{\"automargin\":true,\"type\":\"pie\"}]},\"layout\":{\"autotypenumbers\":\"strict\",\"colorway\":[\"#636efa\",\"#EF553B\",\"#00cc96\",\"#ab63fa\",\"#FFA15A\",\"#19d3f3\",\"#FF6692\",\"#B6E880\",\"#FF97FF\",\"#FECB52\"],\"font\":{\"color\":\"#2a3f5f\"},\"hovermode\":\"closest\",\"hoverlabel\":{\"align\":\"left\"},\"paper_bgcolor\":\"white\",\"plot_bgcolor\":\"#E5ECF6\",\"polar\":{\"bgcolor\":\"#E5ECF6\",\"angularaxis\":{\"gridcolor\":\"white\",\"linecolor\":\"white\",\"ticks\":\"\"},\"radialaxis\":{\"gridcolor\":\"white\",\"linecolor\":\"white\",\"ticks\":\"\"}},\"ternary\":{\"bgcolor\":\"#E5ECF6\",\"aaxis\":{\"gridcolor\":\"white\",\"linecolor\":\"white\",\"ticks\":\"\"},\"baxis\":{\"gridcolor\":\"white\",\"linecolor\":\"white\",\"ticks\":\"\"},\"caxis\":{\"gridcolor\":\"white\",\"linecolor\":\"white\",\"ticks\":\"\"}},\"coloraxis\":{\"colorbar\":{\"outlinewidth\":0,\"ticks\":\"\"}},\"colorscale\":{\"sequential\":[[0.0,\"#0d0887\"],[0.1111111111111111,\"#46039f\"],[0.2222222222222222,\"#7201a8\"],[0.3333333333333333,\"#9c179e\"],[0.4444444444444444,\"#bd3786\"],[0.5555555555555556,\"#d8576b\"],[0.6666666666666666,\"#ed7953\"],[0.7777777777777778,\"#fb9f3a\"],[0.8888888888888888,\"#fdca26\"],[1.0,\"#f0f921\"]],\"sequentialminus\":[[0.0,\"#0d0887\"],[0.1111111111111111,\"#46039f\"],[0.2222222222222222,\"#7201a8\"],[0.3333333333333333,\"#9c179e\"],[0.4444444444444444,\"#bd3786\"],[0.5555555555555556,\"#d8576b\"],[0.6666666666666666,\"#ed7953\"],[0.7777777777777778,\"#fb9f3a\"],[0.8888888888888888,\"#fdca26\"],[1.0,\"#f0f921\"]],\"diverging\":[[0,\"#8e0152\"],[0.1,\"#c51b7d\"],[0.2,\"#de77ae\"],[0.3,\"#f1b6da\"],[0.4,\"#fde0ef\"],[0.5,\"#f7f7f7\"],[0.6,\"#e6f5d0\"],[0.7,\"#b8e186\"],[0.8,\"#7fbc41\"],[0.9,\"#4d9221\"],[1,\"#276419\"]]},\"xaxis\":{\"gridcolor\":\"white\",\"linecolor\":\"white\",\"ticks\":\"\",\"title\":{\"standoff\":15},\"zerolinecolor\":\"white\",\"automargin\":true,\"zerolinewidth\":2},\"yaxis\":{\"gridcolor\":\"white\",\"linecolor\":\"white\",\"ticks\":\"\",\"title\":{\"standoff\":15},\"zerolinecolor\":\"white\",\"automargin\":true,\"zerolinewidth\":2},\"scene\":{\"xaxis\":{\"backgroundcolor\":\"#E5ECF6\",\"gridcolor\":\"white\",\"linecolor\":\"white\",\"showbackground\":true,\"ticks\":\"\",\"zerolinecolor\":\"white\",\"gridwidth\":2},\"yaxis\":{\"backgroundcolor\":\"#E5ECF6\",\"gridcolor\":\"white\",\"linecolor\":\"white\",\"showbackground\":true,\"ticks\":\"\",\"zerolinecolor\":\"white\",\"gridwidth\":2},\"zaxis\":{\"backgroundcolor\":\"#E5ECF6\",\"gridcolor\":\"white\",\"linecolor\":\"white\",\"showbackground\":true,\"ticks\":\"\",\"zerolinecolor\":\"white\",\"gridwidth\":2}},\"shapedefaults\":{\"line\":{\"color\":\"#2a3f5f\"}},\"annotationdefaults\":{\"arrowcolor\":\"#2a3f5f\",\"arrowhead\":0,\"arrowwidth\":1},\"geo\":{\"bgcolor\":\"white\",\"landcolor\":\"#E5ECF6\",\"subunitcolor\":\"white\",\"showland\":true,\"showlakes\":true,\"lakecolor\":\"white\"},\"title\":{\"x\":0.05},\"mapbox\":{\"style\":\"light\"}}},\"title\":{\"text\":\"TunedLens (meta-llama\\u002fLlama-2-7b-chat-hf) entropy\",\"x\":0.5},\"width\":1320,\"xaxis\":{\"title\":{\"text\":\"Input\"}},\"yaxis\":{\"title\":{\"text\":\"Layer\"}}},                        {\"responsive\": true}                    ).then(function(){\n",
              "                            \n",
              "var gd = document.getElementById('8bb68066-d0f8-4298-95c2-3e3a456b5874');\n",
              "var x = new MutationObserver(function (mutations, observer) {{\n",
              "        var display = window.getComputedStyle(gd).display;\n",
              "        if (!display || display === 'none') {{\n",
              "            console.log([gd, 'removed!']);\n",
              "            Plotly.purge(gd);\n",
              "            observer.disconnect();\n",
              "        }}\n",
              "}});\n",
              "\n",
              "// Listen for the removal of the full notebook cells\n",
              "var notebookContainer = gd.closest('#notebook-container');\n",
              "if (notebookContainer) {{\n",
              "    x.observe(notebookContainer, {childList: true});\n",
              "}}\n",
              "\n",
              "// Listen for the clearing of the current output cell\n",
              "var outputEl = gd.closest('.output');\n",
              "if (outputEl) {{\n",
              "    x.observe(outputEl, {childList: true});\n",
              "}}\n",
              "\n",
              "                        })                };                });            </script>        </div>"
            ]
          },
          "metadata": {},
          "output_type": "display_data"
        },
        {
          "data": {
            "application/vnd.plotly.v1+json": {
              "config": {
                "plotlyServerURL": "https://plot.ly"
              },
              "data": [
                {
                  "colorbar": {
                    "title": {
                      "side": "right",
                      "text": "Entropy (nats)"
                    }
                  },
                  "colorscale": [
                    [
                      0,
                      "rgb(5,48,97)"
                    ],
                    [
                      0.1,
                      "rgb(33,102,172)"
                    ],
                    [
                      0.2,
                      "rgb(67,147,195)"
                    ],
                    [
                      0.3,
                      "rgb(146,197,222)"
                    ],
                    [
                      0.4,
                      "rgb(209,229,240)"
                    ],
                    [
                      0.5,
                      "rgb(247,247,247)"
                    ],
                    [
                      0.6,
                      "rgb(253,219,199)"
                    ],
                    [
                      0.7,
                      "rgb(244,165,130)"
                    ],
                    [
                      0.8,
                      "rgb(214,96,77)"
                    ],
                    [
                      0.9,
                      "rgb(178,24,43)"
                    ],
                    [
                      1,
                      "rgb(103,0,31)"
                    ]
                  ],
                  "customdata": [
                    [
                      [
                        "       ,",
                        "  1.85%",
                        "       .",
                        "  0.78%",
                        "  <0x0A>",
                        "  0.78%",
                        "       )",
                        "  0.75%",
                        "    ▁and",
                        "  0.68%",
                        "       ▁",
                        "  0.64%",
                        "       }",
                        "  0.55%",
                        " ▁▁▁▁▁▁▁",
                        "  0.39%",
                        "     ▁or",
                        "  0.38%",
                        "   ▁that",
                        "  0.34%"
                      ],
                      [
                        "      ke",
                        "  4.43%",
                        "       -",
                        "  3.77%",
                        "       .",
                        "  2.73%",
                        "       ,",
                        "  1.81%",
                        "       R",
                        "  1.28%",
                        "       S",
                        "  1.03%",
                        "       ’",
                        "  0.86%",
                        "      pt",
                        "  0.86%",
                        "      ia",
                        "  0.83%",
                        "       C",
                        "  0.81%"
                      ],
                      [
                        "    ▁and",
                        "  8.89%",
                        "    ▁the",
                        "  4.51%",
                        "       ▁",
                        "  3.76%",
                        "    ▁but",
                        "  2.87%",
                        "      ▁I",
                        "  1.96%",
                        "  ▁which",
                        "  1.68%",
                        "      ▁a",
                        "  1.50%",
                        "     ▁it",
                        "  1.42%",
                        "     ▁or",
                        "  1.26%",
                        "     ▁as",
                        "  1.26%"
                      ],
                      [
                        "     ▁to",
                        " 11.18%",
                        "     ▁of",
                        "  2.95%",
                        "       ,",
                        "  2.83%",
                        "    ▁the",
                        "  1.44%",
                        "     ▁in",
                        "  1.31%",
                        "    ▁for",
                        "  1.16%",
                        "     ▁if",
                        "  1.08%",
                        "       .",
                        "  1.04%",
                        "     ▁is",
                        "  0.86%",
                        "    ▁and",
                        "  0.80%"
                      ],
                      [
                        "    ▁the",
                        "  9.51%",
                        "     ▁be",
                        "  5.44%",
                        "      ▁a",
                        "  1.93%",
                        "    ▁get",
                        "  1.77%",
                        "   ▁make",
                        "  1.75%",
                        "     ▁do",
                        "  1.33%",
                        "       ▁",
                        "  1.30%",
                        "    ▁see",
                        "  1.14%",
                        "   ▁have",
                        "  0.94%",
                        "   ▁find",
                        "  0.93%"
                      ],
                      [
                        "    ings",
                        " 35.85%",
                        "    ▁the",
                        " 14.99%",
                        "     ▁in",
                        "  1.88%",
                        "     ▁up",
                        "  1.79%",
                        "   ▁that",
                        "  1.76%",
                        "     ▁to",
                        "  1.74%",
                        "   ▁with",
                        "  1.50%",
                        "     ▁at",
                        "  1.37%",
                        "      ▁a",
                        "  1.35%",
                        "    ▁and",
                        "  1.18%"
                      ],
                      [
                        "       1",
                        " 30.68%",
                        "       2",
                        " 29.67%",
                        "       3",
                        "  7.89%",
                        "       4",
                        "  5.24%",
                        "       5",
                        "  4.57%",
                        "       6",
                        "  3.28%",
                        "       0",
                        "  2.98%",
                        "       8",
                        "  2.74%",
                        "       7",
                        "  2.50%",
                        "       9",
                        "  1.81%"
                      ]
                    ],
                    [
                      [
                        "  <0x0A>",
                        " 10.44%",
                        " ▁nobody",
                        "  1.09%",
                        " ▁every…",
                        "  1.02%",
                        " ▁hopef…",
                        "  0.72%",
                        " ▁Unter…",
                        "  0.53%",
                        "    </s>",
                        "  0.41%",
                        " ▁Hinwe…",
                        "  0.37%",
                        " ▁surely",
                        "  0.33%",
                        " ▁every…",
                        "  0.32%",
                        " ▁obvio…",
                        "  0.31%"
                      ],
                      [
                        "       ,",
                        "  3.75%",
                        "       ▁",
                        "  2.01%",
                        "     ▁to",
                        "  1.89%",
                        "       :",
                        "  1.82%",
                        "       .",
                        "  1.51%",
                        "   ▁from",
                        "  1.18%",
                        "     ▁is",
                        "  0.85%",
                        "       -",
                        "  0.75%",
                        "  <0x0A>",
                        "  0.71%",
                        "      ▁t",
                        "  0.69%"
                      ],
                      [
                        "      ▁I",
                        " 10.90%",
                        "    ▁and",
                        "  5.52%",
                        "      ▁a",
                        "  3.24%",
                        "    ▁the",
                        "  2.72%",
                        " ▁anoth…",
                        "  2.45%",
                        "     ▁in",
                        "  1.68%",
                        "    ▁you",
                        "  1.64%",
                        "    ▁Car",
                        "  1.32%",
                        "     ▁we",
                        "  1.31%",
                        "    ▁who",
                        "  0.94%"
                      ],
                      [
                        "     ▁to",
                        " 12.65%",
                        "    ▁and",
                        "  5.53%",
                        "       ,",
                        "  5.44%",
                        "     ▁of",
                        "  2.95%",
                        "  ▁thing",
                        "  1.80%",
                        "    ▁for",
                        "  1.26%",
                        " ▁things",
                        "  1.13%",
                        "    ▁you",
                        "  1.07%",
                        "  ▁about",
                        "  1.04%",
                        "      ▁I",
                        "  1.01%"
                      ],
                      [
                        "    ▁see",
                        " 10.32%",
                        "     ▁be",
                        "  5.87%",
                        "    ▁you",
                        "  5.56%",
                        "     ▁me",
                        "  4.76%",
                        "   ▁have",
                        "  4.68%",
                        "     ▁do",
                        "  2.83%",
                        "    ▁get",
                        "  2.60%",
                        "   ▁know",
                        "  2.53%",
                        "    ▁put",
                        "  2.41%",
                        " ▁final…",
                        "  1.47%"
                      ],
                      [
                        "   ▁your",
                        "  6.41%",
                        "     ▁at",
                        "  5.65%",
                        "      ▁a",
                        "  5.64%",
                        "    ▁the",
                        "  4.73%",
                        "    ▁you",
                        "  4.36%",
                        "       ,",
                        "  3.68%",
                        "   ▁this",
                        "  2.60%",
                        "       !",
                        "  2.59%",
                        "       -",
                        "  2.27%",
                        "       \"",
                        "  2.10%"
                      ],
                      [
                        "       2",
                        " 40.87%",
                        "       1",
                        " 27.01%",
                        "       3",
                        "  4.80%",
                        "       5",
                        "  2.42%",
                        "       4",
                        "  2.15%",
                        "       6",
                        "  2.13%",
                        "       9",
                        "  1.97%",
                        "       7",
                        "  1.61%",
                        "       8",
                        "  1.60%",
                        "       0",
                        "  1.35%"
                      ]
                    ],
                    [
                      [
                        "  <0x0A>",
                        " 11.63%",
                        " ▁every…",
                        "  0.94%",
                        " ▁nobody",
                        "  0.92%",
                        " ▁hopef…",
                        "  0.69%",
                        "    </s>",
                        "  0.55%",
                        " ▁Unter…",
                        "  0.52%",
                        " ▁Hinwe…",
                        "  0.34%",
                        "    ▁The",
                        "  0.32%",
                        " ▁obvio…",
                        "  0.29%",
                        " ▁surely",
                        "  0.29%"
                      ],
                      [
                        "     ▁to",
                        "  5.36%",
                        "       ,",
                        "  5.17%",
                        "       .",
                        "  3.10%",
                        "     ▁is",
                        "  2.53%",
                        "       :",
                        "  2.05%",
                        "    ▁and",
                        "  1.68%",
                        "       ▁",
                        "  1.63%",
                        "       '",
                        "  1.54%",
                        "      pt",
                        "  1.45%",
                        "    ▁for",
                        "  1.21%"
                      ],
                      [
                        "    ▁you",
                        " 16.58%",
                        "     ▁we",
                        "  5.28%",
                        "    ▁and",
                        "  4.34%",
                        "      ▁I",
                        "  3.17%",
                        "     ▁is",
                        "  3.16%",
                        "      ▁a",
                        "  2.22%",
                        "     ▁as",
                        "  1.78%",
                        "       ,",
                        "  1.60%",
                        "     ▁to",
                        "  1.33%",
                        "       !",
                        "  1.29%"
                      ],
                      [
                        "       ,",
                        "  6.62%",
                        "     ▁of",
                        "  4.84%",
                        "     ▁to",
                        "  4.80%",
                        "    ▁way",
                        "  2.71%",
                        "    ▁and",
                        "  2.65%",
                        " ▁simply",
                        "  1.83%",
                        "   ▁time",
                        "  1.03%",
                        " ▁things",
                        "  0.99%",
                        "      ▁p",
                        "  0.98%",
                        "      ▁I",
                        "  0.96%"
                      ],
                      [
                        "    ▁see",
                        " 12.57%",
                        "   ▁know",
                        "  5.85%",
                        "    ▁you",
                        "  3.92%",
                        "    ▁say",
                        "  2.98%",
                        "      ▁b",
                        "  2.25%",
                        "     ▁be",
                        "  1.46%",
                        "    ▁use",
                        "  1.29%",
                        "    ▁new",
                        "  1.22%",
                        "    ▁gre",
                        "  1.05%",
                        "    ▁bed",
                        "  0.71%"
                      ],
                      [
                        "   ▁your",
                        " 29.81%",
                        "    ▁you",
                        " 14.19%",
                        "       !",
                        "  3.17%",
                        "    ▁new",
                        "  2.39%",
                        "       ,",
                        "  1.87%",
                        "    ings",
                        "  1.29%",
                        "       .",
                        "  1.25%",
                        "     ▁at",
                        "  0.91%",
                        "      ▁a",
                        "  0.89%",
                        "       ?",
                        "  0.84%"
                      ],
                      [
                        "       1",
                        "  7.42%",
                        "       2",
                        "  5.35%",
                        "       0",
                        "  2.68%",
                        "    ings",
                        "  1.72%",
                        "       g",
                        "  1.60%",
                        "       3",
                        "  1.48%",
                        "       Y",
                        "  1.45%",
                        "       5",
                        "  1.36%",
                        "       s",
                        "  1.16%",
                        "       8",
                        "  1.10%"
                      ]
                    ],
                    [
                      [
                        "  <0x0A>",
                        " 12.34%",
                        " ▁nobody",
                        "  1.02%",
                        " ▁every…",
                        "  0.92%",
                        " ▁hopef…",
                        "  0.65%",
                        " ▁Unter…",
                        "  0.59%",
                        "    </s>",
                        "  0.59%",
                        " ▁Hinwe…",
                        "  0.37%",
                        "       ▁",
                        "  0.32%",
                        " ▁surely",
                        "  0.29%",
                        " ▁obvio…",
                        "  0.28%"
                      ],
                      [
                        "       ,",
                        " 17.85%",
                        "     ▁to",
                        "  5.25%",
                        "       .",
                        "  5.12%",
                        "       -",
                        "  4.62%",
                        "       !",
                        "  3.14%",
                        "      pt",
                        "  2.83%",
                        "       ▁",
                        "  1.68%",
                        "    ▁and",
                        "  1.60%",
                        "   ▁from",
                        "  1.51%",
                        "       :",
                        "  1.45%"
                      ],
                      [
                        "      ▁I",
                        " 13.82%",
                        "    ▁you",
                        " 13.34%",
                        "       !",
                        "  4.21%",
                        "      ▁a",
                        "  3.67%",
                        "    ▁and",
                        "  2.71%",
                        "    ▁the",
                        "  2.55%",
                        "   ▁this",
                        "  1.97%",
                        "     ▁my",
                        "  1.80%",
                        "   ▁with",
                        "  1.77%",
                        "     ▁as",
                        "  1.69%"
                      ],
                      [
                        " ▁looki…",
                        "  7.49%",
                        "     ▁to",
                        "  6.56%",
                        "    ▁you",
                        "  2.55%",
                        "  ▁place",
                        "  1.79%",
                        "   ▁time",
                        "  1.72%",
                        "     ▁of",
                        "  1.71%",
                        "    ▁new",
                        "  1.40%",
                        " ▁welco…",
                        "  1.35%",
                        "    ▁job",
                        "  1.28%",
                        "   ▁your",
                        "  1.24%"
                      ],
                      [
                        "    ▁see",
                        " 42.89%",
                        "   ▁know",
                        "  5.76%",
                        "    ▁you",
                        "  4.64%",
                        "     ▁be",
                        "  3.05%",
                        "   ▁hear",
                        "  2.09%",
                        "    ▁gre",
                        "  1.74%",
                        "    ▁new",
                        "  1.62%",
                        "     ▁me",
                        "  0.98%",
                        "       !",
                        "  0.75%",
                        "   ▁here",
                        "  0.73%"
                      ],
                      [
                        "    ▁you",
                        " 36.37%",
                        "   ▁your",
                        " 12.92%",
                        "    abol",
                        "  2.52%",
                        "       !",
                        "  2.20%",
                        "    ▁new",
                        "  2.14%",
                        "    ings",
                        "  1.88%",
                        "      em",
                        "  1.86%",
                        "       .",
                        "  1.15%",
                        "     ▁me",
                        "  0.93%",
                        "     ica",
                        "  0.62%"
                      ],
                      [
                        "       1",
                        " 11.15%",
                        "       2",
                        " 10.15%",
                        "       3",
                        "  3.64%",
                        "       6",
                        "  2.55%",
                        "       ?",
                        "  2.27%",
                        "       0",
                        "  2.04%",
                        "       7",
                        "  1.87%",
                        "      ▁-",
                        "  1.66%",
                        "  <0x0A>",
                        "  1.44%",
                        "       5",
                        "  1.40%"
                      ]
                    ],
                    [
                      [
                        "  <0x0A>",
                        " 12.98%",
                        " ▁nobody",
                        "  1.21%",
                        " ▁every…",
                        "  1.10%",
                        " ▁Unter…",
                        "  0.77%",
                        " ▁hopef…",
                        "  0.65%",
                        "    </s>",
                        "  0.57%",
                        " ▁Hinwe…",
                        "  0.52%",
                        " ▁every…",
                        "  0.39%",
                        " ▁surely",
                        "  0.30%",
                        "    ▁and",
                        "  0.28%"
                      ],
                      [
                        "       ,",
                        " 32.73%",
                        "       !",
                        " 13.24%",
                        "       -",
                        "  7.23%",
                        "       .",
                        "  6.11%",
                        "  ▁there",
                        "  4.55%",
                        "    bern",
                        "  3.44%",
                        "     ▁to",
                        "  2.86%",
                        "       ▁",
                        "  2.74%",
                        "    atus",
                        "  2.35%",
                        "    ▁and",
                        "  1.57%"
                      ],
                      [
                        "      ▁I",
                        " 31.29%",
                        "  <0x0A>",
                        " 16.07%",
                        "       !",
                        " 12.78%",
                        "     ▁my",
                        "  3.43%",
                        "    ▁and",
                        "  2.39%",
                        "       I",
                        "  2.30%",
                        "    ▁the",
                        "  1.05%",
                        "       ▁",
                        "  0.92%",
                        "     ▁as",
                        "  0.86%",
                        "     ▁in",
                        "  0.77%"
                      ],
                      [
                        "     ▁to",
                        " 36.67%",
                        " ▁looki…",
                        "  5.95%",
                        "     ▁of",
                        "  4.29%",
                        "       ,",
                        "  3.49%",
                        " ▁websi…",
                        "  3.13%",
                        "   ▁site",
                        "  2.78%",
                        "   ▁post",
                        "  2.37%",
                        "       -",
                        "  2.12%",
                        "    ▁and",
                        "  2.05%",
                        " ▁artic…",
                        "  1.78%"
                      ],
                      [
                        "    ▁see",
                        " 32.51%",
                        "   ▁meet",
                        " 11.53%",
                        "     ▁be",
                        "  8.92%",
                        "   ▁here",
                        "  7.00%",
                        "   ▁know",
                        "  6.11%",
                        "    ▁you",
                        "  4.31%",
                        "   ▁hear",
                        "  1.54%",
                        " ▁meeti…",
                        "  1.18%",
                        "       ▁",
                        "  0.89%",
                        "   ▁have",
                        "  0.86%"
                      ],
                      [
                        "    ▁you",
                        " 97.00%",
                        "    ings",
                        "  1.03%",
                        "    ▁You",
                        "  0.30%",
                        "   ▁your",
                        "  0.12%",
                        "       ,",
                        "  0.11%",
                        "       !",
                        "  0.08%",
                        "    ▁the",
                        "  0.07%",
                        "     ▁of",
                        "  0.07%",
                        "       .",
                        "  0.05%",
                        "    ▁and",
                        "  0.05%"
                      ],
                      [
                        "       1",
                        "  9.34%",
                        "       2",
                        "  7.58%",
                        "       3",
                        "  5.18%",
                        "       '",
                        "  3.39%",
                        "       5",
                        "  3.27%",
                        "       7",
                        "  2.36%",
                        "       4",
                        "  2.12%",
                        "       6",
                        "  1.93%",
                        "       !",
                        "  1.80%",
                        "       0",
                        "  1.57%"
                      ]
                    ],
                    [
                      [
                        "  <0x0A>",
                        " 12.87%",
                        " ▁nobody",
                        "  1.38%",
                        " ▁every…",
                        "  1.29%",
                        " ▁Unter…",
                        "  0.83%",
                        " ▁hopef…",
                        "  0.80%",
                        " ▁every…",
                        "  0.57%",
                        " ▁Hinwe…",
                        "  0.54%",
                        "    </s>",
                        "  0.52%",
                        "       ▁",
                        "  0.46%",
                        "    ▁and",
                        "  0.40%"
                      ],
                      [
                        "       ,",
                        " 19.42%",
                        "  ▁there",
                        " 15.68%",
                        "       !",
                        " 15.49%",
                        "    ▁all",
                        " 10.40%",
                        "       .",
                        "  3.85%",
                        "  ▁There",
                        "  2.83%",
                        "       -",
                        "  2.12%",
                        "    ▁and",
                        "  1.76%",
                        "       ▁",
                        "  1.74%",
                        "     ▁to",
                        "  1.15%"
                      ],
                      [
                        "      ▁I",
                        " 41.79%",
                        "  <0x0A>",
                        " 11.65%",
                        "       !",
                        "  4.28%",
                        "       I",
                        "  4.04%",
                        "    ▁and",
                        "  3.31%",
                        "     ▁my",
                        "  2.63%",
                        "      ▁i",
                        "  1.36%",
                        "     ▁is",
                        "  1.15%",
                        "       .",
                        "  0.76%",
                        "       ▁",
                        "  0.70%"
                      ],
                      [
                        "     ▁to",
                        " 82.17%",
                        "   ▁post",
                        "  0.83%",
                        "   ▁site",
                        "  0.76%",
                        " ▁artic…",
                        "  0.60%",
                        "   ▁work",
                        "  0.57%",
                        "       .",
                        "  0.53%",
                        "   ▁blog",
                        "  0.48%",
                        "       !",
                        "  0.40%",
                        " ▁websi…",
                        "  0.37%",
                        "       ,",
                        "  0.35%"
                      ],
                      [
                        "   ▁meet",
                        " 83.79%",
                        " ▁meeti…",
                        "  7.32%",
                        "     ▁be",
                        "  2.41%",
                        "    ▁met",
                        "  1.43%",
                        "    ▁see",
                        "  1.29%",
                        "  ▁meets",
                        "  0.89%",
                        "     ▁Me",
                        "  0.84%",
                        "     ▁me",
                        "  0.34%",
                        "   ▁have",
                        "  0.14%",
                        "   ▁meat",
                        "  0.12%"
                      ],
                      [
                        "    ▁you",
                        " 96.44%",
                        "    ▁You",
                        "  0.84%",
                        "     You",
                        "  0.25%",
                        "       .",
                        "  0.17%",
                        "       !",
                        "  0.13%",
                        "       -",
                        "  0.13%",
                        "    ▁the",
                        "  0.11%",
                        "       ,",
                        "  0.10%",
                        "     you",
                        "  0.10%",
                        "   ▁your",
                        "  0.09%"
                      ],
                      [
                        "    ▁you",
                        " 22.20%",
                        "     you",
                        "  6.78%",
                        "     You",
                        "  5.43%",
                        "       1",
                        "  4.23%",
                        "       2",
                        "  3.50%",
                        "       3",
                        "  1.96%",
                        "  <0xE2>",
                        "  1.82%",
                        "    ▁You",
                        "  1.48%",
                        "       9",
                        "  1.27%",
                        "       5",
                        "  0.98%"
                      ]
                    ],
                    [
                      [
                        "  <0x0A>",
                        " 14.07%",
                        " ▁nobody",
                        "  1.26%",
                        " ▁every…",
                        "  1.11%",
                        " ▁hopef…",
                        "  0.68%",
                        " ▁Unter…",
                        "  0.59%",
                        "       ▁",
                        "  0.51%",
                        "    </s>",
                        "  0.47%",
                        " ▁every…",
                        "  0.42%",
                        " ▁Hinwe…",
                        "  0.34%",
                        " ▁obvio…",
                        "  0.31%"
                      ],
                      [
                        "  ▁there",
                        " 55.64%",
                        "       ,",
                        " 12.37%",
                        "       !",
                        "  7.38%",
                        "    ▁all",
                        "  4.99%",
                        "       -",
                        "  2.32%",
                        "       .",
                        "  1.82%",
                        "  ▁There",
                        "  1.78%",
                        "      pp",
                        "  1.03%",
                        "      ▁I",
                        "  0.61%",
                        "       ▁",
                        "  0.51%"
                      ],
                      [
                        "      ▁I",
                        " 81.45%",
                        "    ▁and",
                        "  2.07%",
                        "     ▁my",
                        "  1.53%",
                        "  <0x0A>",
                        "  1.49%",
                        "     ▁is",
                        "  0.74%",
                        "       I",
                        "  0.71%",
                        "   ▁this",
                        "  0.44%",
                        "    ▁all",
                        "  0.37%",
                        " ▁welco…",
                        "  0.34%",
                        "   ▁does",
                        "  0.26%"
                      ],
                      [
                        "     ▁to",
                        " 89.32%",
                        " ▁artic…",
                        "  0.58%",
                        " ▁websi…",
                        "  0.55%",
                        "   ▁site",
                        "  0.39%",
                        "   ▁blog",
                        "  0.34%",
                        "   ▁post",
                        "  0.32%",
                        "    ▁job",
                        "  0.23%",
                        "     ▁of",
                        "  0.22%",
                        "       ,",
                        "  0.18%",
                        "       .",
                        "  0.18%"
                      ],
                      [
                        "   ▁meet",
                        " 88.37%",
                        "    ▁see",
                        "  4.84%",
                        "   ▁hear",
                        "  1.48%",
                        "     ▁be",
                        "  1.19%",
                        " ▁meeti…",
                        "  1.11%",
                        "  ▁meets",
                        "  0.33%",
                        "   ▁meat",
                        "  0.27%",
                        "   ▁have",
                        "  0.21%",
                        "   ▁know",
                        "  0.20%",
                        "      ▁e",
                        "  0.19%"
                      ],
                      [
                        "    ▁you",
                        " 99.44%",
                        "    ▁You",
                        "  0.31%",
                        "     you",
                        "  0.02%",
                        "     You",
                        "  0.02%",
                        "     ▁ya",
                        "  0.01%",
                        "       ,",
                        "  0.01%",
                        "       !",
                        "  0.01%",
                        "       .",
                        "  0.01%",
                        "      ▁u",
                        "  0.01%",
                        "      ▁y",
                        "  0.01%"
                      ],
                      [
                        "    ▁you",
                        " 92.48%",
                        "     you",
                        "  1.75%",
                        "     cha",
                        "  0.51%",
                        "       你",
                        "  0.47%",
                        "     ▁ya",
                        "  0.27%",
                        "     You",
                        "  0.26%",
                        "   ▁vous",
                        "  0.19%",
                        "    ▁cha",
                        "  0.13%",
                        "    ▁You",
                        "  0.12%",
                        "      ▁y",
                        "  0.11%"
                      ]
                    ],
                    [
                      [
                        " ▁Unter…",
                        "  1.80%",
                        " ▁nobody",
                        "  1.39%",
                        " ▁every…",
                        "  0.98%",
                        " ▁Hinwe…",
                        "  0.94%",
                        " ▁hopef…",
                        "  0.69%",
                        "  ▁sierp",
                        "  0.65%",
                        " ▁Einze…",
                        "  0.58%",
                        " ▁Begri…",
                        "  0.49%",
                        "    ▁фев",
                        "  0.43%",
                        "  ▁kwiet",
                        "  0.39%"
                      ],
                      [
                        "       ,",
                        " 21.97%",
                        "  ▁there",
                        " 17.92%",
                        " ▁every…",
                        "  8.62%",
                        "       !",
                        "  8.31%",
                        "    ▁all",
                        "  5.99%",
                        "      pp",
                        "  1.75%",
                        "       -",
                        "  1.71%",
                        "   ▁guys",
                        "  1.61%",
                        "      ▁I",
                        "  1.07%",
                        "  ▁again",
                        "  1.02%"
                      ],
                      [
                        "      ▁I",
                        " 52.45%",
                        "     ▁my",
                        " 14.20%",
                        "  <0x0A>",
                        "  2.99%",
                        " ▁every…",
                        "  2.54%",
                        "     ▁My",
                        "  2.02%",
                        "    ▁and",
                        "  1.91%",
                        " ▁welco…",
                        "  1.64%",
                        "   ▁this",
                        "  0.97%",
                        "    ▁fol",
                        "  0.82%",
                        "     ▁is",
                        "  0.76%"
                      ],
                      [
                        "     ▁to",
                        " 94.58%",
                        "   ▁blog",
                        "  0.78%",
                        "   ▁site",
                        "  0.36%",
                        "   ▁post",
                        "  0.34%",
                        " ▁artic…",
                        "  0.33%",
                        "     ▁of",
                        "  0.25%",
                        " ▁meeti…",
                        "  0.25%",
                        " ▁websi…",
                        "  0.17%",
                        "    ▁job",
                        "  0.12%",
                        "   ▁work",
                        "  0.12%"
                      ],
                      [
                        "   ▁meet",
                        " 89.99%",
                        "    ▁see",
                        "  5.18%",
                        "     ▁be",
                        "  1.06%",
                        "   ▁hear",
                        "  0.96%",
                        "   ▁talk",
                        "  0.51%",
                        "   ▁know",
                        "  0.48%",
                        " ▁conne…",
                        "  0.46%",
                        "   ▁have",
                        "  0.30%",
                        "      ▁e",
                        "  0.22%",
                        "   ▁find",
                        "  0.14%"
                      ],
                      [
                        "    ▁you",
                        " 99.77%",
                        "     ▁ya",
                        "  0.11%",
                        "      ▁u",
                        "  0.06%",
                        "    ▁You",
                        "  0.01%",
                        "      ▁y",
                        "  0.01%",
                        "   ▁your",
                        "  0.01%",
                        "       !",
                        "  0.01%",
                        "   ▁here",
                        "  0.00%",
                        "    ▁all",
                        "  0.00%",
                        "   ▁with",
                        "  0.00%"
                      ],
                      [
                        "    ▁you",
                        " 72.32%",
                        "       你",
                        " 14.94%",
                        "  <0xF0>",
                        "  4.79%",
                        "       あ",
                        "  1.87%",
                        "  <0x0A>",
                        "  0.71%",
                        "     ▁ya",
                        "  0.48%",
                        "  <0xEB>",
                        "  0.44%",
                        "     you",
                        "  0.30%",
                        "      ▁у",
                        "  0.23%",
                        "      ▁u",
                        "  0.19%"
                      ]
                    ]
                  ],
                  "hoverlabel": {
                    "bgcolor": "rgb(42, 42, 50)",
                    "font": {
                      "family": "Monospace"
                    }
                  },
                  "hovertemplate": "%{customdata[0]}%{customdata[1]}<br>%{customdata[2]}%{customdata[3]}<br>%{customdata[4]}%{customdata[5]}<br>%{customdata[6]}%{customdata[7]}<br>%{customdata[8]}%{customdata[9]}<br>%{customdata[10]}%{customdata[11]}<br>%{customdata[12]}%{customdata[13]}<br>%{customdata[14]}%{customdata[15]}<br>%{customdata[16]}%{customdata[17]}<br>%{customdata[18]}%{customdata[19]}<br><extra></extra>",
                  "text": [
                    [
                      ",",
                      "ke",
                      "▁and",
                      "▁to",
                      "▁the",
                      "ings",
                      "1"
                    ],
                    [
                      "<0x0A>",
                      ",",
                      "▁I",
                      "▁to",
                      "▁see",
                      "▁your",
                      "2"
                    ],
                    [
                      "<0x0A>",
                      "▁to",
                      "▁you",
                      ",",
                      "▁see",
                      "▁your",
                      "1"
                    ],
                    [
                      "<0x0A>",
                      ",",
                      "▁I",
                      "▁looki…",
                      "▁see",
                      "▁you",
                      "1"
                    ],
                    [
                      "<0x0A>",
                      ",",
                      "▁I",
                      "▁to",
                      "▁see",
                      "▁you",
                      "1"
                    ],
                    [
                      "<0x0A>",
                      ",",
                      "▁I",
                      "▁to",
                      "▁meet",
                      "▁you",
                      "▁you"
                    ],
                    [
                      "<0x0A>",
                      "▁there",
                      "▁I",
                      "▁to",
                      "▁meet",
                      "▁you",
                      "▁you"
                    ],
                    [
                      "▁Unter…",
                      ",",
                      "▁I",
                      "▁to",
                      "▁meet",
                      "▁you",
                      "▁you"
                    ]
                  ],
                  "texttemplate": "<b>%{text}</b>",
                  "type": "heatmap",
                  "x": [
                    "<s>",
                    "▁Hi‌",
                    ",‌‌",
                    "▁nice‌‌‌",
                    "▁to‌‌‌‌",
                    "▁meet‌‌‌‌‌",
                    "▁‌‌‌‌‌‌"
                  ],
                  "y": [
                    "0",
                    "5",
                    "10",
                    "15",
                    "20",
                    "25",
                    "30",
                    "output"
                  ],
                  "z": [
                    [
                      8.643757820129395,
                      7.3946943283081055,
                      6.683403491973877,
                      7.034645080566406,
                      6.938541412353516,
                      4.06189489364624,
                      2.524077892303467
                    ],
                    [
                      8.808579444885254,
                      7.6753644943237305,
                      6.228818893432617,
                      6.262721538543701,
                      5.95065975189209,
                      5.3894805908203125,
                      2.683926582336426
                    ],
                    [
                      8.722026824951172,
                      7.061732769012451,
                      5.989287376403809,
                      6.39218282699585,
                      6.529048442840576,
                      4.821202754974365,
                      6.995512008666992
                    ],
                    [
                      8.652432441711426,
                      5.750861167907715,
                      5.4223785400390625,
                      6.459333419799805,
                      4.166115760803223,
                      4.301852226257324,
                      6.230738639831543
                    ],
                    [
                      8.46777629852295,
                      3.469287872314453,
                      3.772010087966919,
                      4.048347473144531,
                      3.590106964111328,
                      0.25346246361732483,
                      6.300985336303711
                    ],
                    [
                      8.308481216430664,
                      3.791783332824707,
                      3.609668016433716,
                      1.6483049392700195,
                      0.8128632307052612,
                      0.31919366121292114,
                      5.645663738250732
                    ],
                    [
                      8.371553421020508,
                      2.345780611038208,
                      1.5265374183654785,
                      1.0691763162612915,
                      0.6625342965126038,
                      0.05375339090824127,
                      0.6625751852989197
                    ],
                    [
                      9.30931568145752,
                      4.0261335372924805,
                      2.627293586730957,
                      0.4738929271697998,
                      0.5181077122688293,
                      0.021434824913740158,
                      1.240488886833191
                    ]
                  ],
                  "zmax": 9.30931568145752,
                  "zmin": 0.021434824913740158
                }
              ],
              "layout": {
                "template": {
                  "data": {
                    "bar": [
                      {
                        "error_x": {
                          "color": "#2a3f5f"
                        },
                        "error_y": {
                          "color": "#2a3f5f"
                        },
                        "marker": {
                          "line": {
                            "color": "#E5ECF6",
                            "width": 0.5
                          },
                          "pattern": {
                            "fillmode": "overlay",
                            "size": 10,
                            "solidity": 0.2
                          }
                        },
                        "type": "bar"
                      }
                    ],
                    "barpolar": [
                      {
                        "marker": {
                          "line": {
                            "color": "#E5ECF6",
                            "width": 0.5
                          },
                          "pattern": {
                            "fillmode": "overlay",
                            "size": 10,
                            "solidity": 0.2
                          }
                        },
                        "type": "barpolar"
                      }
                    ],
                    "carpet": [
                      {
                        "aaxis": {
                          "endlinecolor": "#2a3f5f",
                          "gridcolor": "white",
                          "linecolor": "white",
                          "minorgridcolor": "white",
                          "startlinecolor": "#2a3f5f"
                        },
                        "baxis": {
                          "endlinecolor": "#2a3f5f",
                          "gridcolor": "white",
                          "linecolor": "white",
                          "minorgridcolor": "white",
                          "startlinecolor": "#2a3f5f"
                        },
                        "type": "carpet"
                      }
                    ],
                    "choropleth": [
                      {
                        "colorbar": {
                          "outlinewidth": 0,
                          "ticks": ""
                        },
                        "type": "choropleth"
                      }
                    ],
                    "contour": [
                      {
                        "colorbar": {
                          "outlinewidth": 0,
                          "ticks": ""
                        },
                        "colorscale": [
                          [
                            0,
                            "#0d0887"
                          ],
                          [
                            0.1111111111111111,
                            "#46039f"
                          ],
                          [
                            0.2222222222222222,
                            "#7201a8"
                          ],
                          [
                            0.3333333333333333,
                            "#9c179e"
                          ],
                          [
                            0.4444444444444444,
                            "#bd3786"
                          ],
                          [
                            0.5555555555555556,
                            "#d8576b"
                          ],
                          [
                            0.6666666666666666,
                            "#ed7953"
                          ],
                          [
                            0.7777777777777778,
                            "#fb9f3a"
                          ],
                          [
                            0.8888888888888888,
                            "#fdca26"
                          ],
                          [
                            1,
                            "#f0f921"
                          ]
                        ],
                        "type": "contour"
                      }
                    ],
                    "contourcarpet": [
                      {
                        "colorbar": {
                          "outlinewidth": 0,
                          "ticks": ""
                        },
                        "type": "contourcarpet"
                      }
                    ],
                    "heatmap": [
                      {
                        "colorbar": {
                          "outlinewidth": 0,
                          "ticks": ""
                        },
                        "colorscale": [
                          [
                            0,
                            "#0d0887"
                          ],
                          [
                            0.1111111111111111,
                            "#46039f"
                          ],
                          [
                            0.2222222222222222,
                            "#7201a8"
                          ],
                          [
                            0.3333333333333333,
                            "#9c179e"
                          ],
                          [
                            0.4444444444444444,
                            "#bd3786"
                          ],
                          [
                            0.5555555555555556,
                            "#d8576b"
                          ],
                          [
                            0.6666666666666666,
                            "#ed7953"
                          ],
                          [
                            0.7777777777777778,
                            "#fb9f3a"
                          ],
                          [
                            0.8888888888888888,
                            "#fdca26"
                          ],
                          [
                            1,
                            "#f0f921"
                          ]
                        ],
                        "type": "heatmap"
                      }
                    ],
                    "heatmapgl": [
                      {
                        "colorbar": {
                          "outlinewidth": 0,
                          "ticks": ""
                        },
                        "colorscale": [
                          [
                            0,
                            "#0d0887"
                          ],
                          [
                            0.1111111111111111,
                            "#46039f"
                          ],
                          [
                            0.2222222222222222,
                            "#7201a8"
                          ],
                          [
                            0.3333333333333333,
                            "#9c179e"
                          ],
                          [
                            0.4444444444444444,
                            "#bd3786"
                          ],
                          [
                            0.5555555555555556,
                            "#d8576b"
                          ],
                          [
                            0.6666666666666666,
                            "#ed7953"
                          ],
                          [
                            0.7777777777777778,
                            "#fb9f3a"
                          ],
                          [
                            0.8888888888888888,
                            "#fdca26"
                          ],
                          [
                            1,
                            "#f0f921"
                          ]
                        ],
                        "type": "heatmapgl"
                      }
                    ],
                    "histogram": [
                      {
                        "marker": {
                          "pattern": {
                            "fillmode": "overlay",
                            "size": 10,
                            "solidity": 0.2
                          }
                        },
                        "type": "histogram"
                      }
                    ],
                    "histogram2d": [
                      {
                        "colorbar": {
                          "outlinewidth": 0,
                          "ticks": ""
                        },
                        "colorscale": [
                          [
                            0,
                            "#0d0887"
                          ],
                          [
                            0.1111111111111111,
                            "#46039f"
                          ],
                          [
                            0.2222222222222222,
                            "#7201a8"
                          ],
                          [
                            0.3333333333333333,
                            "#9c179e"
                          ],
                          [
                            0.4444444444444444,
                            "#bd3786"
                          ],
                          [
                            0.5555555555555556,
                            "#d8576b"
                          ],
                          [
                            0.6666666666666666,
                            "#ed7953"
                          ],
                          [
                            0.7777777777777778,
                            "#fb9f3a"
                          ],
                          [
                            0.8888888888888888,
                            "#fdca26"
                          ],
                          [
                            1,
                            "#f0f921"
                          ]
                        ],
                        "type": "histogram2d"
                      }
                    ],
                    "histogram2dcontour": [
                      {
                        "colorbar": {
                          "outlinewidth": 0,
                          "ticks": ""
                        },
                        "colorscale": [
                          [
                            0,
                            "#0d0887"
                          ],
                          [
                            0.1111111111111111,
                            "#46039f"
                          ],
                          [
                            0.2222222222222222,
                            "#7201a8"
                          ],
                          [
                            0.3333333333333333,
                            "#9c179e"
                          ],
                          [
                            0.4444444444444444,
                            "#bd3786"
                          ],
                          [
                            0.5555555555555556,
                            "#d8576b"
                          ],
                          [
                            0.6666666666666666,
                            "#ed7953"
                          ],
                          [
                            0.7777777777777778,
                            "#fb9f3a"
                          ],
                          [
                            0.8888888888888888,
                            "#fdca26"
                          ],
                          [
                            1,
                            "#f0f921"
                          ]
                        ],
                        "type": "histogram2dcontour"
                      }
                    ],
                    "mesh3d": [
                      {
                        "colorbar": {
                          "outlinewidth": 0,
                          "ticks": ""
                        },
                        "type": "mesh3d"
                      }
                    ],
                    "parcoords": [
                      {
                        "line": {
                          "colorbar": {
                            "outlinewidth": 0,
                            "ticks": ""
                          }
                        },
                        "type": "parcoords"
                      }
                    ],
                    "pie": [
                      {
                        "automargin": true,
                        "type": "pie"
                      }
                    ],
                    "scatter": [
                      {
                        "fillpattern": {
                          "fillmode": "overlay",
                          "size": 10,
                          "solidity": 0.2
                        },
                        "type": "scatter"
                      }
                    ],
                    "scatter3d": [
                      {
                        "line": {
                          "colorbar": {
                            "outlinewidth": 0,
                            "ticks": ""
                          }
                        },
                        "marker": {
                          "colorbar": {
                            "outlinewidth": 0,
                            "ticks": ""
                          }
                        },
                        "type": "scatter3d"
                      }
                    ],
                    "scattercarpet": [
                      {
                        "marker": {
                          "colorbar": {
                            "outlinewidth": 0,
                            "ticks": ""
                          }
                        },
                        "type": "scattercarpet"
                      }
                    ],
                    "scattergeo": [
                      {
                        "marker": {
                          "colorbar": {
                            "outlinewidth": 0,
                            "ticks": ""
                          }
                        },
                        "type": "scattergeo"
                      }
                    ],
                    "scattergl": [
                      {
                        "marker": {
                          "colorbar": {
                            "outlinewidth": 0,
                            "ticks": ""
                          }
                        },
                        "type": "scattergl"
                      }
                    ],
                    "scattermapbox": [
                      {
                        "marker": {
                          "colorbar": {
                            "outlinewidth": 0,
                            "ticks": ""
                          }
                        },
                        "type": "scattermapbox"
                      }
                    ],
                    "scatterpolar": [
                      {
                        "marker": {
                          "colorbar": {
                            "outlinewidth": 0,
                            "ticks": ""
                          }
                        },
                        "type": "scatterpolar"
                      }
                    ],
                    "scatterpolargl": [
                      {
                        "marker": {
                          "colorbar": {
                            "outlinewidth": 0,
                            "ticks": ""
                          }
                        },
                        "type": "scatterpolargl"
                      }
                    ],
                    "scatterternary": [
                      {
                        "marker": {
                          "colorbar": {
                            "outlinewidth": 0,
                            "ticks": ""
                          }
                        },
                        "type": "scatterternary"
                      }
                    ],
                    "surface": [
                      {
                        "colorbar": {
                          "outlinewidth": 0,
                          "ticks": ""
                        },
                        "colorscale": [
                          [
                            0,
                            "#0d0887"
                          ],
                          [
                            0.1111111111111111,
                            "#46039f"
                          ],
                          [
                            0.2222222222222222,
                            "#7201a8"
                          ],
                          [
                            0.3333333333333333,
                            "#9c179e"
                          ],
                          [
                            0.4444444444444444,
                            "#bd3786"
                          ],
                          [
                            0.5555555555555556,
                            "#d8576b"
                          ],
                          [
                            0.6666666666666666,
                            "#ed7953"
                          ],
                          [
                            0.7777777777777778,
                            "#fb9f3a"
                          ],
                          [
                            0.8888888888888888,
                            "#fdca26"
                          ],
                          [
                            1,
                            "#f0f921"
                          ]
                        ],
                        "type": "surface"
                      }
                    ],
                    "table": [
                      {
                        "cells": {
                          "fill": {
                            "color": "#EBF0F8"
                          },
                          "line": {
                            "color": "white"
                          }
                        },
                        "header": {
                          "fill": {
                            "color": "#C8D4E3"
                          },
                          "line": {
                            "color": "white"
                          }
                        },
                        "type": "table"
                      }
                    ]
                  },
                  "layout": {
                    "annotationdefaults": {
                      "arrowcolor": "#2a3f5f",
                      "arrowhead": 0,
                      "arrowwidth": 1
                    },
                    "autotypenumbers": "strict",
                    "coloraxis": {
                      "colorbar": {
                        "outlinewidth": 0,
                        "ticks": ""
                      }
                    },
                    "colorscale": {
                      "diverging": [
                        [
                          0,
                          "#8e0152"
                        ],
                        [
                          0.1,
                          "#c51b7d"
                        ],
                        [
                          0.2,
                          "#de77ae"
                        ],
                        [
                          0.3,
                          "#f1b6da"
                        ],
                        [
                          0.4,
                          "#fde0ef"
                        ],
                        [
                          0.5,
                          "#f7f7f7"
                        ],
                        [
                          0.6,
                          "#e6f5d0"
                        ],
                        [
                          0.7,
                          "#b8e186"
                        ],
                        [
                          0.8,
                          "#7fbc41"
                        ],
                        [
                          0.9,
                          "#4d9221"
                        ],
                        [
                          1,
                          "#276419"
                        ]
                      ],
                      "sequential": [
                        [
                          0,
                          "#0d0887"
                        ],
                        [
                          0.1111111111111111,
                          "#46039f"
                        ],
                        [
                          0.2222222222222222,
                          "#7201a8"
                        ],
                        [
                          0.3333333333333333,
                          "#9c179e"
                        ],
                        [
                          0.4444444444444444,
                          "#bd3786"
                        ],
                        [
                          0.5555555555555556,
                          "#d8576b"
                        ],
                        [
                          0.6666666666666666,
                          "#ed7953"
                        ],
                        [
                          0.7777777777777778,
                          "#fb9f3a"
                        ],
                        [
                          0.8888888888888888,
                          "#fdca26"
                        ],
                        [
                          1,
                          "#f0f921"
                        ]
                      ],
                      "sequentialminus": [
                        [
                          0,
                          "#0d0887"
                        ],
                        [
                          0.1111111111111111,
                          "#46039f"
                        ],
                        [
                          0.2222222222222222,
                          "#7201a8"
                        ],
                        [
                          0.3333333333333333,
                          "#9c179e"
                        ],
                        [
                          0.4444444444444444,
                          "#bd3786"
                        ],
                        [
                          0.5555555555555556,
                          "#d8576b"
                        ],
                        [
                          0.6666666666666666,
                          "#ed7953"
                        ],
                        [
                          0.7777777777777778,
                          "#fb9f3a"
                        ],
                        [
                          0.8888888888888888,
                          "#fdca26"
                        ],
                        [
                          1,
                          "#f0f921"
                        ]
                      ]
                    },
                    "colorway": [
                      "#636efa",
                      "#EF553B",
                      "#00cc96",
                      "#ab63fa",
                      "#FFA15A",
                      "#19d3f3",
                      "#FF6692",
                      "#B6E880",
                      "#FF97FF",
                      "#FECB52"
                    ],
                    "font": {
                      "color": "#2a3f5f"
                    },
                    "geo": {
                      "bgcolor": "white",
                      "lakecolor": "white",
                      "landcolor": "#E5ECF6",
                      "showlakes": true,
                      "showland": true,
                      "subunitcolor": "white"
                    },
                    "hoverlabel": {
                      "align": "left"
                    },
                    "hovermode": "closest",
                    "mapbox": {
                      "style": "light"
                    },
                    "paper_bgcolor": "white",
                    "plot_bgcolor": "#E5ECF6",
                    "polar": {
                      "angularaxis": {
                        "gridcolor": "white",
                        "linecolor": "white",
                        "ticks": ""
                      },
                      "bgcolor": "#E5ECF6",
                      "radialaxis": {
                        "gridcolor": "white",
                        "linecolor": "white",
                        "ticks": ""
                      }
                    },
                    "scene": {
                      "xaxis": {
                        "backgroundcolor": "#E5ECF6",
                        "gridcolor": "white",
                        "gridwidth": 2,
                        "linecolor": "white",
                        "showbackground": true,
                        "ticks": "",
                        "zerolinecolor": "white"
                      },
                      "yaxis": {
                        "backgroundcolor": "#E5ECF6",
                        "gridcolor": "white",
                        "gridwidth": 2,
                        "linecolor": "white",
                        "showbackground": true,
                        "ticks": "",
                        "zerolinecolor": "white"
                      },
                      "zaxis": {
                        "backgroundcolor": "#E5ECF6",
                        "gridcolor": "white",
                        "gridwidth": 2,
                        "linecolor": "white",
                        "showbackground": true,
                        "ticks": "",
                        "zerolinecolor": "white"
                      }
                    },
                    "shapedefaults": {
                      "line": {
                        "color": "#2a3f5f"
                      }
                    },
                    "ternary": {
                      "aaxis": {
                        "gridcolor": "white",
                        "linecolor": "white",
                        "ticks": ""
                      },
                      "baxis": {
                        "gridcolor": "white",
                        "linecolor": "white",
                        "ticks": ""
                      },
                      "bgcolor": "#E5ECF6",
                      "caxis": {
                        "gridcolor": "white",
                        "linecolor": "white",
                        "ticks": ""
                      }
                    },
                    "title": {
                      "x": 0.05
                    },
                    "xaxis": {
                      "automargin": true,
                      "gridcolor": "white",
                      "linecolor": "white",
                      "ticks": "",
                      "title": {
                        "standoff": 15
                      },
                      "zerolinecolor": "white",
                      "zerolinewidth": 2
                    },
                    "yaxis": {
                      "automargin": true,
                      "gridcolor": "white",
                      "linecolor": "white",
                      "ticks": "",
                      "title": {
                        "standoff": 15
                      },
                      "zerolinecolor": "white",
                      "zerolinewidth": 2
                    }
                  }
                },
                "title": {
                  "text": "TunedLens (meta-llama/Llama-2-7b-chat-hf) entropy",
                  "x": 0.5
                },
                "width": 760,
                "xaxis": {
                  "title": {
                    "text": "Input"
                  }
                },
                "yaxis": {
                  "title": {
                    "text": "Layer"
                  }
                }
              }
            },
            "text/html": [
              "<div>                            <div id=\"250f33bb-bfc0-402e-a9a9-7e8cbaa2ee20\" class=\"plotly-graph-div\" style=\"height:525px; width:760px;\"></div>            <script type=\"text/javascript\">                require([\"plotly\"], function(Plotly) {                    window.PLOTLYENV=window.PLOTLYENV || {};                                    if (document.getElementById(\"250f33bb-bfc0-402e-a9a9-7e8cbaa2ee20\")) {                    Plotly.newPlot(                        \"250f33bb-bfc0-402e-a9a9-7e8cbaa2ee20\",                        [{\"colorbar\":{\"title\":{\"side\":\"right\",\"text\":\"Entropy (nats)\"}},\"colorscale\":[[0.0,\"rgb(5,48,97)\"],[0.1,\"rgb(33,102,172)\"],[0.2,\"rgb(67,147,195)\"],[0.3,\"rgb(146,197,222)\"],[0.4,\"rgb(209,229,240)\"],[0.5,\"rgb(247,247,247)\"],[0.6,\"rgb(253,219,199)\"],[0.7,\"rgb(244,165,130)\"],[0.8,\"rgb(214,96,77)\"],[0.9,\"rgb(178,24,43)\"],[1.0,\"rgb(103,0,31)\"]],\"customdata\":[[[\"       ,\",\"  1.85%\",\"       .\",\"  0.78%\",\"  \\u003c0x0A\\u003e\",\"  0.78%\",\"       )\",\"  0.75%\",\"    \\u2581and\",\"  0.68%\",\"       \\u2581\",\"  0.64%\",\"       }\",\"  0.55%\",\" \\u2581\\u2581\\u2581\\u2581\\u2581\\u2581\\u2581\",\"  0.39%\",\"     \\u2581or\",\"  0.38%\",\"   \\u2581that\",\"  0.34%\"],[\"      ke\",\"  4.43%\",\"       -\",\"  3.77%\",\"       .\",\"  2.73%\",\"       ,\",\"  1.81%\",\"       R\",\"  1.28%\",\"       S\",\"  1.03%\",\"       \\u2019\",\"  0.86%\",\"      pt\",\"  0.86%\",\"      ia\",\"  0.83%\",\"       C\",\"  0.81%\"],[\"    \\u2581and\",\"  8.89%\",\"    \\u2581the\",\"  4.51%\",\"       \\u2581\",\"  3.76%\",\"    \\u2581but\",\"  2.87%\",\"      \\u2581I\",\"  1.96%\",\"  \\u2581which\",\"  1.68%\",\"      \\u2581a\",\"  1.50%\",\"     \\u2581it\",\"  1.42%\",\"     \\u2581or\",\"  1.26%\",\"     \\u2581as\",\"  1.26%\"],[\"     \\u2581to\",\" 11.18%\",\"     \\u2581of\",\"  2.95%\",\"       ,\",\"  2.83%\",\"    \\u2581the\",\"  1.44%\",\"     \\u2581in\",\"  1.31%\",\"    \\u2581for\",\"  1.16%\",\"     \\u2581if\",\"  1.08%\",\"       .\",\"  1.04%\",\"     \\u2581is\",\"  0.86%\",\"    \\u2581and\",\"  0.80%\"],[\"    \\u2581the\",\"  9.51%\",\"     \\u2581be\",\"  5.44%\",\"      \\u2581a\",\"  1.93%\",\"    \\u2581get\",\"  1.77%\",\"   \\u2581make\",\"  1.75%\",\"     \\u2581do\",\"  1.33%\",\"       \\u2581\",\"  1.30%\",\"    \\u2581see\",\"  1.14%\",\"   \\u2581have\",\"  0.94%\",\"   \\u2581find\",\"  0.93%\"],[\"    ings\",\" 35.85%\",\"    \\u2581the\",\" 14.99%\",\"     \\u2581in\",\"  1.88%\",\"     \\u2581up\",\"  1.79%\",\"   \\u2581that\",\"  1.76%\",\"     \\u2581to\",\"  1.74%\",\"   \\u2581with\",\"  1.50%\",\"     \\u2581at\",\"  1.37%\",\"      \\u2581a\",\"  1.35%\",\"    \\u2581and\",\"  1.18%\"],[\"       1\",\" 30.68%\",\"       2\",\" 29.67%\",\"       3\",\"  7.89%\",\"       4\",\"  5.24%\",\"       5\",\"  4.57%\",\"       6\",\"  3.28%\",\"       0\",\"  2.98%\",\"       8\",\"  2.74%\",\"       7\",\"  2.50%\",\"       9\",\"  1.81%\"]],[[\"  \\u003c0x0A\\u003e\",\" 10.44%\",\" \\u2581nobody\",\"  1.09%\",\" \\u2581every\\u2026\",\"  1.02%\",\" \\u2581hopef\\u2026\",\"  0.72%\",\" \\u2581Unter\\u2026\",\"  0.53%\",\"    \\u003c\\u002fs\\u003e\",\"  0.41%\",\" \\u2581Hinwe\\u2026\",\"  0.37%\",\" \\u2581surely\",\"  0.33%\",\" \\u2581every\\u2026\",\"  0.32%\",\" \\u2581obvio\\u2026\",\"  0.31%\"],[\"       ,\",\"  3.75%\",\"       \\u2581\",\"  2.01%\",\"     \\u2581to\",\"  1.89%\",\"       :\",\"  1.82%\",\"       .\",\"  1.51%\",\"   \\u2581from\",\"  1.18%\",\"     \\u2581is\",\"  0.85%\",\"       -\",\"  0.75%\",\"  \\u003c0x0A\\u003e\",\"  0.71%\",\"      \\u2581t\",\"  0.69%\"],[\"      \\u2581I\",\" 10.90%\",\"    \\u2581and\",\"  5.52%\",\"      \\u2581a\",\"  3.24%\",\"    \\u2581the\",\"  2.72%\",\" \\u2581anoth\\u2026\",\"  2.45%\",\"     \\u2581in\",\"  1.68%\",\"    \\u2581you\",\"  1.64%\",\"    \\u2581Car\",\"  1.32%\",\"     \\u2581we\",\"  1.31%\",\"    \\u2581who\",\"  0.94%\"],[\"     \\u2581to\",\" 12.65%\",\"    \\u2581and\",\"  5.53%\",\"       ,\",\"  5.44%\",\"     \\u2581of\",\"  2.95%\",\"  \\u2581thing\",\"  1.80%\",\"    \\u2581for\",\"  1.26%\",\" \\u2581things\",\"  1.13%\",\"    \\u2581you\",\"  1.07%\",\"  \\u2581about\",\"  1.04%\",\"      \\u2581I\",\"  1.01%\"],[\"    \\u2581see\",\" 10.32%\",\"     \\u2581be\",\"  5.87%\",\"    \\u2581you\",\"  5.56%\",\"     \\u2581me\",\"  4.76%\",\"   \\u2581have\",\"  4.68%\",\"     \\u2581do\",\"  2.83%\",\"    \\u2581get\",\"  2.60%\",\"   \\u2581know\",\"  2.53%\",\"    \\u2581put\",\"  2.41%\",\" \\u2581final\\u2026\",\"  1.47%\"],[\"   \\u2581your\",\"  6.41%\",\"     \\u2581at\",\"  5.65%\",\"      \\u2581a\",\"  5.64%\",\"    \\u2581the\",\"  4.73%\",\"    \\u2581you\",\"  4.36%\",\"       ,\",\"  3.68%\",\"   \\u2581this\",\"  2.60%\",\"       !\",\"  2.59%\",\"       -\",\"  2.27%\",\"       \\\"\",\"  2.10%\"],[\"       2\",\" 40.87%\",\"       1\",\" 27.01%\",\"       3\",\"  4.80%\",\"       5\",\"  2.42%\",\"       4\",\"  2.15%\",\"       6\",\"  2.13%\",\"       9\",\"  1.97%\",\"       7\",\"  1.61%\",\"       8\",\"  1.60%\",\"       0\",\"  1.35%\"]],[[\"  \\u003c0x0A\\u003e\",\" 11.63%\",\" \\u2581every\\u2026\",\"  0.94%\",\" \\u2581nobody\",\"  0.92%\",\" \\u2581hopef\\u2026\",\"  0.69%\",\"    \\u003c\\u002fs\\u003e\",\"  0.55%\",\" \\u2581Unter\\u2026\",\"  0.52%\",\" \\u2581Hinwe\\u2026\",\"  0.34%\",\"    \\u2581The\",\"  0.32%\",\" \\u2581obvio\\u2026\",\"  0.29%\",\" \\u2581surely\",\"  0.29%\"],[\"     \\u2581to\",\"  5.36%\",\"       ,\",\"  5.17%\",\"       .\",\"  3.10%\",\"     \\u2581is\",\"  2.53%\",\"       :\",\"  2.05%\",\"    \\u2581and\",\"  1.68%\",\"       \\u2581\",\"  1.63%\",\"       '\",\"  1.54%\",\"      pt\",\"  1.45%\",\"    \\u2581for\",\"  1.21%\"],[\"    \\u2581you\",\" 16.58%\",\"     \\u2581we\",\"  5.28%\",\"    \\u2581and\",\"  4.34%\",\"      \\u2581I\",\"  3.17%\",\"     \\u2581is\",\"  3.16%\",\"      \\u2581a\",\"  2.22%\",\"     \\u2581as\",\"  1.78%\",\"       ,\",\"  1.60%\",\"     \\u2581to\",\"  1.33%\",\"       !\",\"  1.29%\"],[\"       ,\",\"  6.62%\",\"     \\u2581of\",\"  4.84%\",\"     \\u2581to\",\"  4.80%\",\"    \\u2581way\",\"  2.71%\",\"    \\u2581and\",\"  2.65%\",\" \\u2581simply\",\"  1.83%\",\"   \\u2581time\",\"  1.03%\",\" \\u2581things\",\"  0.99%\",\"      \\u2581p\",\"  0.98%\",\"      \\u2581I\",\"  0.96%\"],[\"    \\u2581see\",\" 12.57%\",\"   \\u2581know\",\"  5.85%\",\"    \\u2581you\",\"  3.92%\",\"    \\u2581say\",\"  2.98%\",\"      \\u2581b\",\"  2.25%\",\"     \\u2581be\",\"  1.46%\",\"    \\u2581use\",\"  1.29%\",\"    \\u2581new\",\"  1.22%\",\"    \\u2581gre\",\"  1.05%\",\"    \\u2581bed\",\"  0.71%\"],[\"   \\u2581your\",\" 29.81%\",\"    \\u2581you\",\" 14.19%\",\"       !\",\"  3.17%\",\"    \\u2581new\",\"  2.39%\",\"       ,\",\"  1.87%\",\"    ings\",\"  1.29%\",\"       .\",\"  1.25%\",\"     \\u2581at\",\"  0.91%\",\"      \\u2581a\",\"  0.89%\",\"       ?\",\"  0.84%\"],[\"       1\",\"  7.42%\",\"       2\",\"  5.35%\",\"       0\",\"  2.68%\",\"    ings\",\"  1.72%\",\"       g\",\"  1.60%\",\"       3\",\"  1.48%\",\"       Y\",\"  1.45%\",\"       5\",\"  1.36%\",\"       s\",\"  1.16%\",\"       8\",\"  1.10%\"]],[[\"  \\u003c0x0A\\u003e\",\" 12.34%\",\" \\u2581nobody\",\"  1.02%\",\" \\u2581every\\u2026\",\"  0.92%\",\" \\u2581hopef\\u2026\",\"  0.65%\",\" \\u2581Unter\\u2026\",\"  0.59%\",\"    \\u003c\\u002fs\\u003e\",\"  0.59%\",\" \\u2581Hinwe\\u2026\",\"  0.37%\",\"       \\u2581\",\"  0.32%\",\" \\u2581surely\",\"  0.29%\",\" \\u2581obvio\\u2026\",\"  0.28%\"],[\"       ,\",\" 17.85%\",\"     \\u2581to\",\"  5.25%\",\"       .\",\"  5.12%\",\"       -\",\"  4.62%\",\"       !\",\"  3.14%\",\"      pt\",\"  2.83%\",\"       \\u2581\",\"  1.68%\",\"    \\u2581and\",\"  1.60%\",\"   \\u2581from\",\"  1.51%\",\"       :\",\"  1.45%\"],[\"      \\u2581I\",\" 13.82%\",\"    \\u2581you\",\" 13.34%\",\"       !\",\"  4.21%\",\"      \\u2581a\",\"  3.67%\",\"    \\u2581and\",\"  2.71%\",\"    \\u2581the\",\"  2.55%\",\"   \\u2581this\",\"  1.97%\",\"     \\u2581my\",\"  1.80%\",\"   \\u2581with\",\"  1.77%\",\"     \\u2581as\",\"  1.69%\"],[\" \\u2581looki\\u2026\",\"  7.49%\",\"     \\u2581to\",\"  6.56%\",\"    \\u2581you\",\"  2.55%\",\"  \\u2581place\",\"  1.79%\",\"   \\u2581time\",\"  1.72%\",\"     \\u2581of\",\"  1.71%\",\"    \\u2581new\",\"  1.40%\",\" \\u2581welco\\u2026\",\"  1.35%\",\"    \\u2581job\",\"  1.28%\",\"   \\u2581your\",\"  1.24%\"],[\"    \\u2581see\",\" 42.89%\",\"   \\u2581know\",\"  5.76%\",\"    \\u2581you\",\"  4.64%\",\"     \\u2581be\",\"  3.05%\",\"   \\u2581hear\",\"  2.09%\",\"    \\u2581gre\",\"  1.74%\",\"    \\u2581new\",\"  1.62%\",\"     \\u2581me\",\"  0.98%\",\"       !\",\"  0.75%\",\"   \\u2581here\",\"  0.73%\"],[\"    \\u2581you\",\" 36.37%\",\"   \\u2581your\",\" 12.92%\",\"    abol\",\"  2.52%\",\"       !\",\"  2.20%\",\"    \\u2581new\",\"  2.14%\",\"    ings\",\"  1.88%\",\"      em\",\"  1.86%\",\"       .\",\"  1.15%\",\"     \\u2581me\",\"  0.93%\",\"     ica\",\"  0.62%\"],[\"       1\",\" 11.15%\",\"       2\",\" 10.15%\",\"       3\",\"  3.64%\",\"       6\",\"  2.55%\",\"       ?\",\"  2.27%\",\"       0\",\"  2.04%\",\"       7\",\"  1.87%\",\"      \\u2581-\",\"  1.66%\",\"  \\u003c0x0A\\u003e\",\"  1.44%\",\"       5\",\"  1.40%\"]],[[\"  \\u003c0x0A\\u003e\",\" 12.98%\",\" \\u2581nobody\",\"  1.21%\",\" \\u2581every\\u2026\",\"  1.10%\",\" \\u2581Unter\\u2026\",\"  0.77%\",\" \\u2581hopef\\u2026\",\"  0.65%\",\"    \\u003c\\u002fs\\u003e\",\"  0.57%\",\" \\u2581Hinwe\\u2026\",\"  0.52%\",\" \\u2581every\\u2026\",\"  0.39%\",\" \\u2581surely\",\"  0.30%\",\"    \\u2581and\",\"  0.28%\"],[\"       ,\",\" 32.73%\",\"       !\",\" 13.24%\",\"       -\",\"  7.23%\",\"       .\",\"  6.11%\",\"  \\u2581there\",\"  4.55%\",\"    bern\",\"  3.44%\",\"     \\u2581to\",\"  2.86%\",\"       \\u2581\",\"  2.74%\",\"    atus\",\"  2.35%\",\"    \\u2581and\",\"  1.57%\"],[\"      \\u2581I\",\" 31.29%\",\"  \\u003c0x0A\\u003e\",\" 16.07%\",\"       !\",\" 12.78%\",\"     \\u2581my\",\"  3.43%\",\"    \\u2581and\",\"  2.39%\",\"       I\",\"  2.30%\",\"    \\u2581the\",\"  1.05%\",\"       \\u2581\",\"  0.92%\",\"     \\u2581as\",\"  0.86%\",\"     \\u2581in\",\"  0.77%\"],[\"     \\u2581to\",\" 36.67%\",\" \\u2581looki\\u2026\",\"  5.95%\",\"     \\u2581of\",\"  4.29%\",\"       ,\",\"  3.49%\",\" \\u2581websi\\u2026\",\"  3.13%\",\"   \\u2581site\",\"  2.78%\",\"   \\u2581post\",\"  2.37%\",\"       -\",\"  2.12%\",\"    \\u2581and\",\"  2.05%\",\" \\u2581artic\\u2026\",\"  1.78%\"],[\"    \\u2581see\",\" 32.51%\",\"   \\u2581meet\",\" 11.53%\",\"     \\u2581be\",\"  8.92%\",\"   \\u2581here\",\"  7.00%\",\"   \\u2581know\",\"  6.11%\",\"    \\u2581you\",\"  4.31%\",\"   \\u2581hear\",\"  1.54%\",\" \\u2581meeti\\u2026\",\"  1.18%\",\"       \\u2581\",\"  0.89%\",\"   \\u2581have\",\"  0.86%\"],[\"    \\u2581you\",\" 97.00%\",\"    ings\",\"  1.03%\",\"    \\u2581You\",\"  0.30%\",\"   \\u2581your\",\"  0.12%\",\"       ,\",\"  0.11%\",\"       !\",\"  0.08%\",\"    \\u2581the\",\"  0.07%\",\"     \\u2581of\",\"  0.07%\",\"       .\",\"  0.05%\",\"    \\u2581and\",\"  0.05%\"],[\"       1\",\"  9.34%\",\"       2\",\"  7.58%\",\"       3\",\"  5.18%\",\"       '\",\"  3.39%\",\"       5\",\"  3.27%\",\"       7\",\"  2.36%\",\"       4\",\"  2.12%\",\"       6\",\"  1.93%\",\"       !\",\"  1.80%\",\"       0\",\"  1.57%\"]],[[\"  \\u003c0x0A\\u003e\",\" 12.87%\",\" \\u2581nobody\",\"  1.38%\",\" \\u2581every\\u2026\",\"  1.29%\",\" \\u2581Unter\\u2026\",\"  0.83%\",\" \\u2581hopef\\u2026\",\"  0.80%\",\" \\u2581every\\u2026\",\"  0.57%\",\" \\u2581Hinwe\\u2026\",\"  0.54%\",\"    \\u003c\\u002fs\\u003e\",\"  0.52%\",\"       \\u2581\",\"  0.46%\",\"    \\u2581and\",\"  0.40%\"],[\"       ,\",\" 19.42%\",\"  \\u2581there\",\" 15.68%\",\"       !\",\" 15.49%\",\"    \\u2581all\",\" 10.40%\",\"       .\",\"  3.85%\",\"  \\u2581There\",\"  2.83%\",\"       -\",\"  2.12%\",\"    \\u2581and\",\"  1.76%\",\"       \\u2581\",\"  1.74%\",\"     \\u2581to\",\"  1.15%\"],[\"      \\u2581I\",\" 41.79%\",\"  \\u003c0x0A\\u003e\",\" 11.65%\",\"       !\",\"  4.28%\",\"       I\",\"  4.04%\",\"    \\u2581and\",\"  3.31%\",\"     \\u2581my\",\"  2.63%\",\"      \\u2581i\",\"  1.36%\",\"     \\u2581is\",\"  1.15%\",\"       .\",\"  0.76%\",\"       \\u2581\",\"  0.70%\"],[\"     \\u2581to\",\" 82.17%\",\"   \\u2581post\",\"  0.83%\",\"   \\u2581site\",\"  0.76%\",\" \\u2581artic\\u2026\",\"  0.60%\",\"   \\u2581work\",\"  0.57%\",\"       .\",\"  0.53%\",\"   \\u2581blog\",\"  0.48%\",\"       !\",\"  0.40%\",\" \\u2581websi\\u2026\",\"  0.37%\",\"       ,\",\"  0.35%\"],[\"   \\u2581meet\",\" 83.79%\",\" \\u2581meeti\\u2026\",\"  7.32%\",\"     \\u2581be\",\"  2.41%\",\"    \\u2581met\",\"  1.43%\",\"    \\u2581see\",\"  1.29%\",\"  \\u2581meets\",\"  0.89%\",\"     \\u2581Me\",\"  0.84%\",\"     \\u2581me\",\"  0.34%\",\"   \\u2581have\",\"  0.14%\",\"   \\u2581meat\",\"  0.12%\"],[\"    \\u2581you\",\" 96.44%\",\"    \\u2581You\",\"  0.84%\",\"     You\",\"  0.25%\",\"       .\",\"  0.17%\",\"       !\",\"  0.13%\",\"       -\",\"  0.13%\",\"    \\u2581the\",\"  0.11%\",\"       ,\",\"  0.10%\",\"     you\",\"  0.10%\",\"   \\u2581your\",\"  0.09%\"],[\"    \\u2581you\",\" 22.20%\",\"     you\",\"  6.78%\",\"     You\",\"  5.43%\",\"       1\",\"  4.23%\",\"       2\",\"  3.50%\",\"       3\",\"  1.96%\",\"  \\u003c0xE2\\u003e\",\"  1.82%\",\"    \\u2581You\",\"  1.48%\",\"       9\",\"  1.27%\",\"       5\",\"  0.98%\"]],[[\"  \\u003c0x0A\\u003e\",\" 14.07%\",\" \\u2581nobody\",\"  1.26%\",\" \\u2581every\\u2026\",\"  1.11%\",\" \\u2581hopef\\u2026\",\"  0.68%\",\" \\u2581Unter\\u2026\",\"  0.59%\",\"       \\u2581\",\"  0.51%\",\"    \\u003c\\u002fs\\u003e\",\"  0.47%\",\" \\u2581every\\u2026\",\"  0.42%\",\" \\u2581Hinwe\\u2026\",\"  0.34%\",\" \\u2581obvio\\u2026\",\"  0.31%\"],[\"  \\u2581there\",\" 55.64%\",\"       ,\",\" 12.37%\",\"       !\",\"  7.38%\",\"    \\u2581all\",\"  4.99%\",\"       -\",\"  2.32%\",\"       .\",\"  1.82%\",\"  \\u2581There\",\"  1.78%\",\"      pp\",\"  1.03%\",\"      \\u2581I\",\"  0.61%\",\"       \\u2581\",\"  0.51%\"],[\"      \\u2581I\",\" 81.45%\",\"    \\u2581and\",\"  2.07%\",\"     \\u2581my\",\"  1.53%\",\"  \\u003c0x0A\\u003e\",\"  1.49%\",\"     \\u2581is\",\"  0.74%\",\"       I\",\"  0.71%\",\"   \\u2581this\",\"  0.44%\",\"    \\u2581all\",\"  0.37%\",\" \\u2581welco\\u2026\",\"  0.34%\",\"   \\u2581does\",\"  0.26%\"],[\"     \\u2581to\",\" 89.32%\",\" \\u2581artic\\u2026\",\"  0.58%\",\" \\u2581websi\\u2026\",\"  0.55%\",\"   \\u2581site\",\"  0.39%\",\"   \\u2581blog\",\"  0.34%\",\"   \\u2581post\",\"  0.32%\",\"    \\u2581job\",\"  0.23%\",\"     \\u2581of\",\"  0.22%\",\"       ,\",\"  0.18%\",\"       .\",\"  0.18%\"],[\"   \\u2581meet\",\" 88.37%\",\"    \\u2581see\",\"  4.84%\",\"   \\u2581hear\",\"  1.48%\",\"     \\u2581be\",\"  1.19%\",\" \\u2581meeti\\u2026\",\"  1.11%\",\"  \\u2581meets\",\"  0.33%\",\"   \\u2581meat\",\"  0.27%\",\"   \\u2581have\",\"  0.21%\",\"   \\u2581know\",\"  0.20%\",\"      \\u2581e\",\"  0.19%\"],[\"    \\u2581you\",\" 99.44%\",\"    \\u2581You\",\"  0.31%\",\"     you\",\"  0.02%\",\"     You\",\"  0.02%\",\"     \\u2581ya\",\"  0.01%\",\"       ,\",\"  0.01%\",\"       !\",\"  0.01%\",\"       .\",\"  0.01%\",\"      \\u2581u\",\"  0.01%\",\"      \\u2581y\",\"  0.01%\"],[\"    \\u2581you\",\" 92.48%\",\"     you\",\"  1.75%\",\"     cha\",\"  0.51%\",\"       \\u4f60\",\"  0.47%\",\"     \\u2581ya\",\"  0.27%\",\"     You\",\"  0.26%\",\"   \\u2581vous\",\"  0.19%\",\"    \\u2581cha\",\"  0.13%\",\"    \\u2581You\",\"  0.12%\",\"      \\u2581y\",\"  0.11%\"]],[[\" \\u2581Unter\\u2026\",\"  1.80%\",\" \\u2581nobody\",\"  1.39%\",\" \\u2581every\\u2026\",\"  0.98%\",\" \\u2581Hinwe\\u2026\",\"  0.94%\",\" \\u2581hopef\\u2026\",\"  0.69%\",\"  \\u2581sierp\",\"  0.65%\",\" \\u2581Einze\\u2026\",\"  0.58%\",\" \\u2581Begri\\u2026\",\"  0.49%\",\"    \\u2581\\u0444\\u0435\\u0432\",\"  0.43%\",\"  \\u2581kwiet\",\"  0.39%\"],[\"       ,\",\" 21.97%\",\"  \\u2581there\",\" 17.92%\",\" \\u2581every\\u2026\",\"  8.62%\",\"       !\",\"  8.31%\",\"    \\u2581all\",\"  5.99%\",\"      pp\",\"  1.75%\",\"       -\",\"  1.71%\",\"   \\u2581guys\",\"  1.61%\",\"      \\u2581I\",\"  1.07%\",\"  \\u2581again\",\"  1.02%\"],[\"      \\u2581I\",\" 52.45%\",\"     \\u2581my\",\" 14.20%\",\"  \\u003c0x0A\\u003e\",\"  2.99%\",\" \\u2581every\\u2026\",\"  2.54%\",\"     \\u2581My\",\"  2.02%\",\"    \\u2581and\",\"  1.91%\",\" \\u2581welco\\u2026\",\"  1.64%\",\"   \\u2581this\",\"  0.97%\",\"    \\u2581fol\",\"  0.82%\",\"     \\u2581is\",\"  0.76%\"],[\"     \\u2581to\",\" 94.58%\",\"   \\u2581blog\",\"  0.78%\",\"   \\u2581site\",\"  0.36%\",\"   \\u2581post\",\"  0.34%\",\" \\u2581artic\\u2026\",\"  0.33%\",\"     \\u2581of\",\"  0.25%\",\" \\u2581meeti\\u2026\",\"  0.25%\",\" \\u2581websi\\u2026\",\"  0.17%\",\"    \\u2581job\",\"  0.12%\",\"   \\u2581work\",\"  0.12%\"],[\"   \\u2581meet\",\" 89.99%\",\"    \\u2581see\",\"  5.18%\",\"     \\u2581be\",\"  1.06%\",\"   \\u2581hear\",\"  0.96%\",\"   \\u2581talk\",\"  0.51%\",\"   \\u2581know\",\"  0.48%\",\" \\u2581conne\\u2026\",\"  0.46%\",\"   \\u2581have\",\"  0.30%\",\"      \\u2581e\",\"  0.22%\",\"   \\u2581find\",\"  0.14%\"],[\"    \\u2581you\",\" 99.77%\",\"     \\u2581ya\",\"  0.11%\",\"      \\u2581u\",\"  0.06%\",\"    \\u2581You\",\"  0.01%\",\"      \\u2581y\",\"  0.01%\",\"   \\u2581your\",\"  0.01%\",\"       !\",\"  0.01%\",\"   \\u2581here\",\"  0.00%\",\"    \\u2581all\",\"  0.00%\",\"   \\u2581with\",\"  0.00%\"],[\"    \\u2581you\",\" 72.32%\",\"       \\u4f60\",\" 14.94%\",\"  \\u003c0xF0\\u003e\",\"  4.79%\",\"       \\u3042\",\"  1.87%\",\"  \\u003c0x0A\\u003e\",\"  0.71%\",\"     \\u2581ya\",\"  0.48%\",\"  \\u003c0xEB\\u003e\",\"  0.44%\",\"     you\",\"  0.30%\",\"      \\u2581\\u0443\",\"  0.23%\",\"      \\u2581u\",\"  0.19%\"]]],\"hoverlabel\":{\"bgcolor\":\"rgb(42, 42, 50)\",\"font\":{\"family\":\"Monospace\"}},\"hovertemplate\":\"%{customdata[0]}%{customdata[1]}\\u003cbr\\u003e%{customdata[2]}%{customdata[3]}\\u003cbr\\u003e%{customdata[4]}%{customdata[5]}\\u003cbr\\u003e%{customdata[6]}%{customdata[7]}\\u003cbr\\u003e%{customdata[8]}%{customdata[9]}\\u003cbr\\u003e%{customdata[10]}%{customdata[11]}\\u003cbr\\u003e%{customdata[12]}%{customdata[13]}\\u003cbr\\u003e%{customdata[14]}%{customdata[15]}\\u003cbr\\u003e%{customdata[16]}%{customdata[17]}\\u003cbr\\u003e%{customdata[18]}%{customdata[19]}\\u003cbr\\u003e\\u003cextra\\u003e\\u003c\\u002fextra\\u003e\",\"text\":[[\",\",\"ke\",\"\\u2581and\",\"\\u2581to\",\"\\u2581the\",\"ings\",\"1\"],[\"\\u003c0x0A\\u003e\",\",\",\"\\u2581I\",\"\\u2581to\",\"\\u2581see\",\"\\u2581your\",\"2\"],[\"\\u003c0x0A\\u003e\",\"\\u2581to\",\"\\u2581you\",\",\",\"\\u2581see\",\"\\u2581your\",\"1\"],[\"\\u003c0x0A\\u003e\",\",\",\"\\u2581I\",\"\\u2581looki\\u2026\",\"\\u2581see\",\"\\u2581you\",\"1\"],[\"\\u003c0x0A\\u003e\",\",\",\"\\u2581I\",\"\\u2581to\",\"\\u2581see\",\"\\u2581you\",\"1\"],[\"\\u003c0x0A\\u003e\",\",\",\"\\u2581I\",\"\\u2581to\",\"\\u2581meet\",\"\\u2581you\",\"\\u2581you\"],[\"\\u003c0x0A\\u003e\",\"\\u2581there\",\"\\u2581I\",\"\\u2581to\",\"\\u2581meet\",\"\\u2581you\",\"\\u2581you\"],[\"\\u2581Unter\\u2026\",\",\",\"\\u2581I\",\"\\u2581to\",\"\\u2581meet\",\"\\u2581you\",\"\\u2581you\"]],\"texttemplate\":\"\\u003cb\\u003e%{text}\\u003c\\u002fb\\u003e\",\"x\":[\"\\u003cs\\u003e\",\"\\u2581Hi\\u200c\",\",\\u200c\\u200c\",\"\\u2581nice\\u200c\\u200c\\u200c\",\"\\u2581to\\u200c\\u200c\\u200c\\u200c\",\"\\u2581meet\\u200c\\u200c\\u200c\\u200c\\u200c\",\"\\u2581\\u200c\\u200c\\u200c\\u200c\\u200c\\u200c\"],\"y\":[\"0\",\"5\",\"10\",\"15\",\"20\",\"25\",\"30\",\"output\"],\"z\":[[8.643757820129395,7.3946943283081055,6.683403491973877,7.034645080566406,6.938541412353516,4.06189489364624,2.524077892303467],[8.808579444885254,7.6753644943237305,6.228818893432617,6.262721538543701,5.95065975189209,5.3894805908203125,2.683926582336426],[8.722026824951172,7.061732769012451,5.989287376403809,6.39218282699585,6.529048442840576,4.821202754974365,6.995512008666992],[8.652432441711426,5.750861167907715,5.4223785400390625,6.459333419799805,4.166115760803223,4.301852226257324,6.230738639831543],[8.46777629852295,3.469287872314453,3.772010087966919,4.048347473144531,3.590106964111328,0.25346246361732483,6.300985336303711],[8.308481216430664,3.791783332824707,3.609668016433716,1.6483049392700195,0.8128632307052612,0.31919366121292114,5.645663738250732],[8.371553421020508,2.345780611038208,1.5265374183654785,1.0691763162612915,0.6625342965126038,0.05375339090824127,0.6625751852989197],[9.30931568145752,4.0261335372924805,2.627293586730957,0.4738929271697998,0.5181077122688293,0.021434824913740158,1.240488886833191]],\"zmax\":9.30931568145752,\"zmin\":0.021434824913740158,\"type\":\"heatmap\"}],                        {\"template\":{\"data\":{\"histogram2dcontour\":[{\"type\":\"histogram2dcontour\",\"colorbar\":{\"outlinewidth\":0,\"ticks\":\"\"},\"colorscale\":[[0.0,\"#0d0887\"],[0.1111111111111111,\"#46039f\"],[0.2222222222222222,\"#7201a8\"],[0.3333333333333333,\"#9c179e\"],[0.4444444444444444,\"#bd3786\"],[0.5555555555555556,\"#d8576b\"],[0.6666666666666666,\"#ed7953\"],[0.7777777777777778,\"#fb9f3a\"],[0.8888888888888888,\"#fdca26\"],[1.0,\"#f0f921\"]]}],\"choropleth\":[{\"type\":\"choropleth\",\"colorbar\":{\"outlinewidth\":0,\"ticks\":\"\"}}],\"histogram2d\":[{\"type\":\"histogram2d\",\"colorbar\":{\"outlinewidth\":0,\"ticks\":\"\"},\"colorscale\":[[0.0,\"#0d0887\"],[0.1111111111111111,\"#46039f\"],[0.2222222222222222,\"#7201a8\"],[0.3333333333333333,\"#9c179e\"],[0.4444444444444444,\"#bd3786\"],[0.5555555555555556,\"#d8576b\"],[0.6666666666666666,\"#ed7953\"],[0.7777777777777778,\"#fb9f3a\"],[0.8888888888888888,\"#fdca26\"],[1.0,\"#f0f921\"]]}],\"heatmap\":[{\"type\":\"heatmap\",\"colorbar\":{\"outlinewidth\":0,\"ticks\":\"\"},\"colorscale\":[[0.0,\"#0d0887\"],[0.1111111111111111,\"#46039f\"],[0.2222222222222222,\"#7201a8\"],[0.3333333333333333,\"#9c179e\"],[0.4444444444444444,\"#bd3786\"],[0.5555555555555556,\"#d8576b\"],[0.6666666666666666,\"#ed7953\"],[0.7777777777777778,\"#fb9f3a\"],[0.8888888888888888,\"#fdca26\"],[1.0,\"#f0f921\"]]}],\"heatmapgl\":[{\"type\":\"heatmapgl\",\"colorbar\":{\"outlinewidth\":0,\"ticks\":\"\"},\"colorscale\":[[0.0,\"#0d0887\"],[0.1111111111111111,\"#46039f\"],[0.2222222222222222,\"#7201a8\"],[0.3333333333333333,\"#9c179e\"],[0.4444444444444444,\"#bd3786\"],[0.5555555555555556,\"#d8576b\"],[0.6666666666666666,\"#ed7953\"],[0.7777777777777778,\"#fb9f3a\"],[0.8888888888888888,\"#fdca26\"],[1.0,\"#f0f921\"]]}],\"contourcarpet\":[{\"type\":\"contourcarpet\",\"colorbar\":{\"outlinewidth\":0,\"ticks\":\"\"}}],\"contour\":[{\"type\":\"contour\",\"colorbar\":{\"outlinewidth\":0,\"ticks\":\"\"},\"colorscale\":[[0.0,\"#0d0887\"],[0.1111111111111111,\"#46039f\"],[0.2222222222222222,\"#7201a8\"],[0.3333333333333333,\"#9c179e\"],[0.4444444444444444,\"#bd3786\"],[0.5555555555555556,\"#d8576b\"],[0.6666666666666666,\"#ed7953\"],[0.7777777777777778,\"#fb9f3a\"],[0.8888888888888888,\"#fdca26\"],[1.0,\"#f0f921\"]]}],\"surface\":[{\"type\":\"surface\",\"colorbar\":{\"outlinewidth\":0,\"ticks\":\"\"},\"colorscale\":[[0.0,\"#0d0887\"],[0.1111111111111111,\"#46039f\"],[0.2222222222222222,\"#7201a8\"],[0.3333333333333333,\"#9c179e\"],[0.4444444444444444,\"#bd3786\"],[0.5555555555555556,\"#d8576b\"],[0.6666666666666666,\"#ed7953\"],[0.7777777777777778,\"#fb9f3a\"],[0.8888888888888888,\"#fdca26\"],[1.0,\"#f0f921\"]]}],\"mesh3d\":[{\"type\":\"mesh3d\",\"colorbar\":{\"outlinewidth\":0,\"ticks\":\"\"}}],\"scatter\":[{\"fillpattern\":{\"fillmode\":\"overlay\",\"size\":10,\"solidity\":0.2},\"type\":\"scatter\"}],\"parcoords\":[{\"type\":\"parcoords\",\"line\":{\"colorbar\":{\"outlinewidth\":0,\"ticks\":\"\"}}}],\"scatterpolargl\":[{\"type\":\"scatterpolargl\",\"marker\":{\"colorbar\":{\"outlinewidth\":0,\"ticks\":\"\"}}}],\"bar\":[{\"error_x\":{\"color\":\"#2a3f5f\"},\"error_y\":{\"color\":\"#2a3f5f\"},\"marker\":{\"line\":{\"color\":\"#E5ECF6\",\"width\":0.5},\"pattern\":{\"fillmode\":\"overlay\",\"size\":10,\"solidity\":0.2}},\"type\":\"bar\"}],\"scattergeo\":[{\"type\":\"scattergeo\",\"marker\":{\"colorbar\":{\"outlinewidth\":0,\"ticks\":\"\"}}}],\"scatterpolar\":[{\"type\":\"scatterpolar\",\"marker\":{\"colorbar\":{\"outlinewidth\":0,\"ticks\":\"\"}}}],\"histogram\":[{\"marker\":{\"pattern\":{\"fillmode\":\"overlay\",\"size\":10,\"solidity\":0.2}},\"type\":\"histogram\"}],\"scattergl\":[{\"type\":\"scattergl\",\"marker\":{\"colorbar\":{\"outlinewidth\":0,\"ticks\":\"\"}}}],\"scatter3d\":[{\"type\":\"scatter3d\",\"line\":{\"colorbar\":{\"outlinewidth\":0,\"ticks\":\"\"}},\"marker\":{\"colorbar\":{\"outlinewidth\":0,\"ticks\":\"\"}}}],\"scattermapbox\":[{\"type\":\"scattermapbox\",\"marker\":{\"colorbar\":{\"outlinewidth\":0,\"ticks\":\"\"}}}],\"scatterternary\":[{\"type\":\"scatterternary\",\"marker\":{\"colorbar\":{\"outlinewidth\":0,\"ticks\":\"\"}}}],\"scattercarpet\":[{\"type\":\"scattercarpet\",\"marker\":{\"colorbar\":{\"outlinewidth\":0,\"ticks\":\"\"}}}],\"carpet\":[{\"aaxis\":{\"endlinecolor\":\"#2a3f5f\",\"gridcolor\":\"white\",\"linecolor\":\"white\",\"minorgridcolor\":\"white\",\"startlinecolor\":\"#2a3f5f\"},\"baxis\":{\"endlinecolor\":\"#2a3f5f\",\"gridcolor\":\"white\",\"linecolor\":\"white\",\"minorgridcolor\":\"white\",\"startlinecolor\":\"#2a3f5f\"},\"type\":\"carpet\"}],\"table\":[{\"cells\":{\"fill\":{\"color\":\"#EBF0F8\"},\"line\":{\"color\":\"white\"}},\"header\":{\"fill\":{\"color\":\"#C8D4E3\"},\"line\":{\"color\":\"white\"}},\"type\":\"table\"}],\"barpolar\":[{\"marker\":{\"line\":{\"color\":\"#E5ECF6\",\"width\":0.5},\"pattern\":{\"fillmode\":\"overlay\",\"size\":10,\"solidity\":0.2}},\"type\":\"barpolar\"}],\"pie\":[{\"automargin\":true,\"type\":\"pie\"}]},\"layout\":{\"autotypenumbers\":\"strict\",\"colorway\":[\"#636efa\",\"#EF553B\",\"#00cc96\",\"#ab63fa\",\"#FFA15A\",\"#19d3f3\",\"#FF6692\",\"#B6E880\",\"#FF97FF\",\"#FECB52\"],\"font\":{\"color\":\"#2a3f5f\"},\"hovermode\":\"closest\",\"hoverlabel\":{\"align\":\"left\"},\"paper_bgcolor\":\"white\",\"plot_bgcolor\":\"#E5ECF6\",\"polar\":{\"bgcolor\":\"#E5ECF6\",\"angularaxis\":{\"gridcolor\":\"white\",\"linecolor\":\"white\",\"ticks\":\"\"},\"radialaxis\":{\"gridcolor\":\"white\",\"linecolor\":\"white\",\"ticks\":\"\"}},\"ternary\":{\"bgcolor\":\"#E5ECF6\",\"aaxis\":{\"gridcolor\":\"white\",\"linecolor\":\"white\",\"ticks\":\"\"},\"baxis\":{\"gridcolor\":\"white\",\"linecolor\":\"white\",\"ticks\":\"\"},\"caxis\":{\"gridcolor\":\"white\",\"linecolor\":\"white\",\"ticks\":\"\"}},\"coloraxis\":{\"colorbar\":{\"outlinewidth\":0,\"ticks\":\"\"}},\"colorscale\":{\"sequential\":[[0.0,\"#0d0887\"],[0.1111111111111111,\"#46039f\"],[0.2222222222222222,\"#7201a8\"],[0.3333333333333333,\"#9c179e\"],[0.4444444444444444,\"#bd3786\"],[0.5555555555555556,\"#d8576b\"],[0.6666666666666666,\"#ed7953\"],[0.7777777777777778,\"#fb9f3a\"],[0.8888888888888888,\"#fdca26\"],[1.0,\"#f0f921\"]],\"sequentialminus\":[[0.0,\"#0d0887\"],[0.1111111111111111,\"#46039f\"],[0.2222222222222222,\"#7201a8\"],[0.3333333333333333,\"#9c179e\"],[0.4444444444444444,\"#bd3786\"],[0.5555555555555556,\"#d8576b\"],[0.6666666666666666,\"#ed7953\"],[0.7777777777777778,\"#fb9f3a\"],[0.8888888888888888,\"#fdca26\"],[1.0,\"#f0f921\"]],\"diverging\":[[0,\"#8e0152\"],[0.1,\"#c51b7d\"],[0.2,\"#de77ae\"],[0.3,\"#f1b6da\"],[0.4,\"#fde0ef\"],[0.5,\"#f7f7f7\"],[0.6,\"#e6f5d0\"],[0.7,\"#b8e186\"],[0.8,\"#7fbc41\"],[0.9,\"#4d9221\"],[1,\"#276419\"]]},\"xaxis\":{\"gridcolor\":\"white\",\"linecolor\":\"white\",\"ticks\":\"\",\"title\":{\"standoff\":15},\"zerolinecolor\":\"white\",\"automargin\":true,\"zerolinewidth\":2},\"yaxis\":{\"gridcolor\":\"white\",\"linecolor\":\"white\",\"ticks\":\"\",\"title\":{\"standoff\":15},\"zerolinecolor\":\"white\",\"automargin\":true,\"zerolinewidth\":2},\"scene\":{\"xaxis\":{\"backgroundcolor\":\"#E5ECF6\",\"gridcolor\":\"white\",\"linecolor\":\"white\",\"showbackground\":true,\"ticks\":\"\",\"zerolinecolor\":\"white\",\"gridwidth\":2},\"yaxis\":{\"backgroundcolor\":\"#E5ECF6\",\"gridcolor\":\"white\",\"linecolor\":\"white\",\"showbackground\":true,\"ticks\":\"\",\"zerolinecolor\":\"white\",\"gridwidth\":2},\"zaxis\":{\"backgroundcolor\":\"#E5ECF6\",\"gridcolor\":\"white\",\"linecolor\":\"white\",\"showbackground\":true,\"ticks\":\"\",\"zerolinecolor\":\"white\",\"gridwidth\":2}},\"shapedefaults\":{\"line\":{\"color\":\"#2a3f5f\"}},\"annotationdefaults\":{\"arrowcolor\":\"#2a3f5f\",\"arrowhead\":0,\"arrowwidth\":1},\"geo\":{\"bgcolor\":\"white\",\"landcolor\":\"#E5ECF6\",\"subunitcolor\":\"white\",\"showland\":true,\"showlakes\":true,\"lakecolor\":\"white\"},\"title\":{\"x\":0.05},\"mapbox\":{\"style\":\"light\"}}},\"title\":{\"text\":\"TunedLens (meta-llama\\u002fLlama-2-7b-chat-hf) entropy\",\"x\":0.5},\"width\":760,\"xaxis\":{\"title\":{\"text\":\"Input\"}},\"yaxis\":{\"title\":{\"text\":\"Layer\"}}},                        {\"responsive\": true}                    ).then(function(){\n",
              "                            \n",
              "var gd = document.getElementById('250f33bb-bfc0-402e-a9a9-7e8cbaa2ee20');\n",
              "var x = new MutationObserver(function (mutations, observer) {{\n",
              "        var display = window.getComputedStyle(gd).display;\n",
              "        if (!display || display === 'none') {{\n",
              "            console.log([gd, 'removed!']);\n",
              "            Plotly.purge(gd);\n",
              "            observer.disconnect();\n",
              "        }}\n",
              "}});\n",
              "\n",
              "// Listen for the removal of the full notebook cells\n",
              "var notebookContainer = gd.closest('#notebook-container');\n",
              "if (notebookContainer) {{\n",
              "    x.observe(notebookContainer, {childList: true});\n",
              "}}\n",
              "\n",
              "// Listen for the clearing of the current output cell\n",
              "var outputEl = gd.closest('.output');\n",
              "if (outputEl) {{\n",
              "    x.observe(outputEl, {childList: true});\n",
              "}}\n",
              "\n",
              "                        })                };                });            </script>        </div>"
            ]
          },
          "metadata": {},
          "output_type": "display_data"
        },
        {
          "data": {
            "application/vnd.plotly.v1+json": {
              "config": {
                "plotlyServerURL": "https://plot.ly"
              },
              "data": [
                {
                  "colorbar": {
                    "title": {
                      "side": "right",
                      "text": "Entropy (nats)"
                    }
                  },
                  "colorscale": [
                    [
                      0,
                      "rgb(5,48,97)"
                    ],
                    [
                      0.1,
                      "rgb(33,102,172)"
                    ],
                    [
                      0.2,
                      "rgb(67,147,195)"
                    ],
                    [
                      0.3,
                      "rgb(146,197,222)"
                    ],
                    [
                      0.4,
                      "rgb(209,229,240)"
                    ],
                    [
                      0.5,
                      "rgb(247,247,247)"
                    ],
                    [
                      0.6,
                      "rgb(253,219,199)"
                    ],
                    [
                      0.7,
                      "rgb(244,165,130)"
                    ],
                    [
                      0.8,
                      "rgb(214,96,77)"
                    ],
                    [
                      0.9,
                      "rgb(178,24,43)"
                    ],
                    [
                      1,
                      "rgb(103,0,31)"
                    ]
                  ],
                  "customdata": [
                    [
                      [
                        " ▁Insti…",
                        "  1.63%",
                        "       ,",
                        "  0.99%",
                        "  <0x9D>",
                        "  0.66%",
                        " ▁privi…",
                        "  0.53%",
                        "     ...",
                        "  0.45%",
                        "   ▁Mate",
                        "  0.42%",
                        "     ▁or",
                        "  0.41%",
                        "      дь",
                        "  0.40%",
                        "    este",
                        "  0.30%",
                        "    ▁dit",
                        "  0.29%"
                      ],
                      [
                        "     iak",
                        "  4.68%",
                        "     rov",
                        "  3.00%",
                        "    atus",
                        "  1.63%",
                        "  ▁Stutt",
                        "  0.81%",
                        "    pond",
                        "  0.67%",
                        "    wire",
                        "  0.62%",
                        " ▁scrol…",
                        "  0.58%",
                        "   works",
                        "  0.57%",
                        "  ▁Selon",
                        "  0.55%",
                        "     bro",
                        "  0.52%"
                      ],
                      [
                        "    ▁eth",
                        "  2.44%",
                        "   ▁Cong",
                        "  0.61%",
                        "     uwe",
                        "  0.54%",
                        "     TAC",
                        "  0.52%",
                        " ▁single",
                        "  0.46%",
                        "    over",
                        "  0.44%",
                        "    alis",
                        "  0.40%",
                        " ▁Single",
                        "  0.32%",
                        "   ▁Para",
                        "  0.31%",
                        "   ▁hina",
                        "  0.28%"
                      ],
                      [
                        "      uy",
                        "  1.74%",
                        "     bye",
                        "  1.57%",
                        "       上",
                        "  1.13%",
                        "    aled",
                        "  0.91%",
                        "       안",
                        "  0.85%",
                        "    flug",
                        "  0.80%",
                        " looking",
                        "  0.70%",
                        " ifecyc…",
                        "  0.56%",
                        "      ja",
                        "  0.54%",
                        "     oge",
                        "  0.50%"
                      ],
                      [
                        "    pped",
                        " 13.48%",
                        "      ps",
                        " 11.43%",
                        "     ast",
                        " 10.48%",
                        "   pping",
                        "  6.88%",
                        "     ile",
                        "  3.12%",
                        "      pi",
                        "  1.67%",
                        "   ▁whom",
                        "  1.17%",
                        "   aster",
                        "  0.66%",
                        "     xic",
                        "  0.62%",
                        "  string",
                        "  0.60%"
                      ],
                      [
                        "    ings",
                        " 97.04%",
                        "    ▁cod",
                        "  0.33%",
                        "      up",
                        "  0.21%",
                        "     lis",
                        "  0.06%",
                        "     ▁wa",
                        "  0.06%",
                        "      wa",
                        "  0.06%",
                        "      UP",
                        "  0.02%",
                        "    icul",
                        "  0.02%",
                        "     ▁UN",
                        "  0.01%",
                        "     ups",
                        "  0.01%"
                      ],
                      [
                        "  selves",
                        "  0.67%",
                        "    ▁Tam",
                        "  0.50%",
                        "    beit",
                        "  0.49%",
                        "     ker",
                        "  0.47%",
                        "       ẓ",
                        "  0.45%",
                        "       ​",
                        "  0.44%",
                        "      fx",
                        "  0.40%",
                        "      ql",
                        "  0.36%",
                        "     ctl",
                        "  0.34%",
                        "   argin",
                        "  0.34%"
                      ]
                    ],
                    [
                      [
                        " ▁Unter…",
                        "  2.80%",
                        " ▁Hinwe…",
                        "  1.84%",
                        " ▁nobody",
                        "  1.58%",
                        "  ▁sierp",
                        "  1.22%",
                        " ▁every…",
                        "  1.14%",
                        " ▁Einze…",
                        "  0.90%",
                        "  ▁kwiet",
                        "  0.80%",
                        " ▁Begri…",
                        "  0.75%",
                        " ▁paźdz…",
                        "  0.57%",
                        "       ϊ",
                        "  0.53%"
                      ],
                      [
                        "   sieme",
                        "  2.86%",
                        "    wire",
                        "  0.73%",
                        "     ppo",
                        "  0.55%",
                        "    ▁Nem",
                        "  0.53%",
                        "   ▁Prem",
                        "  0.51%",
                        "       ߬",
                        "  0.44%",
                        "       ⁠",
                        "  0.43%",
                        "    Page",
                        "  0.42%",
                        "       ‹",
                        "  0.40%",
                        "    ▁pun",
                        "  0.40%"
                      ],
                      [
                        "    kele",
                        "  4.36%",
                        "      ND",
                        "  2.95%",
                        "   ▁CHAP",
                        "  1.80%",
                        "     élé",
                        "  1.55%",
                        "  ▁Außer",
                        "  1.46%",
                        "    rola",
                        "  1.04%",
                        "       ầ",
                        "  1.01%",
                        "    kmal",
                        "  1.00%",
                        "     iar",
                        "  0.71%",
                        "     гер",
                        "  0.55%"
                      ],
                      [
                        "     віт",
                        "  2.79%",
                        "     rsg",
                        "  1.24%",
                        "   ▁Scot",
                        "  1.09%",
                        "  aterra",
                        "  0.62%",
                        "     arz",
                        "  0.61%",
                        "     ugo",
                        "  0.60%",
                        "   othek",
                        "  0.58%",
                        "     iae",
                        "  0.56%",
                        "  ▁Censo",
                        "  0.53%",
                        "     вин",
                        "  0.53%"
                      ],
                      [
                        "   esser",
                        "  7.25%",
                        "    iech",
                        "  1.21%",
                        "   quipe",
                        "  1.15%",
                        " exports",
                        "  1.05%",
                        "   conde",
                        "  0.88%",
                        "    rile",
                        "  0.65%",
                        "     hel",
                        "  0.63%",
                        "    ▁Dup",
                        "  0.59%",
                        " ▁final…",
                        "  0.54%",
                        "       ↔",
                        "  0.53%"
                      ],
                      [
                        "    ings",
                        "  2.79%",
                        " ▁final…",
                        "  1.57%",
                        "  ▁Außer",
                        "  1.41%",
                        "     ▁SP",
                        "  1.31%",
                        "   ▁pers",
                        "  0.84%",
                        "     lis",
                        "  0.78%",
                        "   ▁Vier",
                        "  0.75%",
                        "    icul",
                        "  0.75%",
                        "    abol",
                        "  0.72%",
                        "     eor",
                        "  0.56%"
                      ],
                      [
                        "     fen",
                        "  2.21%",
                        " ▁Carter",
                        "  1.18%",
                        " ▁accom…",
                        "  0.74%",
                        "    onte",
                        "  0.67%",
                        "    ▁Min",
                        "  0.65%",
                        " boldma…",
                        "  0.53%",
                        "    ▁new",
                        "  0.41%",
                        "  onymes",
                        "  0.38%",
                        " ▁retai…",
                        "  0.37%",
                        " ▁retain",
                        "  0.36%"
                      ]
                    ],
                    [
                      [
                        " ▁Unter…",
                        "  2.70%",
                        " ▁Hinwe…",
                        "  1.83%",
                        " ▁nobody",
                        "  1.62%",
                        "  ▁sierp",
                        "  1.20%",
                        " ▁every…",
                        "  1.14%",
                        " ▁Einze…",
                        "  0.88%",
                        "  ▁kwiet",
                        "  0.78%",
                        " ▁Begri…",
                        "  0.74%",
                        " ▁paźdz…",
                        "  0.57%",
                        "       ϊ",
                        "  0.52%"
                      ],
                      [
                        "     <s>",
                        "  0.94%",
                        "   sieme",
                        "  0.69%",
                        "       ߬",
                        "  0.56%",
                        "  unique",
                        "  0.52%",
                        "   ágina",
                        "  0.46%",
                        "       ℚ",
                        "  0.45%",
                        "      pt",
                        "  0.45%",
                        "       ệ",
                        "  0.40%",
                        "   itare",
                        "  0.35%",
                        "     kre",
                        "  0.33%"
                      ],
                      [
                        "       ệ",
                        "  4.23%",
                        "  ▁Außer",
                        "  1.72%",
                        "    rien",
                        "  0.79%",
                        "    rale",
                        "  0.77%",
                        "    ilon",
                        "  0.67%",
                        "    kele",
                        "  0.51%",
                        "  gresql",
                        "  0.50%",
                        "       元",
                        "  0.49%",
                        "    ANCE",
                        "  0.42%",
                        "      ND",
                        "  0.39%"
                      ],
                      [
                        "     ugo",
                        "  1.42%",
                        "     ann",
                        "  1.00%",
                        "  ▁Felix",
                        "  0.73%",
                        " ▁simply",
                        "  0.72%",
                        "    rale",
                        "  0.69%",
                        "      wr",
                        "  0.51%",
                        "     ale",
                        "  0.42%",
                        "      gi",
                        "  0.40%",
                        "     gra",
                        "  0.35%",
                        "    ▁Cel",
                        "  0.33%"
                      ],
                      [
                        "     dru",
                        "  2.08%",
                        "  gresql",
                        "  1.92%",
                        "    rale",
                        "  1.55%",
                        "    ▁gre",
                        "  0.92%",
                        "  <0xB4>",
                        "  0.83%",
                        "    ▁Gre",
                        "  0.65%",
                        "     рож",
                        "  0.60%",
                        "     bru",
                        "  0.46%",
                        "    dawn",
                        "  0.42%",
                        "    ▁ali",
                        "  0.34%"
                      ],
                      [
                        "     eor",
                        "  2.83%",
                        "    abol",
                        "  1.11%",
                        "    ings",
                        "  0.89%",
                        "    ▁gre",
                        "  0.78%",
                        "     ups",
                        "  0.54%",
                        "      WS",
                        "  0.48%",
                        "    icul",
                        "  0.42%",
                        "    atch",
                        "  0.40%",
                        " ellige…",
                        "  0.37%",
                        "    ▁new",
                        "  0.32%"
                      ],
                      [
                        "    ▁Gef",
                        "  1.90%",
                        "     oci",
                        "  1.67%",
                        "    emas",
                        "  1.35%",
                        "    tegr",
                        "  1.08%",
                        "    hoff",
                        "  0.75%",
                        "      нь",
                        "  0.60%",
                        " ▁conne…",
                        "  0.56%",
                        "     ply",
                        "  0.56%",
                        "     irc",
                        "  0.52%",
                        "     nof",
                        "  0.47%"
                      ]
                    ],
                    [
                      [
                        " ▁Unter…",
                        "  2.59%",
                        " ▁Hinwe…",
                        "  1.85%",
                        " ▁nobody",
                        "  1.64%",
                        "  ▁sierp",
                        "  1.24%",
                        " ▁every…",
                        "  1.14%",
                        " ▁Einze…",
                        "  0.88%",
                        "  ▁kwiet",
                        "  0.79%",
                        " ▁Begri…",
                        "  0.75%",
                        " ▁paźdz…",
                        "  0.58%",
                        "    ▁фев",
                        "  0.49%"
                      ],
                      [
                        "    bern",
                        "  2.12%",
                        "       ệ",
                        "  2.00%",
                        "      pt",
                        "  1.45%",
                        "    wire",
                        "  1.08%",
                        "       ể",
                        "  0.73%",
                        "       夫",
                        "  0.68%",
                        "    kele",
                        "  0.66%",
                        "    ▁fol",
                        "  0.63%",
                        "   pping",
                        "  0.59%",
                        "      ya",
                        "  0.38%"
                      ],
                      [
                        "       ệ",
                        "  2.02%",
                        "  ▁Außer",
                        "  1.38%",
                        "       元",
                        "  1.27%",
                        "    ▁Dol",
                        "  0.84%",
                        "       u",
                        "  0.69%",
                        "     orr",
                        "  0.65%",
                        "    bern",
                        "  0.50%",
                        "    kele",
                        "  0.49%",
                        "     DEX",
                        "  0.46%",
                        "    fach",
                        "  0.42%"
                      ],
                      [
                        " ▁welco…",
                        "  1.39%",
                        " ▁looki…",
                        "  1.00%",
                        " looking",
                        "  0.91%",
                        "    ▁gre",
                        "  0.87%",
                        " ▁Intent",
                        "  0.68%",
                        " ▁symme…",
                        "  0.44%",
                        "     ann",
                        "  0.40%",
                        "     ral",
                        "  0.40%",
                        " ▁choice",
                        "  0.38%",
                        "     bye",
                        "  0.37%"
                      ],
                      [
                        "    ▁gre",
                        "  3.77%",
                        "    ▁see",
                        "  1.95%",
                        "    wing",
                        "  1.55%",
                        "    abol",
                        "  0.64%",
                        " ▁welco…",
                        "  0.54%",
                        "    ▁new",
                        "  0.50%",
                        " ▁final…",
                        "  0.45%",
                        "   ▁hear",
                        "  0.41%",
                        "     lio",
                        "  0.35%",
                        "    icas",
                        "  0.34%"
                      ],
                      [
                        "    abol",
                        " 12.37%",
                        "    ings",
                        "  3.13%",
                        "     eor",
                        "  1.60%",
                        "    icul",
                        "  1.22%",
                        "     ica",
                        "  0.80%",
                        "      em",
                        "  0.65%",
                        "    atch",
                        "  0.63%",
                        "     ups",
                        "  0.62%",
                        "   ▁writ",
                        "  0.60%",
                        "     gin",
                        "  0.54%"
                      ],
                      [
                        "     irc",
                        "  3.80%",
                        "     oli",
                        "  2.05%",
                        "      ND",
                        "  1.12%",
                        "     ico",
                        "  1.02%",
                        "      ça",
                        "  0.88%",
                        " ▁Charl…",
                        "  0.82%",
                        "     jal",
                        "  0.74%",
                        "  ▁conce",
                        "  0.56%",
                        "    nder",
                        "  0.52%",
                        "      nd",
                        "  0.50%"
                      ]
                    ],
                    [
                      [
                        " ▁Unter…",
                        "  3.19%",
                        " ▁Hinwe…",
                        "  2.30%",
                        " ▁nobody",
                        "  1.58%",
                        "  ▁sierp",
                        "  1.32%",
                        " ▁Einze…",
                        "  1.12%",
                        " ▁every…",
                        "  1.08%",
                        "  ▁kwiet",
                        "  0.92%",
                        " ▁Begri…",
                        "  0.90%",
                        " ▁paźdz…",
                        "  0.65%",
                        "    ▁фев",
                        "  0.56%"
                      ],
                      [
                        "    bern",
                        " 44.33%",
                        "    atus",
                        " 22.20%",
                        "       ệ",
                        "  6.36%",
                        "      ya",
                        "  3.20%",
                        "       ể",
                        "  0.73%",
                        "  ▁there",
                        "  0.58%",
                        "      pp",
                        "  0.52%",
                        "  ▁again",
                        "  0.45%",
                        "    ▁fol",
                        "  0.31%",
                        "    atal",
                        "  0.30%"
                      ],
                      [
                        "  ▁Außer",
                        " 25.39%",
                        " ▁Bedeut",
                        "  2.60%",
                        "    bern",
                        "  1.50%",
                        " données",
                        "  0.61%",
                        " ▁Kontr…",
                        "  0.56%",
                        "   ▁pros",
                        "  0.55%",
                        "     asi",
                        "  0.54%",
                        "    ▁fol",
                        "  0.51%",
                        "  embros",
                        "  0.47%",
                        " ▁surna…",
                        "  0.41%"
                      ],
                      [
                        " ▁artic…",
                        "  6.15%",
                        "   ▁site",
                        "  5.58%",
                        " ▁looki…",
                        "  4.50%",
                        " ▁websi…",
                        "  2.19%",
                        "    ▁job",
                        "  1.84%",
                        "  ▁place",
                        "  1.38%",
                        "    rale",
                        "  1.26%",
                        " looking",
                        "  1.02%",
                        "    allo",
                        "  0.96%",
                        " ▁enough",
                        "  0.87%"
                      ],
                      [
                        " ▁final…",
                        " 16.51%",
                        "   ▁meet",
                        "  8.93%",
                        "   ▁here",
                        "  4.51%",
                        "    ▁see",
                        "  4.27%",
                        " ▁meeti…",
                        "  2.15%",
                        "   ▁know",
                        "  1.90%",
                        "   ▁hear",
                        "  1.32%",
                        " ▁Final…",
                        "  0.97%",
                        " ▁intro…",
                        "  0.57%",
                        "    ▁gre",
                        "  0.49%"
                      ],
                      [
                        "    ings",
                        " 51.06%",
                        "    ▁you",
                        " 13.10%",
                        "    abol",
                        "  4.63%",
                        "    icul",
                        "  2.65%",
                        "     ups",
                        "  0.82%",
                        "   dimen",
                        "  0.43%",
                        "    atal",
                        "  0.39%",
                        "   ioned",
                        "  0.37%",
                        "    ▁new",
                        "  0.35%",
                        "     eor",
                        "  0.33%"
                      ],
                      [
                        " ▁Gemei…",
                        "  4.74%",
                        "  ▁Außer",
                        "  3.55%",
                        " ▁Bedeut",
                        "  1.16%",
                        "       们",
                        "  0.59%",
                        "    udem",
                        "  0.54%",
                        " ▁Hinwe…",
                        "  0.38%",
                        "       你",
                        "  0.34%",
                        "      bd",
                        "  0.32%",
                        "      ân",
                        "  0.28%",
                        "      nd",
                        "  0.28%"
                      ]
                    ],
                    [
                      [
                        " ▁Unter…",
                        "  3.25%",
                        " ▁Hinwe…",
                        "  2.40%",
                        " ▁nobody",
                        "  1.60%",
                        "  ▁sierp",
                        "  1.32%",
                        " ▁Einze…",
                        "  1.15%",
                        " ▁every…",
                        "  1.09%",
                        " ▁Begri…",
                        "  0.92%",
                        "  ▁kwiet",
                        "  0.90%",
                        " ▁paźdz…",
                        "  0.65%",
                        "    ▁фев",
                        "  0.57%"
                      ],
                      [
                        "    bern",
                        " 23.56%",
                        "    atus",
                        " 16.87%",
                        "  ▁there",
                        " 13.20%",
                        "    ▁fol",
                        "  5.94%",
                        "       ệ",
                        "  4.96%",
                        "      pp",
                        "  2.48%",
                        "    ▁all",
                        "  1.95%",
                        "  ▁again",
                        "  1.57%",
                        "    ▁Fol",
                        "  1.29%",
                        "       ể",
                        "  0.84%"
                      ],
                      [
                        " ▁welco…",
                        "  9.09%",
                        "    ▁fol",
                        "  8.42%",
                        "  ▁Außer",
                        "  4.54%",
                        "     fol",
                        "  3.86%",
                        " ▁thanks",
                        "  3.39%",
                        " ▁Kontr…",
                        "  3.22%",
                        "  ▁thank",
                        "  1.03%",
                        " données",
                        "  0.85%",
                        "   folge",
                        "  0.70%",
                        " ▁Bedeut",
                        "  0.67%"
                      ],
                      [
                        "   ▁site",
                        " 29.98%",
                        " ▁artic…",
                        "  8.95%",
                        "     ▁to",
                        "  6.83%",
                        "    ▁job",
                        "  3.41%",
                        "   ▁blog",
                        "  2.77%",
                        "   ▁post",
                        "  2.48%",
                        " ▁meeti…",
                        "  2.07%",
                        "   ▁work",
                        "  1.02%",
                        "   ▁meet",
                        "  0.95%",
                        "   ▁Site",
                        "  0.78%"
                      ],
                      [
                        "   ▁meet",
                        " 85.08%",
                        " ▁meeti…",
                        " 12.59%",
                        "    ▁met",
                        "  0.90%",
                        "  ▁meets",
                        "  0.79%",
                        "     ▁Me",
                        "  0.15%",
                        "   ▁meat",
                        "  0.06%",
                        "    ▁see",
                        "  0.06%",
                        "   ▁hear",
                        "  0.03%",
                        " ▁final…",
                        "  0.03%",
                        "   ▁virt",
                        "  0.02%"
                      ],
                      [
                        "    ▁you",
                        " 96.50%",
                        "    ings",
                        "  0.35%",
                        "    ▁You",
                        "  0.15%",
                        "     you",
                        "  0.09%",
                        "     You",
                        "  0.08%",
                        "    abol",
                        "  0.08%",
                        "    ▁new",
                        "  0.07%",
                        "   ▁virt",
                        "  0.06%",
                        "       你",
                        "  0.06%",
                        "   ▁your",
                        "  0.05%"
                      ],
                      [
                        "    ▁you",
                        " 47.75%",
                        "       你",
                        "  3.46%",
                        "     you",
                        "  2.50%",
                        "     You",
                        "  0.46%",
                        " ▁Hinwe…",
                        "  0.42%",
                        "     kir",
                        "  0.36%",
                        "   ▁vous",
                        "  0.35%",
                        " ▁Bedeut",
                        "  0.25%",
                        "   ▁thee",
                        "  0.24%",
                        "    ▁You",
                        "  0.23%"
                      ]
                    ],
                    [
                      [
                        " ▁Unter…",
                        "  3.44%",
                        " ▁Hinwe…",
                        "  2.42%",
                        " ▁nobody",
                        "  1.62%",
                        "  ▁sierp",
                        "  1.32%",
                        " ▁Einze…",
                        "  1.15%",
                        " ▁every…",
                        "  1.09%",
                        " ▁Begri…",
                        "  0.94%",
                        "  ▁kwiet",
                        "  0.90%",
                        " ▁paźdz…",
                        "  0.65%",
                        "    ▁фев",
                        "  0.56%"
                      ],
                      [
                        "  ▁there",
                        " 78.42%",
                        "    ▁all",
                        "  3.37%",
                        "    ▁fol",
                        "  2.32%",
                        "      pp",
                        "  2.26%",
                        "    bern",
                        "  2.06%",
                        "     ppo",
                        "  0.83%",
                        "  ▁again",
                        "  0.73%",
                        "    ▁Fol",
                        "  0.57%",
                        "    atus",
                        "  0.53%",
                        "       ệ",
                        "  0.51%"
                      ],
                      [
                        "      ▁I",
                        " 33.87%",
                        "    ▁fol",
                        " 11.73%",
                        "     ▁my",
                        "  6.62%",
                        " ▁welco…",
                        "  4.68%",
                        " ▁thanks",
                        "  1.37%",
                        "    ▁new",
                        "  0.92%",
                        "     fol",
                        "  0.87%",
                        "   ▁this",
                        "  0.75%",
                        "  ▁first",
                        "  0.73%",
                        " ▁Welco…",
                        "  0.46%"
                      ],
                      [
                        "     ▁to",
                        " 94.86%",
                        "   ▁post",
                        "  0.62%",
                        "   ▁site",
                        "  0.51%",
                        " ▁artic…",
                        "  0.32%",
                        "    ▁job",
                        "  0.21%",
                        "   ▁work",
                        "  0.12%",
                        " ▁meeti…",
                        "  0.10%",
                        "    ▁day",
                        "  0.08%",
                        "   ▁blog",
                        "  0.08%",
                        " ▁websi…",
                        "  0.07%"
                      ],
                      [
                        "   ▁meet",
                        " 95.38%",
                        "   ▁hear",
                        "  1.12%",
                        "    ▁see",
                        "  0.97%",
                        " ▁meeti…",
                        "  0.62%",
                        "      ▁e",
                        "  0.45%",
                        "     ▁be",
                        "  0.20%",
                        "  ▁meets",
                        "  0.18%",
                        "    ▁met",
                        "  0.16%",
                        "     ▁Me",
                        "  0.15%",
                        "   ▁meat",
                        "  0.15%"
                      ],
                      [
                        "    ▁you",
                        " 99.82%",
                        "    ▁You",
                        "  0.08%",
                        "     ▁ya",
                        "  0.02%",
                        "     you",
                        "  0.01%",
                        "     You",
                        "  0.01%",
                        "      ▁u",
                        "  0.01%",
                        "     ▁ur",
                        "  0.01%",
                        "     cha",
                        "  0.00%",
                        "     ▁ye",
                        "  0.00%",
                        "      ▁y",
                        "  0.00%"
                      ],
                      [
                        "    ▁you",
                        " 94.94%",
                        "       你",
                        "  0.72%",
                        "     you",
                        "  0.69%",
                        "     ▁ya",
                        "  0.48%",
                        "     cha",
                        "  0.32%",
                        "   ▁vous",
                        "  0.23%",
                        "    ▁cha",
                        "  0.16%",
                        "     ▁ye",
                        "  0.11%",
                        "      OU",
                        "  0.11%",
                        "      ▁y",
                        "  0.11%"
                      ]
                    ],
                    [
                      [
                        " ▁Unter…",
                        "  1.80%",
                        " ▁nobody",
                        "  1.39%",
                        " ▁every…",
                        "  0.98%",
                        " ▁Hinwe…",
                        "  0.94%",
                        " ▁hopef…",
                        "  0.69%",
                        "  ▁sierp",
                        "  0.65%",
                        " ▁Einze…",
                        "  0.58%",
                        " ▁Begri…",
                        "  0.49%",
                        "    ▁фев",
                        "  0.43%",
                        "  ▁kwiet",
                        "  0.39%"
                      ],
                      [
                        "       ,",
                        " 21.97%",
                        "  ▁there",
                        " 17.92%",
                        " ▁every…",
                        "  8.62%",
                        "       !",
                        "  8.31%",
                        "    ▁all",
                        "  5.99%",
                        "      pp",
                        "  1.75%",
                        "       -",
                        "  1.71%",
                        "   ▁guys",
                        "  1.61%",
                        "      ▁I",
                        "  1.07%",
                        "  ▁again",
                        "  1.02%"
                      ],
                      [
                        "      ▁I",
                        " 52.45%",
                        "     ▁my",
                        " 14.20%",
                        "  <0x0A>",
                        "  2.99%",
                        " ▁every…",
                        "  2.54%",
                        "     ▁My",
                        "  2.02%",
                        "    ▁and",
                        "  1.91%",
                        " ▁welco…",
                        "  1.64%",
                        "   ▁this",
                        "  0.97%",
                        "    ▁fol",
                        "  0.82%",
                        "     ▁is",
                        "  0.76%"
                      ],
                      [
                        "     ▁to",
                        " 94.58%",
                        "   ▁blog",
                        "  0.78%",
                        "   ▁site",
                        "  0.36%",
                        "   ▁post",
                        "  0.34%",
                        " ▁artic…",
                        "  0.33%",
                        "     ▁of",
                        "  0.25%",
                        " ▁meeti…",
                        "  0.25%",
                        " ▁websi…",
                        "  0.17%",
                        "    ▁job",
                        "  0.12%",
                        "   ▁work",
                        "  0.12%"
                      ],
                      [
                        "   ▁meet",
                        " 89.99%",
                        "    ▁see",
                        "  5.18%",
                        "     ▁be",
                        "  1.06%",
                        "   ▁hear",
                        "  0.96%",
                        "   ▁talk",
                        "  0.51%",
                        "   ▁know",
                        "  0.48%",
                        " ▁conne…",
                        "  0.46%",
                        "   ▁have",
                        "  0.30%",
                        "      ▁e",
                        "  0.22%",
                        "   ▁find",
                        "  0.14%"
                      ],
                      [
                        "    ▁you",
                        " 99.77%",
                        "     ▁ya",
                        "  0.11%",
                        "      ▁u",
                        "  0.06%",
                        "    ▁You",
                        "  0.01%",
                        "      ▁y",
                        "  0.01%",
                        "   ▁your",
                        "  0.01%",
                        "       !",
                        "  0.01%",
                        "   ▁here",
                        "  0.00%",
                        "    ▁all",
                        "  0.00%",
                        "   ▁with",
                        "  0.00%"
                      ],
                      [
                        "    ▁you",
                        " 72.32%",
                        "       你",
                        " 14.94%",
                        "  <0xF0>",
                        "  4.79%",
                        "       あ",
                        "  1.87%",
                        "  <0x0A>",
                        "  0.71%",
                        "     ▁ya",
                        "  0.48%",
                        "  <0xEB>",
                        "  0.44%",
                        "     you",
                        "  0.30%",
                        "      ▁у",
                        "  0.23%",
                        "      ▁u",
                        "  0.19%"
                      ]
                    ]
                  ],
                  "hoverlabel": {
                    "bgcolor": "rgb(42, 42, 50)",
                    "font": {
                      "family": "Monospace"
                    }
                  },
                  "hovertemplate": "%{customdata[0]}%{customdata[1]}<br>%{customdata[2]}%{customdata[3]}<br>%{customdata[4]}%{customdata[5]}<br>%{customdata[6]}%{customdata[7]}<br>%{customdata[8]}%{customdata[9]}<br>%{customdata[10]}%{customdata[11]}<br>%{customdata[12]}%{customdata[13]}<br>%{customdata[14]}%{customdata[15]}<br>%{customdata[16]}%{customdata[17]}<br>%{customdata[18]}%{customdata[19]}<br><extra></extra>",
                  "text": [
                    [
                      "▁Insti…",
                      "iak",
                      "▁eth",
                      "uy",
                      "pped",
                      "ings",
                      "selves"
                    ],
                    [
                      "▁Unter…",
                      "sieme",
                      "kele",
                      "віт",
                      "esser",
                      "ings",
                      "fen"
                    ],
                    [
                      "▁Unter…",
                      "<s>",
                      "ệ",
                      "ugo",
                      "dru",
                      "eor",
                      "▁Gef"
                    ],
                    [
                      "▁Unter…",
                      "bern",
                      "ệ",
                      "▁welco…",
                      "▁gre",
                      "abol",
                      "irc"
                    ],
                    [
                      "▁Unter…",
                      "bern",
                      "▁Außer",
                      "▁artic…",
                      "▁final…",
                      "ings",
                      "▁Gemei…"
                    ],
                    [
                      "▁Unter…",
                      "bern",
                      "▁welco…",
                      "▁site",
                      "▁meet",
                      "▁you",
                      "▁you"
                    ],
                    [
                      "▁Unter…",
                      "▁there",
                      "▁I",
                      "▁to",
                      "▁meet",
                      "▁you",
                      "▁you"
                    ],
                    [
                      "▁Unter…",
                      ",",
                      "▁I",
                      "▁to",
                      "▁meet",
                      "▁you",
                      "▁you"
                    ]
                  ],
                  "texttemplate": "<b>%{text}</b>",
                  "type": "heatmap",
                  "x": [
                    "<s>",
                    "▁Hi‌",
                    ",‌‌",
                    "▁nice‌‌‌",
                    "▁to‌‌‌‌",
                    "▁meet‌‌‌‌‌",
                    "▁‌‌‌‌‌‌"
                  ],
                  "y": [
                    "0",
                    "5",
                    "10",
                    "15",
                    "20",
                    "25",
                    "30",
                    "output"
                  ],
                  "z": [
                    [
                      8.92437744140625,
                      8.170564651489258,
                      8.915616989135742,
                      8.35321044921875,
                      5.914908409118652,
                      0.35233306884765625,
                      8.824493408203125
                    ],
                    [
                      8.85295295715332,
                      8.690146446228027,
                      8.090717315673828,
                      8.390998840332031,
                      8.112189292907715,
                      8.328392028808594,
                      8.745857238769531
                    ],
                    [
                      8.867172241210938,
                      8.915266990661621,
                      8.420148849487305,
                      8.706840515136719,
                      8.518784523010254,
                      8.513134002685547,
                      8.430306434631348
                    ],
                    [
                      8.8759765625,
                      8.558023452758789,
                      8.556268692016602,
                      8.598538398742676,
                      8.450474739074707,
                      7.616758823394775,
                      8.342556953430176
                    ],
                    [
                      8.737865447998047,
                      3.2476162910461426,
                      6.808707237243652,
                      7.4007062911987305,
                      6.374570846557617,
                      3.5576603412628174,
                      8.691633224487305
                    ],
                    [
                      8.728259086608887,
                      4.1602654457092285,
                      6.821877479553223,
                      5.124355792999268,
                      0.5408656597137451,
                      0.40878480672836304,
                      5.084019660949707
                    ],
                    [
                      8.7204008102417,
                      1.53858482837677,
                      4.7099609375,
                      0.5247707962989807,
                      0.3058377802371979,
                      0.018698720261454582,
                      0.44500336050987244
                    ],
                    [
                      9.30931568145752,
                      4.0261335372924805,
                      2.627293586730957,
                      0.4738929271697998,
                      0.5181077122688293,
                      0.021434824913740158,
                      1.240488886833191
                    ]
                  ],
                  "zmax": 9.30931568145752,
                  "zmin": 0.018698720261454582
                }
              ],
              "layout": {
                "template": {
                  "data": {
                    "bar": [
                      {
                        "error_x": {
                          "color": "#2a3f5f"
                        },
                        "error_y": {
                          "color": "#2a3f5f"
                        },
                        "marker": {
                          "line": {
                            "color": "#E5ECF6",
                            "width": 0.5
                          },
                          "pattern": {
                            "fillmode": "overlay",
                            "size": 10,
                            "solidity": 0.2
                          }
                        },
                        "type": "bar"
                      }
                    ],
                    "barpolar": [
                      {
                        "marker": {
                          "line": {
                            "color": "#E5ECF6",
                            "width": 0.5
                          },
                          "pattern": {
                            "fillmode": "overlay",
                            "size": 10,
                            "solidity": 0.2
                          }
                        },
                        "type": "barpolar"
                      }
                    ],
                    "carpet": [
                      {
                        "aaxis": {
                          "endlinecolor": "#2a3f5f",
                          "gridcolor": "white",
                          "linecolor": "white",
                          "minorgridcolor": "white",
                          "startlinecolor": "#2a3f5f"
                        },
                        "baxis": {
                          "endlinecolor": "#2a3f5f",
                          "gridcolor": "white",
                          "linecolor": "white",
                          "minorgridcolor": "white",
                          "startlinecolor": "#2a3f5f"
                        },
                        "type": "carpet"
                      }
                    ],
                    "choropleth": [
                      {
                        "colorbar": {
                          "outlinewidth": 0,
                          "ticks": ""
                        },
                        "type": "choropleth"
                      }
                    ],
                    "contour": [
                      {
                        "colorbar": {
                          "outlinewidth": 0,
                          "ticks": ""
                        },
                        "colorscale": [
                          [
                            0,
                            "#0d0887"
                          ],
                          [
                            0.1111111111111111,
                            "#46039f"
                          ],
                          [
                            0.2222222222222222,
                            "#7201a8"
                          ],
                          [
                            0.3333333333333333,
                            "#9c179e"
                          ],
                          [
                            0.4444444444444444,
                            "#bd3786"
                          ],
                          [
                            0.5555555555555556,
                            "#d8576b"
                          ],
                          [
                            0.6666666666666666,
                            "#ed7953"
                          ],
                          [
                            0.7777777777777778,
                            "#fb9f3a"
                          ],
                          [
                            0.8888888888888888,
                            "#fdca26"
                          ],
                          [
                            1,
                            "#f0f921"
                          ]
                        ],
                        "type": "contour"
                      }
                    ],
                    "contourcarpet": [
                      {
                        "colorbar": {
                          "outlinewidth": 0,
                          "ticks": ""
                        },
                        "type": "contourcarpet"
                      }
                    ],
                    "heatmap": [
                      {
                        "colorbar": {
                          "outlinewidth": 0,
                          "ticks": ""
                        },
                        "colorscale": [
                          [
                            0,
                            "#0d0887"
                          ],
                          [
                            0.1111111111111111,
                            "#46039f"
                          ],
                          [
                            0.2222222222222222,
                            "#7201a8"
                          ],
                          [
                            0.3333333333333333,
                            "#9c179e"
                          ],
                          [
                            0.4444444444444444,
                            "#bd3786"
                          ],
                          [
                            0.5555555555555556,
                            "#d8576b"
                          ],
                          [
                            0.6666666666666666,
                            "#ed7953"
                          ],
                          [
                            0.7777777777777778,
                            "#fb9f3a"
                          ],
                          [
                            0.8888888888888888,
                            "#fdca26"
                          ],
                          [
                            1,
                            "#f0f921"
                          ]
                        ],
                        "type": "heatmap"
                      }
                    ],
                    "heatmapgl": [
                      {
                        "colorbar": {
                          "outlinewidth": 0,
                          "ticks": ""
                        },
                        "colorscale": [
                          [
                            0,
                            "#0d0887"
                          ],
                          [
                            0.1111111111111111,
                            "#46039f"
                          ],
                          [
                            0.2222222222222222,
                            "#7201a8"
                          ],
                          [
                            0.3333333333333333,
                            "#9c179e"
                          ],
                          [
                            0.4444444444444444,
                            "#bd3786"
                          ],
                          [
                            0.5555555555555556,
                            "#d8576b"
                          ],
                          [
                            0.6666666666666666,
                            "#ed7953"
                          ],
                          [
                            0.7777777777777778,
                            "#fb9f3a"
                          ],
                          [
                            0.8888888888888888,
                            "#fdca26"
                          ],
                          [
                            1,
                            "#f0f921"
                          ]
                        ],
                        "type": "heatmapgl"
                      }
                    ],
                    "histogram": [
                      {
                        "marker": {
                          "pattern": {
                            "fillmode": "overlay",
                            "size": 10,
                            "solidity": 0.2
                          }
                        },
                        "type": "histogram"
                      }
                    ],
                    "histogram2d": [
                      {
                        "colorbar": {
                          "outlinewidth": 0,
                          "ticks": ""
                        },
                        "colorscale": [
                          [
                            0,
                            "#0d0887"
                          ],
                          [
                            0.1111111111111111,
                            "#46039f"
                          ],
                          [
                            0.2222222222222222,
                            "#7201a8"
                          ],
                          [
                            0.3333333333333333,
                            "#9c179e"
                          ],
                          [
                            0.4444444444444444,
                            "#bd3786"
                          ],
                          [
                            0.5555555555555556,
                            "#d8576b"
                          ],
                          [
                            0.6666666666666666,
                            "#ed7953"
                          ],
                          [
                            0.7777777777777778,
                            "#fb9f3a"
                          ],
                          [
                            0.8888888888888888,
                            "#fdca26"
                          ],
                          [
                            1,
                            "#f0f921"
                          ]
                        ],
                        "type": "histogram2d"
                      }
                    ],
                    "histogram2dcontour": [
                      {
                        "colorbar": {
                          "outlinewidth": 0,
                          "ticks": ""
                        },
                        "colorscale": [
                          [
                            0,
                            "#0d0887"
                          ],
                          [
                            0.1111111111111111,
                            "#46039f"
                          ],
                          [
                            0.2222222222222222,
                            "#7201a8"
                          ],
                          [
                            0.3333333333333333,
                            "#9c179e"
                          ],
                          [
                            0.4444444444444444,
                            "#bd3786"
                          ],
                          [
                            0.5555555555555556,
                            "#d8576b"
                          ],
                          [
                            0.6666666666666666,
                            "#ed7953"
                          ],
                          [
                            0.7777777777777778,
                            "#fb9f3a"
                          ],
                          [
                            0.8888888888888888,
                            "#fdca26"
                          ],
                          [
                            1,
                            "#f0f921"
                          ]
                        ],
                        "type": "histogram2dcontour"
                      }
                    ],
                    "mesh3d": [
                      {
                        "colorbar": {
                          "outlinewidth": 0,
                          "ticks": ""
                        },
                        "type": "mesh3d"
                      }
                    ],
                    "parcoords": [
                      {
                        "line": {
                          "colorbar": {
                            "outlinewidth": 0,
                            "ticks": ""
                          }
                        },
                        "type": "parcoords"
                      }
                    ],
                    "pie": [
                      {
                        "automargin": true,
                        "type": "pie"
                      }
                    ],
                    "scatter": [
                      {
                        "fillpattern": {
                          "fillmode": "overlay",
                          "size": 10,
                          "solidity": 0.2
                        },
                        "type": "scatter"
                      }
                    ],
                    "scatter3d": [
                      {
                        "line": {
                          "colorbar": {
                            "outlinewidth": 0,
                            "ticks": ""
                          }
                        },
                        "marker": {
                          "colorbar": {
                            "outlinewidth": 0,
                            "ticks": ""
                          }
                        },
                        "type": "scatter3d"
                      }
                    ],
                    "scattercarpet": [
                      {
                        "marker": {
                          "colorbar": {
                            "outlinewidth": 0,
                            "ticks": ""
                          }
                        },
                        "type": "scattercarpet"
                      }
                    ],
                    "scattergeo": [
                      {
                        "marker": {
                          "colorbar": {
                            "outlinewidth": 0,
                            "ticks": ""
                          }
                        },
                        "type": "scattergeo"
                      }
                    ],
                    "scattergl": [
                      {
                        "marker": {
                          "colorbar": {
                            "outlinewidth": 0,
                            "ticks": ""
                          }
                        },
                        "type": "scattergl"
                      }
                    ],
                    "scattermapbox": [
                      {
                        "marker": {
                          "colorbar": {
                            "outlinewidth": 0,
                            "ticks": ""
                          }
                        },
                        "type": "scattermapbox"
                      }
                    ],
                    "scatterpolar": [
                      {
                        "marker": {
                          "colorbar": {
                            "outlinewidth": 0,
                            "ticks": ""
                          }
                        },
                        "type": "scatterpolar"
                      }
                    ],
                    "scatterpolargl": [
                      {
                        "marker": {
                          "colorbar": {
                            "outlinewidth": 0,
                            "ticks": ""
                          }
                        },
                        "type": "scatterpolargl"
                      }
                    ],
                    "scatterternary": [
                      {
                        "marker": {
                          "colorbar": {
                            "outlinewidth": 0,
                            "ticks": ""
                          }
                        },
                        "type": "scatterternary"
                      }
                    ],
                    "surface": [
                      {
                        "colorbar": {
                          "outlinewidth": 0,
                          "ticks": ""
                        },
                        "colorscale": [
                          [
                            0,
                            "#0d0887"
                          ],
                          [
                            0.1111111111111111,
                            "#46039f"
                          ],
                          [
                            0.2222222222222222,
                            "#7201a8"
                          ],
                          [
                            0.3333333333333333,
                            "#9c179e"
                          ],
                          [
                            0.4444444444444444,
                            "#bd3786"
                          ],
                          [
                            0.5555555555555556,
                            "#d8576b"
                          ],
                          [
                            0.6666666666666666,
                            "#ed7953"
                          ],
                          [
                            0.7777777777777778,
                            "#fb9f3a"
                          ],
                          [
                            0.8888888888888888,
                            "#fdca26"
                          ],
                          [
                            1,
                            "#f0f921"
                          ]
                        ],
                        "type": "surface"
                      }
                    ],
                    "table": [
                      {
                        "cells": {
                          "fill": {
                            "color": "#EBF0F8"
                          },
                          "line": {
                            "color": "white"
                          }
                        },
                        "header": {
                          "fill": {
                            "color": "#C8D4E3"
                          },
                          "line": {
                            "color": "white"
                          }
                        },
                        "type": "table"
                      }
                    ]
                  },
                  "layout": {
                    "annotationdefaults": {
                      "arrowcolor": "#2a3f5f",
                      "arrowhead": 0,
                      "arrowwidth": 1
                    },
                    "autotypenumbers": "strict",
                    "coloraxis": {
                      "colorbar": {
                        "outlinewidth": 0,
                        "ticks": ""
                      }
                    },
                    "colorscale": {
                      "diverging": [
                        [
                          0,
                          "#8e0152"
                        ],
                        [
                          0.1,
                          "#c51b7d"
                        ],
                        [
                          0.2,
                          "#de77ae"
                        ],
                        [
                          0.3,
                          "#f1b6da"
                        ],
                        [
                          0.4,
                          "#fde0ef"
                        ],
                        [
                          0.5,
                          "#f7f7f7"
                        ],
                        [
                          0.6,
                          "#e6f5d0"
                        ],
                        [
                          0.7,
                          "#b8e186"
                        ],
                        [
                          0.8,
                          "#7fbc41"
                        ],
                        [
                          0.9,
                          "#4d9221"
                        ],
                        [
                          1,
                          "#276419"
                        ]
                      ],
                      "sequential": [
                        [
                          0,
                          "#0d0887"
                        ],
                        [
                          0.1111111111111111,
                          "#46039f"
                        ],
                        [
                          0.2222222222222222,
                          "#7201a8"
                        ],
                        [
                          0.3333333333333333,
                          "#9c179e"
                        ],
                        [
                          0.4444444444444444,
                          "#bd3786"
                        ],
                        [
                          0.5555555555555556,
                          "#d8576b"
                        ],
                        [
                          0.6666666666666666,
                          "#ed7953"
                        ],
                        [
                          0.7777777777777778,
                          "#fb9f3a"
                        ],
                        [
                          0.8888888888888888,
                          "#fdca26"
                        ],
                        [
                          1,
                          "#f0f921"
                        ]
                      ],
                      "sequentialminus": [
                        [
                          0,
                          "#0d0887"
                        ],
                        [
                          0.1111111111111111,
                          "#46039f"
                        ],
                        [
                          0.2222222222222222,
                          "#7201a8"
                        ],
                        [
                          0.3333333333333333,
                          "#9c179e"
                        ],
                        [
                          0.4444444444444444,
                          "#bd3786"
                        ],
                        [
                          0.5555555555555556,
                          "#d8576b"
                        ],
                        [
                          0.6666666666666666,
                          "#ed7953"
                        ],
                        [
                          0.7777777777777778,
                          "#fb9f3a"
                        ],
                        [
                          0.8888888888888888,
                          "#fdca26"
                        ],
                        [
                          1,
                          "#f0f921"
                        ]
                      ]
                    },
                    "colorway": [
                      "#636efa",
                      "#EF553B",
                      "#00cc96",
                      "#ab63fa",
                      "#FFA15A",
                      "#19d3f3",
                      "#FF6692",
                      "#B6E880",
                      "#FF97FF",
                      "#FECB52"
                    ],
                    "font": {
                      "color": "#2a3f5f"
                    },
                    "geo": {
                      "bgcolor": "white",
                      "lakecolor": "white",
                      "landcolor": "#E5ECF6",
                      "showlakes": true,
                      "showland": true,
                      "subunitcolor": "white"
                    },
                    "hoverlabel": {
                      "align": "left"
                    },
                    "hovermode": "closest",
                    "mapbox": {
                      "style": "light"
                    },
                    "paper_bgcolor": "white",
                    "plot_bgcolor": "#E5ECF6",
                    "polar": {
                      "angularaxis": {
                        "gridcolor": "white",
                        "linecolor": "white",
                        "ticks": ""
                      },
                      "bgcolor": "#E5ECF6",
                      "radialaxis": {
                        "gridcolor": "white",
                        "linecolor": "white",
                        "ticks": ""
                      }
                    },
                    "scene": {
                      "xaxis": {
                        "backgroundcolor": "#E5ECF6",
                        "gridcolor": "white",
                        "gridwidth": 2,
                        "linecolor": "white",
                        "showbackground": true,
                        "ticks": "",
                        "zerolinecolor": "white"
                      },
                      "yaxis": {
                        "backgroundcolor": "#E5ECF6",
                        "gridcolor": "white",
                        "gridwidth": 2,
                        "linecolor": "white",
                        "showbackground": true,
                        "ticks": "",
                        "zerolinecolor": "white"
                      },
                      "zaxis": {
                        "backgroundcolor": "#E5ECF6",
                        "gridcolor": "white",
                        "gridwidth": 2,
                        "linecolor": "white",
                        "showbackground": true,
                        "ticks": "",
                        "zerolinecolor": "white"
                      }
                    },
                    "shapedefaults": {
                      "line": {
                        "color": "#2a3f5f"
                      }
                    },
                    "ternary": {
                      "aaxis": {
                        "gridcolor": "white",
                        "linecolor": "white",
                        "ticks": ""
                      },
                      "baxis": {
                        "gridcolor": "white",
                        "linecolor": "white",
                        "ticks": ""
                      },
                      "bgcolor": "#E5ECF6",
                      "caxis": {
                        "gridcolor": "white",
                        "linecolor": "white",
                        "ticks": ""
                      }
                    },
                    "title": {
                      "x": 0.05
                    },
                    "xaxis": {
                      "automargin": true,
                      "gridcolor": "white",
                      "linecolor": "white",
                      "ticks": "",
                      "title": {
                        "standoff": 15
                      },
                      "zerolinecolor": "white",
                      "zerolinewidth": 2
                    },
                    "yaxis": {
                      "automargin": true,
                      "gridcolor": "white",
                      "linecolor": "white",
                      "ticks": "",
                      "title": {
                        "standoff": 15
                      },
                      "zerolinecolor": "white",
                      "zerolinewidth": 2
                    }
                  }
                },
                "title": {
                  "text": "LogitLens (meta-llama/Llama-2-7b-chat-hf) entropy",
                  "x": 0.5
                },
                "width": 760,
                "xaxis": {
                  "title": {
                    "text": "Input"
                  }
                },
                "yaxis": {
                  "title": {
                    "text": "Layer"
                  }
                }
              }
            },
            "text/html": [
              "<div>                            <div id=\"68db73e5-6aa0-435d-a595-afb99a58314a\" class=\"plotly-graph-div\" style=\"height:525px; width:760px;\"></div>            <script type=\"text/javascript\">                require([\"plotly\"], function(Plotly) {                    window.PLOTLYENV=window.PLOTLYENV || {};                                    if (document.getElementById(\"68db73e5-6aa0-435d-a595-afb99a58314a\")) {                    Plotly.newPlot(                        \"68db73e5-6aa0-435d-a595-afb99a58314a\",                        [{\"colorbar\":{\"title\":{\"side\":\"right\",\"text\":\"Entropy (nats)\"}},\"colorscale\":[[0.0,\"rgb(5,48,97)\"],[0.1,\"rgb(33,102,172)\"],[0.2,\"rgb(67,147,195)\"],[0.3,\"rgb(146,197,222)\"],[0.4,\"rgb(209,229,240)\"],[0.5,\"rgb(247,247,247)\"],[0.6,\"rgb(253,219,199)\"],[0.7,\"rgb(244,165,130)\"],[0.8,\"rgb(214,96,77)\"],[0.9,\"rgb(178,24,43)\"],[1.0,\"rgb(103,0,31)\"]],\"customdata\":[[[\" \\u2581Insti\\u2026\",\"  1.63%\",\"       ,\",\"  0.99%\",\"  \\u003c0x9D\\u003e\",\"  0.66%\",\" \\u2581privi\\u2026\",\"  0.53%\",\"     ...\",\"  0.45%\",\"   \\u2581Mate\",\"  0.42%\",\"     \\u2581or\",\"  0.41%\",\"      \\u0434\\u044c\",\"  0.40%\",\"    este\",\"  0.30%\",\"    \\u2581dit\",\"  0.29%\"],[\"     iak\",\"  4.68%\",\"     rov\",\"  3.00%\",\"    atus\",\"  1.63%\",\"  \\u2581Stutt\",\"  0.81%\",\"    pond\",\"  0.67%\",\"    wire\",\"  0.62%\",\" \\u2581scrol\\u2026\",\"  0.58%\",\"   works\",\"  0.57%\",\"  \\u2581Selon\",\"  0.55%\",\"     bro\",\"  0.52%\"],[\"    \\u2581eth\",\"  2.44%\",\"   \\u2581Cong\",\"  0.61%\",\"     uwe\",\"  0.54%\",\"     TAC\",\"  0.52%\",\" \\u2581single\",\"  0.46%\",\"    over\",\"  0.44%\",\"    alis\",\"  0.40%\",\" \\u2581Single\",\"  0.32%\",\"   \\u2581Para\",\"  0.31%\",\"   \\u2581hina\",\"  0.28%\"],[\"      uy\",\"  1.74%\",\"     bye\",\"  1.57%\",\"       \\u4e0a\",\"  1.13%\",\"    aled\",\"  0.91%\",\"       \\uc548\",\"  0.85%\",\"    flug\",\"  0.80%\",\" looking\",\"  0.70%\",\" ifecyc\\u2026\",\"  0.56%\",\"      ja\",\"  0.54%\",\"     oge\",\"  0.50%\"],[\"    pped\",\" 13.48%\",\"      ps\",\" 11.43%\",\"     ast\",\" 10.48%\",\"   pping\",\"  6.88%\",\"     ile\",\"  3.12%\",\"      pi\",\"  1.67%\",\"   \\u2581whom\",\"  1.17%\",\"   aster\",\"  0.66%\",\"     xic\",\"  0.62%\",\"  string\",\"  0.60%\"],[\"    ings\",\" 97.04%\",\"    \\u2581cod\",\"  0.33%\",\"      up\",\"  0.21%\",\"     lis\",\"  0.06%\",\"     \\u2581wa\",\"  0.06%\",\"      wa\",\"  0.06%\",\"      UP\",\"  0.02%\",\"    icul\",\"  0.02%\",\"     \\u2581UN\",\"  0.01%\",\"     ups\",\"  0.01%\"],[\"  selves\",\"  0.67%\",\"    \\u2581Tam\",\"  0.50%\",\"    beit\",\"  0.49%\",\"     ker\",\"  0.47%\",\"       \\u1e93\",\"  0.45%\",\"       \\u200b\",\"  0.44%\",\"      fx\",\"  0.40%\",\"      ql\",\"  0.36%\",\"     ctl\",\"  0.34%\",\"   argin\",\"  0.34%\"]],[[\" \\u2581Unter\\u2026\",\"  2.80%\",\" \\u2581Hinwe\\u2026\",\"  1.84%\",\" \\u2581nobody\",\"  1.58%\",\"  \\u2581sierp\",\"  1.22%\",\" \\u2581every\\u2026\",\"  1.14%\",\" \\u2581Einze\\u2026\",\"  0.90%\",\"  \\u2581kwiet\",\"  0.80%\",\" \\u2581Begri\\u2026\",\"  0.75%\",\" \\u2581pa\\u017adz\\u2026\",\"  0.57%\",\"       \\u03ca\",\"  0.53%\"],[\"   sieme\",\"  2.86%\",\"    wire\",\"  0.73%\",\"     ppo\",\"  0.55%\",\"    \\u2581Nem\",\"  0.53%\",\"   \\u2581Prem\",\"  0.51%\",\"       \\u07ec\",\"  0.44%\",\"       \\u2060\",\"  0.43%\",\"    Page\",\"  0.42%\",\"       \\u2039\",\"  0.40%\",\"    \\u2581pun\",\"  0.40%\"],[\"    kele\",\"  4.36%\",\"      ND\",\"  2.95%\",\"   \\u2581CHAP\",\"  1.80%\",\"     \\u00e9l\\u00e9\",\"  1.55%\",\"  \\u2581Au\\u00dfer\",\"  1.46%\",\"    rola\",\"  1.04%\",\"       \\u1ea7\",\"  1.01%\",\"    kmal\",\"  1.00%\",\"     iar\",\"  0.71%\",\"     \\u0433\\u0435\\u0440\",\"  0.55%\"],[\"     \\u0432\\u0456\\u0442\",\"  2.79%\",\"     rsg\",\"  1.24%\",\"   \\u2581Scot\",\"  1.09%\",\"  aterra\",\"  0.62%\",\"     arz\",\"  0.61%\",\"     ugo\",\"  0.60%\",\"   othek\",\"  0.58%\",\"     iae\",\"  0.56%\",\"  \\u2581Censo\",\"  0.53%\",\"     \\u0432\\u0438\\u043d\",\"  0.53%\"],[\"   esser\",\"  7.25%\",\"    iech\",\"  1.21%\",\"   quipe\",\"  1.15%\",\" exports\",\"  1.05%\",\"   conde\",\"  0.88%\",\"    rile\",\"  0.65%\",\"     hel\",\"  0.63%\",\"    \\u2581Dup\",\"  0.59%\",\" \\u2581final\\u2026\",\"  0.54%\",\"       \\u2194\",\"  0.53%\"],[\"    ings\",\"  2.79%\",\" \\u2581final\\u2026\",\"  1.57%\",\"  \\u2581Au\\u00dfer\",\"  1.41%\",\"     \\u2581SP\",\"  1.31%\",\"   \\u2581pers\",\"  0.84%\",\"     lis\",\"  0.78%\",\"   \\u2581Vier\",\"  0.75%\",\"    icul\",\"  0.75%\",\"    abol\",\"  0.72%\",\"     eor\",\"  0.56%\"],[\"     fen\",\"  2.21%\",\" \\u2581Carter\",\"  1.18%\",\" \\u2581accom\\u2026\",\"  0.74%\",\"    onte\",\"  0.67%\",\"    \\u2581Min\",\"  0.65%\",\" boldma\\u2026\",\"  0.53%\",\"    \\u2581new\",\"  0.41%\",\"  onymes\",\"  0.38%\",\" \\u2581retai\\u2026\",\"  0.37%\",\" \\u2581retain\",\"  0.36%\"]],[[\" \\u2581Unter\\u2026\",\"  2.70%\",\" \\u2581Hinwe\\u2026\",\"  1.83%\",\" \\u2581nobody\",\"  1.62%\",\"  \\u2581sierp\",\"  1.20%\",\" \\u2581every\\u2026\",\"  1.14%\",\" \\u2581Einze\\u2026\",\"  0.88%\",\"  \\u2581kwiet\",\"  0.78%\",\" \\u2581Begri\\u2026\",\"  0.74%\",\" \\u2581pa\\u017adz\\u2026\",\"  0.57%\",\"       \\u03ca\",\"  0.52%\"],[\"     \\u003cs\\u003e\",\"  0.94%\",\"   sieme\",\"  0.69%\",\"       \\u07ec\",\"  0.56%\",\"  unique\",\"  0.52%\",\"   \\u00e1gina\",\"  0.46%\",\"       \\u211a\",\"  0.45%\",\"      pt\",\"  0.45%\",\"       \\u1ec7\",\"  0.40%\",\"   itare\",\"  0.35%\",\"     kre\",\"  0.33%\"],[\"       \\u1ec7\",\"  4.23%\",\"  \\u2581Au\\u00dfer\",\"  1.72%\",\"    rien\",\"  0.79%\",\"    rale\",\"  0.77%\",\"    ilon\",\"  0.67%\",\"    kele\",\"  0.51%\",\"  gresql\",\"  0.50%\",\"       \\u5143\",\"  0.49%\",\"    ANCE\",\"  0.42%\",\"      ND\",\"  0.39%\"],[\"     ugo\",\"  1.42%\",\"     ann\",\"  1.00%\",\"  \\u2581Felix\",\"  0.73%\",\" \\u2581simply\",\"  0.72%\",\"    rale\",\"  0.69%\",\"      wr\",\"  0.51%\",\"     ale\",\"  0.42%\",\"      gi\",\"  0.40%\",\"     gra\",\"  0.35%\",\"    \\u2581Cel\",\"  0.33%\"],[\"     dru\",\"  2.08%\",\"  gresql\",\"  1.92%\",\"    rale\",\"  1.55%\",\"    \\u2581gre\",\"  0.92%\",\"  \\u003c0xB4\\u003e\",\"  0.83%\",\"    \\u2581Gre\",\"  0.65%\",\"     \\u0440\\u043e\\u0436\",\"  0.60%\",\"     bru\",\"  0.46%\",\"    dawn\",\"  0.42%\",\"    \\u2581ali\",\"  0.34%\"],[\"     eor\",\"  2.83%\",\"    abol\",\"  1.11%\",\"    ings\",\"  0.89%\",\"    \\u2581gre\",\"  0.78%\",\"     ups\",\"  0.54%\",\"      WS\",\"  0.48%\",\"    icul\",\"  0.42%\",\"    atch\",\"  0.40%\",\" ellige\\u2026\",\"  0.37%\",\"    \\u2581new\",\"  0.32%\"],[\"    \\u2581Gef\",\"  1.90%\",\"     oci\",\"  1.67%\",\"    emas\",\"  1.35%\",\"    tegr\",\"  1.08%\",\"    hoff\",\"  0.75%\",\"      \\u043d\\u044c\",\"  0.60%\",\" \\u2581conne\\u2026\",\"  0.56%\",\"     ply\",\"  0.56%\",\"     irc\",\"  0.52%\",\"     nof\",\"  0.47%\"]],[[\" \\u2581Unter\\u2026\",\"  2.59%\",\" \\u2581Hinwe\\u2026\",\"  1.85%\",\" \\u2581nobody\",\"  1.64%\",\"  \\u2581sierp\",\"  1.24%\",\" \\u2581every\\u2026\",\"  1.14%\",\" \\u2581Einze\\u2026\",\"  0.88%\",\"  \\u2581kwiet\",\"  0.79%\",\" \\u2581Begri\\u2026\",\"  0.75%\",\" \\u2581pa\\u017adz\\u2026\",\"  0.58%\",\"    \\u2581\\u0444\\u0435\\u0432\",\"  0.49%\"],[\"    bern\",\"  2.12%\",\"       \\u1ec7\",\"  2.00%\",\"      pt\",\"  1.45%\",\"    wire\",\"  1.08%\",\"       \\u1ec3\",\"  0.73%\",\"       \\u592b\",\"  0.68%\",\"    kele\",\"  0.66%\",\"    \\u2581fol\",\"  0.63%\",\"   pping\",\"  0.59%\",\"      ya\",\"  0.38%\"],[\"       \\u1ec7\",\"  2.02%\",\"  \\u2581Au\\u00dfer\",\"  1.38%\",\"       \\u5143\",\"  1.27%\",\"    \\u2581Dol\",\"  0.84%\",\"       u\",\"  0.69%\",\"     orr\",\"  0.65%\",\"    bern\",\"  0.50%\",\"    kele\",\"  0.49%\",\"     DEX\",\"  0.46%\",\"    fach\",\"  0.42%\"],[\" \\u2581welco\\u2026\",\"  1.39%\",\" \\u2581looki\\u2026\",\"  1.00%\",\" looking\",\"  0.91%\",\"    \\u2581gre\",\"  0.87%\",\" \\u2581Intent\",\"  0.68%\",\" \\u2581symme\\u2026\",\"  0.44%\",\"     ann\",\"  0.40%\",\"     ral\",\"  0.40%\",\" \\u2581choice\",\"  0.38%\",\"     bye\",\"  0.37%\"],[\"    \\u2581gre\",\"  3.77%\",\"    \\u2581see\",\"  1.95%\",\"    wing\",\"  1.55%\",\"    abol\",\"  0.64%\",\" \\u2581welco\\u2026\",\"  0.54%\",\"    \\u2581new\",\"  0.50%\",\" \\u2581final\\u2026\",\"  0.45%\",\"   \\u2581hear\",\"  0.41%\",\"     lio\",\"  0.35%\",\"    icas\",\"  0.34%\"],[\"    abol\",\" 12.37%\",\"    ings\",\"  3.13%\",\"     eor\",\"  1.60%\",\"    icul\",\"  1.22%\",\"     ica\",\"  0.80%\",\"      em\",\"  0.65%\",\"    atch\",\"  0.63%\",\"     ups\",\"  0.62%\",\"   \\u2581writ\",\"  0.60%\",\"     gin\",\"  0.54%\"],[\"     irc\",\"  3.80%\",\"     oli\",\"  2.05%\",\"      ND\",\"  1.12%\",\"     ico\",\"  1.02%\",\"      \\u00e7a\",\"  0.88%\",\" \\u2581Charl\\u2026\",\"  0.82%\",\"     jal\",\"  0.74%\",\"  \\u2581conce\",\"  0.56%\",\"    nder\",\"  0.52%\",\"      nd\",\"  0.50%\"]],[[\" \\u2581Unter\\u2026\",\"  3.19%\",\" \\u2581Hinwe\\u2026\",\"  2.30%\",\" \\u2581nobody\",\"  1.58%\",\"  \\u2581sierp\",\"  1.32%\",\" \\u2581Einze\\u2026\",\"  1.12%\",\" \\u2581every\\u2026\",\"  1.08%\",\"  \\u2581kwiet\",\"  0.92%\",\" \\u2581Begri\\u2026\",\"  0.90%\",\" \\u2581pa\\u017adz\\u2026\",\"  0.65%\",\"    \\u2581\\u0444\\u0435\\u0432\",\"  0.56%\"],[\"    bern\",\" 44.33%\",\"    atus\",\" 22.20%\",\"       \\u1ec7\",\"  6.36%\",\"      ya\",\"  3.20%\",\"       \\u1ec3\",\"  0.73%\",\"  \\u2581there\",\"  0.58%\",\"      pp\",\"  0.52%\",\"  \\u2581again\",\"  0.45%\",\"    \\u2581fol\",\"  0.31%\",\"    atal\",\"  0.30%\"],[\"  \\u2581Au\\u00dfer\",\" 25.39%\",\" \\u2581Bedeut\",\"  2.60%\",\"    bern\",\"  1.50%\",\" donn\\u00e9es\",\"  0.61%\",\" \\u2581Kontr\\u2026\",\"  0.56%\",\"   \\u2581pros\",\"  0.55%\",\"     asi\",\"  0.54%\",\"    \\u2581fol\",\"  0.51%\",\"  embros\",\"  0.47%\",\" \\u2581surna\\u2026\",\"  0.41%\"],[\" \\u2581artic\\u2026\",\"  6.15%\",\"   \\u2581site\",\"  5.58%\",\" \\u2581looki\\u2026\",\"  4.50%\",\" \\u2581websi\\u2026\",\"  2.19%\",\"    \\u2581job\",\"  1.84%\",\"  \\u2581place\",\"  1.38%\",\"    rale\",\"  1.26%\",\" looking\",\"  1.02%\",\"    allo\",\"  0.96%\",\" \\u2581enough\",\"  0.87%\"],[\" \\u2581final\\u2026\",\" 16.51%\",\"   \\u2581meet\",\"  8.93%\",\"   \\u2581here\",\"  4.51%\",\"    \\u2581see\",\"  4.27%\",\" \\u2581meeti\\u2026\",\"  2.15%\",\"   \\u2581know\",\"  1.90%\",\"   \\u2581hear\",\"  1.32%\",\" \\u2581Final\\u2026\",\"  0.97%\",\" \\u2581intro\\u2026\",\"  0.57%\",\"    \\u2581gre\",\"  0.49%\"],[\"    ings\",\" 51.06%\",\"    \\u2581you\",\" 13.10%\",\"    abol\",\"  4.63%\",\"    icul\",\"  2.65%\",\"     ups\",\"  0.82%\",\"   dimen\",\"  0.43%\",\"    atal\",\"  0.39%\",\"   ioned\",\"  0.37%\",\"    \\u2581new\",\"  0.35%\",\"     eor\",\"  0.33%\"],[\" \\u2581Gemei\\u2026\",\"  4.74%\",\"  \\u2581Au\\u00dfer\",\"  3.55%\",\" \\u2581Bedeut\",\"  1.16%\",\"       \\u4eec\",\"  0.59%\",\"    udem\",\"  0.54%\",\" \\u2581Hinwe\\u2026\",\"  0.38%\",\"       \\u4f60\",\"  0.34%\",\"      bd\",\"  0.32%\",\"      \\u00e2n\",\"  0.28%\",\"      nd\",\"  0.28%\"]],[[\" \\u2581Unter\\u2026\",\"  3.25%\",\" \\u2581Hinwe\\u2026\",\"  2.40%\",\" \\u2581nobody\",\"  1.60%\",\"  \\u2581sierp\",\"  1.32%\",\" \\u2581Einze\\u2026\",\"  1.15%\",\" \\u2581every\\u2026\",\"  1.09%\",\" \\u2581Begri\\u2026\",\"  0.92%\",\"  \\u2581kwiet\",\"  0.90%\",\" \\u2581pa\\u017adz\\u2026\",\"  0.65%\",\"    \\u2581\\u0444\\u0435\\u0432\",\"  0.57%\"],[\"    bern\",\" 23.56%\",\"    atus\",\" 16.87%\",\"  \\u2581there\",\" 13.20%\",\"    \\u2581fol\",\"  5.94%\",\"       \\u1ec7\",\"  4.96%\",\"      pp\",\"  2.48%\",\"    \\u2581all\",\"  1.95%\",\"  \\u2581again\",\"  1.57%\",\"    \\u2581Fol\",\"  1.29%\",\"       \\u1ec3\",\"  0.84%\"],[\" \\u2581welco\\u2026\",\"  9.09%\",\"    \\u2581fol\",\"  8.42%\",\"  \\u2581Au\\u00dfer\",\"  4.54%\",\"     fol\",\"  3.86%\",\" \\u2581thanks\",\"  3.39%\",\" \\u2581Kontr\\u2026\",\"  3.22%\",\"  \\u2581thank\",\"  1.03%\",\" donn\\u00e9es\",\"  0.85%\",\"   folge\",\"  0.70%\",\" \\u2581Bedeut\",\"  0.67%\"],[\"   \\u2581site\",\" 29.98%\",\" \\u2581artic\\u2026\",\"  8.95%\",\"     \\u2581to\",\"  6.83%\",\"    \\u2581job\",\"  3.41%\",\"   \\u2581blog\",\"  2.77%\",\"   \\u2581post\",\"  2.48%\",\" \\u2581meeti\\u2026\",\"  2.07%\",\"   \\u2581work\",\"  1.02%\",\"   \\u2581meet\",\"  0.95%\",\"   \\u2581Site\",\"  0.78%\"],[\"   \\u2581meet\",\" 85.08%\",\" \\u2581meeti\\u2026\",\" 12.59%\",\"    \\u2581met\",\"  0.90%\",\"  \\u2581meets\",\"  0.79%\",\"     \\u2581Me\",\"  0.15%\",\"   \\u2581meat\",\"  0.06%\",\"    \\u2581see\",\"  0.06%\",\"   \\u2581hear\",\"  0.03%\",\" \\u2581final\\u2026\",\"  0.03%\",\"   \\u2581virt\",\"  0.02%\"],[\"    \\u2581you\",\" 96.50%\",\"    ings\",\"  0.35%\",\"    \\u2581You\",\"  0.15%\",\"     you\",\"  0.09%\",\"     You\",\"  0.08%\",\"    abol\",\"  0.08%\",\"    \\u2581new\",\"  0.07%\",\"   \\u2581virt\",\"  0.06%\",\"       \\u4f60\",\"  0.06%\",\"   \\u2581your\",\"  0.05%\"],[\"    \\u2581you\",\" 47.75%\",\"       \\u4f60\",\"  3.46%\",\"     you\",\"  2.50%\",\"     You\",\"  0.46%\",\" \\u2581Hinwe\\u2026\",\"  0.42%\",\"     kir\",\"  0.36%\",\"   \\u2581vous\",\"  0.35%\",\" \\u2581Bedeut\",\"  0.25%\",\"   \\u2581thee\",\"  0.24%\",\"    \\u2581You\",\"  0.23%\"]],[[\" \\u2581Unter\\u2026\",\"  3.44%\",\" \\u2581Hinwe\\u2026\",\"  2.42%\",\" \\u2581nobody\",\"  1.62%\",\"  \\u2581sierp\",\"  1.32%\",\" \\u2581Einze\\u2026\",\"  1.15%\",\" \\u2581every\\u2026\",\"  1.09%\",\" \\u2581Begri\\u2026\",\"  0.94%\",\"  \\u2581kwiet\",\"  0.90%\",\" \\u2581pa\\u017adz\\u2026\",\"  0.65%\",\"    \\u2581\\u0444\\u0435\\u0432\",\"  0.56%\"],[\"  \\u2581there\",\" 78.42%\",\"    \\u2581all\",\"  3.37%\",\"    \\u2581fol\",\"  2.32%\",\"      pp\",\"  2.26%\",\"    bern\",\"  2.06%\",\"     ppo\",\"  0.83%\",\"  \\u2581again\",\"  0.73%\",\"    \\u2581Fol\",\"  0.57%\",\"    atus\",\"  0.53%\",\"       \\u1ec7\",\"  0.51%\"],[\"      \\u2581I\",\" 33.87%\",\"    \\u2581fol\",\" 11.73%\",\"     \\u2581my\",\"  6.62%\",\" \\u2581welco\\u2026\",\"  4.68%\",\" \\u2581thanks\",\"  1.37%\",\"    \\u2581new\",\"  0.92%\",\"     fol\",\"  0.87%\",\"   \\u2581this\",\"  0.75%\",\"  \\u2581first\",\"  0.73%\",\" \\u2581Welco\\u2026\",\"  0.46%\"],[\"     \\u2581to\",\" 94.86%\",\"   \\u2581post\",\"  0.62%\",\"   \\u2581site\",\"  0.51%\",\" \\u2581artic\\u2026\",\"  0.32%\",\"    \\u2581job\",\"  0.21%\",\"   \\u2581work\",\"  0.12%\",\" \\u2581meeti\\u2026\",\"  0.10%\",\"    \\u2581day\",\"  0.08%\",\"   \\u2581blog\",\"  0.08%\",\" \\u2581websi\\u2026\",\"  0.07%\"],[\"   \\u2581meet\",\" 95.38%\",\"   \\u2581hear\",\"  1.12%\",\"    \\u2581see\",\"  0.97%\",\" \\u2581meeti\\u2026\",\"  0.62%\",\"      \\u2581e\",\"  0.45%\",\"     \\u2581be\",\"  0.20%\",\"  \\u2581meets\",\"  0.18%\",\"    \\u2581met\",\"  0.16%\",\"     \\u2581Me\",\"  0.15%\",\"   \\u2581meat\",\"  0.15%\"],[\"    \\u2581you\",\" 99.82%\",\"    \\u2581You\",\"  0.08%\",\"     \\u2581ya\",\"  0.02%\",\"     you\",\"  0.01%\",\"     You\",\"  0.01%\",\"      \\u2581u\",\"  0.01%\",\"     \\u2581ur\",\"  0.01%\",\"     cha\",\"  0.00%\",\"     \\u2581ye\",\"  0.00%\",\"      \\u2581y\",\"  0.00%\"],[\"    \\u2581you\",\" 94.94%\",\"       \\u4f60\",\"  0.72%\",\"     you\",\"  0.69%\",\"     \\u2581ya\",\"  0.48%\",\"     cha\",\"  0.32%\",\"   \\u2581vous\",\"  0.23%\",\"    \\u2581cha\",\"  0.16%\",\"     \\u2581ye\",\"  0.11%\",\"      OU\",\"  0.11%\",\"      \\u2581y\",\"  0.11%\"]],[[\" \\u2581Unter\\u2026\",\"  1.80%\",\" \\u2581nobody\",\"  1.39%\",\" \\u2581every\\u2026\",\"  0.98%\",\" \\u2581Hinwe\\u2026\",\"  0.94%\",\" \\u2581hopef\\u2026\",\"  0.69%\",\"  \\u2581sierp\",\"  0.65%\",\" \\u2581Einze\\u2026\",\"  0.58%\",\" \\u2581Begri\\u2026\",\"  0.49%\",\"    \\u2581\\u0444\\u0435\\u0432\",\"  0.43%\",\"  \\u2581kwiet\",\"  0.39%\"],[\"       ,\",\" 21.97%\",\"  \\u2581there\",\" 17.92%\",\" \\u2581every\\u2026\",\"  8.62%\",\"       !\",\"  8.31%\",\"    \\u2581all\",\"  5.99%\",\"      pp\",\"  1.75%\",\"       -\",\"  1.71%\",\"   \\u2581guys\",\"  1.61%\",\"      \\u2581I\",\"  1.07%\",\"  \\u2581again\",\"  1.02%\"],[\"      \\u2581I\",\" 52.45%\",\"     \\u2581my\",\" 14.20%\",\"  \\u003c0x0A\\u003e\",\"  2.99%\",\" \\u2581every\\u2026\",\"  2.54%\",\"     \\u2581My\",\"  2.02%\",\"    \\u2581and\",\"  1.91%\",\" \\u2581welco\\u2026\",\"  1.64%\",\"   \\u2581this\",\"  0.97%\",\"    \\u2581fol\",\"  0.82%\",\"     \\u2581is\",\"  0.76%\"],[\"     \\u2581to\",\" 94.58%\",\"   \\u2581blog\",\"  0.78%\",\"   \\u2581site\",\"  0.36%\",\"   \\u2581post\",\"  0.34%\",\" \\u2581artic\\u2026\",\"  0.33%\",\"     \\u2581of\",\"  0.25%\",\" \\u2581meeti\\u2026\",\"  0.25%\",\" \\u2581websi\\u2026\",\"  0.17%\",\"    \\u2581job\",\"  0.12%\",\"   \\u2581work\",\"  0.12%\"],[\"   \\u2581meet\",\" 89.99%\",\"    \\u2581see\",\"  5.18%\",\"     \\u2581be\",\"  1.06%\",\"   \\u2581hear\",\"  0.96%\",\"   \\u2581talk\",\"  0.51%\",\"   \\u2581know\",\"  0.48%\",\" \\u2581conne\\u2026\",\"  0.46%\",\"   \\u2581have\",\"  0.30%\",\"      \\u2581e\",\"  0.22%\",\"   \\u2581find\",\"  0.14%\"],[\"    \\u2581you\",\" 99.77%\",\"     \\u2581ya\",\"  0.11%\",\"      \\u2581u\",\"  0.06%\",\"    \\u2581You\",\"  0.01%\",\"      \\u2581y\",\"  0.01%\",\"   \\u2581your\",\"  0.01%\",\"       !\",\"  0.01%\",\"   \\u2581here\",\"  0.00%\",\"    \\u2581all\",\"  0.00%\",\"   \\u2581with\",\"  0.00%\"],[\"    \\u2581you\",\" 72.32%\",\"       \\u4f60\",\" 14.94%\",\"  \\u003c0xF0\\u003e\",\"  4.79%\",\"       \\u3042\",\"  1.87%\",\"  \\u003c0x0A\\u003e\",\"  0.71%\",\"     \\u2581ya\",\"  0.48%\",\"  \\u003c0xEB\\u003e\",\"  0.44%\",\"     you\",\"  0.30%\",\"      \\u2581\\u0443\",\"  0.23%\",\"      \\u2581u\",\"  0.19%\"]]],\"hoverlabel\":{\"bgcolor\":\"rgb(42, 42, 50)\",\"font\":{\"family\":\"Monospace\"}},\"hovertemplate\":\"%{customdata[0]}%{customdata[1]}\\u003cbr\\u003e%{customdata[2]}%{customdata[3]}\\u003cbr\\u003e%{customdata[4]}%{customdata[5]}\\u003cbr\\u003e%{customdata[6]}%{customdata[7]}\\u003cbr\\u003e%{customdata[8]}%{customdata[9]}\\u003cbr\\u003e%{customdata[10]}%{customdata[11]}\\u003cbr\\u003e%{customdata[12]}%{customdata[13]}\\u003cbr\\u003e%{customdata[14]}%{customdata[15]}\\u003cbr\\u003e%{customdata[16]}%{customdata[17]}\\u003cbr\\u003e%{customdata[18]}%{customdata[19]}\\u003cbr\\u003e\\u003cextra\\u003e\\u003c\\u002fextra\\u003e\",\"text\":[[\"\\u2581Insti\\u2026\",\"iak\",\"\\u2581eth\",\"uy\",\"pped\",\"ings\",\"selves\"],[\"\\u2581Unter\\u2026\",\"sieme\",\"kele\",\"\\u0432\\u0456\\u0442\",\"esser\",\"ings\",\"fen\"],[\"\\u2581Unter\\u2026\",\"\\u003cs\\u003e\",\"\\u1ec7\",\"ugo\",\"dru\",\"eor\",\"\\u2581Gef\"],[\"\\u2581Unter\\u2026\",\"bern\",\"\\u1ec7\",\"\\u2581welco\\u2026\",\"\\u2581gre\",\"abol\",\"irc\"],[\"\\u2581Unter\\u2026\",\"bern\",\"\\u2581Au\\u00dfer\",\"\\u2581artic\\u2026\",\"\\u2581final\\u2026\",\"ings\",\"\\u2581Gemei\\u2026\"],[\"\\u2581Unter\\u2026\",\"bern\",\"\\u2581welco\\u2026\",\"\\u2581site\",\"\\u2581meet\",\"\\u2581you\",\"\\u2581you\"],[\"\\u2581Unter\\u2026\",\"\\u2581there\",\"\\u2581I\",\"\\u2581to\",\"\\u2581meet\",\"\\u2581you\",\"\\u2581you\"],[\"\\u2581Unter\\u2026\",\",\",\"\\u2581I\",\"\\u2581to\",\"\\u2581meet\",\"\\u2581you\",\"\\u2581you\"]],\"texttemplate\":\"\\u003cb\\u003e%{text}\\u003c\\u002fb\\u003e\",\"x\":[\"\\u003cs\\u003e\",\"\\u2581Hi\\u200c\",\",\\u200c\\u200c\",\"\\u2581nice\\u200c\\u200c\\u200c\",\"\\u2581to\\u200c\\u200c\\u200c\\u200c\",\"\\u2581meet\\u200c\\u200c\\u200c\\u200c\\u200c\",\"\\u2581\\u200c\\u200c\\u200c\\u200c\\u200c\\u200c\"],\"y\":[\"0\",\"5\",\"10\",\"15\",\"20\",\"25\",\"30\",\"output\"],\"z\":[[8.92437744140625,8.170564651489258,8.915616989135742,8.35321044921875,5.914908409118652,0.35233306884765625,8.824493408203125],[8.85295295715332,8.690146446228027,8.090717315673828,8.390998840332031,8.112189292907715,8.328392028808594,8.745857238769531],[8.867172241210938,8.915266990661621,8.420148849487305,8.706840515136719,8.518784523010254,8.513134002685547,8.430306434631348],[8.8759765625,8.558023452758789,8.556268692016602,8.598538398742676,8.450474739074707,7.616758823394775,8.342556953430176],[8.737865447998047,3.2476162910461426,6.808707237243652,7.4007062911987305,6.374570846557617,3.5576603412628174,8.691633224487305],[8.728259086608887,4.1602654457092285,6.821877479553223,5.124355792999268,0.5408656597137451,0.40878480672836304,5.084019660949707],[8.7204008102417,1.53858482837677,4.7099609375,0.5247707962989807,0.3058377802371979,0.018698720261454582,0.44500336050987244],[9.30931568145752,4.0261335372924805,2.627293586730957,0.4738929271697998,0.5181077122688293,0.021434824913740158,1.240488886833191]],\"zmax\":9.30931568145752,\"zmin\":0.018698720261454582,\"type\":\"heatmap\"}],                        {\"template\":{\"data\":{\"histogram2dcontour\":[{\"type\":\"histogram2dcontour\",\"colorbar\":{\"outlinewidth\":0,\"ticks\":\"\"},\"colorscale\":[[0.0,\"#0d0887\"],[0.1111111111111111,\"#46039f\"],[0.2222222222222222,\"#7201a8\"],[0.3333333333333333,\"#9c179e\"],[0.4444444444444444,\"#bd3786\"],[0.5555555555555556,\"#d8576b\"],[0.6666666666666666,\"#ed7953\"],[0.7777777777777778,\"#fb9f3a\"],[0.8888888888888888,\"#fdca26\"],[1.0,\"#f0f921\"]]}],\"choropleth\":[{\"type\":\"choropleth\",\"colorbar\":{\"outlinewidth\":0,\"ticks\":\"\"}}],\"histogram2d\":[{\"type\":\"histogram2d\",\"colorbar\":{\"outlinewidth\":0,\"ticks\":\"\"},\"colorscale\":[[0.0,\"#0d0887\"],[0.1111111111111111,\"#46039f\"],[0.2222222222222222,\"#7201a8\"],[0.3333333333333333,\"#9c179e\"],[0.4444444444444444,\"#bd3786\"],[0.5555555555555556,\"#d8576b\"],[0.6666666666666666,\"#ed7953\"],[0.7777777777777778,\"#fb9f3a\"],[0.8888888888888888,\"#fdca26\"],[1.0,\"#f0f921\"]]}],\"heatmap\":[{\"type\":\"heatmap\",\"colorbar\":{\"outlinewidth\":0,\"ticks\":\"\"},\"colorscale\":[[0.0,\"#0d0887\"],[0.1111111111111111,\"#46039f\"],[0.2222222222222222,\"#7201a8\"],[0.3333333333333333,\"#9c179e\"],[0.4444444444444444,\"#bd3786\"],[0.5555555555555556,\"#d8576b\"],[0.6666666666666666,\"#ed7953\"],[0.7777777777777778,\"#fb9f3a\"],[0.8888888888888888,\"#fdca26\"],[1.0,\"#f0f921\"]]}],\"heatmapgl\":[{\"type\":\"heatmapgl\",\"colorbar\":{\"outlinewidth\":0,\"ticks\":\"\"},\"colorscale\":[[0.0,\"#0d0887\"],[0.1111111111111111,\"#46039f\"],[0.2222222222222222,\"#7201a8\"],[0.3333333333333333,\"#9c179e\"],[0.4444444444444444,\"#bd3786\"],[0.5555555555555556,\"#d8576b\"],[0.6666666666666666,\"#ed7953\"],[0.7777777777777778,\"#fb9f3a\"],[0.8888888888888888,\"#fdca26\"],[1.0,\"#f0f921\"]]}],\"contourcarpet\":[{\"type\":\"contourcarpet\",\"colorbar\":{\"outlinewidth\":0,\"ticks\":\"\"}}],\"contour\":[{\"type\":\"contour\",\"colorbar\":{\"outlinewidth\":0,\"ticks\":\"\"},\"colorscale\":[[0.0,\"#0d0887\"],[0.1111111111111111,\"#46039f\"],[0.2222222222222222,\"#7201a8\"],[0.3333333333333333,\"#9c179e\"],[0.4444444444444444,\"#bd3786\"],[0.5555555555555556,\"#d8576b\"],[0.6666666666666666,\"#ed7953\"],[0.7777777777777778,\"#fb9f3a\"],[0.8888888888888888,\"#fdca26\"],[1.0,\"#f0f921\"]]}],\"surface\":[{\"type\":\"surface\",\"colorbar\":{\"outlinewidth\":0,\"ticks\":\"\"},\"colorscale\":[[0.0,\"#0d0887\"],[0.1111111111111111,\"#46039f\"],[0.2222222222222222,\"#7201a8\"],[0.3333333333333333,\"#9c179e\"],[0.4444444444444444,\"#bd3786\"],[0.5555555555555556,\"#d8576b\"],[0.6666666666666666,\"#ed7953\"],[0.7777777777777778,\"#fb9f3a\"],[0.8888888888888888,\"#fdca26\"],[1.0,\"#f0f921\"]]}],\"mesh3d\":[{\"type\":\"mesh3d\",\"colorbar\":{\"outlinewidth\":0,\"ticks\":\"\"}}],\"scatter\":[{\"fillpattern\":{\"fillmode\":\"overlay\",\"size\":10,\"solidity\":0.2},\"type\":\"scatter\"}],\"parcoords\":[{\"type\":\"parcoords\",\"line\":{\"colorbar\":{\"outlinewidth\":0,\"ticks\":\"\"}}}],\"scatterpolargl\":[{\"type\":\"scatterpolargl\",\"marker\":{\"colorbar\":{\"outlinewidth\":0,\"ticks\":\"\"}}}],\"bar\":[{\"error_x\":{\"color\":\"#2a3f5f\"},\"error_y\":{\"color\":\"#2a3f5f\"},\"marker\":{\"line\":{\"color\":\"#E5ECF6\",\"width\":0.5},\"pattern\":{\"fillmode\":\"overlay\",\"size\":10,\"solidity\":0.2}},\"type\":\"bar\"}],\"scattergeo\":[{\"type\":\"scattergeo\",\"marker\":{\"colorbar\":{\"outlinewidth\":0,\"ticks\":\"\"}}}],\"scatterpolar\":[{\"type\":\"scatterpolar\",\"marker\":{\"colorbar\":{\"outlinewidth\":0,\"ticks\":\"\"}}}],\"histogram\":[{\"marker\":{\"pattern\":{\"fillmode\":\"overlay\",\"size\":10,\"solidity\":0.2}},\"type\":\"histogram\"}],\"scattergl\":[{\"type\":\"scattergl\",\"marker\":{\"colorbar\":{\"outlinewidth\":0,\"ticks\":\"\"}}}],\"scatter3d\":[{\"type\":\"scatter3d\",\"line\":{\"colorbar\":{\"outlinewidth\":0,\"ticks\":\"\"}},\"marker\":{\"colorbar\":{\"outlinewidth\":0,\"ticks\":\"\"}}}],\"scattermapbox\":[{\"type\":\"scattermapbox\",\"marker\":{\"colorbar\":{\"outlinewidth\":0,\"ticks\":\"\"}}}],\"scatterternary\":[{\"type\":\"scatterternary\",\"marker\":{\"colorbar\":{\"outlinewidth\":0,\"ticks\":\"\"}}}],\"scattercarpet\":[{\"type\":\"scattercarpet\",\"marker\":{\"colorbar\":{\"outlinewidth\":0,\"ticks\":\"\"}}}],\"carpet\":[{\"aaxis\":{\"endlinecolor\":\"#2a3f5f\",\"gridcolor\":\"white\",\"linecolor\":\"white\",\"minorgridcolor\":\"white\",\"startlinecolor\":\"#2a3f5f\"},\"baxis\":{\"endlinecolor\":\"#2a3f5f\",\"gridcolor\":\"white\",\"linecolor\":\"white\",\"minorgridcolor\":\"white\",\"startlinecolor\":\"#2a3f5f\"},\"type\":\"carpet\"}],\"table\":[{\"cells\":{\"fill\":{\"color\":\"#EBF0F8\"},\"line\":{\"color\":\"white\"}},\"header\":{\"fill\":{\"color\":\"#C8D4E3\"},\"line\":{\"color\":\"white\"}},\"type\":\"table\"}],\"barpolar\":[{\"marker\":{\"line\":{\"color\":\"#E5ECF6\",\"width\":0.5},\"pattern\":{\"fillmode\":\"overlay\",\"size\":10,\"solidity\":0.2}},\"type\":\"barpolar\"}],\"pie\":[{\"automargin\":true,\"type\":\"pie\"}]},\"layout\":{\"autotypenumbers\":\"strict\",\"colorway\":[\"#636efa\",\"#EF553B\",\"#00cc96\",\"#ab63fa\",\"#FFA15A\",\"#19d3f3\",\"#FF6692\",\"#B6E880\",\"#FF97FF\",\"#FECB52\"],\"font\":{\"color\":\"#2a3f5f\"},\"hovermode\":\"closest\",\"hoverlabel\":{\"align\":\"left\"},\"paper_bgcolor\":\"white\",\"plot_bgcolor\":\"#E5ECF6\",\"polar\":{\"bgcolor\":\"#E5ECF6\",\"angularaxis\":{\"gridcolor\":\"white\",\"linecolor\":\"white\",\"ticks\":\"\"},\"radialaxis\":{\"gridcolor\":\"white\",\"linecolor\":\"white\",\"ticks\":\"\"}},\"ternary\":{\"bgcolor\":\"#E5ECF6\",\"aaxis\":{\"gridcolor\":\"white\",\"linecolor\":\"white\",\"ticks\":\"\"},\"baxis\":{\"gridcolor\":\"white\",\"linecolor\":\"white\",\"ticks\":\"\"},\"caxis\":{\"gridcolor\":\"white\",\"linecolor\":\"white\",\"ticks\":\"\"}},\"coloraxis\":{\"colorbar\":{\"outlinewidth\":0,\"ticks\":\"\"}},\"colorscale\":{\"sequential\":[[0.0,\"#0d0887\"],[0.1111111111111111,\"#46039f\"],[0.2222222222222222,\"#7201a8\"],[0.3333333333333333,\"#9c179e\"],[0.4444444444444444,\"#bd3786\"],[0.5555555555555556,\"#d8576b\"],[0.6666666666666666,\"#ed7953\"],[0.7777777777777778,\"#fb9f3a\"],[0.8888888888888888,\"#fdca26\"],[1.0,\"#f0f921\"]],\"sequentialminus\":[[0.0,\"#0d0887\"],[0.1111111111111111,\"#46039f\"],[0.2222222222222222,\"#7201a8\"],[0.3333333333333333,\"#9c179e\"],[0.4444444444444444,\"#bd3786\"],[0.5555555555555556,\"#d8576b\"],[0.6666666666666666,\"#ed7953\"],[0.7777777777777778,\"#fb9f3a\"],[0.8888888888888888,\"#fdca26\"],[1.0,\"#f0f921\"]],\"diverging\":[[0,\"#8e0152\"],[0.1,\"#c51b7d\"],[0.2,\"#de77ae\"],[0.3,\"#f1b6da\"],[0.4,\"#fde0ef\"],[0.5,\"#f7f7f7\"],[0.6,\"#e6f5d0\"],[0.7,\"#b8e186\"],[0.8,\"#7fbc41\"],[0.9,\"#4d9221\"],[1,\"#276419\"]]},\"xaxis\":{\"gridcolor\":\"white\",\"linecolor\":\"white\",\"ticks\":\"\",\"title\":{\"standoff\":15},\"zerolinecolor\":\"white\",\"automargin\":true,\"zerolinewidth\":2},\"yaxis\":{\"gridcolor\":\"white\",\"linecolor\":\"white\",\"ticks\":\"\",\"title\":{\"standoff\":15},\"zerolinecolor\":\"white\",\"automargin\":true,\"zerolinewidth\":2},\"scene\":{\"xaxis\":{\"backgroundcolor\":\"#E5ECF6\",\"gridcolor\":\"white\",\"linecolor\":\"white\",\"showbackground\":true,\"ticks\":\"\",\"zerolinecolor\":\"white\",\"gridwidth\":2},\"yaxis\":{\"backgroundcolor\":\"#E5ECF6\",\"gridcolor\":\"white\",\"linecolor\":\"white\",\"showbackground\":true,\"ticks\":\"\",\"zerolinecolor\":\"white\",\"gridwidth\":2},\"zaxis\":{\"backgroundcolor\":\"#E5ECF6\",\"gridcolor\":\"white\",\"linecolor\":\"white\",\"showbackground\":true,\"ticks\":\"\",\"zerolinecolor\":\"white\",\"gridwidth\":2}},\"shapedefaults\":{\"line\":{\"color\":\"#2a3f5f\"}},\"annotationdefaults\":{\"arrowcolor\":\"#2a3f5f\",\"arrowhead\":0,\"arrowwidth\":1},\"geo\":{\"bgcolor\":\"white\",\"landcolor\":\"#E5ECF6\",\"subunitcolor\":\"white\",\"showland\":true,\"showlakes\":true,\"lakecolor\":\"white\"},\"title\":{\"x\":0.05},\"mapbox\":{\"style\":\"light\"}}},\"title\":{\"text\":\"LogitLens (meta-llama\\u002fLlama-2-7b-chat-hf) entropy\",\"x\":0.5},\"width\":760,\"xaxis\":{\"title\":{\"text\":\"Input\"}},\"yaxis\":{\"title\":{\"text\":\"Layer\"}}},                        {\"responsive\": true}                    ).then(function(){\n",
              "                            \n",
              "var gd = document.getElementById('68db73e5-6aa0-435d-a595-afb99a58314a');\n",
              "var x = new MutationObserver(function (mutations, observer) {{\n",
              "        var display = window.getComputedStyle(gd).display;\n",
              "        if (!display || display === 'none') {{\n",
              "            console.log([gd, 'removed!']);\n",
              "            Plotly.purge(gd);\n",
              "            observer.disconnect();\n",
              "        }}\n",
              "}});\n",
              "\n",
              "// Listen for the removal of the full notebook cells\n",
              "var notebookContainer = gd.closest('#notebook-container');\n",
              "if (notebookContainer) {{\n",
              "    x.observe(notebookContainer, {childList: true});\n",
              "}}\n",
              "\n",
              "// Listen for the clearing of the current output cell\n",
              "var outputEl = gd.closest('.output');\n",
              "if (outputEl) {{\n",
              "    x.observe(outputEl, {childList: true});\n",
              "}}\n",
              "\n",
              "                        })                };                });            </script>        </div>"
            ]
          },
          "metadata": {},
          "output_type": "display_data"
        }
      ],
      "source": [
        "from tuned_lens.plotting import PredictionTrajectory\n",
        "import ipywidgets as widgets\n",
        "from plotly import graph_objects as go\n",
        "\n",
        "\n",
        "def make_plot(lens, text, layer_stride, statistic, token_range):\n",
        "    input_ids = tokenizer.encode(text)\n",
        "    targets = input_ids[1:] + [tokenizer.eos_token_id]\n",
        "\n",
        "    if len(input_ids) == 0:\n",
        "        return widgets.Text(\"Please enter some text.\")\n",
        "    \n",
        "    if (token_range[0] == token_range[1]):\n",
        "        return widgets.Text(\"Please provide valid token range.\")\n",
        "    pred_traj = PredictionTrajectory.from_lens_and_model(\n",
        "        lens=lens,\n",
        "        model=model,\n",
        "        input_ids=input_ids,\n",
        "        tokenizer=tokenizer,\n",
        "        targets=targets,\n",
        "    ).slice_sequence(slice(*token_range))\n",
        "\n",
        "    return getattr(pred_traj, statistic)().stride(layer_stride).figure(\n",
        "        title=f\"{lens.__class__.__name__} ({model.name_or_path}) {statistic}\",\n",
        "    )\n",
        "\n",
        "style = {'description_width': 'initial'}\n",
        "statistic_wdg = widgets.Dropdown(\n",
        "    options=[\n",
        "        ('Entropy', 'entropy'),\n",
        "        ('Cross Entropy', 'cross_entropy'),\n",
        "        ('Forward KL', 'forward_kl'),\n",
        "    ],\n",
        "    description='Select Statistic:',\n",
        "    style=style,\n",
        ")\n",
        "text_wdg = widgets.Textarea(\n",
        "    description=\"Input Text\",\n",
        "    value=\"it was the best of times, it was the worst of times\",\n",
        ")\n",
        "lens_wdg = widgets.Dropdown(\n",
        "    options=[('Tuned Lens', tuned_lens), ('Logit Lens', logit_lens)],\n",
        "    description='Select Lens:',\n",
        "    style=style,\n",
        ")\n",
        "\n",
        "layer_stride_wdg = widgets.BoundedIntText(\n",
        "    value=2,\n",
        "    min=1,\n",
        "    max=10,\n",
        "    step=1,\n",
        "    description='Layer Stride:',\n",
        "    disabled=False\n",
        ")\n",
        "\n",
        "token_range_wdg = widgets.IntRangeSlider(\n",
        "    description='Token Range',\n",
        "    min=0,\n",
        "    max=1,\n",
        "    step=1,\n",
        "    style=style,\n",
        ")\n",
        "\n",
        "\n",
        "def update_token_range(*args):\n",
        "    token_range_wdg.max = len(tokenizer.encode(text_wdg.value))\n",
        "\n",
        "update_token_range()\n",
        "\n",
        "token_range_wdg.value = [0, token_range_wdg.max]\n",
        "text_wdg.observe(update_token_range, 'value')\n",
        "\n",
        "interact = widgets.interact.options(manual_name='Run Lens', manual=True)\n",
        "\n",
        "plot = interact(\n",
        "    make_plot,\n",
        "    text=text_wdg,\n",
        "    statistic=statistic_wdg,\n",
        "    lens=lens_wdg,\n",
        "    layer_stride=layer_stride_wdg,\n",
        "    token_range=token_range_wdg,\n",
        ")"
      ]
    },
    {
      "cell_type": "code",
      "execution_count": null,
      "metadata": {},
      "outputs": [],
      "source": []
    }
  ],
  "metadata": {
    "colab": {
      "provenance": []
    },
    "kernelspec": {
      "display_name": "Python 3 (ipykernel)",
      "language": "python",
      "name": "python3"
    },
    "language_info": {
      "codemirror_mode": {
        "name": "ipython",
        "version": 3
      },
      "file_extension": ".py",
      "mimetype": "text/x-python",
      "name": "python",
      "nbconvert_exporter": "python",
      "pygments_lexer": "ipython3",
      "version": "3.10.12"
    },
    "vscode": {
      "interpreter": {
        "hash": "ca27fca65bbd5c56c827a2643e94bc7b2b551ee6ee2fe84566f2c789012bce4f"
      }
    }
  },
  "nbformat": 4,
  "nbformat_minor": 0
}
